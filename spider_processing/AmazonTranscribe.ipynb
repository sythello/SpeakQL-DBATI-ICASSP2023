{
 "cells": [
  {
   "cell_type": "code",
   "execution_count": null,
   "metadata": {},
   "outputs": [],
   "source": [
    "import boto3\n",
    "import pickle\n",
    "from tqdm.notebook import tqdm\n",
    "import json\n",
    "from collections import defaultdict\n",
    "import time"
   ]
  },
  {
   "cell_type": "markdown",
   "metadata": {},
   "source": [
    "Setting up boto3 credentials: https://boto3.amazonaws.com/v1/documentation/api/latest/guide/credentials.html"
   ]
  },
  {
   "cell_type": "code",
   "execution_count": null,
   "metadata": {},
   "outputs": [],
   "source": [
    "# Need to set up AWS credentials or pass them here as arguments \n",
    "\n",
    "client = boto3.client('transcribe')"
   ]
  },
  {
   "cell_type": "code",
   "execution_count": null,
   "metadata": {},
   "outputs": [],
   "source": [
    "response = client.get_transcription_job(\n",
    "    TranscriptionJobName='Transcription-test-yshao-8.wav'\n",
    ")\n",
    "response"
   ]
  },
  {
   "cell_type": "code",
   "execution_count": null,
   "metadata": {},
   "outputs": [],
   "source": [
    "response['TranscriptionJob']['Transcript']"
   ]
  },
  {
   "cell_type": "code",
   "execution_count": null,
   "metadata": {},
   "outputs": [],
   "source": [
    "response = client.start_transcription_job(\n",
    "    TranscriptionJobName='Transcription-test-yshao-8.wav',\n",
    "    LanguageCode='en-US',\n",
    "#     MediaSampleRateHertz=16000,\n",
    "    MediaFormat='wav',\n",
    "    Media={\n",
    "        'MediaFileUri': 's3://spider-questions-audio/human-test/yshao-wav/8.wav'\n",
    "    },\n",
    "    OutputBucketName='spider-audio-transcription',\n",
    "#     OutputEncryptionKMSKeyId='string',\n",
    "    Settings={\n",
    "#         'VocabularyName': 'string',\n",
    "#         'ShowSpeakerLabels': True|False,\n",
    "#         'MaxSpeakerLabels': 123,\n",
    "#         'ChannelIdentification': True|False,\n",
    "        'ShowAlternatives': True,\n",
    "        'MaxAlternatives': 10,\n",
    "#         'VocabularyFilterName': 'string',\n",
    "#         'VocabularyFilterMethod': 'remove'|'mask'\n",
    "    },\n",
    ")\n",
    "response"
   ]
  },
  {
   "cell_type": "code",
   "execution_count": null,
   "metadata": {},
   "outputs": [],
   "source": []
  },
  {
   "cell_type": "code",
   "execution_count": null,
   "metadata": {},
   "outputs": [],
   "source": [
    "# Do transcribe \n",
    "response_dict = defaultdict(dict)"
   ]
  },
  {
   "cell_type": "code",
   "execution_count": null,
   "metadata": {},
   "outputs": [],
   "source": [
    "for fileID in tqdm(range(100)):\n",
    "    while True:\n",
    "        # Wait 2 secs for completion\n",
    "        time.sleep(2)\n",
    "        \n",
    "        try:\n",
    "            response = client.start_transcription_job(\n",
    "                TranscriptionJobName='Transcription-human-test-yshao-{}.wav'.format(fileID),\n",
    "                LanguageCode='en-US',\n",
    "                MediaFormat='wav',\n",
    "                Media={\n",
    "                    'MediaFileUri': 's3://spider-questions-audio/human-test/yshao-wav/{}.wav'.format(fileID)\n",
    "                },\n",
    "                OutputBucketName='spider-audio-transcription',\n",
    "                Settings={\n",
    "                    'ShowAlternatives': True,\n",
    "                    'MaxAlternatives': 10\n",
    "                },\n",
    "            )\n",
    "            response_dict[fileID] = response\n",
    "#         except LimitExceededException as e:\n",
    "#             print(e)\n",
    "        except Exception as e:\n",
    "            raise(e)\n",
    "        else:\n",
    "            break    \n",
    "    \n",
    "len(response_dict)"
   ]
  },
  {
   "cell_type": "code",
   "execution_count": null,
   "metadata": {},
   "outputs": [],
   "source": [
    "len(response_dict)"
   ]
  },
  {
   "cell_type": "code",
   "execution_count": null,
   "metadata": {},
   "outputs": [],
   "source": []
  },
  {
   "cell_type": "code",
   "execution_count": null,
   "metadata": {
    "scrolled": true
   },
   "outputs": [],
   "source": [
    "trans_json = json.load(open('spider-dev-batch0/Transcription-dev-batch0-1.wav.json', 'r'))\n",
    "trans_json.keys()"
   ]
  },
  {
   "cell_type": "code",
   "execution_count": null,
   "metadata": {
    "scrolled": false
   },
   "outputs": [],
   "source": [
    "trans_json['results'].keys()"
   ]
  },
  {
   "cell_type": "code",
   "execution_count": null,
   "metadata": {
    "scrolled": false
   },
   "outputs": [],
   "source": [
    "[a['transcript'] for a in trans_json['results']['segments'][0]['alternatives']]"
   ]
  },
  {
   "cell_type": "code",
   "execution_count": null,
   "metadata": {},
   "outputs": [],
   "source": []
  },
  {
   "cell_type": "code",
   "execution_count": null,
   "metadata": {},
   "outputs": [],
   "source": []
  }
 ],
 "metadata": {
  "kernelspec": {
   "display_name": "Python 3 (ipykernel)",
   "language": "python",
   "name": "python3"
  },
  "language_info": {
   "codemirror_mode": {
    "name": "ipython",
    "version": 3
   },
   "file_extension": ".py",
   "mimetype": "text/x-python",
   "name": "python",
   "nbconvert_exporter": "python",
   "pygments_lexer": "ipython3",
   "version": "3.9.5"
  },
  "toc": {
   "base_numbering": 1,
   "nav_menu": {},
   "number_sections": true,
   "sideBar": true,
   "skip_h1_title": false,
   "title_cell": "Table of Contents",
   "title_sidebar": "Contents",
   "toc_cell": false,
   "toc_position": {},
   "toc_section_display": true,
   "toc_window_display": false
  }
 },
 "nbformat": 4,
 "nbformat_minor": 2
}
