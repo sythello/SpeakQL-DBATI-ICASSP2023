{
 "cells": [
  {
   "cell_type": "code",
   "execution_count": 33,
   "metadata": {},
   "outputs": [],
   "source": [
    "import os\n",
    "import sys\n",
    "import json\n",
    "import pickle\n",
    "from collections import Counter, defaultdict\n",
    "from tqdm.notebook import tqdm\n",
    "import string\n",
    "import random \n",
    "\n",
    "import spacy\n",
    "\n",
    "import numpy as np\n",
    "\n",
    "import torch\n",
    "\n",
    "import matplotlib.pyplot as plt\n",
    "\n",
    "from SpeakQL.Allennlp_models.utils.spider import process_sql, evaluation\n",
    "from SpeakQL.Allennlp_models.utils.misc_utils import Postprocess_rewrite_seq_freeze_POS, Postprocess_rewrite_seq_modify_POS\n"
   ]
  },
  {
   "cell_type": "code",
   "execution_count": 75,
   "metadata": {},
   "outputs": [],
   "source": [
    "import importlib\n",
    "from SpeakQL.Allennlp_models.utils import misc_utils\n",
    "importlib.reload(misc_utils)\n",
    "from SpeakQL.Allennlp_models.utils.misc_utils import \\\n",
    "    Postprocess_rewrite_seq_freeze_POS, Postprocess_rewrite_seq_modify_POS, EditDistance\n"
   ]
  },
  {
   "cell_type": "code",
   "execution_count": 3,
   "metadata": {},
   "outputs": [],
   "source": [
    "nlp = spacy.load(\"en_core_web_sm\")"
   ]
  },
  {
   "cell_type": "code",
   "execution_count": 4,
   "metadata": {},
   "outputs": [],
   "source": [
    "tables_json = '/Users/mac/Desktop/syt/Deep-Learning/Dataset/spider/tables.json'\n",
    "kmaps = evaluation.build_foreign_key_map_from_json(tables_json)"
   ]
  },
  {
   "cell_type": "markdown",
   "metadata": {},
   "source": [
    "### SQL eval funcs"
   ]
  },
  {
   "cell_type": "code",
   "execution_count": 3,
   "metadata": {},
   "outputs": [],
   "source": [
    "def RebuildSQL(sql_str,\n",
    "               db,\n",
    "               db_dir='/Users/mac/Desktop/syt/Deep-Learning/Dataset/spider/database/'):\n",
    "    db_path = os.path.join(db_dir, db, db + \".sqlite\")\n",
    "    schema = process_sql.Schema(process_sql.get_schema(db_path))\n",
    "    try:\n",
    "        sql = process_sql.get_sql(schema, sql_str)\n",
    "    except:\n",
    "        print('{}\\n{}\\nprocess_sql.get_sql() failed'.format(sql_str, db))\n",
    "        return None\n",
    "    \n",
    "    kmap = kmaps[db]\n",
    "    valid_col_units = evaluation.build_valid_col_units(sql['from']['table_units'], schema)\n",
    "    sql = evaluation.rebuild_sql_val(sql)\n",
    "    sql = evaluation.rebuild_sql_col(valid_col_units, sql, kmap)\n",
    "    \n",
    "    return sql"
   ]
  },
  {
   "cell_type": "code",
   "execution_count": 4,
   "metadata": {},
   "outputs": [],
   "source": [
    "def EvaluateSQL(pred_str,\n",
    "                gold_str,\n",
    "                db,\n",
    "                db_dir='/Users/mac/Desktop/syt/Deep-Learning/Dataset/spider/database/'):\n",
    "    \n",
    "    p_sql = RebuildSQL(pred_str, db, db_dir)\n",
    "    g_sql = RebuildSQL(gold_str, db, db_dir)\n",
    "    \n",
    "    if (p_sql is None) or (g_sql is None):\n",
    "        return 0, 0\n",
    "    \n",
    "    evaluator = evaluation.Evaluator()\n",
    "    exact_match = evaluator.eval_exact_match(p_sql, g_sql)   # will modify p_sql, g_sql\n",
    "    partials = evaluator.partial_scores\n",
    "    partial_summary_score = sum([partials[tp]['f1'] * max(partials[tp]['label_total'], partials[tp]['pred_total']) for tp in partials]) / sum([max(partials[tp]['label_total'], partials[tp]['pred_total']) for tp in partials])\n",
    "\n",
    "    return int(exact_match), partial_summary_score"
   ]
  },
  {
   "cell_type": "code",
   "execution_count": 5,
   "metadata": {},
   "outputs": [
    {
     "data": {
      "text/plain": [
       "(0, 0.3)"
      ]
     },
     "execution_count": 5,
     "metadata": {},
     "output_type": "execute_result"
    }
   ],
   "source": [
    "pred_str = 'SELECT Pets.weight FROM Pets WHERE Pets.PetType = \\'terminal\\' ORDER BY Pets.pet_age Desc LIMIT 1'\n",
    "gold_str = 'SELECT weight FROM pets ORDER BY pet_age LIMIT 1'\n",
    "db = 'pets_1'\n",
    "EvaluateSQL(pred_str, gold_str, db)"
   ]
  },
  {
   "cell_type": "code",
   "execution_count": 6,
   "metadata": {},
   "outputs": [],
   "source": [
    "def EvaluateSQL_full(glist,\n",
    "                     plist,\n",
    "                     db_id_list,\n",
    "                     db_dir='/Users/mac/Desktop/syt/Deep-Learning/Dataset/spider/database/'):\n",
    "    # Only using 'match', not using 'exec'\n",
    "    etype = 'match'\n",
    "    \n",
    "    # with open(gold) as f:\n",
    "    #     glist = [l.strip().split('\\t') for l in f.readlines() if len(l.strip()) > 0]\n",
    "\n",
    "    # with open(predict) as f:\n",
    "    #     plist = [l.strip().split('\\t') for l in f.readlines() if len(l.strip()) > 0]\n",
    "    \n",
    "    # plist = [(\"select max(Share),min(Share) from performance where Type != 'terminal'\", \"orchestra\")]\n",
    "    # glist = [(\"SELECT max(SHARE) ,  min(SHARE) FROM performance WHERE TYPE != 'Live final'\", \"orchestra\")]\n",
    "    evaluator = evaluation.Evaluator()\n",
    "\n",
    "    levels = ['easy', 'medium', 'hard', 'extra', 'all']\n",
    "    partial_types = ['select', 'select(no AGG)', 'where', 'where(no OP)', 'group(no Having)',\n",
    "                     'group', 'order', 'and/or', 'IUEN', 'keywords']\n",
    "    entries = []\n",
    "    scores = {}\n",
    "\n",
    "    for level in levels:\n",
    "        scores[level] = {'count': 0, 'partial': {}, 'exact': 0., 'partial_summary': 0.}\n",
    "        scores[level]['exec'] = 0\n",
    "        for type_ in partial_types:\n",
    "            scores[level]['partial'][type_] = {'acc': 0., 'rec': 0., 'f1': 0.,'acc_count':0,'rec_count':0}\n",
    "\n",
    "    eval_err_num = 0\n",
    "    for p, g, db in tqdm(zip(plist, glist, db_id_list), total=len(plist)):\n",
    "        p_str = p\n",
    "        g_str = g\n",
    "        db_name = db\n",
    "        db = os.path.join(db_dir, db, db + \".sqlite\")\n",
    "        schema = process_sql.Schema(process_sql.get_schema(db))\n",
    "        g_sql = process_sql.get_sql(schema, g_str)\n",
    "        hardness = evaluator.eval_hardness(g_sql)\n",
    "        scores[hardness]['count'] += 1\n",
    "        scores['all']['count'] += 1\n",
    "\n",
    "        try:\n",
    "            p_sql = process_sql.get_sql(schema, p_str)\n",
    "        except:\n",
    "            # If p_sql is not valid, then we will use an empty sql to evaluate with the correct sql\n",
    "            p_sql = {\n",
    "            \"except\": None,\n",
    "            \"from\": {\n",
    "                \"conds\": [],\n",
    "                \"table_units\": []\n",
    "            },\n",
    "            \"groupBy\": [],\n",
    "            \"having\": [],\n",
    "            \"intersect\": None,\n",
    "            \"limit\": None,\n",
    "            \"orderBy\": [],\n",
    "            \"select\": [\n",
    "                False,\n",
    "                []\n",
    "            ],\n",
    "            \"union\": None,\n",
    "            \"where\": []\n",
    "            }\n",
    "            eval_err_num += 1\n",
    "            print(\"eval_err_num:{}\".format(eval_err_num))\n",
    "\n",
    "        # rebuild sql for value evaluation\n",
    "        kmap = kmaps[db_name]\n",
    "        g_valid_col_units = evaluation.build_valid_col_units(g_sql['from']['table_units'], schema)\n",
    "        g_sql = evaluation.rebuild_sql_val(g_sql)\n",
    "        g_sql = evaluation.rebuild_sql_col(g_valid_col_units, g_sql, kmap)\n",
    "        p_valid_col_units = evaluation.build_valid_col_units(p_sql['from']['table_units'], schema)\n",
    "        p_sql = evaluation.rebuild_sql_val(p_sql)\n",
    "        p_sql = evaluation.rebuild_sql_col(p_valid_col_units, p_sql, kmap)\n",
    "\n",
    "#         if etype in [\"all\", \"exec\"]:\n",
    "#             exec_score = evaluation.eval_exec_match(db, p_str, g_str, p_sql, g_sql)\n",
    "#             if exec_score:\n",
    "#                 scores[hardness]['exec'] += 1\n",
    "\n",
    "        if etype in [\"all\", \"match\"]:\n",
    "            exact_score = evaluator.eval_exact_match(p_sql, g_sql)\n",
    "            partial_scores = evaluator.partial_scores\n",
    "#             if exact_score == 0:\n",
    "#                 print(\"{} pred: {}\".format(hardness,p_str))\n",
    "#                 print(\"{} gold: {}\".format(hardness,g_str))\n",
    "#                 print(\"\")\n",
    "            scores[hardness]['exact'] += exact_score\n",
    "            scores['all']['exact'] += exact_score\n",
    "            for type_ in partial_types:\n",
    "                if partial_scores[type_]['pred_total'] > 0:\n",
    "                    scores[hardness]['partial'][type_]['acc'] += partial_scores[type_]['acc']\n",
    "                    scores[hardness]['partial'][type_]['acc_count'] += 1\n",
    "                if partial_scores[type_]['label_total'] > 0:\n",
    "                    scores[hardness]['partial'][type_]['rec'] += partial_scores[type_]['rec']\n",
    "                    scores[hardness]['partial'][type_]['rec_count'] += 1\n",
    "                scores[hardness]['partial'][type_]['f1'] += partial_scores[type_]['f1']\n",
    "                if partial_scores[type_]['pred_total'] > 0:\n",
    "                    scores['all']['partial'][type_]['acc'] += partial_scores[type_]['acc']\n",
    "                    scores['all']['partial'][type_]['acc_count'] += 1\n",
    "                if partial_scores[type_]['label_total'] > 0:\n",
    "                    scores['all']['partial'][type_]['rec'] += partial_scores[type_]['rec']\n",
    "                    scores['all']['partial'][type_]['rec_count'] += 1\n",
    "                scores['all']['partial'][type_]['f1'] += partial_scores[type_]['f1']\n",
    "\n",
    "            # Custom\n",
    "            partial_summary_score = sum([partial_scores[tp]['f1'] * max(partial_scores[tp]['label_total'], partial_scores[tp]['pred_total']) for tp in partial_types]) / sum([max(partial_scores[tp]['label_total'], partial_scores[tp]['pred_total']) for tp in partial_types])\n",
    "            scores[hardness]['partial_summary'] += partial_summary_score\n",
    "            scores['all']['partial_summary'] += partial_summary_score\n",
    "                \n",
    "            entries.append({\n",
    "                'predictSQL': p_str,\n",
    "                'goldSQL': g_str,\n",
    "                'hardness': hardness,\n",
    "                'exact': exact_score,\n",
    "                'partial': partial_scores\n",
    "            })\n",
    "\n",
    "    for level in levels:\n",
    "        if scores[level]['count'] == 0:\n",
    "            continue\n",
    "        if etype in [\"all\", \"exec\"]:\n",
    "            scores[level]['exec'] /= scores[level]['count']\n",
    "\n",
    "        if etype in [\"all\", \"match\"]:\n",
    "            scores[level]['exact'] /= scores[level]['count']\n",
    "            scores[level]['partial_summary'] /= scores[level]['count']\n",
    "            for type_ in partial_types:\n",
    "                if scores[level]['partial'][type_]['acc_count'] == 0:\n",
    "                    scores[level]['partial'][type_]['acc'] = 0\n",
    "                else:\n",
    "                    scores[level]['partial'][type_]['acc'] = scores[level]['partial'][type_]['acc'] / \\\n",
    "                                                             scores[level]['partial'][type_]['acc_count'] * 1.0\n",
    "                if scores[level]['partial'][type_]['rec_count'] == 0:\n",
    "                    scores[level]['partial'][type_]['rec'] = 0\n",
    "                else:\n",
    "                    scores[level]['partial'][type_]['rec'] = scores[level]['partial'][type_]['rec'] / \\\n",
    "                                                             scores[level]['partial'][type_]['rec_count'] * 1.0\n",
    "                if scores[level]['partial'][type_]['acc'] == 0 and scores[level]['partial'][type_]['rec'] == 0:\n",
    "                    scores[level]['partial'][type_]['f1'] = 1\n",
    "                else:\n",
    "                    scores[level]['partial'][type_]['f1'] = \\\n",
    "                        2.0 * scores[level]['partial'][type_]['acc'] * scores[level]['partial'][type_]['rec'] / (\n",
    "                        scores[level]['partial'][type_]['rec'] + scores[level]['partial'][type_]['acc'])\n",
    "\n",
    "    evaluation.print_scores(scores, etype)\n",
    "    print('================   PARTIAL MATCHING SUMMARY SCORE    ================')\n",
    "    this_scores = [scores[level]['partial_summary'] for level in levels]\n",
    "    print(\"{:20} {:<20.3f} {:<20.3f} {:<20.3f} {:<20.3f} {:<20.3f}\".format(\"partial_summary\", *this_scores))\n",
    "    print()\n",
    "    print('\\t'.join([str(scores[level]['exact']) for level in levels]))\n",
    "    print('\\t'.join([str(scores[level]['partial_summary']) for level in levels]))\n",
    "    # return scores\n",
    "\n"
   ]
  },
  {
   "cell_type": "code",
   "execution_count": null,
   "metadata": {},
   "outputs": [],
   "source": []
  },
  {
   "cell_type": "markdown",
   "metadata": {},
   "source": [
    "### Model aggregation - Agreement based (SQL)"
   ]
  },
  {
   "cell_type": "code",
   "execution_count": 136,
   "metadata": {},
   "outputs": [],
   "source": [
    "output_save_dir = '/Users/mac/Desktop/syt/Deep-Learning/Projects-M/SpeakQL/SpeakQL/Allennlp_models/outputs/ratsql-test-save/'\n",
    "reranker_output_path = os.path.join(output_save_dir, 'humantest-yshao-1.10.0.0.json')\n",
    "rewriter_taggerILM_output_path = os.path.join(output_save_dir, 'humantest-yshao-2.5.0.0t-2.4.0.0i.json')\n",
    "rewriter_s2s_output_path = os.path.join(output_save_dir, 'humantest-yshao-3.6.0.1.json')\n"
   ]
  },
  {
   "cell_type": "code",
   "execution_count": 137,
   "metadata": {},
   "outputs": [
    {
     "data": {
      "text/plain": [
       "(100, 100, 100)"
      ]
     },
     "execution_count": 137,
     "metadata": {},
     "output_type": "execute_result"
    }
   ],
   "source": [
    "with open(reranker_output_path, 'r') as f:\n",
    "    reranker_outputs = json.load(f)\n",
    "with open(rewriter_taggerILM_output_path, 'r') as f:\n",
    "    rewriter_taggerILM_outputs = json.load(f)\n",
    "with open(rewriter_s2s_output_path, 'r') as f:\n",
    "    rewriter_s2s_outputs = json.load(f)\n",
    "\n",
    "len(reranker_outputs), len(rewriter_taggerILM_outputs), len(rewriter_s2s_outputs)"
   ]
  },
  {
   "cell_type": "code",
   "execution_count": 138,
   "metadata": {},
   "outputs": [
    {
     "name": "stdout",
     "output_type": "stream",
     "text": [
      "dict_keys(['db_id', 'query', 'query_toks', 'query_toks_no_value', 'question', 'question_toks', 'sql', 'original_id', 'span_ranges', 'ratsql_pred_sql', 'gold_question', 'gold_question_toks', 'ratsql_pred_exact', 'ratsql_pred_score', 'question_toks_edit_distance', 'is_reranker_selection'])\n",
      "dict_keys(['db_id', 'query', 'query_toks', 'query_toks_no_value', 'question', 'question_toks', 'sql', 'original_id', 'span_ranges', 'ratsql_pred_sql', 'gold_question', 'gold_question_toks', 'ratsql_pred_exact', 'ratsql_pred_score', 'question_toks_edit_distance', 'alignment_span_pairs', 'alignment_text_pairs', 'rewriter_tags', 'rewriter_edits', 'pred_tags', 'pred_ILM', 'pred_ILM_cands', 'rewritten_question', 'pred_sql', 'score', 'exact'])\n",
      "dict_keys(['db_id', 'query', 'query_toks', 'query_toks_no_value', 'question', 'question_toks', 'sql', 'original_id', 'span_ranges', 'ratsql_pred_sql', 'gold_question', 'gold_question_toks', 'ratsql_pred_exact', 'ratsql_pred_score', 'question_toks_edit_distance', 'alignment_span_pairs', 'alignment_text_pairs', 'rewriter_tags', 'rewriter_edits', 'rewritten_question', 'pred_sql', 'score', 'exact'])\n"
     ]
    }
   ],
   "source": [
    "print(reranker_outputs[0][0].keys())\n",
    "print(rewriter_taggerILM_outputs[0][0].keys())\n",
    "print(rewriter_s2s_outputs[0][0].keys())"
   ]
  },
  {
   "cell_type": "code",
   "execution_count": 139,
   "metadata": {},
   "outputs": [],
   "source": [
    "reranker_selected_outputs = [c for d in reranker_outputs for c in d if c['is_reranker_selection']]\n",
    "rewriter_taggerILM_selected_outputs = [d[0] for d in rewriter_taggerILM_outputs]\n",
    "rewriter_s2s_selected_outputs = [d[0] for d in rewriter_s2s_outputs]\n"
   ]
  },
  {
   "cell_type": "code",
   "execution_count": 140,
   "metadata": {},
   "outputs": [
    {
     "data": {
      "text/plain": [
       "(100, 100, 100, 100)"
      ]
     },
     "execution_count": 140,
     "metadata": {},
     "output_type": "execute_result"
    }
   ],
   "source": [
    "reranker_output_sqls = [c['pred_sql'] for c in reranker_selected_outputs]\n",
    "rewriter_taggerILM_output_sqls = [c['pred_sql'] for c in rewriter_taggerILM_selected_outputs]\n",
    "rewriter_s2s_output_sqls = [c['pred_sql'] for c in rewriter_s2s_selected_outputs]\n",
    "gold_sqls = [c['query'] for c in reranker_selected_outputs]\n",
    "\n",
    "len(reranker_output_sqls), len(rewriter_taggerILM_output_sqls), len(rewriter_s2s_output_sqls), len(gold_sqls)"
   ]
  },
  {
   "cell_type": "code",
   "execution_count": 141,
   "metadata": {
    "scrolled": true
   },
   "outputs": [
    {
     "name": "stdout",
     "output_type": "stream",
     "text": [
      "SELECT Count(*) FROM Pets WHERE Pets.weight > 'terminal' (1.0000, True)\n",
      "SELECT Count(*) FROM Pets WHERE Pets.weight > 'terminal' (1.0000, True)\n",
      "SELECT Count(*) FROM Pets WHERE Pets.weight > 'terminal' (1.0000, True)\n",
      "\n",
      "SELECT count(*) FROM pets WHERE weight  >  10\n",
      "--------------------------------------------------\n",
      "SELECT Count(*) FROM VOTES WHERE VOTES.state = 'terminal' (0.2222, False)\n",
      "SELECT Count(*) FROM VOTES WHERE VOTES.state = 'terminal' OR VOTES.state = 'terminal' (1.0000, True)\n",
      "SELECT Count(*) FROM AREA_CODE_STATE JOIN VOTES ON AREA_CODE_STATE.state = VOTES.state WHERE AREA_CODE_STATE.state = 'terminal' OR AREA_CODE_STATE.state = 'terminal' (1.0000, False)\n",
      "\n",
      "SELECT count(*) FROM votes WHERE state  =  'NY' OR state  =  'CA'\n",
      "--------------------------------------------------\n"
     ]
    }
   ],
   "source": [
    "for i in range(0, len(gold_sqls), 60):\n",
    "    p1 = reranker_output_sqls[i]\n",
    "    p2 = rewriter_taggerILM_output_sqls[i]\n",
    "    p3 = rewriter_s2s_output_sqls[i]\n",
    "    g = gold_sqls[i]\n",
    "    \n",
    "    sc1 = reranker_selected_outputs[i]['score']\n",
    "    sc2 = rewriter_taggerILM_selected_outputs[i]['score']\n",
    "    sc3 = rewriter_s2s_selected_outputs[i]['score']\n",
    "    \n",
    "    ex1 = reranker_selected_outputs[i]['exact']\n",
    "    ex2 = rewriter_taggerILM_selected_outputs[i]['exact']\n",
    "    ex3 = rewriter_s2s_selected_outputs[i]['exact']\n",
    "    \n",
    "    print(p1, f'({sc1:.4f}, {bool(ex1)})')\n",
    "    print(p2, f'({sc2:.4f}, {bool(ex2)})')\n",
    "    print(p3, f'({sc3:.4f}, {bool(ex3)})')\n",
    "    print()\n",
    "    print(g)\n",
    "    print('-'*50)"
   ]
  },
  {
   "cell_type": "code",
   "execution_count": 142,
   "metadata": {},
   "outputs": [
    {
     "data": {
      "application/vnd.jupyter.widget-view+json": {
       "model_id": "53e939faf6264b38b703695d53da1b24",
       "version_major": 2,
       "version_minor": 0
      },
      "text/plain": [
       "HBox(children=(IntProgress(value=0), HTML(value='')))"
      ]
     },
     "metadata": {},
     "output_type": "display_data"
    },
    {
     "name": "stdout",
     "output_type": "stream",
     "text": [
      "\n"
     ]
    }
   ],
   "source": [
    "model_matches = [0 for _ in range(3)]\n",
    "\n",
    "major_counter = Counter()  # [x]: How many samples have x models agree?\n",
    "\n",
    "major_output_sqls = []  # Save the vote results (str of sql)\n",
    "\n",
    "fallback_id = 1   # When no agreement, fallback to taggerILM \n",
    "\n",
    "for i in tqdm(range(len(gold_sqls))):\n",
    "    p0 = reranker_output_sqls[i]\n",
    "    p1 = rewriter_taggerILM_output_sqls[i]\n",
    "    p2 = rewriter_s2s_output_sqls[i]\n",
    "    \n",
    "    db = reranker_selected_outputs[i]['db_id']\n",
    "    db1 = rewriter_taggerILM_selected_outputs[i]['db_id']\n",
    "    db2 = rewriter_s2s_selected_outputs[i]['db_id']\n",
    "    assert db == db1 == db2\n",
    "    \n",
    "    _p_str_list = [p0, p1, p2]\n",
    "    _p_sql_list = [RebuildSQL(p_str, db) for p_str in _p_str_list]\n",
    "    _p_dumps_list = [json.dumps(p_sql, sort_keys=True) for p_sql in _p_sql_list]\n",
    "    \n",
    "    # Majority voting, with a Counter \n",
    "    _dumps_counter = Counter(_p_dumps_list)\n",
    "    _maj_dumps, _maj_cnt = _dumps_counter.most_common(1)[0]\n",
    "    if _maj_cnt == 1:\n",
    "        # All diff \n",
    "        _out_dumps = _p_dumps_list[fallback_id]\n",
    "    else:\n",
    "        # Has majority \n",
    "        _out_dumps = _maj_dumps\n",
    "    \n",
    "    # Save results \n",
    "    major_counter[_maj_cnt] += 1\n",
    "    \n",
    "    _out_id = None\n",
    "    for j, _dumps in enumerate(_p_dumps_list):\n",
    "        if _dumps == _out_dumps:\n",
    "            model_matches[j] += 1\n",
    "            _out_id = j\n",
    "    \n",
    "    major_output_sqls.append(_p_str_list[_out_id])\n",
    "    \n",
    "#     if p1_sql == p2_sql:\n",
    "#         if p1_sql == p3_sql:\n",
    "#             # 1 == 2 == 3\n",
    "#             cnt_all_match += 1\n",
    "#             _out_id = 1\n",
    "#         else:\n",
    "#             # 1 == 2 != 3\n",
    "#             cnt_2v1 += 1\n",
    "#             _out_id = 1\n",
    "#     elif p1_sql == p3_sql:\n",
    "#         # 1 == 3 != 2\n",
    "#         cnt_2v1 += 1\n",
    "#         _out_id = 1\n",
    "#     elif p2_sql == p3_sql:\n",
    "#         # 2 == 3 != 1\n",
    "#         cnt_2v1 += 1\n",
    "#         _out_id = 2\n",
    "#     else:\n",
    "#         # 1 != 2 != 3 != 1\n",
    "#         cnt_fallbacks += 1\n",
    "#         _out_id = 2  # Fallback to taggerILM since it's the best performing one \n",
    "    \n",
    "#     major_output_sqls.append(_out)"
   ]
  },
  {
   "cell_type": "code",
   "execution_count": 143,
   "metadata": {},
   "outputs": [
    {
     "data": {
      "text/plain": [
       "([65, 95, 68], Counter({3: 51, 1: 23, 2: 26}))"
      ]
     },
     "execution_count": 143,
     "metadata": {},
     "output_type": "execute_result"
    }
   ],
   "source": [
    "model_matches, major_counter"
   ]
  },
  {
   "cell_type": "code",
   "execution_count": 144,
   "metadata": {
    "scrolled": true
   },
   "outputs": [
    {
     "data": {
      "application/vnd.jupyter.widget-view+json": {
       "model_id": "13c55e3eaa1044c3a65444e92f30c04c",
       "version_major": 2,
       "version_minor": 0
      },
      "text/plain": [
       "HBox(children=(IntProgress(value=0), HTML(value='')))"
      ]
     },
     "metadata": {},
     "output_type": "display_data"
    },
    {
     "name": "stdout",
     "output_type": "stream",
     "text": [
      "\n",
      "                     easy                 medium               hard                 extra                all                 \n",
      "count                22                   52                   19                   7                    100                 \n",
      "\n",
      "====================== EXACT MATCHING ACCURACY =====================\n",
      "exact match          0.636                0.365                0.211                0.143                0.380               \n",
      "\n",
      "---------------------PARTIAL MATCHING ACCURACY----------------------\n",
      "select               0.955                0.692                0.789                1.000                0.790               \n",
      "select(no AGG)       0.955                0.692                0.789                1.000                0.790               \n",
      "where                0.375                0.520                0.500                0.167                0.451               \n",
      "where(no OP)         0.375                0.560                0.583                0.333                0.510               \n",
      "group(no Having)     1.000                0.667                1.000                1.000                0.773               \n",
      "group                1.000                0.533                1.000                1.000                0.682               \n",
      "order                1.000                0.571                0.500                1.000                0.611               \n",
      "and/or               1.000                0.923                1.000                0.571                0.929               \n",
      "IUEN                 0.000                0.000                0.143                0.500                0.182               \n",
      "keywords             0.857                0.800                0.789                0.714                0.800               \n",
      "---------------------- PARTIAL MATCHING RECALL ----------------------\n",
      "select               0.955                0.692                0.789                1.000                0.790               \n",
      "select(no AGG)       0.955                0.692                0.789                1.000                0.790               \n",
      "where                0.333                0.520                0.600                0.200                0.469               \n",
      "where(no OP)         0.333                0.560                0.700                0.400                0.531               \n",
      "group(no Having)     1.000                0.625                0.750                0.500                0.680               \n",
      "group                1.000                0.500                0.750                0.500                0.600               \n",
      "order                1.000                0.667                0.500                0.500                0.611               \n",
      "and/or               1.000                0.960                0.947                1.000                0.968               \n",
      "IUEN                 0.000                0.000                0.167                1.000                0.286               \n",
      "keywords             0.857                0.783                0.789                0.714                0.791               \n",
      "---------------------- PARTIAL MATCHING F1 --------------------------\n",
      "select               0.955                0.692                0.789                1.000                0.790               \n",
      "select(no AGG)       0.955                0.692                0.789                1.000                0.790               \n",
      "where                0.353                0.520                0.545                0.182                0.460               \n",
      "where(no OP)         0.353                0.560                0.636                0.364                0.520               \n",
      "group(no Having)     1.000                0.645                0.857                0.667                0.723               \n",
      "group                1.000                0.516                0.857                0.667                0.638               \n",
      "order                1.000                0.615                0.500                0.667                0.611               \n",
      "and/or               1.000                0.941                0.973                0.727                0.948               \n",
      "IUEN                 1.000                1.000                0.154                0.667                0.222               \n",
      "keywords             0.857                0.791                0.789                0.714                0.795               \n",
      "================   PARTIAL MATCHING SUMMARY SCORE    ================\n",
      "partial_summary      0.853                0.656                0.697                0.580                0.702               \n",
      "\n",
      "0.6363636363636364\t0.36538461538461536\t0.21052631578947367\t0.14285714285714285\t0.38\n",
      "0.8528138528138527\t0.6555534743034743\t0.697488038277512\t0.5795454545454545\t0.7015977633477631\n"
     ]
    }
   ],
   "source": [
    "EvaluateSQL_full(plist=major_output_sqls,\n",
    "                 glist=gold_sqls,\n",
    "                 db_id_list=[c['db_id'] for c in reranker_selected_outputs])"
   ]
  },
  {
   "cell_type": "code",
   "execution_count": null,
   "metadata": {},
   "outputs": [],
   "source": []
  },
  {
   "cell_type": "markdown",
   "metadata": {},
   "source": [
    "### Samples"
   ]
  },
  {
   "cell_type": "markdown",
   "metadata": {},
   "source": [
    "#### Loading samples"
   ]
  },
  {
   "cell_type": "code",
   "execution_count": 158,
   "metadata": {},
   "outputs": [],
   "source": [
    "VERSION = '2.12.1.1t-2.31.0.1i'\n",
    "\n",
    "output_dir = '/Users/mac/Desktop/syt/Deep-Learning/Projects-M/SpeakQL/SpeakQL/Allennlp_models/outputs'\n",
    "\n",
    "model_output_path = os.path.join(output_dir, 'ratsql-test-save', f'{VERSION}.json')\n",
    "# compare_output_path = os.path.join(output_dir, 'ratsql-asr-test-save', 'First-cands.json')\n"
   ]
  },
  {
   "cell_type": "code",
   "execution_count": 159,
   "metadata": {},
   "outputs": [
    {
     "data": {
      "text/plain": [
       "(547,\n",
       " dict_keys(['db_id', 'query', 'query_toks', 'query_toks_no_value', 'question', 'question_toks', 'sql', 'span_ranges', 'original_id', 'ratsql_pred_sql', 'gold_question', 'gold_question_toks', 'ratsql_pred_exact', 'ratsql_pred_score', 'question_toks_edit_distance', 'alignment_span_pairs', 'alignment_text_pairs', 'rewriter_tags', 'rewriter_edits', 'pred_tags', 'pred_ILM', 'pred_ILM_cands', 'rewritten_question', 'pred_sql', 'score', 'exact', 'exec']))"
      ]
     },
     "execution_count": 159,
     "metadata": {},
     "output_type": "execute_result"
    }
   ],
   "source": [
    "with open(model_output_path, 'r') as f:\n",
    "    model_outputs = json.load(f)\n",
    "\n",
    "len(model_outputs), model_outputs[0][0].keys()"
   ]
  },
  {
   "cell_type": "code",
   "execution_count": 160,
   "metadata": {},
   "outputs": [],
   "source": [
    "output_cands = [d_m[0] for d_m in model_outputs]"
   ]
  },
  {
   "cell_type": "markdown",
   "metadata": {},
   "source": [
    "#### Random samples with any edits"
   ]
  },
  {
   "cell_type": "code",
   "execution_count": 161,
   "metadata": {
    "scrolled": true
   },
   "outputs": [
    {
     "name": "stdout",
     "output_type": "stream",
     "text": [
      "ASR Question: how many languages are spoken in Aruba.\n",
      "Rwt Question: how many languages are spoken in Aruba ?\n",
      "Gold Question: How many languages are spoken in Aruba?\n",
      "\n",
      "ASR Question: find the average age of students who do not have any pets.\n",
      "Rwt Question: find the average age of students who do not have any pets .\n",
      "Gold Question: Find the average age of students who do not have any pet.\n",
      "\n",
      "ASR Question: What is the agent? Hometown of every teacher?\n",
      "Rwt Question: What is the age Hometown of every teacher ?\n",
      "Gold Question: What is the age and hometown of every teacher?\n",
      "\n",
      "ASR Question: What is the abbreviation of the airline Has the fewest flights in what country is it in?\n",
      "Rwt Question: What is the abbreviation of the airline Has the fewest flights in what country is it in ?\n",
      "Gold Question: What is the abbreviation of the airilne has the fewest flights and what country is it in?\n",
      "\n",
      "ASR Question: what are the IDs? Version numbers and type codes for each template.\n",
      "Rwt Question: what are the IDs , Version numbers and type codes for each template ?\n",
      "Gold Question: What are the ids, version numbers, and type codes for each template?\n",
      "\n",
      "ASR Question: show the document idea with paragraph text. Brazil and Ireland.\n",
      "Rwt Question: show the document id with paragraph text Brazil and Ireland .\n",
      "Gold Question: Show the document id with paragraph text 'Brazil' and 'Ireland'.\n",
      "\n",
      "ASR Question: returning its corresponding to templates with the description presentation.\n",
      "Rwt Question: return its corresponding to templates with the description presentation .\n",
      "Gold Question: Return the ids corresponding to templates with the description 'Presentation'.\n",
      "\n",
      "ASR Question: find the coats of countries that have more than 50 players.\n",
      "Rwt Question: find the codes of countries that have more than 50 players .\n",
      "Gold Question: Find the codes of countries that have more than 50 players.\n",
      "\n",
      "ASR Question: What is the airport name for Airport taco?\n",
      "Rwt Question: What is the airport name for Airport code ?\n",
      "Gold Question: What is the airport name for airport 'AKO'?\n",
      "\n",
      "ASR Question: what are the odds of students who both have friends and are liked?\n",
      "Rwt Question: what are the ids of students who both have friends and are liked ?\n",
      "Gold Question: What are the ids of students who both have friends and are liked?\n",
      "\n",
      "ASR Question: What are the opening year in staff number of the museum named Plaza Museum.\n",
      "Rwt Question: What are the opening year and staff number of the museum named Plaza Museum ?\n",
      "Gold Question: What are the opening year and staff number of the museum named Plaza Museum?\n",
      "\n",
      "ASR Question: which country does airline JetBlue Airways belong to?\n",
      "Rwt Question: which country does airline JetBlue Airways belong to ?\n",
      "Gold Question: Which country does Airline \"JetBlue Airways\" belong to?\n",
      "\n",
      "ASR Question: find the last name of the student who has a cat that his age three.\n",
      "Rwt Question: find the last name of the student who has a cat that has age 3 .\n",
      "Gold Question: Find the last name of the student who has a cat that is age 3.\n",
      "\n",
      "ASR Question: list documents, id's document names and document descriptions for all documents.\n",
      "Rwt Question: list documents , ids document names and document descriptions for all documents .\n",
      "Gold Question: List document IDs, document names, and document descriptions for all documents.\n",
      "\n",
      "ASR Question: give the flight numbers of flights leaving from a PG.\n",
      "Rwt Question: give the flight numbers of flights leaving from akw .\n",
      "Gold Question: Give the flight numbers of flights leaving from APG.\n",
      "\n",
      "ASR Question: how many high schoolers are there in grade nine or 10?\n",
      "Rwt Question: how many high schoolers are there in grade 5 or 10 ?\n",
      "Gold Question: How many high schoolers are there in grade 9 or 10?\n",
      "\n",
      "ASR Question: show the student ID's and numbers of friends corresponding to each.\n",
      "Rwt Question: show the student ids and numbers of friends corresponding to each .\n",
      "Gold Question: Show the student IDs and numbers of friends corresponding to each.\n",
      "\n",
      "ASR Question: how many United Airlines flights go to City Aberdeen.\n",
      "Rwt Question: how many United Airlines flights go to City Aberdeen ?\n",
      "Gold Question: How many United Airlines flights go to City 'Aberdeen'?\n",
      "\n",
      "ASR Question: What are the names of conductors? Sort of descending by the number of years they have worked.\n",
      "Rwt Question: What are the names of conductors , Sort of descending by the number of years they have worked ?\n",
      "Gold Question: What are the names of conductors, sorted descending by the number of years they have worked?\n",
      "\n",
      "ASR Question: what are the first names of all players and they're total ranking points.\n",
      "Rwt Question: what are the first names of all players and their total ranking points ?\n",
      "Gold Question: What are the first names of all players, and their total ranking points?\n",
      "\n"
     ]
    }
   ],
   "source": [
    "output_cands_with_edits = [c for c in output_cands if len(c['rewriter_edits']) > 0]\n",
    "for c in random.sample(output_cands_with_edits, k=20):\n",
    "    print('ASR Question:', c['question'])\n",
    "    print('Rwt Question:', c['rewritten_question'])\n",
    "    print('Gold Question:', c['gold_question'])\n",
    "    print()"
   ]
  },
  {
   "cell_type": "code",
   "execution_count": null,
   "metadata": {},
   "outputs": [],
   "source": []
  },
  {
   "cell_type": "code",
   "execution_count": null,
   "metadata": {},
   "outputs": [],
   "source": []
  },
  {
   "cell_type": "markdown",
   "metadata": {},
   "source": [
    "#### Samples with more edits"
   ]
  },
  {
   "cell_type": "code",
   "execution_count": 162,
   "metadata": {
    "scrolled": true
   },
   "outputs": [
    {
     "name": "stdout",
     "output_type": "stream",
     "text": [
      "ASR Question: What is the document? I d 10 put idea and description for document named Robin CV.\n",
      "Rwt Question: What is the document id 10 type type with and description for document named Robin id b ''\n",
      "Gold Question: What is the document id, template id and description for document named \"Robbin CV\"?\n",
      "\n",
      "ASR Question: What are the odds of documents that contained the paragraph Text Brazil and Ireland.\n",
      "Rwt Question: What are the ids of documents that contain the paragraph Text Brazil and Ireland ?\n",
      "Gold Question: What are the ids of documents that contain the paragraph text 'Brazil' and 'Ireland'?\n",
      "\n",
      "ASR Question: what are the odds and texts of paragraphs in the document titled Welcome to N. Y.\n",
      "Rwt Question: what are the ids and texts of paragraphs in the document titled `` welcome cv to '' ?\n",
      "Gold Question: What are the ids and texts of paragraphs in the document titled 'Welcome to NY'?\n",
      "\n",
      "ASR Question: find the idea in weight of all pets whose ages older than one.\n",
      "Rwt Question: find the id and weight of all pets whose age is older than 1 .\n",
      "Gold Question: Find the id and weight of all pets whose age is older than 1.\n",
      "\n",
      "ASR Question: What is the idea? In weight of every pet who is older than one.\n",
      "Rwt Question: What is the id and weight of every pet who is older than one ?\n",
      "Gold Question: What is the id and weight of every pet who is older than 1?\n",
      "\n",
      "ASR Question: how many United Airlines flights go to airport Asi.\n",
      "Rwt Question: how many United Airlines flights go to airlines ?\n",
      "Gold Question: How many 'United Airlines' flights go to Airport 'ASY'?\n",
      "\n",
      "ASR Question: how many United Airlines flights depart from airport HD.\n",
      "Rwt Question: how many United airlines flights depart from airport HD ?\n",
      "Gold Question: How many 'United Airlines' flights depart from Airport 'AHD'?\n",
      "\n",
      "ASR Question: what air flight numbers of airline United Airlines.\n",
      "Rwt Question: what are flight numbers of airline United Airlines ?\n",
      "Gold Question: What are flight numbers of Airline \"United Airlines\"?\n",
      "\n",
      "ASR Question: What is the document? Naming templates. I d for document with description with the letter W in it.\n",
      "Rwt Question: What is the document Naming templates id for document with description with the letter W in it ?\n",
      "Gold Question: What is the document name and template id for document with description with the letter 'w' in it?\n",
      "\n",
      "ASR Question: return the documents. I d template I d and description for the document with the name Robin CV.\n",
      "Rwt Question: return the documents id , template id , and description for the document with the name Robin cv .\n",
      "Gold Question: Return the document id, template id, and description for the document with the name Robbin CV.\n",
      "\n",
      "ASR Question: what do the template? It's with template type description, presentation.\n",
      "Rwt Question: what are the template ids with template type description presentation ?\n",
      "Gold Question: What are the template ids with template type description \"Presentation\".\n",
      "\n",
      "ASR Question: show all paragraph, it's and texts for the document with name Welcome to N. Y.\n",
      "Rwt Question: show all paragraph ids and texts for the document with name welcome `` to ny .\n",
      "Gold Question: Show all paragraph ids and texts for the document with name 'Welcome to NY'.\n",
      "\n",
      "ASR Question: returned a different document IDs, along with the number of paragraphs corresponding to each ordered by I. D.\n",
      "Rwt Question: return different document IDs along with the number of paragraphs corresponding to each , ordered by id .\n",
      "Gold Question: Return the different document ids along with the number of paragraphs corresponding to each, ordered by id.\n",
      "\n",
      "ASR Question: show the document idea with paragraph text. Brazil and Ireland.\n",
      "Rwt Question: show the document id with paragraph text Brazil and Ireland .\n",
      "Gold Question: Show the document id with paragraph text 'Brazil' and 'Ireland'.\n",
      "\n",
      "ASR Question: find the names of the visitors whose membership level is higher than four and order the results by the level from Hyde Alot.\n",
      "Rwt Question: find the names of the visitors whose membership level is higher than 4 and order the results by the level from height .\n",
      "Gold Question: Find the names of the visitors whose membership level is higher than 4, and order the results by the level from high to low.\n",
      "\n",
      "ASR Question: What are the country code and first name of the players who won in both Attorney w th Championships in Australian Open.\n",
      "Rwt Question: What are the country code and first name of the players who won in both Attorney w Championships and Australian Open ?\n",
      "Gold Question: What are the country code and first name of the players who won in both tourney WTA Championships and Australian Open?\n",
      "\n",
      "ASR Question: what his last date created. A votes from the state C A.\n",
      "Rwt Question: what is last date created votes from the state ca ?\n",
      "Gold Question: What is last date created of votes from the state 'CA'?\n",
      "\n",
      "ASR Question: What is the number of votes from state and why or c A.\n",
      "Rwt Question: What is the number of votes from state and whose or ca '' ?\n",
      "Gold Question: What are the number of votes from state 'NY' or 'CA'?\n",
      "\n",
      "ASR Question: which region? Speak that your English.\n",
      "Rwt Question: which region Speak the English ?\n",
      "Gold Question: Which regions speak Dutch or English?\n",
      "\n",
      "ASR Question: What are the different continents in the total population? An average life expectancy corresponding to each four continents that have an average life expectancy less than 72?\n",
      "Rwt Question: What are the different continents and the total population and average life expectancy corresponding to each and continents that have an average life expectancy less than 72 ?\n",
      "Gold Question: What are the different continents and the total popuation and average life expectancy corresponding to each, for continents that have an average life expectancy less than 72?\n",
      "\n"
     ]
    }
   ],
   "source": [
    "for c_m in sorted(output_cands, key=lambda c : len(c['rewriter_edits']), reverse=True)[:20]:\n",
    "    print('ASR Question:', c_m['question'])\n",
    "#     print('ASR Question SQL:', c_m['ratsql_pred_sql'], f\"({c_m['ratsql_pred_score']})\")\n",
    "    print('Rwt Question:', c_m['rewritten_question'])\n",
    "#     print('Compare SQL:', c_c['pred_sql'], f\"({c_c['score']})\")\n",
    "#     print('Rwt Question SQL:', c_m['pred_sql'], f\"({c_m['score']})\")\n",
    "    print('Gold Question:', c_m['gold_question'])\n",
    "#     print('Gold SQL:', c_m['query'])\n",
    "    print()"
   ]
  },
  {
   "cell_type": "code",
   "execution_count": 43,
   "metadata": {},
   "outputs": [],
   "source": [
    "# output_cand_subset = [c for c in output_cands if c['db_id'] == 'concert_singer']\n",
    "\n",
    "# for c_m in sorted(output_cand_subset, key=lambda c : len(c['rewriter_edits']), reverse=True):\n",
    "#     print('ASR Question:', c_m['question'])\n",
    "# #     print('ASR Question SQL:', c_m['ratsql_pred_sql'], f\"({c_m['ratsql_pred_score']})\")\n",
    "#     print('Rwt Question:', c_m['rewritten_question'])\n",
    "# #     print('Compare SQL:', c_c['pred_sql'], f\"({c_c['score']})\")\n",
    "# #     print('Rwt Question SQL:', c_m['pred_sql'], f\"({c_m['score']})\")\n",
    "#     print('Gold Question:', c_m['gold_question'])\n",
    "# #     print('Gold SQL:', c_m['query'])\n",
    "#     print()"
   ]
  },
  {
   "cell_type": "markdown",
   "metadata": {},
   "source": [
    "#### Samples with/without improvements"
   ]
  },
  {
   "cell_type": "code",
   "execution_count": 165,
   "metadata": {},
   "outputs": [],
   "source": [
    "VERSION = '2.12.1.1t-2.31.0.1i'\n",
    "\n",
    "output_dir = '/Users/mac/Desktop/syt/Deep-Learning/Projects-M/SpeakQL/SpeakQL/Allennlp_models/outputs'\n",
    "\n",
    "model_output_path = os.path.join(output_dir, 'uskg-large-test-save', f'{VERSION}.json')\n",
    "# model_output_path = os.path.join(output_dir, 'uskg-test-save', 'First-cands.json')\n",
    "compare_output_path = os.path.join(output_dir, 'uskg-large-test-save', 'First-cands.json')\n"
   ]
  },
  {
   "cell_type": "code",
   "execution_count": 166,
   "metadata": {},
   "outputs": [
    {
     "data": {
      "text/plain": [
       "(547,\n",
       " 547,\n",
       " dict_keys(['db_id', 'query', 'query_toks', 'query_toks_no_value', 'question', 'question_toks', 'sql', 'span_ranges', 'original_id', 'ratsql_pred_sql', 'gold_question', 'gold_question_toks', 'ratsql_pred_exact', 'ratsql_pred_score', 'question_toks_edit_distance', 'alignment_span_pairs', 'alignment_text_pairs', 'rewriter_tags', 'rewriter_edits', 'token_phonemes', 'token_phoneme_spans', 'predicted_rewriter_tags', 'align_tags', 'asr_question', 'asr_question_toks', 'rewritten_question', 'pred_sql', 'score', 'exact', 'exec']),\n",
       " dict_keys(['db_id', 'query', 'query_toks', 'query_toks_no_value', 'question', 'question_toks', 'sql', 'span_ranges', 'original_id', 'ratsql_pred_sql', 'gold_question', 'gold_question_toks', 'ratsql_pred_exact', 'ratsql_pred_score', 'question_toks_edit_distance', 'alignment_span_pairs', 'alignment_text_pairs', 'rewriter_tags', 'rewriter_edits', 'pred_sql', 'score', 'exact', 'exec']))"
      ]
     },
     "execution_count": 166,
     "metadata": {},
     "output_type": "execute_result"
    }
   ],
   "source": [
    "with open(model_output_path, 'r') as f:\n",
    "    model_outputs = json.load(f)\n",
    "with open(compare_output_path, 'r') as f:\n",
    "    compare_outputs = json.load(f)\n",
    "    \n",
    "len(model_outputs), len(compare_outputs), model_outputs[0][0].keys(), compare_outputs[0][0].keys()"
   ]
  },
  {
   "cell_type": "code",
   "execution_count": null,
   "metadata": {
    "scrolled": true
   },
   "outputs": [],
   "source": [
    "## Large improvements against raw rat-sql\n",
    "\n",
    "output_cands = [d_m[0] for d_m in model_outputs]\n",
    "\n",
    "for c_m in sorted(output_cands, key=lambda c : (c['score'] - c['ratsql_pred_score']), reverse=True)[:20]:\n",
    "    print('ASR Question:', c_m['question'])\n",
    "    print('ASR Question SQL:', c_m['ratsql_pred_sql'], f\"({c_m['ratsql_pred_score']})\")\n",
    "    print('Rwt Question:', c_m['rewritten_question'])\n",
    "    # print('Compare SQL:', c_c['pred_sql'], f\"({c_c['score']})\")\n",
    "    print('Rwt Question SQL:', c_m['pred_sql'], f\"({c_m['score']})\")\n",
    "    print('Gold Question:', c_m['gold_question'])\n",
    "    print('Gold SQL:', c_m['query'])\n",
    "    print()"
   ]
  },
  {
   "cell_type": "code",
   "execution_count": 178,
   "metadata": {},
   "outputs": [
    {
     "name": "stdout",
     "output_type": "stream",
     "text": [
      "ASR Question: How much does the youngest doc way?\n",
      "Rwt Question: How much does the youngest pet cat?\n",
      "Compare SQL: select sum(age) from student where age = (select min(age) from student where stuid = t2.stuid order by age asc limit 1) (0)\n",
      "Rwt Question SQL: select weight from pets order by pet_age asc limit 1 (1)\n",
      "Gold Question: How much does the youngest dog weigh?\n",
      "Gold SQL: SELECT weight FROM pets ORDER BY pet_age LIMIT 1\n",
      "\n",
      "ASR Question: find the idea in weight of all pets whose ages older than one.\n",
      "Rwt Question: find the id and weight of all pets whose age is older than 1.\n",
      "Compare SQL: select avg(weight) from pets where pet_age > 1 (0)\n",
      "Rwt Question SQL: select petid, weight from pets where pet_age > 1 (1)\n",
      "Gold Question: Find the id and weight of all pets whose age is older than 1.\n",
      "Gold SQL: SELECT petid ,  weight FROM pets WHERE pet_age  >  1\n",
      "\n",
      "ASR Question: What is the idea? In weight of every pet who is older than one.\n",
      "Rwt Question: What is the id and weight of every pet who is older than one?\n",
      "Compare SQL: select weight from pets where pet_age > 1 (0)\n",
      "Rwt Question SQL: select petid, weight from pets where pet_age > 1 (1)\n",
      "Gold Question: What is the id and weight of every pet who is older than 1?\n",
      "Gold SQL: SELECT petid ,  weight FROM pets WHERE pet_age  >  1\n",
      "\n",
      "ASR Question: what is the average in maximum age for each pet type?\n",
      "Rwt Question: what is the average and maximum age for each pet type?\n",
      "Compare SQL: select pettype, avg(pet_age) from pets group by pettype (0)\n",
      "Rwt Question SQL: select pettype, avg(pet_age), max(pet_age) from pets group by pettype (1)\n",
      "Gold Question: What is the average and maximum age for each pet type?\n",
      "Gold SQL: SELECT avg(pet_age) ,  max(pet_age) ,  pettype FROM pets GROUP BY pettype\n",
      "\n",
      "ASR Question: find the idea of the pet owned by student whose last name is Smith.\n",
      "Rwt Question: find the id of the pet owned by student whose last name is Smith.\n",
      "Compare SQL: select t3.structure from has_pet as t1 join student as t2 on t1.stuid = t2.stuid join pets as t3 on t1.pet = t3.petid where t2.lname = \"Smith\" (0)\n",
      "Rwt Question SQL: select t2.petid from has_pet as t1 join pets as t2 on t1.petid = t2.petid join student as t3 on t3.stuid = t1.stuid where t3.lname = \"Smith\" (1)\n",
      "Gold Question: Find the id of the pet owned by student whose last name is ‘Smith’.\n",
      "Gold SQL: SELECT T2.petid FROM student AS T1 JOIN has_pet AS T2 ON T1.stuid  =  T2.stuid WHERE T1.Lname  =  'Smith'\n",
      "\n",
      "ASR Question: What is the idea of the pet owned by the student whose last name is Smith?\n",
      "Rwt Question: What is the id of the pet owned by the student whose last name is Smith?\n",
      "Compare SQL: select t3.pettype from has_pet as t1 join student as t2 on t1.stuid = t2.stuid join pets as t3 on t1.pet = t3.petid where t2.lname = \"Smith\" (0)\n",
      "Rwt Question SQL: select t2.petid from has_pet as t1 join pets as t2 on t1.petid = t2.petid join student as t3 on t3.stuid = t1.stuid where t3.lname = \"Smith\" (1)\n",
      "Gold Question: What is the id of the pet owned by the student whose last name is 'Smith'?\n",
      "Gold SQL: SELECT T2.petid FROM student AS T1 JOIN has_pet AS T2 ON T1.stuid  =  T2.stuid WHERE T1.Lname  =  'Smith'\n",
      "\n",
      "ASR Question: for students who have pets. How many pets does each student has?\n",
      "Rwt Question: for students who have pets, How many pets does each student has?\n",
      "Compare SQL: select count(*) from has_pet (0)\n",
      "Rwt Question SQL: select count(*), stuid from has_pet group by stuid (1)\n",
      "Gold Question: For students who have pets, how many pets does each student have?\n",
      "Gold SQL: SELECT count(*) ,  T1.stuid FROM student AS T1 JOIN has_pet AS T2 ON T1.stuid  =  T2.stuid GROUP BY T1.stuid\n",
      "\n",
      "ASR Question: which abbreviation corresponds to check Blue Airways.\n",
      "Rwt Question: which abbreviation corresponds to check \"jetblue airways?\n",
      "Compare SQL: select abbreviation from airlines where airline = \"check blue Airways\" (0)\n",
      "Rwt Question SQL: select abbreviation from airlines where airline = \"JetBlue Airways\" (1)\n",
      "Gold Question: Which abbreviation corresponds to Jetblue Airways?\n",
      "Gold SQL: SELECT Abbreviation FROM AIRLINES WHERE Airline  =  \"JetBlue Airways\"\n",
      "\n",
      "ASR Question: list all airline names and they're abbreviations in U. S. A.\n",
      "Rwt Question: list all airline names and their abbreviations in usa.\n",
      "Compare SQL: select airline, abbreviation from airlines where country = 'United States of America' (0)\n",
      "Rwt Question SQL: select airline, abbreviation from airlines where country = 'USA' (1)\n",
      "Gold Question: List all airline names and their abbreviations in \"USA\".\n",
      "Gold SQL: SELECT Airline ,  Abbreviation FROM AIRLINES WHERE Country  =  \"USA\"\n",
      "\n",
      "ASR Question: What are the airline names and abbreviations for airlines in the U. S. A.\n",
      "Rwt Question: What are the airline names and abbreviations for airlines in the usa?\n",
      "Compare SQL: select airline, abbreviation from airlines where country = 'United States of America' (0)\n",
      "Rwt Question SQL: select airline, abbreviation from airlines where country = 'USA' (1)\n",
      "Gold Question: What are the airline names and abbreviations for airlines in the USA?\n",
      "Gold SQL: SELECT Airline ,  Abbreviation FROM AIRLINES WHERE Country  =  \"USA\"\n",
      "\n",
      "ASR Question: give the airport code an airport named Cora sounding to the city Anthony.\n",
      "Rwt Question: give the airport code and airport named \"anthony airlines\" to the city.\n",
      "Compare SQL: select airportcode from airports where airportname like \"%cora%\" intersect select airportcode from airports where airportname = 'Antony' (0)\n",
      "Rwt Question SQL: select airportcode, airportname from airports where city = 'Anthony' (1)\n",
      "Gold Question: Give the airport code and airport name corresonding to the city Anthony.\n",
      "Gold SQL: SELECT AirportCode ,  AirportName FROM AIRPORTS WHERE city  =  \"Anthony\"\n",
      "\n",
      "ASR Question: return the number of airlines in the U. S. A.\n",
      "Rwt Question: return the number of airlines in the.\n",
      "Compare SQL: select count(*) from airlines where country = 'U.S.A.' (0)\n",
      "Rwt Question SQL: select count(*) from airlines (1)\n",
      "Gold Question: Return the number of airlines in the USA.\n",
      "Gold SQL: SELECT count(*) FROM AIRLINES WHERE Country  =  \"USA\"\n",
      "\n",
      "ASR Question: which airlines have a flight with destination airport HD.\n",
      "Rwt Question: which airlines have a flight with destination airport aid?\n",
      "Compare SQL: select t2.airline from flights as t1 join airlines as t2 on t1.sourceairport = t2.uid where t1.destinationairport = \"HD\" (0)\n",
      "Rwt Question SQL: select t1.airline from airlines as t1 join flights as t2 on t1.uid = t2.airline where t2.sourceairport = 'AID' (1)\n",
      "Gold Question: Which airlines have a flight with destination airport AHD?\n",
      "Gold SQL: SELECT T1.Airline FROM AIRLINES AS T1 JOIN FLIGHTS AS T2 ON T1.uid  =  T2.Airline WHERE T2.DestAirport  =  \"AHD\"\n",
      "\n",
      "ASR Question: which airlines have departing flights from both a PG and CBO airports.\n",
      "Rwt Question: which airlines have departing flights from both tri-state and cvo airports?\n",
      "Compare SQL: select t2.abbreviation from flights as t1 join airlines as t2 on t1.airline = t2.uid where t1.sourceairport = 'PG' intersect select t2.abbreviation from flights as t1 join airlines as t2 on t1.airline = t2.uid where t1.sourceairport = 'CBO' (0)\n",
      "Rwt Question SQL: select t1.airline from airlines as t1 join flights as t2 on t1.uid = t2.airline where t2.sourceairport = 'Tri-state' intersect select t1.airline from airlines as t1 join flights as t2 on t1.uid = t2.airline where t2.sourceairport = 'CVO' (1)\n",
      "Gold Question: Which airlines have departing flights from both APG and CVO airports?\n",
      "Gold SQL: SELECT T1.Airline FROM AIRLINES AS T1 JOIN FLIGHTS AS T2 ON T1.uid  =  T2.Airline WHERE T2.SourceAirport  =  \"APG\" INTERSECT SELECT T1.Airline FROM AIRLINES AS T1 JOIN FLIGHTS AS T2 ON T1.uid  =  T2.Airline WHERE T2.SourceAirport  =  \"CVO\"\n",
      "\n",
      "ASR Question: find all airlines that have flights from airport CDO, but not from a PG.\n",
      "Rwt Question: find all airlines that have flights from airport \"us not from but.\n",
      "Compare SQL: select t2.airline from flights as t1 join airlines as t2 on t1.airline = t2.uid where t1.sourceairport = 'CDO' except select t2.airline from flights as t1 join airports as t2 on t1.sourceairport = t2.airportcode where t2.airportname = 'PG' (0)\n",
      "Rwt Question SQL: select t1.airline from airlines as t1 join flights as t2 on t1.uid = t2.airline join airports as t3 on t2.sourceairport = t3.airportcode where t3.countryabbrev = \"US\" (1)\n",
      "Gold Question: Find all airlines that have flights from airport 'CVO' but not from 'APG'.\n",
      "Gold SQL: SELECT T1.Airline FROM AIRLINES AS T1 JOIN FLIGHTS AS T2 ON T1.uid  =  T2.Airline WHERE T2.SourceAirport  =  \"CVO\" EXCEPT SELECT T1.Airline FROM AIRLINES AS T1 JOIN FLIGHTS AS T2 ON T1.uid  =  T2.Airline WHERE T2.SourceAirport  =  \"APG\"\n",
      "\n",
      "ASR Question: Twitter flight numbers of flights arriving at airports a PG\n",
      "Rwt Question: sort flight numbers of flights arriving at airports.\n",
      "Compare SQL: select flightno from flights where sourceairport in (select sourceairport from airports where countryabbrev = 'PG') (0)\n",
      "Rwt Question SQL: select distinct flightno from flights as t1 join airports as t2 on t1.sourceairport = t2.airportcode (1)\n",
      "Gold Question: What are flight numbers of flights arriving at Airport \"APG\"?\n",
      "Gold SQL: SELECT FlightNo FROM FLIGHTS WHERE DestAirport  =  \"APG\"\n",
      "\n",
      "ASR Question: how many different templates dual document use.\n",
      "Rwt Question: how many different templates m document use?\n",
      "Compare SQL: select count(*) from templates where template_id in ( select template_id from documents group by template_id having count(*) > 4) (0)\n",
      "Rwt Question SQL: select count(distinct template_id) from documents (1)\n",
      "Gold Question: How many different templates do all document use?\n",
      "Gold SQL: SELECT count(DISTINCT template_id) FROM Documents\n",
      "\n",
      "ASR Question: show all template. It's a number of documents using each template.\n",
      "Rwt Question: show all template ids number of documents using each template.\n",
      "Compare SQL: select template_type_code, count(*) from documents group by template_type_code (0)\n",
      "Rwt Question SQL: select template_id, count(*) from documents group by template_id (1)\n",
      "Gold Question: Show all template ids and number of documents using each template.\n",
      "Gold SQL: SELECT template_id ,  count(*) FROM Documents GROUP BY template_id\n",
      "\n",
      "ASR Question: what is the idea and type code for the template used by the most documents?\n",
      "Rwt Question: what is the id and type code for the template used by the most documents?\n",
      "Compare SQL: select t1.template_description, t2.template_type_code from ref_template_types as t1 join templates as t2 on t1.template_type_code = t2.template_type_code group by t2.template_type_code order by count(*) desc limit 1 (0)\n",
      "Rwt Question SQL: select t1.template_id, t1.template_type_code from templates as t1 join documents as t2 on t1.template_id = t2.template_id group by t1.template_id order by count(*) desc limit 1 (1)\n",
      "Gold Question: What is the id and type code for the template used by the most documents?\n",
      "Gold SQL: SELECT T1.template_id ,  T2.Template_Type_Code FROM Documents AS T1 JOIN Templates AS T2 ON T1.template_id  =  T2.template_id GROUP BY T1.template_id ORDER BY count(*) DESC LIMIT 1\n",
      "\n",
      "ASR Question: return the idea and type code of the template that is used for the greatest number of documents.\n",
      "Rwt Question: return the id and type code of the template that is used for the greatest number of documents.\n",
      "Compare SQL: select t1.template_description, t2.template_type_code from ref_template_types as t1 join templates as t2 on t1.template_type_code = t2.template_type_code group by t2.template_type_code order by count(*) desc limit 1 (0)\n",
      "Rwt Question SQL: select t1.template_id, t1.template_type_code from templates as t1 join documents as t2 on t1.template_id = t2.template_id group by t1.template_id order by count(*) desc limit 1 (1)\n",
      "Gold Question: Return the id and type code of the template that is used for the greatest number of documents.\n",
      "Gold SQL: SELECT T1.template_id ,  T2.Template_Type_Code FROM Documents AS T1 JOIN Templates AS T2 ON T1.template_id  =  T2.template_id GROUP BY T1.template_id ORDER BY count(*) DESC LIMIT 1\n",
      "\n"
     ]
    }
   ],
   "source": [
    "## Large improvements on uskg\n",
    "\n",
    "output_cand_pairs = [(d_m[0], d_c[0]) for d_m, d_c in zip(model_outputs, compare_outputs)]\n",
    "\n",
    "_score_key = 'exec'\n",
    "\n",
    "for c_m, c_c in sorted(output_cand_pairs, key=lambda c : (c[0][_score_key] - c[1][_score_key]), reverse=True)[:20]:\n",
    "    print('ASR Question:', c_m['asr_question'])\n",
    "    # print('ASR Question SQL:', c_m['ratsql_pred_sql'], f\"({c_m['ratsql_pred_score']})\")\n",
    "    print('Rwt Question:', c_m['rewritten_question'])\n",
    "    print('Compare SQL:', c_c['pred_sql'], f\"({c_c[_score_key]})\")\n",
    "    print('Rwt Question SQL:', c_m['pred_sql'], f\"({c_m[_score_key]})\")\n",
    "    print('Gold Question:', c_m['gold_question'])\n",
    "    print('Gold SQL:', c_m['query'])\n",
    "    print()\n"
   ]
  },
  {
   "cell_type": "code",
   "execution_count": 182,
   "metadata": {
    "scrolled": true
   },
   "outputs": [
    {
     "name": "stdout",
     "output_type": "stream",
     "text": [
      "pets_1\n",
      "ASR Question: How much does the youngest doc way?\n",
      "Rwt Question: How much does the youngest pet cat?\n",
      "Compare SQL: select sum(age) from student where age = (select min(age) from student where stuid = t2.stuid order by age asc limit 1) (0)\n",
      "Rwt Question SQL: select weight from pets order by pet_age asc limit 1 (1)\n",
      "Gold Question: How much does the youngest dog weigh?\n",
      "Gold SQL: SELECT weight FROM pets ORDER BY pet_age LIMIT 1\n",
      "\n",
      "pets_1\n",
      "ASR Question: find the idea in weight of all pets whose ages older than one.\n",
      "Rwt Question: find the id and weight of all pets whose age is older than 1.\n",
      "Compare SQL: select avg(weight) from pets where pet_age > 1 (0)\n",
      "Rwt Question SQL: select petid, weight from pets where pet_age > 1 (1)\n",
      "Gold Question: Find the id and weight of all pets whose age is older than 1.\n",
      "Gold SQL: SELECT petid ,  weight FROM pets WHERE pet_age  >  1\n",
      "\n",
      "pets_1\n",
      "ASR Question: What is the idea? In weight of every pet who is older than one.\n",
      "Rwt Question: What is the id and weight of every pet who is older than one?\n",
      "Compare SQL: select weight from pets where pet_age > 1 (0)\n",
      "Rwt Question SQL: select petid, weight from pets where pet_age > 1 (1)\n",
      "Gold Question: What is the id and weight of every pet who is older than 1?\n",
      "Gold SQL: SELECT petid ,  weight FROM pets WHERE pet_age  >  1\n",
      "\n",
      "pets_1\n",
      "ASR Question: what is the average in maximum age for each pet type?\n",
      "Rwt Question: what is the average and maximum age for each pet type?\n",
      "Compare SQL: select pettype, avg(pet_age) from pets group by pettype (0)\n",
      "Rwt Question SQL: select pettype, avg(pet_age), max(pet_age) from pets group by pettype (1)\n",
      "Gold Question: What is the average and maximum age for each pet type?\n",
      "Gold SQL: SELECT avg(pet_age) ,  max(pet_age) ,  pettype FROM pets GROUP BY pettype\n",
      "\n",
      "flight_2\n",
      "ASR Question: give the airport code an airport named Cora sounding to the city Anthony.\n",
      "Rwt Question: give the airport code and airport named \"anthony airlines\" to the city.\n",
      "Compare SQL: select airportcode from airports where airportname like \"%cora%\" intersect select airportcode from airports where airportname = 'Antony' (0)\n",
      "Rwt Question SQL: select airportcode, airportname from airports where city = 'Anthony' (1)\n",
      "Gold Question: Give the airport code and airport name corresonding to the city Anthony.\n",
      "Gold SQL: SELECT AirportCode ,  AirportName FROM AIRPORTS WHERE city  =  \"Anthony\"\n",
      "\n",
      "flight_2\n",
      "ASR Question: which airlines have a flight with destination airport HD.\n",
      "Rwt Question: which airlines have a flight with destination airport aid?\n",
      "Compare SQL: select t2.airline from flights as t1 join airlines as t2 on t1.sourceairport = t2.uid where t1.destinationairport = \"HD\" (0)\n",
      "Rwt Question SQL: select t1.airline from airlines as t1 join flights as t2 on t1.uid = t2.airline where t2.sourceairport = 'AID' (1)\n",
      "Gold Question: Which airlines have a flight with destination airport AHD?\n",
      "Gold SQL: SELECT T1.Airline FROM AIRLINES AS T1 JOIN FLIGHTS AS T2 ON T1.uid  =  T2.Airline WHERE T2.DestAirport  =  \"AHD\"\n",
      "\n",
      "flight_2\n",
      "ASR Question: which airlines have departing flights from both a PG and CBO airports.\n",
      "Rwt Question: which airlines have departing flights from both tri-state and cvo airports?\n",
      "Compare SQL: select t2.abbreviation from flights as t1 join airlines as t2 on t1.airline = t2.uid where t1.sourceairport = 'PG' intersect select t2.abbreviation from flights as t1 join airlines as t2 on t1.airline = t2.uid where t1.sourceairport = 'CBO' (0)\n",
      "Rwt Question SQL: select t1.airline from airlines as t1 join flights as t2 on t1.uid = t2.airline where t2.sourceairport = 'Tri-state' intersect select t1.airline from airlines as t1 join flights as t2 on t1.uid = t2.airline where t2.sourceairport = 'CVO' (1)\n",
      "Gold Question: Which airlines have departing flights from both APG and CVO airports?\n",
      "Gold SQL: SELECT T1.Airline FROM AIRLINES AS T1 JOIN FLIGHTS AS T2 ON T1.uid  =  T2.Airline WHERE T2.SourceAirport  =  \"APG\" INTERSECT SELECT T1.Airline FROM AIRLINES AS T1 JOIN FLIGHTS AS T2 ON T1.uid  =  T2.Airline WHERE T2.SourceAirport  =  \"CVO\"\n",
      "\n",
      "cre_Doc_Template_Mgt\n",
      "ASR Question: how many different templates dual document use.\n",
      "Rwt Question: how many different templates m document use?\n",
      "Compare SQL: select count(*) from templates where template_id in ( select template_id from documents group by template_id having count(*) > 4) (0)\n",
      "Rwt Question SQL: select count(distinct template_id) from documents (1)\n",
      "Gold Question: How many different templates do all document use?\n",
      "Gold SQL: SELECT count(DISTINCT template_id) FROM Documents\n",
      "\n",
      "cre_Doc_Template_Mgt\n",
      "ASR Question: show all template. It's a number of documents using each template.\n",
      "Rwt Question: show all template ids number of documents using each template.\n",
      "Compare SQL: select template_type_code, count(*) from documents group by template_type_code (0)\n",
      "Rwt Question SQL: select template_id, count(*) from documents group by template_id (1)\n",
      "Gold Question: Show all template ids and number of documents using each template.\n",
      "Gold SQL: SELECT template_id ,  count(*) FROM Documents GROUP BY template_id\n",
      "\n",
      "cre_Doc_Template_Mgt\n",
      "ASR Question: what is the idea and type code for the template used by the most documents?\n",
      "Rwt Question: what is the id and type code for the template used by the most documents?\n",
      "Compare SQL: select t1.template_description, t2.template_type_code from ref_template_types as t1 join templates as t2 on t1.template_type_code = t2.template_type_code group by t2.template_type_code order by count(*) desc limit 1 (0)\n",
      "Rwt Question SQL: select t1.template_id, t1.template_type_code from templates as t1 join documents as t2 on t1.template_id = t2.template_id group by t1.template_id order by count(*) desc limit 1 (1)\n",
      "Gold Question: What is the id and type code for the template used by the most documents?\n",
      "Gold SQL: SELECT T1.template_id ,  T2.Template_Type_Code FROM Documents AS T1 JOIN Templates AS T2 ON T1.template_id  =  T2.template_id GROUP BY T1.template_id ORDER BY count(*) DESC LIMIT 1\n",
      "\n",
      "cre_Doc_Template_Mgt\n",
      "ASR Question: return the idea and type code of the template that is used for the greatest number of documents.\n",
      "Rwt Question: return the id and type code of the template that is used for the greatest number of documents.\n",
      "Compare SQL: select t1.template_description, t2.template_type_code from ref_template_types as t1 join templates as t2 on t1.template_type_code = t2.template_type_code group by t2.template_type_code order by count(*) desc limit 1 (0)\n",
      "Rwt Question SQL: select t1.template_id, t1.template_type_code from templates as t1 join documents as t2 on t1.template_id = t2.template_id group by t1.template_id order by count(*) desc limit 1 (1)\n",
      "Gold Question: Return the id and type code of the template that is used for the greatest number of documents.\n",
      "Gold SQL: SELECT T1.template_id ,  T2.Template_Type_Code FROM Documents AS T1 JOIN Templates AS T2 ON T1.template_id  =  T2.template_id GROUP BY T1.template_id ORDER BY count(*) DESC LIMIT 1\n",
      "\n",
      "cre_Doc_Template_Mgt\n",
      "ASR Question: showings for all templates that are used by more than one document.\n",
      "Rwt Question: show ids for all templates that are used by more than one document.\n",
      "Compare SQL: select t1.template_details from templates as t1 join documents as t2 on t1.template_id = t2.template_id group by t1.template_type_code having count(*) > 1 (0)\n",
      "Rwt Question SQL: select template_id from documents group by template_id having count(*) > 1 (1)\n",
      "Gold Question: Show ids for all templates that are used by more than one document.\n",
      "Gold SQL: SELECT template_id FROM Documents GROUP BY template_id HAVING count(*)  >  1\n",
      "\n",
      "cre_Doc_Template_Mgt\n",
      "ASR Question: show. It's for all templates not used by any document.\n",
      "Rwt Question: show ids for all templates not used by any document.\n",
      "Compare SQL: select template_details from templates except select t1.template_details from templates as t1 join documents as t2 on t1.template_id = t2.template_id (0)\n",
      "Rwt Question SQL: select template_id from templates except select template_id from documents (1)\n",
      "Gold Question: Show ids for all templates not used by any document.\n",
      "Gold SQL: SELECT template_id FROM Templates EXCEPT SELECT template_id FROM Documents\n",
      "\n",
      "cre_Doc_Template_Mgt\n",
      "ASR Question: what are the? It's for templates that are not used in any documents.\n",
      "Rwt Question: what are the ids for templates that are not used in any documents?\n",
      "Compare SQL: select template_details from templates except select t1.template_details from templates as t1 join documents as t2 on t1.template_id = t2.template_id (0)\n",
      "Rwt Question SQL: select template_id from templates except select template_id from documents (1)\n",
      "Gold Question: What are the ids for templates that are not used in any documents?\n",
      "Gold SQL: SELECT template_id FROM Templates EXCEPT SELECT template_id FROM Documents\n",
      "\n",
      "cre_Doc_Template_Mgt\n",
      "ASR Question: what are the coats of template types that have fewer than three templates?\n",
      "Rwt Question: what are the codes of template types that have fewer than 3 templates?\n",
      "Compare SQL: select t1.template_type_description from ref_template_types as t1 join templates as t2 on t1.template_type_code = t2.template_type_code group by t1.template_type_code having count(*)  < 3 (0)\n",
      "Rwt Question SQL: select template_type_code from templates group by template_type_code having count(*)  < 3 (1)\n",
      "Gold Question: What are the codes of template types that have fewer than 3 templates?\n",
      "Gold SQL: SELECT template_type_code FROM Templates GROUP BY template_type_code HAVING count(*)  <  3\n",
      "\n",
      "cre_Doc_Template_Mgt\n",
      "ASR Question: what do the template? It's with template type description, presentation.\n",
      "Rwt Question: what are the template ids with template type description presentation?\n",
      "Compare SQL: select template_type_description from ref_template_types where template_type_description = \"Presentation\" (0)\n",
      "Rwt Question SQL: select t1.template_id from templates as t1 join ref_template_types as t2 on t1.template_type_code = t2.template_type_code where t2.template_type_description = \"Presentation\" (1)\n",
      "Gold Question: What are the template ids with template type description \"Presentation\".\n",
      "Gold SQL: SELECT T2.template_id FROM Ref_template_types AS T1 JOIN Templates AS T2 ON T1.template_type_code  = T2.template_type_code WHERE T1.template_type_description  =  \"Presentation\"\n",
      "\n",
      "cre_Doc_Template_Mgt\n",
      "ASR Question: returned a different document IDs, along with the number of paragraphs corresponding to each ordered by I. D.\n",
      "Rwt Question: return different document IDs along with the number of paragraphs corresponding to each, ordered by id.\n",
      "Compare SQL: select document_id, count(*) from paragraphs group by document_id order by count(*) (0)\n",
      "Rwt Question SQL: select document_id, count(*) from paragraphs group by document_id order by document_id (1)\n",
      "Gold Question: Return the different document ids along with the number of paragraphs corresponding to each, ordered by id.\n",
      "Gold SQL: SELECT document_id ,  count(*) FROM Paragraphs GROUP BY document_id ORDER BY document_id\n",
      "\n",
      "cre_Doc_Template_Mgt\n",
      "ASR Question: list, all documented with at least two paragraphs.\n",
      "Rwt Question: list all document ids with at least 2 paragraphs.\n",
      "Compare SQL: select document_name from documents group by document_name having count(*) >= 2 intersect select document_name from paragraphs group by document_name having count(*) >= 2 (0)\n",
      "Rwt Question SQL: select document_id from paragraphs group by document_id having count(*) >= 2 (1)\n",
      "Gold Question: List all document ids with at least two paragraphs.\n",
      "Gold SQL: SELECT document_id FROM Paragraphs GROUP BY document_id HAVING count(*)  >=  2\n",
      "\n",
      "cre_Doc_Template_Mgt\n",
      "ASR Question: what are the odds of documents that have two or more paragraphs?\n",
      "Rwt Question: what are the ids of documents that have two or more paragraphs?\n",
      "Compare SQL: select count(*) from documents as t1 join paragraphs as t2 on t1.document_id = t2.document_id group by t1.document_id having count(*) >= 2 (0)\n",
      "Rwt Question SQL: select document_id from paragraphs group by document_id having count(*) >= 2 (1)\n",
      "Gold Question: What are the ids of documents that have 2 or more paragraphs?\n",
      "Gold SQL: SELECT document_id FROM Paragraphs GROUP BY document_id HAVING count(*)  >=  2\n",
      "\n",
      "cre_Doc_Template_Mgt\n",
      "ASR Question: What is the document Idea? Name with greatest number of paragraphs.\n",
      "Rwt Question: What is the document id and Name with greatest number of paragraphs?\n",
      "Compare SQL: select t1.document_name from documents as t1 join paragraphs as t2 on t1.document_id = t2.document_id group by t1.document_name order by count(*) desc limit 1 (0)\n",
      "Rwt Question SQL: select t1.document_id, t1.document_name from documents as t1 join paragraphs as t2 on t1.document_id = t2.document_id group by t1.document_id order by count(*) desc limit 1 (1)\n",
      "Gold Question: What is the document id and name with greatest number of paragraphs?\n",
      "Gold SQL: SELECT T1.document_id ,  T2.document_name FROM Paragraphs AS T1 JOIN Documents AS T2 ON T1.document_id  =  T2.document_id GROUP BY T1.document_id ORDER BY count(*) DESC LIMIT 1\n",
      "\n",
      "cre_Doc_Template_Mgt\n",
      "ASR Question: return the idea name of the document with the most paragraphs.\n",
      "Rwt Question: return the id and name of the document with the most paragraphs.\n",
      "Compare SQL: select t1.document_name from documents as t1 join paragraphs as t2 on t1.document_id = t2.document_id group by t1.document_id order by count(*) desc limit 1 (0)\n",
      "Rwt Question SQL: select t1.document_id, t1.document_name from documents as t1 join paragraphs as t2 on t1.document_id = t2.document_id group by t1.document_id order by count(*) desc limit 1 (1)\n",
      "Gold Question: Return the id and name of the document with the most paragraphs.\n",
      "Gold SQL: SELECT T1.document_id ,  T2.document_name FROM Paragraphs AS T1 JOIN Documents AS T2 ON T1.document_id  =  T2.document_id GROUP BY T1.document_id ORDER BY count(*) DESC LIMIT 1\n",
      "\n",
      "cre_Doc_Template_Mgt\n",
      "ASR Question: return the idea of the document with the fewest paragraphs.\n",
      "Rwt Question: return the id of the document with the fewest paragraphs.\n",
      "Compare SQL: select document_name from documents order by document_id limit 1 (0)\n",
      "Rwt Question SQL: select document_id from paragraphs group by document_id order by count(*) limit 1 (1)\n",
      "Gold Question: Return the id of the document with the fewest paragraphs.\n",
      "Gold SQL: SELECT document_id FROM Paragraphs GROUP BY document_id ORDER BY count(*) ASC LIMIT 1\n",
      "\n",
      "cre_Doc_Template_Mgt\n",
      "ASR Question: What is the document idea with 1 to 2 paragraphs.\n",
      "Rwt Question: What is the document id with 1 to 2 paragraphs?\n",
      "Compare SQL: select document_id, count(*) from paragraphs group by document_id having count(*) between 1 and 2 (0)\n",
      "Rwt Question SQL: select document_id from paragraphs group by document_id having count(*) between 1 and 2 (1)\n",
      "Gold Question: What is the document id with 1 to 2 paragraphs?\n",
      "Gold SQL: SELECT document_id FROM Paragraphs GROUP BY document_id HAVING count(*) BETWEEN 1 AND 2\n",
      "\n",
      "course_teach\n",
      "ASR Question: show names of teachers in the courses they arranged to teach in ascending alphabetical order of the teacher's name.\n",
      "Rwt Question: show names of teachers and the courses they arranged to teach in ascending alphabetical order of the teacher's name.\n",
      "Compare SQL: select t2.name from course_arrange as t1 join teacher as t2 on t1.teacher_id = t2.teacher_id join course as t3 on t1.course_id = t3.course_id order by t2.name asc (0)\n",
      "Rwt Question SQL: select t2.name, t3.course from course_arrange as t1 join teacher as t2 on t1.teacher_id = t2.teacher_id join course as t3 on t1.course_id = t3.course_id order by t2.name asc (1)\n",
      "Gold Question: Show names of teachers and the courses they are arranged to teach in ascending alphabetical order of the teacher's name.\n",
      "Gold SQL: SELECT T3.Name ,  T2.Course FROM course_arrange AS T1 JOIN course AS T2 ON T1.Course_ID  =  T2.Course_ID JOIN teacher AS T3 ON T1.Teacher_ID  =  T3.Teacher_ID ORDER BY T3.Name\n",
      "\n",
      "museum_visit\n",
      "ASR Question: find the idea name of the museum that has the most staff members.\n",
      "Rwt Question: find the id and name of the museum that has the most staff members.\n",
      "Compare SQL: select name from museum order by num_of_staff desc limit 1 (0)\n",
      "Rwt Question SQL: select museum_id, name from museum order by num_of_staff desc limit 1 (1)\n",
      "Gold Question: Find the id and name of the museum that has the most staff members?\n",
      "Gold SQL: SELECT museum_id ,  name FROM museum ORDER BY num_of_staff DESC LIMIT 1\n",
      "\n",
      "museum_visit\n",
      "ASR Question: What are the idea? Name of the museum visited most times.\n",
      "Rwt Question: What are the id and Name of the museum visited most times?\n",
      "Compare SQL: select t1.name from museum as t1 join visit as t2 on t1.museum_id = t2.museum_id group by t2.museum_id order by count(*) desc limit 1 (0)\n",
      "Rwt Question SQL: select t1.museum_id, t1.name from museum as t1 join visit as t2 on t1.museum_id = t2.museum_id group by t2.museum_id order by count(*) desc limit 1 (1)\n",
      "Gold Question: What are the id and name of the museum visited most times?\n",
      "Gold SQL: SELECT t2.Museum_ID ,  t1.name FROM museum AS t1 JOIN visit AS t2 ON t1.Museum_ID  =  t2.Museum_ID GROUP BY t2.Museum_ID ORDER BY count(*) DESC LIMIT 1\n",
      "\n",
      "museum_visit\n",
      "ASR Question: what are the average in maximum number of tickets spot in all visits.\n",
      "Rwt Question: what are the average and maximum number of tickets spot in all visits?\n",
      "Compare SQL: select avg(num_of_ticket) from visit (0)\n",
      "Rwt Question SQL: select avg(num_of_ticket), max(num_of_ticket) from visit (1)\n",
      "Gold Question: What are the average and maximum number of tickets bought in all visits?\n",
      "Gold SQL: SELECT avg(num_of_ticket) ,  max(num_of_ticket) FROM visit\n",
      "\n",
      "museum_visit\n",
      "ASR Question: what is the total ticket expense of the visitors, whose membership level is one?\n",
      "Rwt Question: what is the total ticket expense of the visitors whose membership level is 1?\n",
      "Compare SQL: select t1.total_spent from visit as t1 join visitor as t2 on t1.visitor_id = t2.id where t2.level_of_membership = 1 (0)\n",
      "Rwt Question SQL: select sum(t1.total_spent) from visit as t1 join visitor as t2 on t1.visitor_id = t2.id where t2.level_of_membership = 1 (1)\n",
      "Gold Question: What is the total ticket expense of the visitors whose membership level is 1?\n",
      "Gold SQL: SELECT sum(t2.Total_spent) FROM visitor AS t1 JOIN visit AS t2 ON t1.id  =  t2.visitor_id WHERE t1.Level_of_membership  =  1\n",
      "\n",
      "wta_1\n",
      "ASR Question: find the total ranking points for each player in their first name.\n",
      "Rwt Question: find the total ranking points for each player and their first name.\n",
      "Compare SQL: select sum(t2.ranking_points) from players as t1 join rankings as t2 on t1.player_id = t2.player_id where t1.first_name = \"\" (0)\n",
      "Rwt Question SQL: select sum(t2.ranking_points), t1.first_name from players as t1 join rankings as t2 on t1.player_id = t2.player_id group by t1.first_name (1)\n",
      "Gold Question: Find the total ranking points for each player and their first name.\n",
      "Gold SQL: SELECT sum(ranking_points) ,  T1.first_name FROM players AS T1 JOIN rankings AS T2 ON T1.player_id  =  T2.player_id GROUP BY T1.first_name\n",
      "\n",
      "voter_1\n",
      "ASR Question: list the contestant numbers and names ordered by contestant named Descending.\n",
      "Rwt Question: list the contestant numbers and names, ordered by contestant name Descending.\n",
      "Compare SQL: select contestant_number, contestant_name from contestants where contestant_name = \"Descending\" order by contestant_name (0)\n",
      "Rwt Question SQL: select contestant_number, contestant_name from contestants order by contestant_name desc (1)\n",
      "Gold Question: List the contestant numbers and names, ordered by contestant name descending.\n",
      "Gold SQL: SELECT contestant_number ,  contestant_name FROM contestants ORDER BY contestant_name DESC\n",
      "\n",
      "voter_1\n",
      "ASR Question: list the vote IDs phone numbers in states of all votes.\n",
      "Rwt Question: list the vote IDs phone numbers and states of all votes.\n",
      "Compare SQL: select vote_id, phone_number from votes where state = \"USA\" (0)\n",
      "Rwt Question SQL: select vote_id, phone_number, state from votes (1)\n",
      "Gold Question: List the vote ids, phone numbers and states of all votes.\n",
      "Gold SQL: SELECT vote_id ,  phone_number ,  state FROM votes\n",
      "\n",
      "world_1\n",
      "ASR Question: What are the region in population of Angola?\n",
      "Rwt Question: What are the region and population of Angola?\n",
      "Compare SQL: select region from country where name = 'Angola' (0)\n",
      "Rwt Question SQL: select region, population from country where name = 'Angola' (1)\n",
      "Gold Question: What are the region and population of Angola?\n",
      "Gold SQL: SELECT Population ,  Region FROM country WHERE Name  =  \"Angola\"\n",
      "\n",
      "world_1\n",
      "ASR Question: find the government form, name and total population for each government form whose average life expectancy is longer than 72.\n",
      "Rwt Question: find the government form name and total population for each government form whose average life expectancy is longer than 72.\n",
      "Compare SQL: select governmentform, name, sum(population) from country group by governmentform having avg(lifeexpectancy) > 72 (0)\n",
      "Rwt Question SQL: select governmentform, sum(population) from country group by governmentform having avg(lifeexpectancy) > 72 (1)\n",
      "Gold Question: Find the government form name and total population for each government form whose average life expectancy is longer than 72.\n",
      "Gold SQL: SELECT sum(Population) ,  GovernmentForm FROM country GROUP BY GovernmentForm HAVING avg(LifeExpectancy)  >  72\n",
      "\n",
      "world_1\n",
      "ASR Question: What are the different continents in the total population? An average life expectancy corresponding to each four continents that have an average life expectancy less than 72?\n",
      "Rwt Question: What are the different continents and the total population and average life expectancy corresponding to each and continents that have an average life expectancy less than 72?\n",
      "Compare SQL: select continent, avg(lifeexpectancy) from country group by continent having sum(lifeexpectancy)  < 72 (0)\n",
      "Rwt Question SQL: select continent, sum(population), avg(lifeexpectancy) from country group by continent having avg(lifeexpectancy)  < 72 (1)\n",
      "Gold Question: What are the different continents and the total popuation and average life expectancy corresponding to each, for continents that have an average life expectancy less than 72?\n",
      "Gold SQL: SELECT sum(Population) ,  avg(LifeExpectancy) ,  Continent FROM country GROUP BY Continent HAVING avg(LifeExpectancy)  <  72\n",
      "\n",
      "world_1\n",
      "ASR Question: what are the names of the countries that are in the continent of Europe and have a population of 80,000?\n",
      "Rwt Question: what are the names of the countries that are in the continent of Europe and have a population of 50000?\n",
      "Compare SQL: select name from country where continent = 'Europe' and population = 80,000 (0)\n",
      "Rwt Question SQL: select name from country where continent = 'Europe' and population = 50000 (1)\n",
      "Gold Question: What are the names of the countries that are in the continent of Europe and have a population of 80000?\n",
      "Gold SQL: SELECT Name FROM country WHERE continent  =  \"Europe\" AND Population  =  \"80000\"\n",
      "\n",
      "world_1\n",
      "ASR Question: return the names of cities that have a population between 160,000 and 900,000.\n",
      "Rwt Question: return the names of cities that have a population between 200000 and 20000.\n",
      "Compare SQL: select name from city where population between 160,000 and 900,000. (0)\n",
      "Rwt Question SQL: select name from city where population between 200000 and 20000 (1)\n",
      "Gold Question: Return the names of cities that have a population between 160000 and 900000.\n",
      "Gold SQL: SELECT name FROM city WHERE Population BETWEEN 160000 AND 90000\n",
      "\n",
      "orchestra\n",
      "ASR Question: how many conductors air there.\n",
      "Rwt Question: how many conductors are there?\n",
      "Compare SQL: select count(distinct conductor_id) from orchestra (0)\n",
      "Rwt Question SQL: select count(*) from conductor (1)\n",
      "Gold Question: How many conductors are there?\n",
      "Gold SQL: SELECT count(*) FROM conductor\n",
      "\n",
      "network_1\n",
      "ASR Question: returned the great for the high schooler named Kyle.\n",
      "Rwt Question: return the grade for the high schooler named kyle\".\n",
      "Compare SQL: select great from highschooler where name = 'Kyle' (0)\n",
      "Rwt Question SQL: select distinct grade from highschooler where name = \"Kyle\" (1)\n",
      "Gold Question: Return the grade for the high schooler named Kyle.\n",
      "Gold SQL: SELECT grade FROM Highschooler WHERE name  =  \"Kyle\"\n",
      "\n",
      "network_1\n",
      "ASR Question: show the idea of the high schooler named Kyle.\n",
      "Rwt Question: show the id of the high schooler named kyle\".\n",
      "Compare SQL: select idea from highschooler where name = 'Kyle' (0)\n",
      "Rwt Question SQL: select id from highschooler where name = 'Kyle' (1)\n",
      "Gold Question: Show the ID of the high schooler named Kyle.\n",
      "Gold SQL: SELECT ID FROM Highschooler WHERE name  =  \"Kyle\"\n",
      "\n",
      "network_1\n",
      "ASR Question: how many high schoolers Aaron each grade.\n",
      "Rwt Question: how many high schoolers are in each grade?\n",
      "Compare SQL: select count(*), grade from highschooler where name = \"Aaron\" group by grade (0)\n",
      "Rwt Question SQL: select count(*), grade from highschooler group by grade (1)\n",
      "Gold Question: How many high schoolers are in each grade?\n",
      "Gold SQL: SELECT grade ,  count(*) FROM Highschooler GROUP BY grade\n",
      "\n",
      "network_1\n",
      "ASR Question: What are the odds of high school students who do not have friends?\n",
      "Rwt Question: What are the ids of high school students who do not have friends?\n",
      "Compare SQL: select count(*) from highschooler where id not in (select student_id from friend) (0)\n",
      "Rwt Question SQL: select id from highschooler except select student_id from friend (1)\n",
      "Gold Question: What are the ids of high school students who do not have friends?\n",
      "Gold SQL: SELECT id FROM Highschooler EXCEPT SELECT student_id FROM Friend\n",
      "\n",
      "pets_1\n",
      "ASR Question: find the idea of the pet owned by student whose last name is Smith.\n",
      "Rwt Question: find the id of the pet owned by student whose last name is Smith.\n",
      "Compare SQL: select t3.structure from has_pet as t1 join student as t2 on t1.stuid = t2.stuid join pets as t3 on t1.pet = t3.petid where t2.lname = \"Smith\" (0)\n",
      "Rwt Question SQL: select t2.petid from has_pet as t1 join pets as t2 on t1.petid = t2.petid join student as t3 on t3.stuid = t1.stuid where t3.lname = \"Smith\" (0)\n",
      "Gold Question: Find the id of the pet owned by student whose last name is ‘Smith’.\n",
      "Gold SQL: SELECT T2.petid FROM student AS T1 JOIN has_pet AS T2 ON T1.stuid  =  T2.stuid WHERE T1.Lname  =  'Smith'\n",
      "\n",
      "pets_1\n",
      "ASR Question: What is the idea of the pet owned by the student whose last name is Smith?\n",
      "Rwt Question: What is the id of the pet owned by the student whose last name is Smith?\n",
      "Compare SQL: select t3.pettype from has_pet as t1 join student as t2 on t1.stuid = t2.stuid join pets as t3 on t1.pet = t3.petid where t2.lname = \"Smith\" (0)\n",
      "Rwt Question SQL: select t2.petid from has_pet as t1 join pets as t2 on t1.petid = t2.petid join student as t3 on t3.stuid = t1.stuid where t3.lname = \"Smith\" (0)\n",
      "Gold Question: What is the id of the pet owned by the student whose last name is 'Smith'?\n",
      "Gold SQL: SELECT T2.petid FROM student AS T1 JOIN has_pet AS T2 ON T1.stuid  =  T2.stuid WHERE T1.Lname  =  'Smith'\n",
      "\n",
      "pets_1\n",
      "ASR Question: for students who have pets. How many pets does each student has?\n",
      "Rwt Question: for students who have pets, How many pets does each student has?\n",
      "Compare SQL: select count(*) from has_pet (0)\n",
      "Rwt Question SQL: select count(*), stuid from has_pet group by stuid (0)\n",
      "Gold Question: For students who have pets, how many pets does each student have?\n",
      "Gold SQL: SELECT count(*) ,  T1.stuid FROM student AS T1 JOIN has_pet AS T2 ON T1.stuid  =  T2.stuid GROUP BY T1.stuid\n",
      "\n",
      "pets_1\n",
      "ASR Question: what is the first name and gender of the all the students who have more than one pitch?\n",
      "Rwt Question: what is the first name and gender of the all the students who have more than one pet?\n",
      "Compare SQL: select fname, sex from student where stuid in (select stuid from has_pet group by stuid having count(*) > 1) (0)\n",
      "Rwt Question SQL: select t1.fname, t1.sex from student as t1 join has_pet as t2 on t1.stuid = t2.stuid group by t2.stuid having count(*) > 1 (1)\n",
      "Gold Question: What is the first name and gender of the all the students who have more than one pet?\n",
      "Gold SQL: SELECT T1.fname ,  T1.sex FROM student AS T1 JOIN has_pet AS T2 ON T1.stuid  =  T2.stuid GROUP BY T1.stuid HAVING count(*)  >  1\n",
      "\n",
      "flight_2\n",
      "ASR Question: which abbreviation corresponds to check Blue Airways.\n",
      "Rwt Question: which abbreviation corresponds to check \"jetblue airways?\n",
      "Compare SQL: select abbreviation from airlines where airline = \"check blue Airways\" (0)\n",
      "Rwt Question SQL: select abbreviation from airlines where airline = \"JetBlue Airways\" (1)\n",
      "Gold Question: Which abbreviation corresponds to Jetblue Airways?\n",
      "Gold SQL: SELECT Abbreviation FROM AIRLINES WHERE Airline  =  \"JetBlue Airways\"\n",
      "\n",
      "flight_2\n",
      "ASR Question: list all airline names and they're abbreviations in U. S. A.\n",
      "Rwt Question: list all airline names and their abbreviations in usa.\n",
      "Compare SQL: select airline, abbreviation from airlines where country = 'United States of America' (0)\n",
      "Rwt Question SQL: select airline, abbreviation from airlines where country = 'USA' (1)\n",
      "Gold Question: List all airline names and their abbreviations in \"USA\".\n",
      "Gold SQL: SELECT Airline ,  Abbreviation FROM AIRLINES WHERE Country  =  \"USA\"\n",
      "\n",
      "flight_2\n",
      "ASR Question: What are the airline names and abbreviations for airlines in the U. S. A.\n",
      "Rwt Question: What are the airline names and abbreviations for airlines in the usa?\n",
      "Compare SQL: select airline, abbreviation from airlines where country = 'United States of America' (0)\n",
      "Rwt Question SQL: select airline, abbreviation from airlines where country = 'USA' (1)\n",
      "Gold Question: What are the airline names and abbreviations for airlines in the USA?\n",
      "Gold SQL: SELECT Airline ,  Abbreviation FROM AIRLINES WHERE Country  =  \"USA\"\n",
      "\n",
      "flight_2\n",
      "ASR Question: What is the airport name for Airport taco?\n",
      "Rwt Question: What is the airport name for Airport code?\n",
      "Compare SQL: select airportname from airports where country = 'Taco' (0)\n",
      "Rwt Question SQL: select airportname from airports where airportcode = 'Y' (0)\n",
      "Gold Question: What is the airport name for airport 'AKO'?\n",
      "Gold SQL: SELECT AirportName FROM AIRPORTS WHERE AirportCode  =  \"AKO\"\n",
      "\n",
      "flight_2\n",
      "ASR Question: count the number of flights departing from a PG.\n",
      "Rwt Question: count the number of flights departing from akw.\n",
      "Compare SQL: select count(*) from flights where destairport like \"%gpg%\" (0)\n",
      "Rwt Question SQL: select count(*) from flights where sourceairport = 'AKW' (1)\n",
      "Gold Question: Count the number of flights departing from 'APG'.\n",
      "Gold SQL: SELECT count(*) FROM FLIGHTS WHERE SourceAirport  =  \"APG\"\n",
      "\n"
     ]
    }
   ],
   "source": [
    "## Large improvements on uskg (exec + exact)\n",
    "\n",
    "output_cand_pairs = [(d_m[0], d_c[0]) for d_m, d_c in zip(model_outputs, compare_outputs)]\n",
    "\n",
    "_comp_key = lambda c : (c[0]['exec'] - c[1]['exec']) + (c[0]['exact'] - c[1]['exact'])\n",
    "\n",
    "for c_m, c_c in sorted(output_cand_pairs, key=_comp_key, reverse=True)[:50]:\n",
    "    print(c_m['db_id'])\n",
    "    print('ASR Question:', c_m['asr_question'])\n",
    "    # print('ASR Question SQL:', c_m['ratsql_pred_sql'], f\"({c_m['ratsql_pred_score']})\")\n",
    "    print('Rwt Question:', c_m['rewritten_question'])\n",
    "    print('Compare SQL:', c_c['pred_sql'], f\"({c_c['exec'] * c_c['exact']})\")\n",
    "    print('Rwt Question SQL:', c_m['pred_sql'], f\"({c_m['exec'] * c_m['exact']})\")\n",
    "    print('Gold Question:', c_m['gold_question'])\n",
    "    print('Gold SQL:', c_m['query'])\n",
    "    print()\n"
   ]
  },
  {
   "cell_type": "code",
   "execution_count": 177,
   "metadata": {},
   "outputs": [
    {
     "name": "stdout",
     "output_type": "stream",
     "text": [
      "ASR Question: how many pets are owned by students that have an H greater than 20.\n",
      "Rwt Question: how many pets are owned by students that have an age greater than 20?\n",
      "Compare SQL: select count(*) from has_pet as t1 join pets as t2 on t1.petid = t2.petid join student as t3 on t3.stuid = t1.petid where t3.age > 20 (1.0)\n",
      "Rwt Question SQL: select count(distinct t2.petid) from has_pet as t1 join pets as t2 on t1.petid = t2.petid join student as t3 on t1.stuid = t3.stuid where t3.age > 20 (0.6666666666666666)\n",
      "Gold Question: How many pets are owned by students that have an age greater than 20?\n",
      "Gold SQL: SELECT count(*) FROM student AS T1 JOIN has_pet AS T2 ON T1.stuid  =  T2.stuid WHERE T1.age  >  20\n",
      "\n",
      "ASR Question: find the number of dog pets that are raised by female students with sex F.\n",
      "Rwt Question: find the number of weight pets that are raised by female students with sex F.\n",
      "Compare SQL: select count(*) from pets as t1 join has_pet as t2 on t1.petid = t2.petid join student as t3 on t2.stuid = t3.stuid where t3.sex = \"F\" and t1.pettype = \"dog\" (1.0)\n",
      "Rwt Question SQL: select count(*) from pets as t1 join has_pet as t2 on t1.petid = t2.petid join student as t3 on t2.stuid = t3.stuid where t3.sex = \"F\" and t1.weight = \"1\" (0.5)\n",
      "Gold Question: Find the number of dog pets that are raised by female students (with sex F).\n",
      "Gold SQL: SELECT count(*) FROM student AS T1 JOIN has_pet AS T2 ON T1.stuid  =  T2.stuid JOIN pets AS T3 ON T2.petid  =  T3.petid WHERE T1.sex  =  'F' AND T3.pettype  =  'dog'\n",
      "\n",
      "ASR Question: how many flights depart from a PG.\n",
      "Rwt Question: how many flights depart from 80?\n",
      "Compare SQL: select count(*) from flights where destairport = \"PG\" (1.0)\n",
      "Rwt Question SQL: select count(*) from flights where flightno = 80 (0.6666666666666666)\n",
      "Gold Question: How many flights depart from 'APG'?\n",
      "Gold SQL: SELECT count(*) FROM FLIGHTS WHERE SourceAirport  =  \"APG\"\n",
      "\n",
      "ASR Question: how many United Airlines flights go to airport Asi.\n",
      "Rwt Question: how many United Airlines flights go to airlines?\n",
      "Compare SQL: select count(*) from airlines as t1 join flights as t2 on t1.uid = t2.airline where t1.airline = 'United Airlines' and t2.sourceairport = 'Asi' (1.0)\n",
      "Rwt Question SQL: select count(*) from airlines as t1 join flights as t2 on t1.uid = t2.airline where t1.airline = \"United Airlines\" (0.375)\n",
      "Gold Question: How many 'United Airlines' flights go to Airport 'ASY'?\n",
      "Gold SQL: SELECT count(*) FROM AIRLINES AS T1 JOIN FLIGHTS AS T2 ON T2.Airline  =  T1.uid WHERE T1.Airline  =  \"United Airlines\" AND T2.DestAirport  =  \"ASY\"\n",
      "\n",
      "ASR Question: return the number of United Airlines flights leaving from a HD airport.\n",
      "Rwt Question: return the number of United Airlines flights leaving from ascending airport.\n",
      "Compare SQL: select count(*) from airlines as t1 join flights as t2 on t1.uid = t2.airline where t1.airline = 'United Airlines' and t2.sourceairport = 'HD' (1.0)\n",
      "Rwt Question SQL: select count(*) from airlines as t1 join flights as t2 on t1.uid = t2.airline where t1.airline = 'United Airlines' and t2.sourceairport ='stretchport' (0)\n",
      "Gold Question: Return the number of United Airlines flights leaving from AHD Airport.\n",
      "Gold SQL: SELECT count(*) FROM AIRLINES AS T1 JOIN FLIGHTS AS T2 ON T2.Airline  =  T1.uid WHERE T1.Airline  =  \"United Airlines\" AND T2.SourceAirport  =  \"AHD\"\n",
      "\n",
      "ASR Question: which airlines have at least 10 flights.\n",
      "Rwt Question: which airlines have at least 10 flights?\n",
      "Compare SQL: select t2.airline from flights as t1 join airlines as t2 on t1.airline = t2.uid group by t2.airline having count(*) >= 10 (0.8571428571428571)\n",
      "Rwt Question SQL: select t2.airline from flights as t1 join airlines as t2 on t1.airline = t2.uid group by t1.airline having count(*) >= 10 (0.8571428571428571)\n",
      "Gold Question: Which airlines have at least 10 flights?\n",
      "Gold SQL: SELECT T1.Airline FROM AIRLINES AS T1 JOIN FLIGHTS AS T2 ON T1.uid  =  T2.Airline GROUP BY T1.Airline HAVING count(*)  >  10\n",
      "\n",
      "ASR Question: how many documents are using the template with type code PPT.\n",
      "Rwt Question: how many documents are using the template with type code pp?\n",
      "Compare SQL: select count(*) from templates as t1 join documents as t2 on t1.template_id = t2.template_id where t1.template_type_code = \"PPT\" (1.0)\n",
      "Rwt Question SQL: select count(*) from templates as t1 join documents as t2 on t1.template_id = t2.template_id where t1.template_type_code = \"PP\" (1.0)\n",
      "Gold Question: How many documents are using the template with type code 'PPT'?\n",
      "Gold SQL: SELECT count(*) FROM Documents AS T1 JOIN Templates AS T2 ON T1.Template_ID  =  T2.Template_ID WHERE T2.Template_Type_Code  =  'PPT'\n",
      "\n",
      "ASR Question: show paragraph details for paragraph with text. Korea\n",
      "Rwt Question: show paragraph details for paragraph with text.\n",
      "Compare SQL: select other_details from paragraphs where paragraph_text = \"Korea\" (1.0)\n",
      "Rwt Question SQL: select other_details from paragraphs where paragraph_text = \"*\" (1.0)\n",
      "Gold Question: Show paragraph details for paragraph with text 'Korea'.\n",
      "Gold SQL: SELECT Other_Details FROM Paragraphs WHERE paragraph_text  =  'Korea'\n",
      "\n",
      "ASR Question: find the names of the visitors whose membership level is higher than four and order the results by the level from Hyde Alot.\n",
      "Rwt Question: find the names of the visitors whose membership level is higher than 4 and order the results by the level from height.\n",
      "Compare SQL: select name from visitor where level_of_membership > 4 order by level_of_membership desc (1.0)\n",
      "Rwt Question SQL: select name from visitor where level_of_membership > 4 order by level_of_membership > 4 order by height (0.5555555555555556)\n",
      "Gold Question: Find the names of the visitors whose membership level is higher than 4, and order the results by the level from high to low.\n",
      "Gold SQL: SELECT name FROM visitor WHERE Level_of_membership  >  4 ORDER BY Level_of_membership DESC\n",
      "\n",
      "ASR Question: What are the first names and birth dates of players from the U. S. A.\n",
      "Rwt Question: What are the first names and birth dates of players from the.\n",
      "Compare SQL: select first_name, birth_date from players where country_code = \"USA\" (1.0)\n",
      "Rwt Question SQL: select first_name, birth_date from players (0.625)\n",
      "Gold Question: What are the first names and birth dates of players from the USA?\n",
      "Gold SQL: SELECT first_name ,  birth_date FROM players WHERE country_code  =  'USA'\n",
      "\n",
      "ASR Question: what are the first names of all players and they're total ranking points.\n",
      "Rwt Question: what are the first names of all players and their total ranking points?\n",
      "Compare SQL: select t2.first_name, sum(t1.ranking_points) from rankings as t1 join players as t2 on t1.player_id = t2.player_id group by t2.first_name (1.0)\n",
      "Rwt Question SQL: select t2.first_name, sum(t1.ranking_points) from rankings as t1 join players as t2 on t1.player_id = t2.player_id group by t1.player_id (0.75)\n",
      "Gold Question: What are the first names of all players, and their total ranking points?\n",
      "Gold SQL: SELECT sum(ranking_points) ,  T1.first_name FROM players AS T1 JOIN rankings AS T2 ON T1.player_id  =  T2.player_id GROUP BY T1.first_name\n",
      "\n",
      "ASR Question: return the names the contestants whose names contain the sub string al.\n",
      "Rwt Question: return the names the contestants whose names contain the substring 'book'.\n",
      "Compare SQL: select contestant_name from contestants where contestant_name like \"%al%\" (1.0)\n",
      "Rwt Question SQL: select contestant_name from contestants where contestant_name like \"%book%\" (1.0)\n",
      "Gold Question: Return the names the contestants whose names contain the substring 'Al'.\n",
      "Gold SQL: SELECT contestant_name FROM contestants WHERE contestant_name LIKE \"%Al%\"\n",
      "\n",
      "ASR Question: which region is the city Kabo located in?\n",
      "Rwt Question: which region is the city cabo located in?\n",
      "Compare SQL: select t1.region from country as t1 join city as t2 on t1.code = t2.countrycode where t2.district = \"Kabol\" (0.6666666666666666)\n",
      "Rwt Question SQL: select t1.region from country as t1 join city as t2 on t1.code = t2.countrycode where t2.name = \"Cabo\" (1.0)\n",
      "Gold Question: Which region is the city Kabul located in?\n",
      "Gold SQL: SELECT Region FROM country AS T1 JOIN city AS T2 ON T1.Code  =  T2.CountryCode WHERE T2.Name  =  \"Kabul\"\n",
      "\n",
      "ASR Question: find the number of orchestras whose record for Mattis CD or DVD.\n",
      "Rwt Question: find the number of orchestras whose record for mattis or DVD.\n",
      "Compare SQL: select count(*) from orchestra where major_record_format = \"CD\" or major_record_format = \"DVD\" (1.0)\n",
      "Rwt Question SQL: select count(*) from orchestra where major_record_format = \"Mattis\" or major_record_format = \"DVD\" (1.0)\n",
      "Gold Question: Find the number of orchestras whose record format is \"CD\" or \"DVD\".\n",
      "Gold SQL: SELECT COUNT(*) FROM orchestra WHERE Major_Record_Format  =  \"CD\" OR Major_Record_Format  =  \"DVD\"\n",
      "\n",
      "ASR Question: how many high schoolers are there in grade nine or 10?\n",
      "Rwt Question: how many high schoolers are there in grade 5 or 10?\n",
      "Compare SQL: select count(*) from highschooler where grade = 9 or grade = 10 (1.0)\n",
      "Rwt Question SQL: select count(*) from highschooler where grade = 5 or grade = 10 (1.0)\n",
      "Gold Question: How many high schoolers are there in grade 9 or 10?\n",
      "Gold SQL: SELECT count(*) FROM Highschooler WHERE grade  =  9 OR grade  =  10\n",
      "\n",
      "ASR Question: find the number of pets whose weight is heavier than 10.\n",
      "Rwt Question: find the number of pets whose weight is heavier than 10.\n",
      "Compare SQL: select count(*) from pets where weight > 10 (1.0)\n",
      "Rwt Question SQL: select count(*) from pets where weight > 10 (1.0)\n",
      "Gold Question: Find the number of pets whose weight is heavier than 10.\n",
      "Gold SQL: SELECT count(*) FROM pets WHERE weight  >  10\n",
      "\n",
      "ASR Question: how many pets have a greater weight than 10.\n",
      "Rwt Question: how many pets have a greater weight than 10?\n",
      "Compare SQL: select count(*) from pets where weight > 10 (1.0)\n",
      "Rwt Question SQL: select count(*) from pets where weight > 10 (1.0)\n",
      "Gold Question: How many pets have a greater weight than 10?\n",
      "Gold SQL: SELECT count(*) FROM pets WHERE weight  >  10\n",
      "\n",
      "ASR Question: find the weight of the youngest dog.\n",
      "Rwt Question: find the weight of the youngest dog.\n",
      "Compare SQL: select weight from pets order by pet_age asc limit 1 (1.0)\n",
      "Rwt Question SQL: select weight from pets order by pet_age asc limit 1 (1.0)\n",
      "Gold Question: Find the weight of the youngest dog.\n",
      "Gold SQL: SELECT weight FROM pets ORDER BY pet_age LIMIT 1\n",
      "\n",
      "ASR Question: find the maximum weight for each type of pet list, the maximum weight and pet type.\n",
      "Rwt Question: find the maximum weight for each type of pet list the maximum weight and pet type.\n",
      "Compare SQL: select max(weight), pettype from pets group by pettype (1.0)\n",
      "Rwt Question SQL: select max(weight), pettype from pets group by pettype (1.0)\n",
      "Gold Question: Find the maximum weight for each type of pet. List the maximum weight and pet type.\n",
      "Gold SQL: SELECT max(weight) ,  petType FROM pets GROUP BY petType\n",
      "\n",
      "ASR Question: list the maximum weight and type for each type of pet.\n",
      "Rwt Question: list the maximum weight and type for each type of pet.\n",
      "Compare SQL: select max(weight), pettype from pets group by pettype (1.0)\n",
      "Rwt Question SQL: select max(weight), pettype from pets group by pettype (1.0)\n",
      "Gold Question: List the maximum weight and type for each type of pet.\n",
      "Gold SQL: SELECT max(weight) ,  petType FROM pets GROUP BY petType\n",
      "\n",
      "ASR Question: find number of pets owned by students who are older than 20.\n",
      "Rwt Question: find number of pets owned by students who are older than 20.\n",
      "Compare SQL: select count(*) from has_pet as t1 join pets as t2 on t1.petid = t2.petid join student as t3 on t1.stuid = t3.stuid where t3.age > 20 (1.0)\n",
      "Rwt Question SQL: select count(*) from has_pet as t1 join pets as t2 on t1.petid = t2.petid join student as t3 on t1.stuid = t3.stuid where t3.age > 20 (1.0)\n",
      "Gold Question: Find number of pets owned by students who are older than 20.\n",
      "Gold SQL: SELECT count(*) FROM student AS T1 JOIN has_pet AS T2 ON T1.stuid  =  T2.stuid WHERE T1.age  >  20\n",
      "\n",
      "ASR Question: how many Doug pets are raised by female students.\n",
      "Rwt Question: how many weight pets are raised by female students?\n",
      "Compare SQL: select count(*) from pets as t1 join has_pet as t2 on t1.petid = t2.petid join student as t3 on t2.stuid = t3.stuid where t3.sex = \"F\" and t1.pet_type = \"Doug\" (0)\n",
      "Rwt Question SQL: select count(*) from pets as t1 join has_pet as t2 on t1.petid = t2.petid join student as t3 on t2.stuid = t3.stuid where t3.sex = \"F\" (0.375)\n",
      "Gold Question: How many dog pets are raised by female students?\n",
      "Gold SQL: SELECT count(*) FROM student AS T1 JOIN has_pet AS T2 ON T1.stuid  =  T2.stuid JOIN pets AS T3 ON T2.petid  =  T3.petid WHERE T1.sex  =  'F' AND T3.pettype  =  'dog'\n",
      "\n",
      "ASR Question: find the number of distinct type of pets.\n",
      "Rwt Question: find the number of distinct type of pets.\n",
      "Compare SQL: select count(distinct pettype) from pets (1.0)\n",
      "Rwt Question SQL: select count(distinct pettype) from pets (1.0)\n",
      "Gold Question: Find the number of distinct type of pets.\n",
      "Gold SQL: SELECT count(DISTINCT pettype) FROM pets\n",
      "\n",
      "ASR Question: how many different types of Petr there.\n",
      "Rwt Question: how many different types of pet there?\n",
      "Compare SQL: select count(distinct pettype) from pets (1.0)\n",
      "Rwt Question SQL: select count(distinct pettype) from pets (1.0)\n",
      "Gold Question: How many different types of pet are there?\n",
      "Gold SQL: SELECT count(DISTINCT pettype) FROM pets\n",
      "\n",
      "ASR Question: find the first name of students who have cat or dog pet.\n",
      "Rwt Question: find the first name of students who have cat or dog pet.\n",
      "Compare SQL: select t1.fname from student as t1 join has_pet as t2 on t1.stuid = t2.stuid join pets as t3 on t2.petid = t3.petid where t3.pettype = 'cat' or t3.pettype = 'dog' (1.0)\n",
      "Rwt Question SQL: select t1.fname from student as t1 join has_pet as t2 on t1.stuid = t2.stuid join pets as t3 on t2.petid = t3.petid where t3.pettype = 'cat' or t3.pettype = 'dog' (1.0)\n",
      "Gold Question: Find the first name of students who have cat or dog pet.\n",
      "Gold SQL: SELECT DISTINCT T1.Fname FROM student AS T1 JOIN has_pet AS T2 ON T1.stuid  =  T2.stuid JOIN pets AS T3 ON T3.petid  =  T2.petid WHERE T3.pettype  =  'cat' OR T3.pettype  =  'dog'\n",
      "\n",
      "ASR Question: What are the first names of every student who has a cat or a dog as a pet?\n",
      "Rwt Question: What are the first names of every student who has a cat or a dog as a pet?\n",
      "Compare SQL: select distinct t1.fname from student as t1 join has_pet as t2 on t1.stuid = t2.stuid join pets as t3 on t2.petid = t3.petid where t3.pettype = 'cat' or t3.pettype = 'dog' (1.0)\n",
      "Rwt Question SQL: select distinct t1.fname from student as t1 join has_pet as t2 on t1.stuid = t2.stuid join pets as t3 on t2.petid = t3.petid where t3.pettype = 'cat' or t3.pettype = 'dog' (1.0)\n",
      "Gold Question: What are the first names of every student who has a cat or dog as a pet?\n",
      "Gold SQL: SELECT DISTINCT T1.Fname FROM student AS T1 JOIN has_pet AS T2 ON T1.stuid  =  T2.stuid JOIN pets AS T3 ON T3.petid  =  T2.petid WHERE T3.pettype  =  'cat' OR T3.pettype  =  'dog'\n",
      "\n",
      "ASR Question: find the name of students who have both Captain Doug pets.\n",
      "Rwt Question: find the name of students who have both Captain Doug pets.\n",
      "Compare SQL: select t1.fname from student as t1 join has_pet as t2 on t1.stuid = t2.stuid join pets as t3 on t2.petid = t3.petid where t3.name = 'Captain Doug' intersect select t1.fname from student as t1 join has_pet as t2 on t1.stuid = t2.stuid join pets as t3 on t2.petid = t3.st2.st3.st2.st3.st2.st3.st2.st3. (0)\n",
      "Rwt Question SQL: select t1.fname from student as t1 join has_pet as t2 on t1.stuid = t2.stuid join pets as t3 on t2.petid = t3.petid where t3.name = 'Captain Doug' intersect select t1.fname from student as t1 join has_pet as t2 on t1.stuid = t2.stuid join pets as t3 on t2.petid = t3.st2.st3.st2.st3.st2.st3.st2.st3. (0)\n",
      "Gold Question: Find the name of students who have both cat and dog pets.\n",
      "Gold SQL: SELECT T1.Fname FROM student AS T1 JOIN has_pet AS T2 ON T1.stuid  =  T2.stuid JOIN pets AS T3 ON T3.petid  =  T2.petid WHERE T3.pettype  =  'cat' INTERSECT SELECT T1.Fname FROM student AS T1 JOIN has_pet AS T2 ON T1.stuid  =  T2.stuid JOIN pets AS T3 ON T3.petid  =  T2.petid WHERE T3.pettype  =  'dog'\n",
      "\n",
      "ASR Question: What are the students first names who have both cats and dogs, says pets.\n",
      "Rwt Question: What are the students first names who have both cats and dogs aged pets?\n",
      "Compare SQL: select t1.fname from student as t1 join has_pet as t2 on t1.stuid = t2.stuid join pets as t3 on t2.petid = t3.petid where t3.pettype = 'cat' intersect select t1.fname from student as t1 join has_pet as t2 on t1.stuid = t2.stuid join pets as t3 on t2.petid = t3. (0)\n",
      "Rwt Question SQL: select t1.fname from student as t1 join has_pet as t2 on t1.stuid = t2.stuid join pets as t3 on t2.petid = t3.petid where t3.pet_age = 'cat' intersect select t1.fname from student as t1 join has_pet as t2 on t1.stuid = t2.stuid join pets as t3 on t2.petid = t3. (0)\n",
      "Gold Question: What are the students' first names who have both cats and dogs as pets?\n",
      "Gold SQL: SELECT T1.Fname FROM student AS T1 JOIN has_pet AS T2 ON T1.stuid  =  T2.stuid JOIN pets AS T3 ON T3.petid  =  T2.petid WHERE T3.pettype  =  'cat' INTERSECT SELECT T1.Fname FROM student AS T1 JOIN has_pet AS T2 ON T1.stuid  =  T2.stuid JOIN pets AS T3 ON T3.petid  =  T2.petid WHERE T3.pettype  =  'dog'\n",
      "\n",
      "ASR Question: find the major in age of students who do not have a cat pet.\n",
      "Rwt Question: find the major and age of students who do not have a cat pet.\n",
      "Compare SQL: select major from student where age  < (select min(age) from student where stuid not in (select stuid from has_pet where pettype = 'cat') (0)\n",
      "Rwt Question SQL: select major, age from student where stuid not in (select stuid from has_pet where pettype = 'cat') (0)\n",
      "Gold Question: Find the major and age of students who do not have a cat pet.\n",
      "Gold SQL: SELECT major ,  age FROM student WHERE stuid NOT IN (SELECT T1.stuid FROM student AS T1 JOIN has_pet AS T2 ON T1.stuid  =  T2.stuid JOIN pets AS T3 ON T3.petid  =  T2.petid WHERE T3.pettype  =  'cat')\n",
      "\n",
      "ASR Question: What Major is Every student who does not own a cat is a pet. And also how old are they?\n",
      "Rwt Question: What Major is Every student who does not own a cat is a pet, And also how old are they?\n",
      "Compare SQL: select major, age from student where stuid not in (select stuid from has_pet where pettype = 'cat') (0)\n",
      "Rwt Question SQL: select major, age from student where stuid not in (select stuid from has_pet where pettype = 'cat') (0)\n",
      "Gold Question: What major is every student who does not own a cat as a pet, and also how old are they?\n",
      "Gold SQL: SELECT major ,  age FROM student WHERE stuid NOT IN (SELECT T1.stuid FROM student AS T1 JOIN has_pet AS T2 ON T1.stuid  =  T2.stuid JOIN pets AS T3 ON T3.petid  =  T2.petid WHERE T3.pettype  =  'cat')\n",
      "\n"
     ]
    }
   ],
   "source": [
    "## Large drops from uskg (uskg-mixed)\n",
    "\n",
    "output_cand_pairs = [(d_m[0], d_c[0]) for d_m, d_c in zip(model_outputs, compare_outputs)]\n",
    "\n",
    "for c_m, c_c in sorted(output_cand_pairs, key=lambda c : (c[1]['exec'] - c[0]['exec']), reverse=True)[:30]:\n",
    "    print('ASR Question:', c_m['asr_question'])\n",
    "    # print('ASR Question SQL:', c_m['ratsql_pred_sql'], f\"({c_m['ratsql_pred_score']})\")\n",
    "    print('Rwt Question:', c_m['rewritten_question'])\n",
    "    print('Compare SQL:', c_c['pred_sql'], f\"({c_c['score']})\")\n",
    "    print('Rwt Question SQL:', c_m['pred_sql'], f\"({c_m['score']})\")\n",
    "    print('Gold Question:', c_m['gold_question'])\n",
    "    print('Gold SQL:', c_m['query'])\n",
    "    print()\n"
   ]
  },
  {
   "cell_type": "code",
   "execution_count": null,
   "metadata": {
    "scrolled": true
   },
   "outputs": [],
   "source": [
    "# ## Large improvements against rat-sql-asr\n",
    "# ## In fact, a lot of these are where rat-sql-asr worse than rat-sql, no rewriting involved \n",
    "\n",
    "# output_cand_pairs = [(d_m[0], d_c[0]) for d_m, d_c in zip(model_outputs, compare_outputs)]\n",
    "\n",
    "# for c_m, c_c in sorted(output_cand_pairs, key=lambda c : (c[0]['score'] - c[1]['score']), reverse=True)[:20]:\n",
    "#     print('ASR Question:', c_m['question'])\n",
    "#     # print('ASR Question SQL:', c_m['ratsql_pred_sql'], f\"({c_m['ratsql_pred_score']})\")\n",
    "#     print('Rwt Question:', c_m['rewritten_question'])\n",
    "#     print('Compare SQL:', c_c['pred_sql'], f\"({c_c['score']})\")\n",
    "#     print('Rwt Question SQL:', c_m['pred_sql'], f\"({c_m['score']})\")\n",
    "#     print('Gold Question:', c_m['gold_question'])\n",
    "#     print('Gold SQL:', c_m['query'])\n",
    "#     print()\n"
   ]
  },
  {
   "cell_type": "code",
   "execution_count": 171,
   "metadata": {},
   "outputs": [
    {
     "data": {
      "application/vnd.jupyter.widget-view+json": {
       "model_id": "ef42ded713f34522ae46d4bd57305385",
       "version_major": 2,
       "version_minor": 0
      },
      "text/plain": [
       "HBox(children=(IntProgress(value=0, max=547), HTML(value='')))"
      ]
     },
     "metadata": {},
     "output_type": "display_data"
    },
    {
     "name": "stdout",
     "output_type": "stream",
     "text": [
      "\n"
     ]
    },
    {
     "data": {
      "text/plain": [
       "(93,\n",
       " 'how many weight pets are raised by female students?',\n",
       " 'how many weight pets are raised by female students?')"
      ]
     },
     "execution_count": 171,
     "metadata": {},
     "output_type": "execute_result"
    }
   ],
   "source": [
    "## POS fixing samples \n",
    "target_pos = 'PROPN'\n",
    "\n",
    "pos_fixing_cands = []\n",
    "for c_m in tqdm(output_cands):\n",
    "    _orig_doc = nlp(c_m['asr_question'])\n",
    "    _orig_pos_toks = [str(t) for t in _orig_doc if t.pos_ == target_pos and str(t).lower() != 'i']\n",
    "    _rwt_doc = nlp(c_m['rewritten_question'])\n",
    "    _rwt_pos_toks = [str(t) for t in _rwt_doc if t.pos_ == target_pos and str(t).lower() != 'i']\n",
    "\n",
    "    if _orig_pos_toks != _rwt_pos_toks:\n",
    "        pos_fixing_cands.append(c_m)\n"
   ]
  },
  {
   "cell_type": "code",
   "execution_count": 172,
   "metadata": {},
   "outputs": [
    {
     "data": {
      "text/plain": [
       "(93,\n",
       " 'how many Doug pets are raised by female students.',\n",
       " 'how many weight pets are raised by female students?')"
      ]
     },
     "execution_count": 172,
     "metadata": {},
     "output_type": "execute_result"
    }
   ],
   "source": [
    "len(pos_fixing_cands), pos_fixing_cands[0]['asr_question'], pos_fixing_cands[0]['rewritten_question']"
   ]
  },
  {
   "cell_type": "code",
   "execution_count": 174,
   "metadata": {},
   "outputs": [
    {
     "name": "stdout",
     "output_type": "stream",
     "text": [
      "ASR Question: show. It's for all templates not used by any document.\n",
      "ASR Question SQL: SELECT Templates.Template_Details FROM Templates WHERE Templates.Template_ID NOT IN (SELECT Documents.Template_ID FROM Documents) (0.1111111111111111)\n",
      "Rwt Question: show ids for all templates not used by any document.\n",
      "Rwt Question SQL: select template_id from templates except select template_id from documents (1.0)\n",
      "Gold Question: Show ids for all templates not used by any document.\n",
      "Gold SQL: SELECT template_id FROM Templates EXCEPT SELECT template_id FROM Documents\n",
      "\n",
      "ASR Question: what are the? It's for templates that are not used in any documents.\n",
      "ASR Question SQL: SELECT Templates.Template_Details FROM Templates WHERE Templates.Template_ID NOT IN (SELECT Documents.Template_ID FROM Documents) (0.1111111111111111)\n",
      "Rwt Question: what are the ids for templates that are not used in any documents?\n",
      "Rwt Question SQL: select template_id from templates except select template_id from documents (1.0)\n",
      "Gold Question: What are the ids for templates that are not used in any documents?\n",
      "Gold SQL: SELECT template_id FROM Templates EXCEPT SELECT template_id FROM Documents\n",
      "\n",
      "ASR Question: What are the IDs? Names and descriptions for all documents?\n",
      "ASR Question SQL: SELECT Documents.Document_ID, Documents.Document_Description FROM Documents (0.14285714285714285)\n",
      "Rwt Question: What are the IDs Names and descriptions for all documents?\n",
      "Rwt Question SQL: select document_id, document_name, document_description from documents (1.0)\n",
      "Gold Question: What are the ids, names, and descriptions for all documents?\n",
      "Gold SQL: SELECT document_id ,  document_name ,  document_description FROM Documents\n",
      "\n",
      "ASR Question: what are the IDs? Version numbers and type codes for each template.\n",
      "ASR Question SQL: SELECT Templates.Template_ID, Templates.Template_Type_Code FROM Templates (0.14285714285714285)\n",
      "Rwt Question: what are the IDs, Version numbers and type codes for each template?\n",
      "Rwt Question SQL: select template_id, version_number, template_type_code from templates (1.0)\n",
      "Gold Question: What are the ids, version numbers, and type codes for each template?\n",
      "Gold SQL: SELECT template_id ,  version_number ,  template_type_code FROM Templates\n",
      "\n",
      "ASR Question: how many different types of Petr there.\n",
      "ASR Question SQL: SELECT Count(DISTINCT Student.Sex) FROM Student WHERE Student.Sex = 'terminal' (0.16666666666666666)\n",
      "Rwt Question: how many different types of pet there?\n",
      "Rwt Question SQL: select count(distinct pettype) from pets (1.0)\n",
      "Gold Question: How many different types of pet are there?\n",
      "Gold SQL: SELECT count(DISTINCT pettype) FROM pets\n",
      "\n",
      "ASR Question: show all documented in the number of paragraphs in each document order by document I. D.\n",
      "ASR Question SQL: SELECT Documents.Document_Name, Count(*) FROM Documents JOIN Paragraphs ON Documents.Document_ID = Paragraphs.Document_ID WHERE Documents.Document_Name = 'terminal' GROUP BY Documents.Document_ID ORDER BY Count(*) Asc (0.21428571428571427)\n",
      "Rwt Question: show all document and the number of paragraphs in each document ordered by document id.\n",
      "Rwt Question SQL: select document_id, count(*) from paragraphs group by document_id order by document_id (1.0)\n",
      "Gold Question: Show all document ids and the number of paragraphs in each document. Order by document id.\n",
      "Gold SQL: SELECT document_id ,  count(*) FROM Paragraphs GROUP BY document_id ORDER BY document_id\n",
      "\n",
      "ASR Question: which airlines have departing flights from both a PG and CBO airports.\n",
      "ASR Question SQL: SELECT airlines.Airline FROM airlines JOIN airports JOIN flights INTERSECT SELECT * FROM flights (0.375)\n",
      "Rwt Question: which airlines have departing flights from both tri-state and cvo airports?\n",
      "Rwt Question SQL: select t1.airline from airlines as t1 join flights as t2 on t1.uid = t2.airline where t2.sourceairport = 'Tri-state' intersect select t1.airline from airlines as t1 join flights as t2 on t1.uid = t2.airline where t2.sourceairport = 'CVO' (1.0)\n",
      "Gold Question: Which airlines have departing flights from both APG and CVO airports?\n",
      "Gold SQL: SELECT T1.Airline FROM AIRLINES AS T1 JOIN FLIGHTS AS T2 ON T1.uid  =  T2.Airline WHERE T2.SourceAirport  =  \"APG\" INTERSECT SELECT T1.Airline FROM AIRLINES AS T1 JOIN FLIGHTS AS T2 ON T1.uid  =  T2.Airline WHERE T2.SourceAirport  =  \"CVO\"\n",
      "\n",
      "ASR Question: return the documents. I d template I d and description for the document with the name Robin CV.\n",
      "ASR Question SQL: SELECT Documents.Document_Name, Documents.Document_Description FROM Templates JOIN Documents ON Templates.Template_ID = Documents.Template_ID WHERE Documents.Document_Name = 'terminal' (0.4)\n",
      "Rwt Question: return the documents id, template id, and description for the document with the name Robin cv.\n",
      "Rwt Question SQL: select document_id, template_id, document_description from documents where document_name = \"Robin cv\" (1.0)\n",
      "Gold Question: Return the document id, template id, and description for the document with the name Robbin CV.\n",
      "Gold SQL: SELECT document_id ,  template_id ,  Document_Description FROM Documents WHERE document_name  =  \"Robbin CV\"\n",
      "\n",
      "ASR Question: What are the odds of high school students who do not have friends?\n",
      "ASR Question SQL: SELECT Highschooler.name FROM Highschooler EXCEPT SELECT Highschooler.name FROM Highschooler JOIN Friend ON Highschooler.ID = Friend.student_id (0.4)\n",
      "Rwt Question: What are the ids of high school students who do not have friends?\n",
      "Rwt Question SQL: select id from highschooler except select student_id from friend (1.0)\n",
      "Gold Question: What are the ids of high school students who do not have friends?\n",
      "Gold SQL: SELECT id FROM Highschooler EXCEPT SELECT student_id FROM Friend\n",
      "\n",
      "ASR Question: show paragraph details for paragraph with text. Korea\n",
      "ASR Question SQL: SELECT Paragraphs.Other_Details FROM Documents JOIN Paragraphs ON Documents.Document_ID = Paragraphs.Document_ID WHERE Documents.Document_Name LIKE 'terminal' (0.42857142857142855)\n",
      "Rwt Question: show paragraph details for paragraph with text.\n",
      "Rwt Question SQL: select other_details from paragraphs where paragraph_text = \"*\" (1.0)\n",
      "Gold Question: Show paragraph details for paragraph with text 'Korea'.\n",
      "Gold SQL: SELECT Other_Details FROM Paragraphs WHERE paragraph_text  =  'Korea'\n",
      "\n",
      "ASR Question: find the I d. Name and age for visitors who visited some museums more than once.\n",
      "ASR Question SQL: SELECT visitor.Name, visitor.Age FROM visitor JOIN visit ON visitor.ID = visit.visitor_ID GROUP BY visit.visitor_ID HAVING Count(*) > 'terminal' (0.45454545454545453)\n",
      "Rwt Question: find the id, Name and age for visitors who visited some museums more than once.\n",
      "Rwt Question SQL: select t1.id, t1.name, t1.age from visitor as t1 join visit as t2 on t1.id = t2.visitor_id group by t2.visitor_id having count(*) > 1 (1.0)\n",
      "Gold Question: find the id, name and age for visitors who visited some museums more than once.\n",
      "Gold SQL: SELECT t1.id ,  t1.name ,  t1.age FROM visitor AS t1 JOIN visit AS t2 ON t1.id  =  t2.visitor_id GROUP BY t1.id HAVING count(*)  >  1\n",
      "\n",
      "ASR Question: give the airport code an airport named Cora sounding to the city Anthony.\n",
      "ASR Question SQL: SELECT airports.AirportCode FROM airports WHERE airports.City = 'terminal' (0.5)\n",
      "Rwt Question: give the airport code and airport named \"anthony airlines\" to the city.\n",
      "Rwt Question SQL: select airportcode, airportname from airports where city = 'Anthony' (1.0)\n",
      "Gold Question: Give the airport code and airport name corresonding to the city Anthony.\n",
      "Gold SQL: SELECT AirportCode ,  AirportName FROM AIRPORTS WHERE city  =  \"Anthony\"\n",
      "\n",
      "ASR Question: count the number of flights departing from a PG.\n",
      "ASR Question SQL: SELECT Count(*) FROM flights (0.5)\n",
      "Rwt Question: count the number of flights departing from akw.\n",
      "Rwt Question SQL: select count(*) from flights where sourceairport = 'AKW' (1.0)\n",
      "Gold Question: Count the number of flights departing from 'APG'.\n",
      "Gold SQL: SELECT count(*) FROM FLIGHTS WHERE SourceAirport  =  \"APG\"\n",
      "\n",
      "ASR Question: how many United Airlines flights depart from airport HD.\n",
      "ASR Question SQL: SELECT Count(*) FROM airlines JOIN airports JOIN flights WHERE airports.Country = 'terminal' AND airlines.Airline = 'terminal' (0.5)\n",
      "Rwt Question: how many United airlines flights depart from airport HD?\n",
      "Rwt Question SQL: select count(*) from airlines as t1 join flights as t2 on t1.uid = t2.airline where t1.airline = 'United Airlines' and t2.sourceairport = 'HD' (1.0)\n",
      "Gold Question: How many 'United Airlines' flights depart from Airport 'AHD'?\n",
      "Gold SQL: SELECT count(*) FROM AIRLINES AS T1 JOIN FLIGHTS AS T2 ON T2.Airline  =  T1.uid WHERE T1.Airline  =  \"United Airlines\" AND T2.SourceAirport  =  \"AHD\"\n",
      "\n",
      "ASR Question: show all paragraph, it's and texts for the document with name Welcome to N. Y.\n",
      "ASR Question SQL: SELECT Paragraphs.Paragraph_Text, Paragraphs.Other_Details FROM Documents JOIN Paragraphs ON Documents.Document_ID = Paragraphs.Document_ID WHERE Documents.Document_Name = 'terminal' (0.5)\n",
      "Rwt Question: show all paragraph ids and texts for the document with name welcome \"to ny.\n",
      "Rwt Question SQL: select t2.paragraph_id, t2.paragraph_text from documents as t1 join paragraphs as t2 on t1.document_id = t2.document_id where t1.document_name = \"welcome to ny\" (1.0)\n",
      "Gold Question: Show all paragraph ids and texts for the document with name 'Welcome to NY'.\n",
      "Gold SQL: SELECT T1.paragraph_id ,   T1.paragraph_text FROM Paragraphs AS T1 JOIN Documents AS T2 ON T1.document_id  =  T2.document_id WHERE T2.Document_Name  =  'Welcome to NY'\n",
      "\n",
      "ASR Question: returned a different document IDs, along with the number of paragraphs corresponding to each ordered by I. D.\n",
      "ASR Question SQL: SELECT Paragraphs.Document_ID, Count(*) FROM Paragraphs WHERE Paragraphs.Document_ID = 'terminal' GROUP BY Paragraphs.Document_ID ORDER BY Count(*) Asc (0.5)\n",
      "Rwt Question: return different document IDs along with the number of paragraphs corresponding to each, ordered by id.\n",
      "Rwt Question SQL: select document_id, count(*) from paragraphs group by document_id order by document_id (1.0)\n",
      "Gold Question: Return the different document ids along with the number of paragraphs corresponding to each, ordered by id.\n",
      "Gold SQL: SELECT document_id ,  count(*) FROM Paragraphs GROUP BY document_id ORDER BY document_id\n",
      "\n",
      "ASR Question: how many countries have the Republicans their form of government?\n",
      "ASR Question SQL: SELECT Count(*) FROM country (0.5)\n",
      "Rwt Question: how many countries have the university are form of government?\n",
      "Rwt Question SQL: select count(*) from country where governmentform = \"University\" (1.0)\n",
      "Gold Question: How many countries have a republic as their form of government?\n",
      "Gold SQL: SELECT count(*) FROM country WHERE GovernmentForm  =  \"Republic\"\n",
      "\n",
      "ASR Question: What is the average GNP in total population in all nations whose government is U. S territory?\n",
      "ASR Question SQL: SELECT Avg(country.GNP) FROM country WHERE country.GovernmentForm = 'terminal' (0.5)\n",
      "Rwt Question: What is the average GNP and total population in all nations whose government is usa territory?\n",
      "Rwt Question SQL: select avg(gnp), sum(population) from country where governmentform = 'USA' (1.0)\n",
      "Gold Question: What is the average GNP and total population in all nations whose government is US territory?\n",
      "Gold SQL: SELECT avg(GNP) ,  sum(population) FROM country WHERE GovernmentForm  =  \"US Territory\"\n",
      "\n",
      "ASR Question: returned the names and template. It's for documents that contained the letter w in their description.\n",
      "ASR Question SQL: SELECT Documents.Document_Name, Templates.Template_Details FROM Templates JOIN Documents ON Templates.Template_ID = Documents.Template_ID WHERE Documents.Document_Description LIKE 'terminal' (0.5555555555555556)\n",
      "Rwt Question: return the names and template ids for documents that contain the letter w in their description.\n",
      "Rwt Question SQL: select document_name, template_id from documents where document_description like \"%w%\" (1.0)\n",
      "Gold Question: Return the names and template ids for documents that contain the letter w in their description.\n",
      "Gold SQL: SELECT document_name ,  template_id FROM Documents WHERE Document_Description LIKE \"%w%\"\n",
      "\n",
      "ASR Question: What are the odds of documents that contained the paragraph Text Brazil and Ireland.\n",
      "ASR Question SQL: SELECT Documents.Document_Name FROM Documents JOIN Paragraphs ON Documents.Document_ID = Paragraphs.Document_ID WHERE Paragraphs.Paragraph_Text = 'terminal' INTERSECT SELECT Documents.Document_Name FROM Documents JOIN Paragraphs ON Documents.Document_ID = Paragraphs.Document_ID WHERE Paragraphs.Paragraph_Text = 'terminal' (0.625)\n",
      "Rwt Question: What are the ids of documents that contain the paragraph Text Brazil and Ireland?\n",
      "Rwt Question SQL: select document_id from paragraphs where paragraph_text = \"Brazil\" intersect select document_id from paragraphs where paragraph_text = \"Irlanda\" (1.0)\n",
      "Gold Question: What are the ids of documents that contain the paragraph text 'Brazil' and 'Ireland'?\n",
      "Gold SQL: SELECT document_id FROM Paragraphs WHERE paragraph_text  =  'Brazil' INTERSECT SELECT document_id FROM Paragraphs WHERE paragraph_text  =  'Ireland'\n",
      "\n",
      "ASR Question: find the number of pets for each student who has any pet and student i. D.\n",
      "ASR Question SQL: SELECT Count(*), Student.StuID FROM Student JOIN Has_Pet ON Student.StuID = Has_Pet.StuID WHERE Student.Sex = 'terminal' GROUP BY Student.StuID (0.6363636363636364)\n",
      "Rwt Question: find the number of pets for each student who has any pet and student id.\n",
      "Rwt Question SQL: select count(*), stuid from has_pet group by stuid (1.0)\n",
      "Gold Question: Find the number of pets for each student who has any pet and student id.\n",
      "Gold SQL: SELECT count(*) ,  T1.stuid FROM student AS T1 JOIN has_pet AS T2 ON T1.stuid  =  T2.stuid GROUP BY T1.stuid\n",
      "\n",
      "ASR Question: how many airlines air from U. S. A.\n",
      "ASR Question SQL: SELECT Count(*) FROM airlines WHERE airlines.Airline = 'terminal' (0.6666666666666666)\n",
      "Rwt Question: how many airlines are from uk\n",
      "Rwt Question SQL: select count(*) from airlines where country = 'UK' (1.0)\n",
      "Gold Question: How many airlines are from USA?\n",
      "Gold SQL: SELECT count(*) FROM AIRLINES WHERE Country  =  \"USA\"\n",
      "\n",
      "ASR Question: What is the airport name for Airport taco?\n",
      "ASR Question SQL: SELECT airports.AirportName FROM airports WHERE airports.AirportName = 'terminal' (0.6666666666666666)\n",
      "Rwt Question: What is the airport name for Airport code?\n",
      "Rwt Question SQL: select airportname from airports where airportcode = 'Y' (1.0)\n",
      "Gold Question: What is the airport name for airport 'AKO'?\n",
      "Gold SQL: SELECT AirportName FROM AIRPORTS WHERE AirportCode  =  \"AKO\"\n",
      "\n",
      "ASR Question: what do the template? It's with template type description, presentation.\n",
      "ASR Question SQL: SELECT Ref_Template_Types.Template_Type_Description FROM Ref_Template_Types WHERE Ref_Template_Types.Template_Type_Description = 'terminal' (0.6666666666666666)\n",
      "Rwt Question: what are the template ids with template type description presentation?\n",
      "Rwt Question SQL: select t1.template_id from templates as t1 join ref_template_types as t2 on t1.template_type_code = t2.template_type_code where t2.template_type_description = \"Presentation\" (1.0)\n",
      "Gold Question: What are the template ids with template type description \"Presentation\".\n",
      "Gold SQL: SELECT T2.template_id FROM Ref_template_types AS T1 JOIN Templates AS T2 ON T1.template_type_code  = T2.template_type_code WHERE T1.template_type_description  =  \"Presentation\"\n",
      "\n",
      "ASR Question: What is the document Idea? Name with greatest number of paragraphs.\n",
      "ASR Question SQL: SELECT Documents.Document_Name FROM Documents JOIN Paragraphs ON Documents.Document_ID = Paragraphs.Document_ID GROUP BY Paragraphs.Document_ID ORDER BY Count(*) Desc LIMIT 1 (0.6666666666666666)\n",
      "Rwt Question: What is the document id and Name with greatest number of paragraphs?\n",
      "Rwt Question SQL: select t1.document_id, t1.document_name from documents as t1 join paragraphs as t2 on t1.document_id = t2.document_id group by t1.document_id order by count(*) desc limit 1 (1.0)\n",
      "Gold Question: What is the document id and name with greatest number of paragraphs?\n",
      "Gold SQL: SELECT T1.document_id ,  T2.document_name FROM Paragraphs AS T1 JOIN Documents AS T2 ON T1.document_id  =  T2.document_id GROUP BY T1.document_id ORDER BY count(*) DESC LIMIT 1\n",
      "\n",
      "ASR Question: What are the idea? Name of the museum visited most times.\n",
      "ASR Question SQL: SELECT museum.Name FROM museum JOIN visit ON museum.Museum_ID = visit.Museum_ID GROUP BY visit.Museum_ID ORDER BY Count(*) Desc LIMIT 1 (0.6666666666666666)\n",
      "Rwt Question: What are the id and Name of the museum visited most times?\n",
      "Rwt Question SQL: select t1.museum_id, t1.name from museum as t1 join visit as t2 on t1.museum_id = t2.museum_id group by t2.museum_id order by count(*) desc limit 1 (1.0)\n",
      "Gold Question: What are the id and name of the museum visited most times?\n",
      "Gold SQL: SELECT t2.Museum_ID ,  t1.name FROM museum AS t1 JOIN visit AS t2 ON t1.Museum_ID  =  t2.Museum_ID GROUP BY t2.Museum_ID ORDER BY count(*) DESC LIMIT 1\n",
      "\n",
      "ASR Question: show the idea of the high schooler named Kyle.\n",
      "ASR Question SQL: SELECT Highschooler.grade FROM Highschooler WHERE Highschooler.name = 'terminal' (0.6666666666666666)\n",
      "Rwt Question: show the id of the high schooler named kyle\".\n",
      "Rwt Question SQL: select id from highschooler where name = 'Kyle' (1.0)\n",
      "Gold Question: Show the ID of the high schooler named Kyle.\n",
      "Gold SQL: SELECT ID FROM Highschooler WHERE name  =  \"Kyle\"\n",
      "\n",
      "ASR Question: find the name of Terni that has more than 10 matches.\n",
      "ASR Question SQL: SELECT matches.winner_name FROM matches WHERE matches.draw_size > 'terminal' (0.1111111111111111)\n",
      "Rwt Question: find the name of hand that has more than 10 matches.\n",
      "Rwt Question SQL: select t2.hand from matches as t1 join players as t2 on t1.winner_hand = t2.player_id group by t2.hand having count(*) > 10 (0.42857142857142855)\n",
      "Gold Question: Find the name of tourney that has more than 10 matches.\n",
      "Gold SQL: SELECT tourney_name FROM matches GROUP BY tourney_name HAVING count(*)  >  10\n",
      "\n",
      "ASR Question: showings for all templates that are used by more than one document.\n",
      "ASR Question SQL: SELECT Templates.Template_Details FROM Templates JOIN Documents ON Templates.Template_ID = Documents.Template_ID GROUP BY Documents.Template_ID HAVING Count(*) > 'terminal' (0.7142857142857143)\n",
      "Rwt Question: show ids for all templates that are used by more than one document.\n",
      "Rwt Question SQL: select template_id from documents group by template_id having count(*) > 1 (1.0)\n",
      "Gold Question: Show ids for all templates that are used by more than one document.\n",
      "Gold SQL: SELECT template_id FROM Documents GROUP BY template_id HAVING count(*)  >  1\n",
      "\n",
      "ASR Question: list, all documented with at least two paragraphs.\n",
      "ASR Question SQL: SELECT Documents.Document_Name FROM Documents JOIN Paragraphs ON Documents.Document_ID = Paragraphs.Document_ID GROUP BY Paragraphs.Document_ID HAVING Count(*) >= 'terminal' (0.7142857142857143)\n",
      "Rwt Question: list all document ids with at least 2 paragraphs.\n",
      "Rwt Question SQL: select document_id from paragraphs group by document_id having count(*) >= 2 (1.0)\n",
      "Gold Question: List all document ids with at least two paragraphs.\n",
      "Gold SQL: SELECT document_id FROM Paragraphs GROUP BY document_id HAVING count(*)  >=  2\n",
      "\n",
      "ASR Question: list all airline names and they're abbreviations in U. S. A.\n",
      "ASR Question SQL: SELECT airlines.Airline, airlines.Abbreviation FROM airlines WHERE airlines.Abbreviation = 'terminal' (0.75)\n",
      "Rwt Question: list all airline names and their abbreviations in usa.\n",
      "Rwt Question SQL: select airline, abbreviation from airlines where country = 'USA' (1.0)\n",
      "Gold Question: List all airline names and their abbreviations in \"USA\".\n",
      "Gold SQL: SELECT Airline ,  Abbreviation FROM AIRLINES WHERE Country  =  \"USA\"\n",
      "\n",
      "ASR Question: What are the airline names and abbreviations for airlines in the U. S. A.\n",
      "ASR Question SQL: SELECT airlines.Airline, airlines.Abbreviation FROM airlines WHERE airlines.Abbreviation = 'terminal' (0.75)\n",
      "Rwt Question: What are the airline names and abbreviations for airlines in the usa?\n",
      "Rwt Question SQL: select airline, abbreviation from airlines where country = 'USA' (1.0)\n",
      "Gold Question: What are the airline names and abbreviations for airlines in the USA?\n",
      "Gold SQL: SELECT Airline ,  Abbreviation FROM AIRLINES WHERE Country  =  \"USA\"\n",
      "\n",
      "ASR Question: What Greatest Cailan?\n",
      "ASR Question SQL: SELECT Highschooler.name FROM Highschooler ORDER BY Highschooler.grade Desc LIMIT 1 (0.1111111111111111)\n",
      "Rwt Question: What Greatest logan?\n",
      "Rwt Question SQL: select name from highschooler where name = 'Logan' order by grade desc limit 1 (0.3)\n",
      "Gold Question: What grade is Kyle in?\n",
      "Gold SQL: SELECT grade FROM Highschooler WHERE name  =  \"Kyle\"\n",
      "\n",
      "ASR Question: what are the odds and texts of paragraphs in the document titled Welcome to N. Y.\n",
      "ASR Question SQL: SELECT Paragraphs.Paragraph_Text, Paragraphs.Paragraph_Text FROM Documents JOIN Paragraphs ON Documents.Document_ID = Paragraphs.Document_ID WHERE Documents.Document_Name = 'terminal' (0.5)\n",
      "Rwt Question: what are the ids and texts of paragraphs in the document titled \"welcome cv to\"?\n",
      "Rwt Question SQL: select t2.paragraph_id, t2.paragraph_text from documents as t1 join paragraphs as t2 on t1.document_id = t2.document_id where t1.document_name like \"%welcome cv to%\" (0.6666666666666666)\n",
      "Gold Question: What are the ids and texts of paragraphs in the document titled 'Welcome to NY'?\n",
      "Gold SQL: SELECT T1.paragraph_id ,   T1.paragraph_text FROM Paragraphs AS T1 JOIN Documents AS T2 ON T1.document_id  =  T2.document_id WHERE T2.Document_Name  =  'Welcome to NY'\n",
      "\n",
      "ASR Question: count the number of United Airlines flights arriving in a Yes. Why Airport?\n",
      "ASR Question SQL: SELECT Count(*) FROM airports JOIN flights ON airports.AirportCode = flights.SourceAirport WHERE airports.Country = 'terminal' (0.375)\n",
      "Rwt Question: count the number of United Airlines flights arriving in at usa Airport?\n",
      "Rwt Question SQL: select count(*) from airlines as t1 join flights as t2 on t1.uid = t2.airline where t1.country = 'USA' and t2.sourceairport = 'USA' (0.5)\n",
      "Gold Question: Count the number of United Airlines flights arriving in ASY Airport.\n",
      "Gold SQL: SELECT count(*) FROM AIRLINES AS T1 JOIN FLIGHTS AS T2 ON T2.Airline  =  T1.uid WHERE T1.Airline  =  \"United Airlines\" AND T2.DestAirport  =  \"ASY\"\n",
      "\n",
      "ASR Question: What is the agent? Hometown of every teacher?\n",
      "ASR Question SQL: SELECT teacher.Hometown FROM teacher GROUP BY teacher.Hometown ORDER BY Count(*) Desc LIMIT 1 (0.08333333333333333)\n",
      "Rwt Question: What is the age Hometown of every teacher?\n",
      "Rwt Question SQL: select distinct hometown from teacher (0.2)\n",
      "Gold Question: What is the age and hometown of every teacher?\n",
      "Gold SQL: SELECT Age ,  Hometown FROM teacher\n",
      "\n",
      "ASR Question: please show the record for Mets of orchestras in ascending order of count.\n",
      "ASR Question SQL: SELECT orchestra.Record_Company FROM orchestra ORDER BY orchestra.Year_of_Founded Asc (0.1111111111111111)\n",
      "Rwt Question: please show the record for @@UNKNOWN@@ of orchestras in ascending order of count.\n",
      "Rwt Question SQL: select * from orchestra order by count(*) asc (0.2222222222222222)\n",
      "Gold Question: Please show the record formats of orchestras in ascending order of count.\n",
      "Gold SQL: SELECT Major_Record_Format FROM orchestra GROUP BY Major_Record_Format ORDER BY COUNT(*) ASC\n",
      "\n",
      "ASR Question: which abbreviation corresponds to check Blue Airways.\n",
      "ASR Question SQL: SELECT airlines.Abbreviation FROM airlines WHERE airlines.Airline = 'terminal' (1.0)\n",
      "Rwt Question: which abbreviation corresponds to check \"jetblue airways?\n",
      "Rwt Question SQL: select abbreviation from airlines where airline = \"JetBlue Airways\" (1.0)\n",
      "Gold Question: Which abbreviation corresponds to Jetblue Airways?\n",
      "Gold SQL: SELECT Abbreviation FROM AIRLINES WHERE Airline  =  \"JetBlue Airways\"\n",
      "\n",
      "ASR Question: give the city and country for the Alton Airport.\n",
      "ASR Question SQL: SELECT airports.City, airports.Country FROM airports WHERE airports.AirportName = 'terminal' (1.0)\n",
      "Rwt Question: give the city and country for the albany Airport.\n",
      "Rwt Question SQL: select city, country from airports where airportname = \"Albany\" (1.0)\n",
      "Gold Question: Give the city and country for the Alton airport.\n",
      "Gold SQL: SELECT City ,  Country FROM AIRPORTS WHERE AirportName  =  \"Alton\"\n",
      "\n",
      "ASR Question: which airlines have a flight with Source Airport HD.\n",
      "ASR Question SQL: SELECT airlines.Airline FROM airlines JOIN flights WHERE flights.SourceAirport = 'terminal' (1.0)\n",
      "Rwt Question: which airlines have a flight with Source Airport aid?\n",
      "Rwt Question SQL: select t1.airline from airlines as t1 join flights as t2 on t1.uid = t2.airline where t2.sourceairport = 'AID' (1.0)\n",
      "Gold Question: Which airlines have a flight with source airport AHD?\n",
      "Gold SQL: SELECT T1.Airline FROM AIRLINES AS T1 JOIN FLIGHTS AS T2 ON T1.uid  =  T2.Airline WHERE T2.SourceAirport  =  \"AHD\"\n",
      "\n"
     ]
    }
   ],
   "source": [
    "## Large improvements against rat-sql\n",
    "\n",
    "for c_m in sorted(pos_fixing_cands, key=lambda c : (c['score'] - c['ratsql_pred_score']), reverse=True)[:40]:\n",
    "    print('ASR Question:', c_m['asr_question'])\n",
    "    print('ASR Question SQL:', c_m['ratsql_pred_sql'], f\"({c_m['ratsql_pred_score']})\")\n",
    "    print('Rwt Question:', c_m['rewritten_question'])\n",
    "    # print('Compare SQL:', c_c['pred_sql'], f\"({c_c['score']})\")\n",
    "    print('Rwt Question SQL:', c_m['pred_sql'], f\"({c_m['score']})\")\n",
    "    print('Gold Question:', c_m['gold_question'])\n",
    "    print('Gold SQL:', c_m['query'])\n",
    "    print()"
   ]
  },
  {
   "cell_type": "code",
   "execution_count": null,
   "metadata": {},
   "outputs": [],
   "source": []
  },
  {
   "cell_type": "markdown",
   "metadata": {},
   "source": [
    "### POS analysis"
   ]
  },
  {
   "cell_type": "code",
   "execution_count": 188,
   "metadata": {},
   "outputs": [],
   "source": [
    "POS_LIST = [\"PUNCT\", \"NUM\", \"VERB\", \"PRON\", \"ADP\", \"NOUN\", \"AUX\", \"DET\",\n",
    "    \"SCONJ\", \"PART\", \"ADJ\", \"CCONJ\", \"ADV\", \"PROPN\"]\n",
    "\n",
    "POS2idx = defaultdict(lambda: 999)\n",
    "for i, _pos in enumerate(POS_LIST):\n",
    "    POS2idx[_pos] = i"
   ]
  },
  {
   "cell_type": "code",
   "execution_count": 205,
   "metadata": {},
   "outputs": [],
   "source": [
    "def Sentence_toks_POS_tagging(tokens):\n",
    "    '''\n",
    "    Get the POS tags for tokens given in Spider\n",
    "    (the tokenization doesn't always align with Spacy, so need some hard-coded patches)\n",
    "    '''\n",
    "    \n",
    "    _question_str = ' '.join(tokens)\n",
    "    _question_doc = nlp(_question_str)\n",
    "    \n",
    "    _question_pos = []\n",
    "    _di = 0     # index to _question_doc \n",
    "    \n",
    "    ## Patches for Spacy and original tokenization mismatches\n",
    "    for i, tok in enumerate(question_toks):\n",
    "        if tok == \"id's\":\n",
    "            # will become \"i\", \"d\", \"'s\"\n",
    "            assert str(_question_doc[_di:_di + 3]) == tok, \\\n",
    "                (' '.join([str(t) for t in _question_doc]), _question_str)\n",
    "            _question_pos.append(_question_doc[_di + 1].pos_)   # [_di+1] is \"d\", is NOUN, the closest\n",
    "            _di += 3\n",
    "        elif tok == \"id\":\n",
    "            # will become \"i\", \"d\"\n",
    "            assert str(_question_doc[_di:_di + 2]) == tok, \\\n",
    "                (' '.join([str(t) for t in _question_doc]), _question_str)\n",
    "            _question_pos.append(_question_doc[_di + 1].pos_)   # [_di+1] is \"d\", is NOUN, the closest\n",
    "            _di += 2\n",
    "        elif \"'\" in tok[1:-1]:\n",
    "            # \"'\" in middle, *sometimes* will be splitted into 2\n",
    "            if str(_question_doc[_di:_di + 2]) == tok:\n",
    "                # splitted\n",
    "                _question_pos.append(_question_doc[_di].pos_)       # use the 1st one\n",
    "                _di += 2\n",
    "            elif str(_question_doc[_di]) == tok:\n",
    "                # not splitted\n",
    "                _question_pos.append(_question_doc[_di].pos_)\n",
    "                _di += 1\n",
    "        else:\n",
    "            # no mismatch\n",
    "            _question_pos.append(_question_doc[_di].pos_)\n",
    "            _di += 1\n",
    "    \n",
    "    return _question_pos"
   ]
  },
  {
   "cell_type": "code",
   "execution_count": 74,
   "metadata": {},
   "outputs": [],
   "source": [
    "## Edit distance function, (distance between transcription and gold text) can be used as supervision signal \n",
    "\n",
    "## Moved to misc_utils\n",
    "\n",
    "# def EditDistance(S, T, matching_type=False):\n",
    "#     # [i, j]: min edit distance of S[:i] vs. T[:j] \n",
    "#     min_edit_dist = np.zeros((len(S) + 1, len(T) + 1), dtype=int)\n",
    "\n",
    "#     # for state [i, j], 0 = match, 1 = ignore S, 2 = ignore T, 3 = ignore both  \n",
    "#     backtrack = np.zeros((len(S) + 1, len(T) + 1), dtype=int)\n",
    "\n",
    "#     min_edit_dist[:, 0] = np.arange(len(S) + 1, dtype=int)\n",
    "#     min_edit_dist[0, :] = np.arange(len(T) + 1, dtype=int)\n",
    "#     backtrack[1:, 0] = 1\n",
    "#     backtrack[0, 1:] = 2\n",
    "\n",
    "#     for i in range(1, len(S) + 1):\n",
    "#         for j in range(1, len(T) + 1):\n",
    "#             if S[i-1].lower() == T[j-1].lower():\n",
    "#                 min_edit_dist[i, j] = min_edit_dist[i-1, j-1]\n",
    "#                 backtrack[i, j] = 0\n",
    "#             else:\n",
    "#                 choices = [min_edit_dist[i-1, j], min_edit_dist[i, j-1]]\n",
    "#                 if ((S[i-1] in string.punctuation) == (T[j-1] in string.punctuation)) or (not matching_type):\n",
    "#                     # both are punct, or both are words; can substitute \n",
    "#                     # if not matching_type, everything can substitute \n",
    "#                     choices.append(min_edit_dist[i-1, j-1])\n",
    "#                 min_edit_dist[i, j] = min(*choices) + 1\n",
    "#                 backtrack[i, j] = np.argmin(choices) + 1\n",
    "                \n",
    "#     curr_state = (len(S), len(T))\n",
    "#     pairs = []\n",
    "#     while curr_state != (0, 0):\n",
    "#         i, j = curr_state\n",
    "#         action = backtrack[i, j]\n",
    "#         if action == 0:\n",
    "#             pairs.append((S[i-1], T[j-1]))\n",
    "#             curr_state = (i-1, j-1)\n",
    "#         elif action == 1:\n",
    "#             pairs.append((S[i-1], ''))\n",
    "#             curr_state = (i-1, j)\n",
    "#         elif action == 2:\n",
    "#             pairs.append(('', T[j-1]))\n",
    "#             curr_state = (i, j-1)\n",
    "#         else:\n",
    "#             pairs.append((S[i-1], T[j-1]))\n",
    "#             curr_state = (i-1, j-1)\n",
    "#     pairs.reverse()\n",
    "    \n",
    "#     return min_edit_dist[len(S), len(T)], pairs\n"
   ]
  },
  {
   "cell_type": "code",
   "execution_count": 281,
   "metadata": {},
   "outputs": [],
   "source": [
    "VERSION = '2.12.1.2t-2.18.2.2i'\n",
    "\n",
    "output_dir = '/Users/mac/Desktop/syt/Deep-Learning/Projects-M/SpeakQL/SpeakQL/Allennlp_models/outputs'\n",
    "\n",
    "model_output_path = os.path.join(output_dir, 'ratsql-test-save', f'{VERSION}.json')"
   ]
  },
  {
   "cell_type": "code",
   "execution_count": 282,
   "metadata": {},
   "outputs": [
    {
     "data": {
      "text/plain": [
       "547"
      ]
     },
     "execution_count": 282,
     "metadata": {},
     "output_type": "execute_result"
    }
   ],
   "source": [
    "with open(model_output_path, 'r') as f:\n",
    "    model_outputs = json.load(f)\n",
    "\n",
    "len(model_outputs)"
   ]
  },
  {
   "cell_type": "code",
   "execution_count": 283,
   "metadata": {},
   "outputs": [
    {
     "data": {
      "text/plain": [
       "dict_keys(['db_id', 'query', 'query_toks', 'query_toks_no_value', 'question', 'question_toks', 'sql', 'span_ranges', 'original_id', 'ratsql_pred_sql', 'gold_question', 'gold_question_toks', 'ratsql_pred_exact', 'ratsql_pred_score', 'question_toks_edit_distance', 'alignment_span_pairs', 'alignment_text_pairs', 'rewriter_tags', 'rewriter_edits', 'pred_tags', 'pred_ILM', 'pred_ILM_cands', 'rewritten_question', 'pred_sql', 'score', 'exact', 'exec'])"
      ]
     },
     "execution_count": 283,
     "metadata": {},
     "output_type": "execute_result"
    }
   ],
   "source": [
    "model_outputs[0][0].keys()"
   ]
  },
  {
   "cell_type": "code",
   "execution_count": 284,
   "metadata": {
    "scrolled": true
   },
   "outputs": [
    {
     "data": {
      "text/plain": [
       "([['Twitter', 'What are'],\n",
       "  ['flight', 'flight'],\n",
       "  ['numbers', 'numbers'],\n",
       "  ['of', 'of'],\n",
       "  ['flights', 'flights'],\n",
       "  ['arriving', 'arriving'],\n",
       "  ['at', 'at'],\n",
       "  ['city', 'City'],\n",
       "  ['Aberdeen', \"`` Aberdeen ''\"],\n",
       "  ['.', '?']],\n",
       " ['U-EDIT',\n",
       "  'O-KEEP',\n",
       "  'O-KEEP',\n",
       "  'O-KEEP',\n",
       "  'O-KEEP',\n",
       "  'O-KEEP',\n",
       "  'O-KEEP',\n",
       "  'O-KEEP',\n",
       "  'U-EDIT',\n",
       "  'U-EDIT'],\n",
       " [{'src_span': [0],\n",
       "   'tgt_span': [0, 1],\n",
       "   'src_text': 'Twitter',\n",
       "   'tgt_text': 'What are'},\n",
       "  {'src_span': [8],\n",
       "   'tgt_span': [9, 10, 11],\n",
       "   'src_text': 'Aberdeen',\n",
       "   'tgt_text': \"`` Aberdeen ''\"},\n",
       "  {'src_span': [9], 'tgt_span': [12], 'src_text': '.', 'tgt_text': '?'}],\n",
       " ['U-EDIT',\n",
       "  'O-KEEP',\n",
       "  'O-KEEP',\n",
       "  'O-KEEP',\n",
       "  'O-KEEP',\n",
       "  'O-KEEP',\n",
       "  'O-KEEP',\n",
       "  'O-KEEP',\n",
       "  'O-KEEP',\n",
       "  'O-KEEP'],\n",
       " ['What', 'are', '[ANS]', '@end@'])"
      ]
     },
     "execution_count": 284,
     "metadata": {},
     "output_type": "execute_result"
    }
   ],
   "source": [
    "d = model_outputs[116]\n",
    "c = d[0]\n",
    "c['alignment_text_pairs'], c['rewriter_tags'], c['rewriter_edits'], list(filter(lambda x : x != 'O', c['pred_tags'])), c['pred_ILM']"
   ]
  },
  {
   "cell_type": "code",
   "execution_count": 285,
   "metadata": {},
   "outputs": [
    {
     "name": "stdout",
     "output_type": "stream",
     "text": [
      "What            what            PRON  WP    Xxxx      True  True  \n",
      "are             be              AUX   VBP   xxx       True  True  \n",
      "flight          flight          NOUN  NN    xxxx      True  False \n",
      "numbers         number          NOUN  NNS   xxxx      True  False \n",
      "of              of              ADP   IN    xx        True  True  \n",
      "flights         flight          NOUN  NNS   xxxx      True  False \n",
      "arriving        arrive          VERB  VBG   xxxx      True  False \n",
      "at              at              ADP   IN    xx        True  True  \n",
      "City            City            PROPN NNP   Xxxx      True  False \n",
      "\"               \"               PUNCT ``    \"         False False \n",
      "Aberdeen        Aberdeen        PROPN NNP   Xxxxx     True  False \n",
      "\"               \"               PUNCT ''    \"         False False \n",
      "?               ?               PUNCT .     ?         False False \n",
      "\n",
      "City                47    51    GPE\n"
     ]
    }
   ],
   "source": [
    "doc = nlp(c['gold_question'])\n",
    "\n",
    "for token in doc:\n",
    "    print(f'{token.text:<16s}{token.lemma_:<16s}{token.pos_:<6s}{token.tag_:<6s}{token.shape_:<10s}{str(token.is_alpha):<6s}{str(token.is_stop):<6s}')\n",
    "print()\n",
    "for ent in doc.ents:\n",
    "    print(f'{ent.text:<20s}{ent.start_char:<6d}{ent.end_char:<6d}{ent.label_}')"
   ]
  },
  {
   "cell_type": "code",
   "execution_count": 286,
   "metadata": {},
   "outputs": [
    {
     "name": "stdout",
     "output_type": "stream",
     "text": [
      "Twitter         twitter         NOUN  NN    Xxxxx     True  False \n",
      "flight          flight          NOUN  NN    xxxx      True  False \n",
      "numbers         number          NOUN  NNS   xxxx      True  False \n",
      "of              of              ADP   IN    xx        True  True  \n",
      "flights         flight          NOUN  NNS   xxxx      True  False \n",
      "arriving        arrive          VERB  VBG   xxxx      True  False \n",
      "at              at              ADP   IN    xx        True  True  \n",
      "city            city            NOUN  NN    xxxx      True  False \n",
      "Aberdeen        Aberdeen        PROPN NNP   Xxxxx     True  False \n",
      ".               .               PUNCT .     .         False False \n",
      "\n"
     ]
    }
   ],
   "source": [
    "doc = nlp(c['question'])\n",
    "\n",
    "for token in doc:\n",
    "    print(f'{token.text:<16s}{token.lemma_:<16s}{token.pos_:<6s}{token.tag_:<6s}{token.shape_:<10s}{str(token.is_alpha):<6s}{str(token.is_stop):<6s}')\n",
    "print()\n",
    "for ent in doc.ents:\n",
    "    print(f'{ent.text:<20s}{ent.start_char:<6d}{ent.end_char:<6d}{ent.label_}')"
   ]
  },
  {
   "cell_type": "code",
   "execution_count": null,
   "metadata": {},
   "outputs": [],
   "source": [
    "# EditDistance(c['rewritten_question'].split(' '), c['gold_question_toks'])"
   ]
  },
  {
   "cell_type": "code",
   "execution_count": null,
   "metadata": {
    "scrolled": true
   },
   "outputs": [],
   "source": [
    "# for d in model_outputs[:50]:\n",
    "#     c = d[0]\n",
    "#     gold_question_nlp = nlp(c['gold_question'])\n",
    "#     if len(gold_question_nlp) != len(c['gold_question_toks']):\n",
    "#         print([str(tok) for tok in gold_question_nlp])\n",
    "#         print(c['gold_question_toks'])\n",
    "#         _, _matches = EditDistance([str(tok) for tok in gold_question_nlp], c['gold_question_toks'], matching_type=True)\n",
    "#         print(_matches)\n",
    "#         print()"
   ]
  },
  {
   "cell_type": "code",
   "execution_count": null,
   "metadata": {
    "scrolled": true
   },
   "outputs": [],
   "source": [
    "# for d in model_outputs[::100]:\n",
    "#     c = d[0]\n",
    "#     gold_question_nlp = nlp(c['gold_question'])\n",
    "# #     if len(gold_question_nlp) != len(c['gold_question_toks']):\n",
    "# #         print([str(tok) for tok in gold_question_nlp])\n",
    "# #         print(c['gold_question_toks'])\n",
    "\n",
    "#     print([str(tok) for tok in gold_question_nlp])\n",
    "#     print(c['question_toks'])\n",
    "    \n",
    "#     _, _matches = EditDistance([str(tok) for tok in gold_question_nlp], c['question_toks'], matching_type=True)\n",
    "#     print(_matches)\n",
    "#     print()\n",
    "    "
   ]
  },
  {
   "cell_type": "markdown",
   "metadata": {},
   "source": [
    "#### Error stats on different POS"
   ]
  },
  {
   "cell_type": "code",
   "execution_count": null,
   "metadata": {
    "scrolled": true
   },
   "outputs": [],
   "source": [
    "# # Dict[str: pos, Dict[str: ('corr', 'incorr', 'acc', etc.), int/float]]\n",
    "# stats_per_pos = defaultdict(lambda: defaultdict(int))\n",
    "# # Dict[str: pos, Dict[str: token, Counter[str: pred_token, int]]]\n",
    "# tokens_per_pos = defaultdict(lambda: defaultdict(Counter))\n",
    "\n",
    "# for d in tqdm(model_outputs):\n",
    "#     c = d[0]\n",
    "#     gold_question_nlp = nlp(c['gold_question'])\n",
    "# #     rewritten_question_nlp = nlp(c['question'])  # ASR, no fix\n",
    "#     rewritten_question_nlp = nlp(c['rewritten_question'])\n",
    "    \n",
    "#     gold_question_nlp_tokens = [str(tok) for tok in gold_question_nlp]\n",
    "#     rewritten_question_nlp_tokens = [str(tok) for tok in rewritten_question_nlp]\n",
    "\n",
    "#     _, _matches = EditDistance(gold_question_nlp_tokens, rewritten_question_nlp_tokens, matching_type=True)\n",
    "#     _is_matched_list = []\n",
    "#     _src_matches = []\n",
    "#     for _s, _t in _matches:\n",
    "#         if len(_s) == 0:\n",
    "#             # source empty token \n",
    "#             continue\n",
    "#         _m = (_s.lower() == _t.lower())\n",
    "#         _is_matched_list.append(_m)\n",
    "        \n",
    "#         _src_matches.append((_s.lower(), _t.lower()))\n",
    "        \n",
    "#     assert len(_is_matched_list) == len(_src_matches) == len(gold_question_nlp), \\\n",
    "#         f'{_is_matched_list}\\n{_src_matches}\\n{gold_question_nlp}'\n",
    "    \n",
    "#     for _tok, _m, (_s, _t) in zip(gold_question_nlp, _is_matched_list, _src_matches):\n",
    "#         _pos = _tok.pos_\n",
    "#         if _m:\n",
    "#             stats_per_pos[_pos]['corr'] += 1\n",
    "#         else:\n",
    "#             stats_per_pos[_pos]['incorr'] += 1\n",
    "        \n",
    "#         tokens_per_pos[_pos][_s][_t] += 1\n",
    "\n",
    "#     # inspect \n",
    "#     if c['original_id'] % 100 == 0:\n",
    "#         print(_matches)\n",
    "#         print(_src_matches)\n",
    "#         print(_is_matched_list)\n",
    "            \n",
    "# stats_per_pos.keys()\n",
    "    "
   ]
  },
  {
   "cell_type": "code",
   "execution_count": 298,
   "metadata": {},
   "outputs": [
    {
     "data": {
      "application/vnd.jupyter.widget-view+json": {
       "model_id": "6a7edd1666b340e983061479d594ee6d",
       "version_major": 2,
       "version_minor": 0
      },
      "text/plain": [
       "HBox(children=(IntProgress(value=0, max=547), HTML(value='')))"
      ]
     },
     "metadata": {},
     "output_type": "display_data"
    },
    {
     "name": "stdout",
     "output_type": "stream",
     "text": [
      "[('return', 'return'), ('the', 'the'), ('name', 'name'), ('of', 'of'), ('the', 'the'), ('airport', 'airport'), ('with', 'with'), ('co', 'code'), ('.', '.')]\n",
      "[('return', 'return'), ('the', 'the'), ('name', 'name'), ('of', 'of'), ('the', 'the'), ('airport', 'airport'), ('with', 'with'), ('code', 'code'), ('.', '.')]\n",
      "[('what', 'what'), ('is', 'is'), ('the', 'the'), ('name', 'name'), ('of', 'of'), ('each', 'each'), ('teacher', 'teacher'), ('and', 'and'), ('what', 'what'), ('course', 'course'), ('they', 'they'), ('teach', 'teach'), ('?', '?')]\n",
      "[('what', 'what'), ('is', 'is'), ('the', 'the'), ('name', 'name'), ('of', 'of'), ('each', 'each'), ('teacher', 'teacher'), ('and', 'and'), ('what', 'what'), ('course', 'course'), ('they', 'they'), ('teach', 'teach'), ('?', '?')]\n",
      "[('what', 'what'), ('are', 'are'), ('the', 'the'), ('names', 'names'), ('and', 'and'), ('areas', 'areas'), ('of', 'of'), ('countries', 'countries'), ('with', 'with'), ('the', 'the'), ('top', 'top'), ('five', '5'), ('largest', 'largest'), ('area', 'area'), ('?', '?')]\n",
      "[('what', 'what'), ('are', 'are'), ('the', 'the'), ('names', 'names'), ('and', 'and'), ('areas', 'areas'), ('of', 'of'), ('countries', 'countries'), ('with', 'with'), ('the', 'the'), ('top', 'top'), ('5', '5'), ('largest', 'largest'), ('area', 'area'), ('?', '?')]\n",
      "\n"
     ]
    }
   ],
   "source": [
    "IGNORE_I_D = False  # ignore source token it's, i d, etc. that correspond to id \n",
    "\n",
    "# Dict[str: pos, Dict[str: ('corr', 'incorr', 'acc', etc.), int/float]]\n",
    "stats_per_pos = defaultdict(lambda: defaultdict(int))  # key POS: gold, compared to rewritten \n",
    "stats_per_pos_ASR_raw = defaultdict(lambda: defaultdict(int))  # key POS: question (raw), compared to gold \n",
    "stats_per_pos_ASR = defaultdict(lambda: defaultdict(int))  # key POS: question (raw), rewritten compared to gold \n",
    "# Dict[str: pos, Dict[str: token, Counter[str: pred_token, int]]]\n",
    "tokens_per_pos = defaultdict(lambda: defaultdict(Counter))\n",
    "\n",
    "for d in tqdm(model_outputs):\n",
    "    c = d[0]\n",
    "    gold_question_nlp = nlp(c['gold_question'])\n",
    "    question_nlp = nlp(c['question'])  # ASR, no fix\n",
    "    rewritten_question_nlp = nlp(c['rewritten_question'])\n",
    "    \n",
    "    gold_question_nlp_tokens = [str(tok).lower() for tok in gold_question_nlp]\n",
    "    question_nlp_tokens = [str(tok).lower() for tok in question_nlp]\n",
    "    rewritten_question_nlp_tokens = [str(tok).lower() for tok in rewritten_question_nlp]\n",
    "\n",
    "    _, _matches = EditDistance(gold_question_nlp_tokens, rewritten_question_nlp_tokens, matching_type=True)\n",
    "    _g2r = dict()\n",
    "    _r2g = dict()\n",
    "    _gid = _rid = 0\n",
    "    for _g, _r in _matches:\n",
    "        if len(_g) == 0:\n",
    "            # _g empty, _r not empty \n",
    "            _r2g[_rid] = -1\n",
    "            _rid += 1\n",
    "        elif len(_r) == 0:\n",
    "            # _r empty, _g not empty \n",
    "            _g2r[_gid] = -1\n",
    "            _gid += 1\n",
    "        else:\n",
    "            _r2g[_rid] = _gid\n",
    "            _g2r[_gid] = _rid\n",
    "            _gid += 1\n",
    "            _rid += 1\n",
    "\n",
    "    _, _matches = EditDistance(question_nlp_tokens, rewritten_question_nlp_tokens, matching_type=True)\n",
    "    _q2r = dict()\n",
    "    _r2q = dict()\n",
    "    _qid = _rid = 0\n",
    "    for _q, _r in _matches:\n",
    "        if len(_q) == 0:\n",
    "            # _q empty, _r not empty \n",
    "            _r2q[_rid] = -1\n",
    "            _rid += 1\n",
    "        elif len(_r) == 0:\n",
    "            # _r empty, _q not empty \n",
    "            _q2r[_qid] = -1\n",
    "            _qid += 1\n",
    "        else:\n",
    "            _r2q[_rid] = _qid\n",
    "            _q2r[_qid] = _rid\n",
    "            _qid += 1\n",
    "            _rid += 1\n",
    "    \n",
    "#     assert len(_is_matched_list) == len(_src_matches) == len(gold_question_nlp), \\\n",
    "#         f'{_is_matched_list}\\n{_src_matches}\\n{gold_question_nlp}'\n",
    "\n",
    "    for _gid, _g_str in enumerate(gold_question_nlp_tokens):\n",
    "        _pos = gold_question_nlp[_gid].pos_\n",
    "        \n",
    "        _rid = _g2r[_gid]\n",
    "        if _rid == -1:\n",
    "            # aligned to empty \n",
    "            stats_per_pos[_pos]['incorr'] += 1\n",
    "            continue\n",
    "        # aligned to token \n",
    "        _r_str = rewritten_question_nlp_tokens[_rid]\n",
    "        tokens_per_pos[_pos][_g_str][_r_str] += 1\n",
    "        if _r_str == _g_str:\n",
    "            stats_per_pos[_pos]['corr'] += 1\n",
    "        else:\n",
    "            stats_per_pos[_pos]['incorr'] += 1\n",
    "        \n",
    "    for _qid, _q_str in enumerate(question_nlp_tokens):\n",
    "        if IGNORE_I_D and _q_str.lower() in [\"it's\", \"i\", \"d\"]:\n",
    "            continue\n",
    "            \n",
    "        _pos = question_nlp[_qid].pos_\n",
    "        \n",
    "        _rid = _q2r[_qid]\n",
    "        if _rid == -1:\n",
    "            # aligned to empty \n",
    "            stats_per_pos_ASR[_pos]['incorr'] += 1\n",
    "            stats_per_pos_ASR_raw[_pos]['incorr'] += 1\n",
    "            continue\n",
    "        _gid = _r2g[_rid]\n",
    "        if _gid == -1:\n",
    "            # aligned to empty \n",
    "            stats_per_pos_ASR[_pos]['incorr'] += 1\n",
    "            stats_per_pos_ASR_raw[_pos]['incorr'] += 1\n",
    "            continue\n",
    "        \n",
    "        # aligned to token \n",
    "        _r_str = rewritten_question_nlp_tokens[_rid]\n",
    "        _g_str = gold_question_nlp_tokens[_gid]\n",
    "        if _r_str == _g_str:\n",
    "            stats_per_pos_ASR[_pos]['corr'] += 1\n",
    "        else:\n",
    "            stats_per_pos_ASR[_pos]['incorr'] += 1\n",
    "            \n",
    "        if _q_str == _g_str:\n",
    "            stats_per_pos_ASR_raw[_pos]['corr'] += 1\n",
    "        else:\n",
    "            stats_per_pos_ASR_raw[_pos]['incorr'] += 1\n",
    "\n",
    "    # inspect \n",
    "    if c['original_id'] % 200 == 0:\n",
    "        print([(question_nlp_tokens[_qid], rewritten_question_nlp_tokens[_rid])\n",
    "               for _qid, _rid in _q2r.items() if _rid >= 0])\n",
    "        print([(rewritten_question_nlp_tokens[_rid], gold_question_nlp_tokens[_gid])\n",
    "               for _rid, _gid in _r2g.items() if _gid >= 0])\n",
    "            \n",
    "# stats_per_pos.keys()\n",
    "    "
   ]
  },
  {
   "cell_type": "code",
   "execution_count": 299,
   "metadata": {},
   "outputs": [
    {
     "data": {
      "text/plain": [
       "defaultdict(<function __main__.<lambda>()>,\n",
       "            {'VERB': defaultdict(int, {'corr': 492, 'incorr': 16}),\n",
       "             'DET': defaultdict(int, {'corr': 1057, 'incorr': 16}),\n",
       "             'NOUN': defaultdict(int, {'corr': 1766, 'incorr': 67}),\n",
       "             'ADP': defaultdict(int, {'corr': 792, 'incorr': 9}),\n",
       "             'AUX': defaultdict(int, {'corr': 518, 'incorr': 19}),\n",
       "             'ADJ': defaultdict(int, {'corr': 476, 'incorr': 11}),\n",
       "             'SCONJ': defaultdict(int, {'corr': 53, 'incorr': 5}),\n",
       "             'NUM': defaultdict(int, {'corr': 86, 'incorr': 24}),\n",
       "             'PUNCT': defaultdict(int, {'corr': 556, 'incorr': 186}),\n",
       "             'ADV': defaultdict(int, {'corr': 162, 'incorr': 1}),\n",
       "             'CCONJ': defaultdict(int, {'corr': 194, 'incorr': 23}),\n",
       "             'PRON': defaultdict(int, {'corr': 333, 'incorr': 2}),\n",
       "             'PROPN': defaultdict(int, {'incorr': 111, 'corr': 184}),\n",
       "             'PART': defaultdict(int, {'incorr': 8, 'corr': 51}),\n",
       "             'SPACE': defaultdict(int, {'incorr': 3}),\n",
       "             'INTJ': defaultdict(int, {'incorr': 1, 'corr': 3}),\n",
       "             'SYM': defaultdict(int, {'incorr': 1})})"
      ]
     },
     "execution_count": 299,
     "metadata": {},
     "output_type": "execute_result"
    }
   ],
   "source": [
    "stats_per_pos"
   ]
  },
  {
   "cell_type": "code",
   "execution_count": 300,
   "metadata": {},
   "outputs": [
    {
     "data": {
      "text/plain": [
       "defaultdict(<function __main__.<lambda>()>,\n",
       "            {'VERB': defaultdict(int, {'corr': 486, 'incorr': 22}),\n",
       "             'DET': defaultdict(int, {'corr': 1063, 'incorr': 30}),\n",
       "             'NOUN': defaultdict(int, {'corr': 1777, 'incorr': 98}),\n",
       "             'ADP': defaultdict(int, {'corr': 804, 'incorr': 20}),\n",
       "             'AUX': defaultdict(int, {'corr': 498, 'incorr': 21}),\n",
       "             'ADJ': defaultdict(int, {'corr': 478, 'incorr': 11}),\n",
       "             'SCONJ': defaultdict(int, {'corr': 53, 'incorr': 2}),\n",
       "             'NUM': defaultdict(int, {'corr': 88, 'incorr': 26}),\n",
       "             'PUNCT': defaultdict(int, {'corr': 516, 'incorr': 89}),\n",
       "             'ADV': defaultdict(int, {'corr': 165, 'incorr': 10}),\n",
       "             'CCONJ': defaultdict(int, {'corr': 173, 'incorr': 3}),\n",
       "             'PRON': defaultdict(int, {'corr': 313, 'incorr': 3}),\n",
       "             'PROPN': defaultdict(int, {'incorr': 98, 'corr': 178}),\n",
       "             'PART': defaultdict(int, {'corr': 54, 'incorr': 9}),\n",
       "             'INTJ': defaultdict(int, {'incorr': 3, 'corr': 3}),\n",
       "             'X': defaultdict(int, {'corr': 3, 'incorr': 1})})"
      ]
     },
     "execution_count": 300,
     "metadata": {},
     "output_type": "execute_result"
    }
   ],
   "source": [
    "stats_per_pos_ASR"
   ]
  },
  {
   "cell_type": "code",
   "execution_count": 301,
   "metadata": {},
   "outputs": [
    {
     "data": {
      "text/plain": [
       "defaultdict(<function __main__.<lambda>()>,\n",
       "            {'VERB': defaultdict(int, {'corr': 464, 'incorr': 44}),\n",
       "             'DET': defaultdict(int, {'corr': 1050, 'incorr': 43}),\n",
       "             'NOUN': defaultdict(int, {'corr': 1739, 'incorr': 136}),\n",
       "             'ADP': defaultdict(int, {'corr': 787, 'incorr': 37}),\n",
       "             'AUX': defaultdict(int, {'corr': 486, 'incorr': 33}),\n",
       "             'ADJ': defaultdict(int, {'corr': 479, 'incorr': 10}),\n",
       "             'SCONJ': defaultdict(int, {'corr': 53, 'incorr': 2}),\n",
       "             'NUM': defaultdict(int, {'corr': 71, 'incorr': 43}),\n",
       "             'PUNCT': defaultdict(int, {'corr': 403, 'incorr': 202}),\n",
       "             'ADV': defaultdict(int, {'corr': 166, 'incorr': 9}),\n",
       "             'CCONJ': defaultdict(int, {'corr': 174, 'incorr': 2}),\n",
       "             'PRON': defaultdict(int, {'corr': 300, 'incorr': 16}),\n",
       "             'PROPN': defaultdict(int, {'incorr': 79, 'corr': 197}),\n",
       "             'PART': defaultdict(int, {'corr': 55, 'incorr': 8}),\n",
       "             'INTJ': defaultdict(int, {'incorr': 2, 'corr': 4}),\n",
       "             'X': defaultdict(int, {'corr': 3, 'incorr': 1})})"
      ]
     },
     "execution_count": 301,
     "metadata": {},
     "output_type": "execute_result"
    }
   ],
   "source": [
    "stats_per_pos_ASR_raw"
   ]
  },
  {
   "cell_type": "code",
   "execution_count": 291,
   "metadata": {
    "scrolled": false
   },
   "outputs": [
    {
     "data": {
      "text/plain": [
       "defaultdict(collections.Counter,\n",
       "            {'not': Counter({'not': 46}),\n",
       "             'to': Counter({'to': 4}),\n",
       "             '’s': Counter({\"'s\": 1}),\n",
       "             \"'s\": Counter({'are': 1, \"'s\": 1})})"
      ]
     },
     "execution_count": 291,
     "metadata": {},
     "output_type": "execute_result"
    }
   ],
   "source": [
    "tokens_per_pos['PART']"
   ]
  },
  {
   "cell_type": "code",
   "execution_count": 388,
   "metadata": {
    "scrolled": true
   },
   "outputs": [
    {
     "data": {
      "text/plain": [
       "defaultdict(<function __main__.<lambda>()>,\n",
       "            {'VERB': defaultdict(int, {'corr': 491, 'incorr': 17}),\n",
       "             'DET': defaultdict(int, {'corr': 1057, 'incorr': 16}),\n",
       "             'NOUN': defaultdict(int, {'corr': 1749, 'incorr': 84}),\n",
       "             'ADP': defaultdict(int, {'corr': 791, 'incorr': 10}),\n",
       "             'AUX': defaultdict(int, {'corr': 507, 'incorr': 30}),\n",
       "             'ADJ': defaultdict(int, {'corr': 477, 'incorr': 10}),\n",
       "             'SCONJ': defaultdict(int, {'corr': 52, 'incorr': 6}),\n",
       "             'NUM': defaultdict(int, {'corr': 78, 'incorr': 32}),\n",
       "             'PUNCT': defaultdict(int, {'corr': 548, 'incorr': 194}),\n",
       "             'ADV': defaultdict(int, {'corr': 160, 'incorr': 3}),\n",
       "             'CCONJ': defaultdict(int, {'corr': 194, 'incorr': 23}),\n",
       "             'PRON': defaultdict(int, {'corr': 324, 'incorr': 11}),\n",
       "             'PROPN': defaultdict(int, {'corr': 180, 'incorr': 115}),\n",
       "             'PART': defaultdict(int, {'incorr': 8, 'corr': 51}),\n",
       "             'SPACE': defaultdict(int, {'incorr': 3}),\n",
       "             'INTJ': defaultdict(int, {'corr': 4}),\n",
       "             'SYM': defaultdict(int, {'incorr': 1})})"
      ]
     },
     "execution_count": 388,
     "metadata": {},
     "output_type": "execute_result"
    }
   ],
   "source": [
    "# (2.6.0) stats_per_pos"
   ]
  },
  {
   "cell_type": "code",
   "execution_count": 389,
   "metadata": {},
   "outputs": [
    {
     "data": {
      "text/plain": [
       "defaultdict(collections.Counter,\n",
       "            {\"'\": Counter({'': 3, '`': 1}),\n",
       "             'not': Counter({'not': 46}),\n",
       "             'to': Counter({'to': 4}),\n",
       "             \"'s\": Counter({\"'s\": 1, '': 2}),\n",
       "             '’s': Counter({'': 2})})"
      ]
     },
     "execution_count": 389,
     "metadata": {},
     "output_type": "execute_result"
    }
   ],
   "source": [
    "# (2.6.0) tokens_per_pos['PART']"
   ]
  },
  {
   "cell_type": "code",
   "execution_count": 302,
   "metadata": {},
   "outputs": [],
   "source": [
    "for _pos, _stats in stats_per_pos.items():\n",
    "    _total = _stats['corr'] + _stats['incorr']\n",
    "    _acc = _stats['corr'] / _total\n",
    "    \n",
    "    stats_per_pos[_pos]['total'] = _total\n",
    "    stats_per_pos[_pos]['acc'] = _acc"
   ]
  },
  {
   "cell_type": "code",
   "execution_count": 303,
   "metadata": {},
   "outputs": [
    {
     "name": "stdout",
     "output_type": "stream",
     "text": [
      "VERB  \t 492\t  16\t 508\t0.9685\n",
      "DET   \t1057\t  16\t1073\t0.9851\n",
      "NOUN  \t1766\t  67\t1833\t0.9634\n",
      "ADP   \t 792\t   9\t 801\t0.9888\n",
      "AUX   \t 518\t  19\t 537\t0.9646\n",
      "ADJ   \t 476\t  11\t 487\t0.9774\n",
      "SCONJ \t  53\t   5\t  58\t0.9138\n",
      "NUM   \t  86\t  24\t 110\t0.7818\n",
      "PUNCT \t 556\t 186\t 742\t0.7493\n",
      "ADV   \t 162\t   1\t 163\t0.9939\n",
      "CCONJ \t 194\t  23\t 217\t0.8940\n",
      "PRON  \t 333\t   2\t 335\t0.9940\n",
      "PROPN \t 184\t 111\t 295\t0.6237\n",
      "PART  \t  51\t   8\t  59\t0.8644\n",
      "SPACE \t   0\t   3\t   3\t0.0000\n",
      "INTJ  \t   3\t   1\t   4\t0.7500\n",
      "SYM   \t   0\t   1\t   1\t0.0000\n"
     ]
    }
   ],
   "source": [
    "# sorted(stats_per_pos.items(), key=lambda it : it[1]['acc'])\n",
    "# Will post-process in excel, don't sort \n",
    "for _pos, _stats in stats_per_pos.items():\n",
    "    print(f\"{_pos:<6s}\\t{_stats['corr']:4d}\\t{_stats['incorr']:4d}\\t{_stats['total']:4d}\\t{_stats['acc']:.4f}\")"
   ]
  },
  {
   "cell_type": "code",
   "execution_count": 304,
   "metadata": {},
   "outputs": [],
   "source": [
    "for _pos, _stats in stats_per_pos_ASR.items():\n",
    "    _total = _stats['corr'] + _stats['incorr']\n",
    "    _acc = _stats['corr'] / _total\n",
    "    \n",
    "    stats_per_pos_ASR[_pos]['total'] = _total\n",
    "    stats_per_pos_ASR[_pos]['acc'] = _acc"
   ]
  },
  {
   "cell_type": "code",
   "execution_count": 305,
   "metadata": {},
   "outputs": [
    {
     "name": "stdout",
     "output_type": "stream",
     "text": [
      "VERB  \t 486\t  22\t 508\t0.9567\n",
      "DET   \t1063\t  30\t1093\t0.9726\n",
      "NOUN  \t1777\t  98\t1875\t0.9477\n",
      "ADP   \t 804\t  20\t 824\t0.9757\n",
      "AUX   \t 498\t  21\t 519\t0.9595\n",
      "ADJ   \t 478\t  11\t 489\t0.9775\n",
      "SCONJ \t  53\t   2\t  55\t0.9636\n",
      "NUM   \t  88\t  26\t 114\t0.7719\n",
      "PUNCT \t 516\t  89\t 605\t0.8529\n",
      "ADV   \t 165\t  10\t 175\t0.9429\n",
      "CCONJ \t 173\t   3\t 176\t0.9830\n",
      "PRON  \t 313\t   3\t 316\t0.9905\n",
      "PROPN \t 178\t  98\t 276\t0.6449\n",
      "PART  \t  54\t   9\t  63\t0.8571\n",
      "INTJ  \t   3\t   3\t   6\t0.5000\n",
      "X     \t   3\t   1\t   4\t0.7500\n"
     ]
    }
   ],
   "source": [
    "for _pos, _stats in stats_per_pos_ASR.items():\n",
    "    print(f\"{_pos:<6s}\\t{_stats['corr']:4d}\\t{_stats['incorr']:4d}\\t{_stats['total']:4d}\\t{_stats['acc']:.4f}\")"
   ]
  },
  {
   "cell_type": "code",
   "execution_count": 306,
   "metadata": {},
   "outputs": [],
   "source": [
    "for _pos, _stats in stats_per_pos_ASR_raw.items():\n",
    "    _total = _stats['corr'] + _stats['incorr']\n",
    "    _acc = _stats['corr'] / _total\n",
    "    \n",
    "    _stats['total'] = _total\n",
    "    _stats['acc'] = _acc"
   ]
  },
  {
   "cell_type": "code",
   "execution_count": 307,
   "metadata": {},
   "outputs": [
    {
     "name": "stdout",
     "output_type": "stream",
     "text": [
      "VERB  \t 464\t  44\t 508\t0.9134\n",
      "DET   \t1050\t  43\t1093\t0.9607\n",
      "NOUN  \t1739\t 136\t1875\t0.9275\n",
      "ADP   \t 787\t  37\t 824\t0.9551\n",
      "AUX   \t 486\t  33\t 519\t0.9364\n",
      "ADJ   \t 479\t  10\t 489\t0.9796\n",
      "SCONJ \t  53\t   2\t  55\t0.9636\n",
      "NUM   \t  71\t  43\t 114\t0.6228\n",
      "PUNCT \t 403\t 202\t 605\t0.6661\n",
      "ADV   \t 166\t   9\t 175\t0.9486\n",
      "CCONJ \t 174\t   2\t 176\t0.9886\n",
      "PRON  \t 300\t  16\t 316\t0.9494\n",
      "PROPN \t 197\t  79\t 276\t0.7138\n",
      "PART  \t  55\t   8\t  63\t0.8730\n",
      "INTJ  \t   4\t   2\t   6\t0.6667\n",
      "X     \t   3\t   1\t   4\t0.7500\n"
     ]
    }
   ],
   "source": [
    "for _pos, _stats in stats_per_pos_ASR_raw.items():\n",
    "    print(f\"{_pos:<6s}\\t{_stats['corr']:4d}\\t{_stats['incorr']:4d}\\t{_stats['total']:4d}\\t{_stats['acc']:.4f}\")"
   ]
  },
  {
   "cell_type": "markdown",
   "metadata": {},
   "source": [
    "#### Error stats per POS - re-implemented\n",
    "- Now always use the POS of gold tokens\n",
    "- Use EditDistance return_pairs_idx=True"
   ]
  },
  {
   "cell_type": "code",
   "execution_count": 196,
   "metadata": {},
   "outputs": [
    {
     "data": {
      "text/plain": [
       "(547,\n",
       " dict_keys(['db_id', 'query', 'query_toks', 'query_toks_no_value', 'question', 'question_toks', 'sql', 'span_ranges', 'original_id', 'ratsql_pred_sql', 'gold_question', 'gold_question_toks', 'ratsql_pred_exact', 'ratsql_pred_score', 'question_toks_edit_distance', 'alignment_span_pairs', 'alignment_text_pairs', 'rewriter_tags', 'rewriter_edits', 'token_phonemes', 'token_phoneme_spans', 'predicted_rewriter_tags', 'asr_question', 'asr_question_toks', 'rewritten_question', 'pred_sql', 'score', 'exact', 'exec']))"
      ]
     },
     "execution_count": 196,
     "metadata": {},
     "output_type": "execute_result"
    }
   ],
   "source": [
    "# VERSION = '2.12.1.3t-2.31.0.3i'\n",
    "VERSION = '2.12.1.1t-2.33.5.1i'\n",
    "\n",
    "output_dir = '/Users/mac/Desktop/syt/Deep-Learning/Projects-M/SpeakQL/SpeakQL/Allennlp_models/outputs'\n",
    "\n",
    "model_output_path = os.path.join(output_dir, 'ratsql-test-save', f'{VERSION}.json')\n",
    "# compare_output_path = os.path.join(output_dir, 'ratsql-asr-test-save', 'First-cands.json')\n",
    "\n",
    "with open(model_output_path, 'r') as f:\n",
    "    model_outputs = json.load(f)\n",
    "\n",
    "len(model_outputs), model_outputs[0][0].keys()\n"
   ]
  },
  {
   "cell_type": "code",
   "execution_count": 197,
   "metadata": {},
   "outputs": [],
   "source": [
    "# for d in tqdm(model_outputs):\n",
    "#     c = d[0]\n",
    "#     if c['rewritten_question'] != c['question']:\n",
    "#         print(c)\n",
    "#         break"
   ]
  },
  {
   "cell_type": "code",
   "execution_count": 203,
   "metadata": {},
   "outputs": [
    {
     "data": {
      "application/vnd.jupyter.widget-view+json": {
       "model_id": "5378263049214d4d9d741fd66de9154e",
       "version_major": 2,
       "version_minor": 0
      },
      "text/plain": [
       "HBox(children=(IntProgress(value=0, max=547), HTML(value='')))"
      ]
     },
     "metadata": {},
     "output_type": "display_data"
    },
    {
     "name": "stdout",
     "output_type": "stream",
     "text": [
      "[('return', 'return'), ('the', 'the'), ('name', 'name'), ('of', 'of'), ('the', 'the'), ('airport', 'airport'), ('with', 'with'), ('co', 'code'), ('.', \"'\"), ('oh', 'ako'), ('', \"'\"), ('.', '.')]\n",
      "[('return', 'return'), ('the', 'the'), ('name', 'name'), ('of', 'of'), ('the', 'the'), ('airport', 'airport'), ('with', 'with'), ('code', 'code'), ('\"', \"'\"), ('afo', 'ako'), ('', \"'\"), ('.', '.')]\n",
      "[('what', 'what'), ('is', 'is'), ('the', 'the'), ('name', 'name'), ('of', 'of'), ('each', 'each'), ('teacher', 'teacher'), ('and', 'and'), ('what', 'what'), ('course', 'course'), ('they', 'they'), ('teach', 'teach'), ('?', '?')]\n",
      "[('what', 'what'), ('is', 'is'), ('the', 'the'), ('name', 'name'), ('of', 'of'), ('each', 'each'), ('teacher', 'teacher'), ('and', 'and'), ('what', 'what'), ('course', 'course'), ('they', 'they'), ('teach', 'teach'), ('?', '?')]\n",
      "[('what', 'what'), ('are', 'are'), ('the', 'the'), ('names', 'names'), ('and', 'and'), ('areas', 'areas'), ('of', 'of'), ('countries', 'countries'), ('with', 'with'), ('the', 'the'), ('top', 'top'), ('five', '5'), ('largest', 'largest'), ('area', 'area'), ('?', '?')]\n",
      "[('what', 'what'), ('are', 'are'), ('the', 'the'), ('names', 'names'), ('and', 'and'), ('areas', 'areas'), ('of', 'of'), ('countries', 'countries'), ('with', 'with'), ('the', 'the'), ('top', 'top'), ('5', '5'), ('largest', 'largest'), ('area', 'area'), ('?', '?')]\n",
      "\n"
     ]
    }
   ],
   "source": [
    "IGNORE_I_D = False  # ignore source token it's, i d, etc. that correspond to id \n",
    "\n",
    "# Dict[str: pos, Dict[str: ('corr', 'incorr', 'acc', etc.), int/float]]\n",
    "# stats_per_pos = defaultdict(lambda: defaultdict(int))  # key POS: gold, compared to rewritten \n",
    "stats_per_pos_ASR_raw = defaultdict(lambda: defaultdict(int))  # key POS: gold, compared to question (raw)\n",
    "stats_per_pos_ASR_rewritten = defaultdict(lambda: defaultdict(int))  # key POS: gold, compared to question (rewritten)\n",
    "# Dict[str: pos, Dict[str: token, Counter[str: pred_token, int]]]\n",
    "tokens_per_pos_raw = defaultdict(lambda: defaultdict(Counter))\n",
    "tokens_per_pos_rewritten = defaultdict(lambda: defaultdict(Counter))\n",
    "\n",
    "\n",
    "for d in tqdm(model_outputs):\n",
    "    c = d[0]\n",
    "    gold_question_nlp = nlp(c['gold_question'])\n",
    "    question_nlp = nlp(c['asr_question'])  # ASR, no fix\n",
    "#     question_nlp = nlp(c['question'])  # ASR, no fix\n",
    "    rewritten_question_nlp = nlp(c['rewritten_question'])\n",
    "    \n",
    "    gold_question_nlp_tokens = [str(tok).lower() for tok in gold_question_nlp]\n",
    "    question_nlp_tokens = [str(tok).lower() for tok in question_nlp]\n",
    "    rewritten_question_nlp_tokens = [str(tok).lower() for tok in rewritten_question_nlp]\n",
    "\n",
    "    _, _matches = EditDistance(gold_question_nlp_tokens, rewritten_question_nlp_tokens,\n",
    "                               matching_type=True, return_pairs_idx=True)\n",
    "    _g2r = dict() # gold token idx -> rewritten token idx \n",
    "    _r2g = dict()\n",
    "    for _g, _r in _matches:\n",
    "        if _g != -1:\n",
    "            # _g not empty \n",
    "            _g2r[_g] = _r\n",
    "        if _r != -1:\n",
    "            # _r not empty \n",
    "            _r2g[_r] = _g\n",
    "\n",
    "    _, _matches = EditDistance(gold_question_nlp_tokens, question_nlp_tokens,\n",
    "                               matching_type=True, return_pairs_idx=True)\n",
    "    _g2q = dict()\n",
    "    _q2g = dict()\n",
    "    for _g, _q in _matches:\n",
    "        if _g != -1:\n",
    "            # _g not empty \n",
    "            _g2q[_g] = _q\n",
    "        if _q != -1:\n",
    "            # _q not empty \n",
    "            _q2g[_q] = _g\n",
    "    \n",
    "#     assert len(_is_matched_list) == len(_src_matches) == len(gold_question_nlp), \\\n",
    "#         f'{_is_matched_list}\\n{_src_matches}\\n{gold_question_nlp}'\n",
    "\n",
    "    for _gid, _g_str in enumerate(gold_question_nlp_tokens):\n",
    "        _pos = gold_question_nlp[_gid].pos_\n",
    "        \n",
    "        _rid = _g2r[_gid]\n",
    "        if _rid == -1:\n",
    "            # aligned to empty \n",
    "            stats_per_pos_ASR_rewritten[_pos]['incorr'] += 1\n",
    "            tokens_per_pos_rewritten[_pos][_g_str][''] += 1\n",
    "        else:\n",
    "            # aligned to token \n",
    "            _r_str = rewritten_question_nlp_tokens[_rid]\n",
    "            tokens_per_pos_rewritten[_pos][_g_str][_r_str] += 1\n",
    "            if _r_str == _g_str:\n",
    "                stats_per_pos_ASR_rewritten[_pos]['corr'] += 1\n",
    "            else:\n",
    "                stats_per_pos_ASR_rewritten[_pos]['incorr'] += 1\n",
    "        \n",
    "        _qid = _g2q[_gid]\n",
    "        if _qid == -1:\n",
    "            # aligned to empty \n",
    "            stats_per_pos_ASR_raw[_pos]['incorr'] += 1\n",
    "            tokens_per_pos_raw[_pos][_g_str][''] += 1\n",
    "        else:\n",
    "            # aligned to token \n",
    "            _q_str = question_nlp_tokens[_qid]\n",
    "            tokens_per_pos_raw[_pos][_g_str][_q_str] += 1\n",
    "            if _q_str == _g_str:\n",
    "                stats_per_pos_ASR_raw[_pos]['corr'] += 1\n",
    "            else:\n",
    "                stats_per_pos_ASR_raw[_pos]['incorr'] += 1\n",
    "        \n",
    "    \n",
    "    # inspect \n",
    "    if c['original_id'] % 200 == 0:\n",
    "        print([(question_nlp_tokens[_qid] if _qid >= 0 else '', gold_question_nlp_tokens[_gid])\n",
    "               for _gid, _qid in _g2q.items() if _gid >= 0])\n",
    "        print([(rewritten_question_nlp_tokens[_rid] if _rid >= 0 else '', gold_question_nlp_tokens[_gid])\n",
    "               for _gid, _rid in _g2r.items() if _gid >= 0])\n",
    "            \n",
    "# stats_per_pos.keys()\n",
    "    "
   ]
  },
  {
   "cell_type": "code",
   "execution_count": 204,
   "metadata": {},
   "outputs": [
    {
     "data": {
      "text/plain": [
       "defaultdict(<function __main__.<lambda>()>,\n",
       "            {'VERB': defaultdict(int, {'corr': 474, 'incorr': 34}),\n",
       "             'DET': defaultdict(int, {'corr': 1053, 'incorr': 20}),\n",
       "             'NOUN': defaultdict(int, {'corr': 1736, 'incorr': 97}),\n",
       "             'ADP': defaultdict(int, {'corr': 792, 'incorr': 9}),\n",
       "             'AUX': defaultdict(int, {'corr': 490, 'incorr': 47}),\n",
       "             'ADJ': defaultdict(int, {'corr': 480, 'incorr': 7}),\n",
       "             'SCONJ': defaultdict(int, {'corr': 51, 'incorr': 7}),\n",
       "             'NUM': defaultdict(int, {'corr': 71, 'incorr': 39}),\n",
       "             'PUNCT': defaultdict(int, {'corr': 409, 'incorr': 333}),\n",
       "             'ADV': defaultdict(int, {'corr': 160, 'incorr': 3}),\n",
       "             'CCONJ': defaultdict(int, {'corr': 173, 'incorr': 44}),\n",
       "             'PRON': defaultdict(int, {'corr': 304, 'incorr': 31}),\n",
       "             'PROPN': defaultdict(int, {'incorr': 87, 'corr': 208}),\n",
       "             'PART': defaultdict(int, {'incorr': 6, 'corr': 53}),\n",
       "             'SPACE': defaultdict(int, {'incorr': 3}),\n",
       "             'INTJ': defaultdict(int, {'corr': 4}),\n",
       "             'SYM': defaultdict(int, {'incorr': 1})})"
      ]
     },
     "execution_count": 204,
     "metadata": {},
     "output_type": "execute_result"
    }
   ],
   "source": [
    "stats_per_pos_ASR_raw"
   ]
  },
  {
   "cell_type": "code",
   "execution_count": 205,
   "metadata": {},
   "outputs": [
    {
     "data": {
      "text/plain": [
       "defaultdict(<function __main__.<lambda>()>,\n",
       "            {'VERB': defaultdict(int, {'corr': 497, 'incorr': 11}),\n",
       "             'DET': defaultdict(int, {'corr': 1058, 'incorr': 15}),\n",
       "             'NOUN': defaultdict(int, {'corr': 1782, 'incorr': 51}),\n",
       "             'ADP': defaultdict(int, {'corr': 791, 'incorr': 10}),\n",
       "             'AUX': defaultdict(int, {'corr': 514, 'incorr': 23}),\n",
       "             'ADJ': defaultdict(int, {'corr': 478, 'incorr': 9}),\n",
       "             'SCONJ': defaultdict(int, {'corr': 54, 'incorr': 4}),\n",
       "             'NUM': defaultdict(int, {'corr': 89, 'incorr': 21}),\n",
       "             'PUNCT': defaultdict(int, {'corr': 560, 'incorr': 182}),\n",
       "             'ADV': defaultdict(int, {'corr': 163}),\n",
       "             'CCONJ': defaultdict(int, {'corr': 205, 'incorr': 12}),\n",
       "             'PRON': defaultdict(int, {'corr': 328, 'incorr': 7}),\n",
       "             'PROPN': defaultdict(int, {'incorr': 70, 'corr': 225}),\n",
       "             'PART': defaultdict(int, {'incorr': 8, 'corr': 51}),\n",
       "             'SPACE': defaultdict(int, {'incorr': 3}),\n",
       "             'INTJ': defaultdict(int, {'corr': 4}),\n",
       "             'SYM': defaultdict(int, {'incorr': 1})})"
      ]
     },
     "execution_count": 205,
     "metadata": {},
     "output_type": "execute_result"
    }
   ],
   "source": [
    "stats_per_pos_ASR_rewritten"
   ]
  },
  {
   "cell_type": "code",
   "execution_count": 206,
   "metadata": {},
   "outputs": [
    {
     "name": "stdout",
     "output_type": "stream",
     "text": [
      "PUNCT \t0.7547\n",
      "NUM   \t0.8091\n",
      "VERB  \t0.9783\n",
      "PRON  \t0.9791\n",
      "ADP   \t0.9875\n",
      "NOUN  \t0.9722\n",
      "AUX   \t0.9572\n",
      "DET   \t0.9860\n",
      "SCONJ \t0.9310\n",
      "PART  \t0.8644\n",
      "ADJ   \t0.9815\n",
      "CCONJ \t0.9447\n",
      "ADV   \t1.0000\n",
      "PROPN \t0.7627\n",
      "SPACE \t0.0000\n",
      "INTJ  \t1.0000\n",
      "SYM   \t0.0000\n"
     ]
    }
   ],
   "source": [
    "for _pos, _stats in sorted(stats_per_pos_ASR_rewritten.items(), key=lambda p: POS2idx[p[0]]):\n",
    "    _total = _stats['corr'] + _stats['incorr']\n",
    "    _acc = _stats['corr'] / (_total + 1e-9)\n",
    "    \n",
    "    print(f\"{_pos:<6s}\\t{_acc:.4f}\")\n",
    "    "
   ]
  },
  {
   "cell_type": "code",
   "execution_count": 207,
   "metadata": {},
   "outputs": [
    {
     "data": {
      "text/plain": [
       "defaultdict(collections.Counter,\n",
       "            {'f': Counter({'f.': 1}),\n",
       "             'ids': Counter({'odds': 5, '': 4, 'ids': 4, 'it': 5, 'is': 1}),\n",
       "             'smith': Counter({'smith': 2}),\n",
       "             'airline': Counter({'airline': 3}),\n",
       "             'jetblue': Counter({'jetblue': 5, 'check': 1}),\n",
       "             'airways': Counter({'airways': 6}),\n",
       "             'usa': Counter({'u.': 7, 'usa': 1}),\n",
       "             'anthony': Counter({'anthony': 2}),\n",
       "             'ual': Counter({\"you'il\": 1, 'you': 1}),\n",
       "             'alton': Counter({'often': 1, 'alton': 1}),\n",
       "             'ako': Counter({'taco': 1, 'oh': 1}),\n",
       "             'city': Counter({'city': 7}),\n",
       "             'aberdeen': Counter({'aberdeen': 16}),\n",
       "             'apg': Counter({'a': 8}),\n",
       "             'ato': Counter({'auto': 2}),\n",
       "             'ashley': Counter({'ashley': 2}),\n",
       "             'united': Counter({'united': 8}),\n",
       "             'airlines': Counter({'airlines': 8}),\n",
       "             'airport': Counter({'airport': 4, 'yes': 1, 'airports': 1}),\n",
       "             'asy': Counter({'asi': 1, 'a': 1}),\n",
       "             'ahd': Counter({'hd': 5, 'a': 1}),\n",
       "             'cvo': Counter({'cbo': 3, 'cdo': 1}),\n",
       "             'abilene': Counter({'abilene': 2}),\n",
       "             'w': Counter({'w': 1}),\n",
       "             'robbin': Counter({'robin': 2}),\n",
       "             'cv': Counter({'cv': 2}),\n",
       "             'ppt': Counter({'ppt': 1, 'p': 2, 'a': 1}),\n",
       "             'show': Counter({'showings': 1, 'show': 4}),\n",
       "             'templates': Counter({'templates': 1}),\n",
       "             'pp': Counter({'p': 1, 'peop': 1}),\n",
       "             'data': Counter({'database': 1}),\n",
       "             'bk': Counter({'b': 2}),\n",
       "             'book': Counter({'book': 2}),\n",
       "             'presentation': Counter({'presentation': 2}),\n",
       "             'summer': Counter({'summer': 2}),\n",
       "             'korea': Counter({'korea': 2}),\n",
       "             'ny': Counter({'n.': 2}),\n",
       "             'd': Counter({'d.': 1}),\n",
       "             'brazil': Counter({'brazil': 4}),\n",
       "             'ireland': Counter({'ireland': 2}),\n",
       "             'lever': Counter({'lever': 1, 'ever': 1}),\n",
       "             'urban': Counter({'urban': 2}),\n",
       "             'district': Counter({'district': 2}),\n",
       "             'plaza': Counter({'plaza': 1}),\n",
       "             'museum': Counter({'museum': 1}),\n",
       "             'wta': Counter({'w': 4}),\n",
       "             'championships': Counter({'championships': 4}),\n",
       "             'australian': Counter({'australian': 4}),\n",
       "             'open': Counter({'open': 2}),\n",
       "             'ca': Counter({'c': 2}),\n",
       "             'jessie': Counter({'jesse': 1}),\n",
       "             'alloway': Counter({'ala': 1}),\n",
       "             'tabatha': Counter({'tabatha': 2}),\n",
       "             'gehling': Counter({'gelling': 2}),\n",
       "             'kelly': Counter({'kelly': 1}),\n",
       "             'clauss': Counter({'kloss': 1}),\n",
       "             'al': Counter({'al': 1}),\n",
       "             'anguilla': Counter({'anguilla': 1}),\n",
       "             'kabul': Counter({'kabo': 1, 'kabul': 1}),\n",
       "             'aruba': Counter({'aruba': 4}),\n",
       "             'angola': Counter({'angola': 2}),\n",
       "             'central': Counter({'central': 2}),\n",
       "             'africa': Counter({'africa': 7}),\n",
       "             'asia': Counter({'asia': 11}),\n",
       "             'gnp': Counter({'gnp': 3}),\n",
       "             'europe': Counter({'europe': 7}),\n",
       "             'gelderland': Counter({'gelderland': 2}),\n",
       "             'us': Counter({'u.': 1, 'us': 1}),\n",
       "             'afghanistan': Counter({'afghanistan': 2}),\n",
       "             'english': Counter({'english': 21}),\n",
       "             'dutch': Counter({'dutch': 2, 'that': 1}),\n",
       "             'french': Counter({'french': 4}),\n",
       "             'chinese': Counter({'chinese': 4}),\n",
       "             'beatrix': Counter({'beatrix': 1, 'via': 1}),\n",
       "             'republic': Counter({'republic': 1}),\n",
       "             'republics': Counter({'republics': 1}),\n",
       "             'north': Counter({'north': 1}),\n",
       "             'america': Counter({'america': 2}),\n",
       "             'noth': Counter({'north': 1}),\n",
       "             'spanish': Counter({'spanish': 4}),\n",
       "             'dvd': Counter({'dvd': 1}),\n",
       "             'kyle': Counter({'': 1, 'kyle': 8, 'i': 1}),\n",
       "             'id': Counter({'idea': 1})})"
      ]
     },
     "execution_count": 207,
     "metadata": {},
     "output_type": "execute_result"
    }
   ],
   "source": [
    "tokens_per_pos_raw['PROPN']"
   ]
  },
  {
   "cell_type": "code",
   "execution_count": 208,
   "metadata": {},
   "outputs": [
    {
     "data": {
      "text/plain": [
       "defaultdict(collections.Counter,\n",
       "            {'f': Counter({'f.': 1}),\n",
       "             'ids': Counter({'ids': 17, 'i': 1, '': 1}),\n",
       "             'smith': Counter({'smith': 2}),\n",
       "             'airline': Counter({'airline': 3}),\n",
       "             'jetblue': Counter({'jetblue': 5, 'check': 1}),\n",
       "             'airways': Counter({'airways': 6}),\n",
       "             'usa': Counter({'alyeska': 1,\n",
       "                      'usd': 3,\n",
       "                      'us': 1,\n",
       "                      '': 1,\n",
       "                      'usa': 2}),\n",
       "             'anthony': Counter({'anthony': 1, 'afton': 1}),\n",
       "             'ual': Counter({'we': 1, '': 1}),\n",
       "             'alton': Counter({'often': 1, 'alton': 1}),\n",
       "             'ako': Counter({'co': 1, 'afo': 1}),\n",
       "             'city': Counter({'city': 7}),\n",
       "             'aberdeen': Counter({'aberdeen': 16}),\n",
       "             'apg': Counter({'akw': 1, '80': 4, 'a': 1, 'but': 1, '‘': 1}),\n",
       "             'ato': Counter({'@@unknown@@': 1, 'alton': 1}),\n",
       "             'ashley': Counter({'ashley': 2}),\n",
       "             'united': Counter({'united': 8}),\n",
       "             'airlines': Counter({'airlines': 7, 'airline': 1}),\n",
       "             'airport': Counter({'airport': 5, 'airports': 1}),\n",
       "             'asy': Counter({'': 1, '80': 1}),\n",
       "             'ahd': Counter({'hd': 2, '80': 1, 'aged': 1, 'nyc': 1, 'ada': 1}),\n",
       "             'cvo': Counter({'spb': 2, '': 1, 'cvo': 1}),\n",
       "             'abilene': Counter({'abilene': 2}),\n",
       "             'w': Counter({'w': 1}),\n",
       "             'robbin': Counter({'robin': 2}),\n",
       "             'cv': Counter({'': 1, 'meaghan': 1}),\n",
       "             'ppt': Counter({'ppt': 2, '': 1, '80': 1}),\n",
       "             'show': Counter({'show': 5}),\n",
       "             'templates': Counter({'templates': 1}),\n",
       "             'pp': Counter({'ppt': 2}),\n",
       "             'data': Counter({'database': 1}),\n",
       "             'bk': Counter({'bk': 2}),\n",
       "             'book': Counter({'book': 2}),\n",
       "             'presentation': Counter({'presentation': 2}),\n",
       "             'summer': Counter({'summer': 2}),\n",
       "             'korea': Counter({'korea': 2}),\n",
       "             'ny': Counter({'n.': 1, 'in': 1}),\n",
       "             'd': Counter({'d': 1}),\n",
       "             'brazil': Counter({'brazil': 4}),\n",
       "             'ireland': Counter({'ireland': 2}),\n",
       "             'lever': Counter({'lever': 2}),\n",
       "             'urban': Counter({'urban': 2}),\n",
       "             'district': Counter({'district': 2}),\n",
       "             'plaza': Counter({'plaza': 1}),\n",
       "             'museum': Counter({'museum': 1}),\n",
       "             'wta': Counter({'donceel': 1, 'th': 1, 'wta': 1, '‘': 1}),\n",
       "             'championships': Counter({'championships': 4}),\n",
       "             'australian': Counter({'australian': 4}),\n",
       "             'open': Counter({'open': 2}),\n",
       "             'ca': Counter({'cctv': 1, 'ia': 1}),\n",
       "             'jessie': Counter({'': 1}),\n",
       "             'alloway': Counter({'alloway': 1}),\n",
       "             'tabatha': Counter({'bregman': 1, 'tabatha': 1}),\n",
       "             'gehling': Counter({'gelling': 2}),\n",
       "             'kelly': Counter({'kelly': 1}),\n",
       "             'clauss': Counter({'kloss': 1}),\n",
       "             'al': Counter({'“': 1}),\n",
       "             'anguilla': Counter({'anguilla': 1}),\n",
       "             'kabul': Counter({'kano': 1, 'kabul': 1}),\n",
       "             'aruba': Counter({'aruba': 4}),\n",
       "             'angola': Counter({'angola': 2}),\n",
       "             'central': Counter({'central': 2}),\n",
       "             'africa': Counter({'africa': 7}),\n",
       "             'asia': Counter({'asia': 11}),\n",
       "             'gnp': Counter({'gnp': 3}),\n",
       "             'europe': Counter({'europe': 7}),\n",
       "             'gelderland': Counter({'gelderland': 2}),\n",
       "             'us': Counter({'us': 2}),\n",
       "             'afghanistan': Counter({'afghanistan': 2}),\n",
       "             'english': Counter({'english': 21}),\n",
       "             'dutch': Counter({'dutch': 2, 'that': 1}),\n",
       "             'french': Counter({'french': 4}),\n",
       "             'chinese': Counter({'chinese': 4}),\n",
       "             'beatrix': Counter({'beatrix': 1, 'maastricht': 1}),\n",
       "             'republic': Counter({'republic': 1}),\n",
       "             'republics': Counter({'republics': 1}),\n",
       "             'north': Counter({'north': 1}),\n",
       "             'america': Counter({'america': 2}),\n",
       "             'noth': Counter({'north': 1}),\n",
       "             'spanish': Counter({'spanish': 4}),\n",
       "             'dvd': Counter({'dvd': 1}),\n",
       "             'kyle': Counter({'': 1,\n",
       "                      'kyle': 6,\n",
       "                      'advisors': 1,\n",
       "                      'haley': 1,\n",
       "                      'i': 1}),\n",
       "             'id': Counter({'i': 1})})"
      ]
     },
     "execution_count": 208,
     "metadata": {},
     "output_type": "execute_result"
    }
   ],
   "source": [
    "tokens_per_pos_rewritten['PROPN']"
   ]
  },
  {
   "cell_type": "code",
   "execution_count": null,
   "metadata": {},
   "outputs": [],
   "source": []
  },
  {
   "cell_type": "code",
   "execution_count": 192,
   "metadata": {
    "scrolled": true
   },
   "outputs": [
    {
     "data": {
      "application/vnd.jupyter.widget-view+json": {
       "model_id": "017bb721db314027b119efcbd7ee04a3",
       "version_major": 2,
       "version_minor": 0
      },
      "text/plain": [
       "HBox(children=(IntProgress(value=0, description='2.12.1.0t-2.33.7.0i', max=547, style=ProgressStyle(descriptio…"
      ]
     },
     "metadata": {},
     "output_type": "display_data"
    },
    {
     "name": "stdout",
     "output_type": "stream",
     "text": [
      "\n",
      "PUNCT \t0.7439\n",
      "NUM   \t0.7636\n",
      "VERB  \t0.9685\n",
      "PRON  \t0.9970\n",
      "ADP   \t0.9788\n",
      "NOUN  \t0.9596\n",
      "AUX   \t0.9534\n",
      "DET   \t0.9860\n",
      "SCONJ \t0.8793\n",
      "PART  \t0.8644\n",
      "ADJ   \t0.9795\n",
      "CCONJ \t0.9493\n",
      "ADV   \t0.9939\n",
      "PROPN \t0.6610\n",
      "SPACE \t0.0000\n",
      "INTJ  \t0.7500\n",
      "SYM   \t0.0000\n",
      "\n"
     ]
    },
    {
     "data": {
      "application/vnd.jupyter.widget-view+json": {
       "model_id": "be04c9879865407e932e2df3d9239230",
       "version_major": 2,
       "version_minor": 0
      },
      "text/plain": [
       "HBox(children=(IntProgress(value=0, description='2.12.1.1t-2.33.7.1i', max=547, style=ProgressStyle(descriptio…"
      ]
     },
     "metadata": {},
     "output_type": "display_data"
    },
    {
     "name": "stdout",
     "output_type": "stream",
     "text": [
      "\n",
      "PUNCT \t0.7507\n",
      "NUM   \t0.8000\n",
      "VERB  \t0.9783\n",
      "PRON  \t0.9791\n",
      "ADP   \t0.9875\n",
      "NOUN  \t0.9684\n",
      "AUX   \t0.9590\n",
      "DET   \t0.9860\n",
      "SCONJ \t0.9138\n",
      "PART  \t0.8644\n",
      "ADJ   \t0.9795\n",
      "CCONJ \t0.9539\n",
      "ADV   \t1.0000\n",
      "PROPN \t0.7085\n",
      "SPACE \t0.0000\n",
      "INTJ  \t1.0000\n",
      "SYM   \t0.0000\n",
      "\n"
     ]
    },
    {
     "data": {
      "application/vnd.jupyter.widget-view+json": {
       "model_id": "0218a9ad2deb44489ff4de284160cc43",
       "version_major": 2,
       "version_minor": 0
      },
      "text/plain": [
       "HBox(children=(IntProgress(value=0, description='2.12.1.2t-2.33.7.2i', max=547, style=ProgressStyle(descriptio…"
      ]
     },
     "metadata": {},
     "output_type": "display_data"
    },
    {
     "name": "stdout",
     "output_type": "stream",
     "text": [
      "\n",
      "PUNCT \t0.7749\n",
      "NUM   \t0.7727\n",
      "VERB  \t0.9665\n",
      "PRON  \t0.9791\n",
      "ADP   \t0.9863\n",
      "NOUN  \t0.9667\n",
      "AUX   \t0.9572\n",
      "DET   \t0.9851\n",
      "SCONJ \t0.9310\n",
      "PART  \t0.8475\n",
      "ADJ   \t0.9795\n",
      "CCONJ \t0.9078\n",
      "ADV   \t0.9939\n",
      "PROPN \t0.6780\n",
      "SPACE \t0.0000\n",
      "INTJ  \t0.7500\n",
      "SYM   \t0.0000\n",
      "\n"
     ]
    },
    {
     "data": {
      "application/vnd.jupyter.widget-view+json": {
       "model_id": "dcc091e25f5d4ffeb6514a8c021cfde4",
       "version_major": 2,
       "version_minor": 0
      },
      "text/plain": [
       "HBox(children=(IntProgress(value=0, description='2.12.1.3t-2.33.7.3i', max=547, style=ProgressStyle(descriptio…"
      ]
     },
     "metadata": {},
     "output_type": "display_data"
    },
    {
     "name": "stdout",
     "output_type": "stream",
     "text": [
      "\n",
      "PUNCT \t0.7520\n",
      "NUM   \t0.7909\n",
      "VERB  \t0.9646\n",
      "PRON  \t0.9821\n",
      "ADP   \t0.9888\n",
      "NOUN  \t0.9624\n",
      "AUX   \t0.9590\n",
      "DET   \t0.9888\n",
      "SCONJ \t0.9138\n",
      "PART  \t0.8814\n",
      "ADJ   \t0.9774\n",
      "CCONJ \t0.9355\n",
      "ADV   \t0.9939\n",
      "PROPN \t0.6915\n",
      "SPACE \t0.0000\n",
      "INTJ  \t0.7500\n",
      "SYM   \t0.0000\n",
      "\n"
     ]
    }
   ],
   "source": [
    "## Batch run \n",
    "\n",
    "VERSIONS_LIST = [f'2.12.1.{v}t-2.33.5.{v}i' for v in range(4)]\n",
    "\n",
    "output_dir = '/Users/mac/Desktop/syt/Deep-Learning/Projects-M/SpeakQL/SpeakQL/Allennlp_models/outputs'\n",
    "\n",
    "IGNORE_I_D = False  # ignore source token it's, i d, etc. that correspond to id \n",
    "\n",
    "pos2acc = defaultdict(list)\n",
    "\n",
    "\n",
    "for VERSION in VERSIONS_LIST:\n",
    "    model_output_path = os.path.join(output_dir, 'ratsql-test-save', f'{VERSION}.json')\n",
    "    # compare_output_path = os.path.join(output_dir, 'ratsql-asr-test-save', 'First-cands.json')\n",
    "\n",
    "    with open(model_output_path, 'r') as f:\n",
    "        model_outputs = json.load(f)\n",
    "\n",
    "    # Dict[str: pos, Dict[str: ('corr', 'incorr', 'acc', etc.), int/float]]\n",
    "    # stats_per_pos = defaultdict(lambda: defaultdict(int))  # key POS: gold, compared to rewritten \n",
    "    stats_per_pos_ASR_raw = defaultdict(lambda: defaultdict(int))  # key POS: gold, compared to question (raw)\n",
    "    stats_per_pos_ASR_rewritten = defaultdict(lambda: defaultdict(int))  # key POS: gold, compared to question (rewritten)\n",
    "    # Dict[str: pos, Dict[str: token, Counter[str: pred_token, int]]]\n",
    "    tokens_per_pos_raw = defaultdict(lambda: defaultdict(Counter))\n",
    "    tokens_per_pos_rewritten = defaultdict(lambda: defaultdict(Counter))\n",
    "\n",
    "\n",
    "    for d in tqdm(model_outputs, desc=VERSION):\n",
    "        c = d[0]\n",
    "        gold_question_nlp = nlp(c['gold_question'])\n",
    "    #     question_nlp = nlp(c['asr_question'])  # ASR, no fix\n",
    "        question_nlp = nlp(c['question'])  # ASR, no fix\n",
    "        rewritten_question_nlp = nlp(c['rewritten_question'])\n",
    "\n",
    "        gold_question_nlp_tokens = [str(tok).lower() for tok in gold_question_nlp]\n",
    "        question_nlp_tokens = [str(tok).lower() for tok in question_nlp]\n",
    "        rewritten_question_nlp_tokens = [str(tok).lower() for tok in rewritten_question_nlp]\n",
    "\n",
    "        _, _matches = EditDistance(gold_question_nlp_tokens, rewritten_question_nlp_tokens,\n",
    "                                   matching_type=True, return_pairs_idx=True)\n",
    "        _g2r = dict() # gold token idx -> rewritten token idx \n",
    "        _r2g = dict()\n",
    "        for _g, _r in _matches:\n",
    "            if _g != -1:\n",
    "                # _g not empty \n",
    "                _g2r[_g] = _r\n",
    "            if _r != -1:\n",
    "                # _r not empty \n",
    "                _r2g[_r] = _g\n",
    "\n",
    "        _, _matches = EditDistance(gold_question_nlp_tokens, question_nlp_tokens,\n",
    "                                   matching_type=True, return_pairs_idx=True)\n",
    "        _g2q = dict()\n",
    "        _q2g = dict()\n",
    "        for _g, _q in _matches:\n",
    "            if _g != -1:\n",
    "                # _g not empty \n",
    "                _g2q[_g] = _q\n",
    "            if _q != -1:\n",
    "                # _q not empty \n",
    "                _q2g[_q] = _g\n",
    "\n",
    "    #     assert len(_is_matched_list) == len(_src_matches) == len(gold_question_nlp), \\\n",
    "    #         f'{_is_matched_list}\\n{_src_matches}\\n{gold_question_nlp}'\n",
    "\n",
    "        for _gid, _g_str in enumerate(gold_question_nlp_tokens):\n",
    "            _pos = gold_question_nlp[_gid].pos_\n",
    "\n",
    "            _rid = _g2r[_gid]\n",
    "            if _rid == -1:\n",
    "                # aligned to empty \n",
    "                stats_per_pos_ASR_rewritten[_pos]['incorr'] += 1\n",
    "                tokens_per_pos_rewritten[_pos][_g_str][''] += 1\n",
    "            else:\n",
    "                # aligned to token \n",
    "                _r_str = rewritten_question_nlp_tokens[_rid]\n",
    "                tokens_per_pos_rewritten[_pos][_g_str][_r_str] += 1\n",
    "                if _r_str == _g_str:\n",
    "                    stats_per_pos_ASR_rewritten[_pos]['corr'] += 1\n",
    "                else:\n",
    "                    stats_per_pos_ASR_rewritten[_pos]['incorr'] += 1\n",
    "\n",
    "            _qid = _g2q[_gid]\n",
    "            if _qid == -1:\n",
    "                # aligned to empty \n",
    "                stats_per_pos_ASR_raw[_pos]['incorr'] += 1\n",
    "                tokens_per_pos_raw[_pos][_g_str][''] += 1\n",
    "            else:\n",
    "                # aligned to token \n",
    "                _q_str = question_nlp_tokens[_qid]\n",
    "                tokens_per_pos_raw[_pos][_g_str][_q_str] += 1\n",
    "                if _q_str == _g_str:\n",
    "                    stats_per_pos_ASR_raw[_pos]['corr'] += 1\n",
    "                else:\n",
    "                    stats_per_pos_ASR_raw[_pos]['incorr'] += 1\n",
    "\n",
    "    for _pos, _stats in sorted(stats_per_pos_ASR_rewritten.items(), key=lambda p: POS2idx[p[0]]):\n",
    "        _total = _stats['corr'] + _stats['incorr']\n",
    "        _acc = _stats['corr'] / (_total + 1e-9)\n",
    "        print(f\"{_pos:<6s}\\t{_acc:.4f}\")\n",
    "        pos2acc[_pos].append(_acc)\n",
    "    \n",
    "    print()\n",
    "        "
   ]
  },
  {
   "cell_type": "code",
   "execution_count": 193,
   "metadata": {},
   "outputs": [
    {
     "name": "stdout",
     "output_type": "stream",
     "text": [
      "PUNCT \t0.7439\t0.7507\t0.7749\t0.7520\n",
      "NUM   \t0.7636\t0.8000\t0.7727\t0.7909\n",
      "VERB  \t0.9685\t0.9783\t0.9665\t0.9646\n",
      "PRON  \t0.9970\t0.9791\t0.9791\t0.9821\n",
      "ADP   \t0.9788\t0.9875\t0.9863\t0.9888\n",
      "NOUN  \t0.9596\t0.9684\t0.9667\t0.9624\n",
      "AUX   \t0.9534\t0.9590\t0.9572\t0.9590\n",
      "DET   \t0.9860\t0.9860\t0.9851\t0.9888\n",
      "SCONJ \t0.8793\t0.9138\t0.9310\t0.9138\n",
      "PART  \t0.8644\t0.8644\t0.8475\t0.8814\n",
      "ADJ   \t0.9795\t0.9795\t0.9795\t0.9774\n",
      "CCONJ \t0.9493\t0.9539\t0.9078\t0.9355\n",
      "ADV   \t0.9939\t1.0000\t0.9939\t0.9939\n",
      "PROPN \t0.6610\t0.7085\t0.6780\t0.6915\n"
     ]
    }
   ],
   "source": [
    "for _pos in POS_LIST:\n",
    "    _acc_list = pos2acc[_pos]\n",
    "    print(f\"{_pos:<6s}\\t\" + \"\\t\".join([f'{_acc:.4f}' for _acc in _acc_list]))\n",
    "    "
   ]
  },
  {
   "cell_type": "code",
   "execution_count": null,
   "metadata": {},
   "outputs": [],
   "source": []
  },
  {
   "cell_type": "code",
   "execution_count": null,
   "metadata": {},
   "outputs": [],
   "source": []
  },
  {
   "cell_type": "code",
   "execution_count": 86,
   "metadata": {},
   "outputs": [
    {
     "data": {
      "text/plain": [
       "defaultdict(<function __main__.<lambda>()>,\n",
       "            {'VERB': defaultdict(int, {'corr': 474, 'incorr': 34}),\n",
       "             'DET': defaultdict(int, {'corr': 1053, 'incorr': 20}),\n",
       "             'NOUN': defaultdict(int, {'corr': 1736, 'incorr': 97}),\n",
       "             'ADP': defaultdict(int, {'corr': 792, 'incorr': 9}),\n",
       "             'AUX': defaultdict(int, {'corr': 490, 'incorr': 47}),\n",
       "             'ADJ': defaultdict(int, {'corr': 480, 'incorr': 7}),\n",
       "             'SCONJ': defaultdict(int, {'corr': 51, 'incorr': 7}),\n",
       "             'NUM': defaultdict(int, {'corr': 71, 'incorr': 39}),\n",
       "             'PUNCT': defaultdict(int, {'corr': 409, 'incorr': 333}),\n",
       "             'ADV': defaultdict(int, {'corr': 160, 'incorr': 3}),\n",
       "             'CCONJ': defaultdict(int, {'corr': 173, 'incorr': 44}),\n",
       "             'PRON': defaultdict(int, {'corr': 304, 'incorr': 31}),\n",
       "             'PROPN': defaultdict(int, {'incorr': 87, 'corr': 208}),\n",
       "             'PART': defaultdict(int, {'incorr': 6, 'corr': 53}),\n",
       "             'SPACE': defaultdict(int, {'incorr': 3}),\n",
       "             'INTJ': defaultdict(int, {'corr': 4}),\n",
       "             'SYM': defaultdict(int, {'incorr': 1})})"
      ]
     },
     "execution_count": 86,
     "metadata": {},
     "output_type": "execute_result"
    }
   ],
   "source": [
    "## 2.31.0.1i\n",
    "stats_per_pos_ASR_raw"
   ]
  },
  {
   "cell_type": "code",
   "execution_count": 87,
   "metadata": {},
   "outputs": [
    {
     "data": {
      "text/plain": [
       "defaultdict(<function __main__.<lambda>()>,\n",
       "            {'VERB': defaultdict(int, {'corr': 497, 'incorr': 11}),\n",
       "             'DET': defaultdict(int, {'corr': 1058, 'incorr': 15}),\n",
       "             'NOUN': defaultdict(int, {'corr': 1779, 'incorr': 54}),\n",
       "             'ADP': defaultdict(int, {'corr': 791, 'incorr': 10}),\n",
       "             'AUX': defaultdict(int, {'corr': 514, 'incorr': 23}),\n",
       "             'ADJ': defaultdict(int, {'corr': 479, 'incorr': 8}),\n",
       "             'SCONJ': defaultdict(int, {'corr': 53, 'incorr': 5}),\n",
       "             'NUM': defaultdict(int, {'corr': 89, 'incorr': 21}),\n",
       "             'PUNCT': defaultdict(int, {'corr': 557, 'incorr': 185}),\n",
       "             'ADV': defaultdict(int, {'corr': 163}),\n",
       "             'CCONJ': defaultdict(int, {'corr': 203, 'incorr': 14}),\n",
       "             'PRON': defaultdict(int, {'corr': 328, 'incorr': 7}),\n",
       "             'PROPN': defaultdict(int, {'corr': 228, 'incorr': 67}),\n",
       "             'PART': defaultdict(int, {'incorr': 8, 'corr': 51}),\n",
       "             'SPACE': defaultdict(int, {'incorr': 3}),\n",
       "             'INTJ': defaultdict(int, {'corr': 4}),\n",
       "             'SYM': defaultdict(int, {'incorr': 1})})"
      ]
     },
     "execution_count": 87,
     "metadata": {},
     "output_type": "execute_result"
    }
   ],
   "source": [
    "stats_per_pos_ASR_rewritten"
   ]
  },
  {
   "cell_type": "code",
   "execution_count": null,
   "metadata": {},
   "outputs": [],
   "source": []
  },
  {
   "cell_type": "code",
   "execution_count": null,
   "metadata": {},
   "outputs": [],
   "source": [
    "sum([len(c) for w, c in tokens_per_pos_raw.items()]), \\\n",
    "sum([len(c) for w, c in tokens_per_pos_rewritten.items()]),\n"
   ]
  },
  {
   "cell_type": "code",
   "execution_count": null,
   "metadata": {},
   "outputs": [],
   "source": [
    "# for _pos, _stats in stats_per_pos_ASR_raw.items():\n",
    "#     _total = _stats['corr'] + _stats['incorr']\n",
    "#     _acc = _stats['corr'] / _total\n",
    "    \n",
    "#     _stats['total'] = _total\n",
    "#     _stats['acc'] = _acc"
   ]
  },
  {
   "cell_type": "code",
   "execution_count": 98,
   "metadata": {},
   "outputs": [
    {
     "name": "stdout",
     "output_type": "stream",
     "text": [
      "PUNCT \t 409\t 333\t 742\t0.5512\n",
      "NUM   \t  71\t  39\t 110\t0.6455\n",
      "VERB  \t 474\t  34\t 508\t0.9331\n",
      "PRON  \t 304\t  31\t 335\t0.9075\n",
      "ADP   \t 792\t   9\t 801\t0.9888\n",
      "NOUN  \t1736\t  97\t1833\t0.9471\n",
      "AUX   \t 490\t  47\t 537\t0.9125\n",
      "DET   \t1053\t  20\t1073\t0.9814\n",
      "SCONJ \t  51\t   7\t  58\t0.8793\n",
      "PART  \t  53\t   6\t  59\t0.8983\n",
      "ADJ   \t 480\t   7\t 487\t0.9856\n",
      "CCONJ \t 173\t  44\t 217\t0.7972\n",
      "ADV   \t 160\t   3\t 163\t0.9816\n",
      "PROPN \t 208\t  87\t 295\t0.7051\n",
      "SPACE \t   0\t   3\t   3\t0.0000\n",
      "INTJ  \t   4\t   0\t   4\t1.0000\n",
      "SYM   \t   0\t   1\t   1\t0.0000\n"
     ]
    }
   ],
   "source": [
    "for _pos, _stats in sorted(stats_per_pos_ASR_raw.items(), key=lambda p: POS2idx[p[0]]):\n",
    "    _total = _stats['corr'] + _stats['incorr']\n",
    "    _acc = _stats['corr'] / _total\n",
    "    \n",
    "    print(f\"{_pos:<6s}\\t{_stats['corr']:4d}\\t{_stats['incorr']:4d}\\t{_total:4d}\\t{(_stats['corr'] / (_total + 1e-9)):.4f}\")\n",
    "    "
   ]
  },
  {
   "cell_type": "code",
   "execution_count": 99,
   "metadata": {},
   "outputs": [
    {
     "name": "stdout",
     "output_type": "stream",
     "text": [
      "PUNCT \t 557\t 185\t 742\t0.7507\n",
      "NUM   \t  89\t  21\t 110\t0.8091\n",
      "VERB  \t 497\t  11\t 508\t0.9783\n",
      "PRON  \t 328\t   7\t 335\t0.9791\n",
      "ADP   \t 791\t  10\t 801\t0.9875\n",
      "NOUN  \t1779\t  54\t1833\t0.9705\n",
      "AUX   \t 514\t  23\t 537\t0.9572\n",
      "DET   \t1058\t  15\t1073\t0.9860\n",
      "SCONJ \t  53\t   5\t  58\t0.9138\n",
      "PART  \t  51\t   8\t  59\t0.8644\n",
      "ADJ   \t 479\t   8\t 487\t0.9836\n",
      "CCONJ \t 203\t  14\t 217\t0.9355\n",
      "ADV   \t 163\t   0\t 163\t1.0000\n",
      "PROPN \t 228\t  67\t 295\t0.7729\n",
      "SPACE \t   0\t   3\t   3\t0.0000\n",
      "INTJ  \t   4\t   0\t   4\t1.0000\n",
      "SYM   \t   0\t   1\t   1\t0.0000\n"
     ]
    }
   ],
   "source": [
    "for _pos, _stats in sorted(stats_per_pos_ASR_rewritten.items(), key=lambda p: POS2idx[p[0]]):\n",
    "    _total = _stats['corr'] + _stats['incorr']\n",
    "    _acc = _stats['corr'] / _total\n",
    "    \n",
    "    print(f\"{_pos:<6s}\\t{_stats['corr']:4d}\\t{_stats['incorr']:4d}\\t{_total:4d}\\t{(_stats['corr'] / (_total + 1e-9)):.4f}\")\n",
    "    "
   ]
  },
  {
   "cell_type": "code",
   "execution_count": null,
   "metadata": {},
   "outputs": [],
   "source": []
  },
  {
   "cell_type": "markdown",
   "metadata": {},
   "source": [
    "#### Freezing / modifying POS\n",
    "- Moved to misc_utils.py; only unit tests here"
   ]
  },
  {
   "cell_type": "code",
   "execution_count": 93,
   "metadata": {},
   "outputs": [
    {
     "name": "stdout",
     "output_type": "stream",
     "text": [
      "124\n"
     ]
    }
   ],
   "source": [
    "for i, _s in enumerate(model_outputs):\n",
    "    _d = _s[0]\n",
    "    if \"id's\" in _d['question_toks']:\n",
    "        print(i)\n",
    "        break"
   ]
  },
  {
   "cell_type": "code",
   "execution_count": 94,
   "metadata": {},
   "outputs": [
    {
     "data": {
      "text/plain": [
       "dict_keys(['db_id', 'query', 'query_toks', 'query_toks_no_value', 'question', 'question_toks', 'sql', 'span_ranges', 'original_id', 'ratsql_pred_sql', 'gold_question', 'gold_question_toks', 'ratsql_pred_exact', 'ratsql_pred_score', 'question_toks_edit_distance', 'alignment_span_pairs', 'alignment_text_pairs', 'rewriter_tags', 'rewriter_edits', 'pred_tags', 'pred_ILM', 'pred_ILM_cands', 'rewritten_question', 'pred_sql', 'score', 'exact', 'exec'])"
      ]
     },
     "execution_count": 94,
     "metadata": {},
     "output_type": "execute_result"
    }
   ],
   "source": [
    "_d = model_outputs[124][0]\n",
    "_d.keys()"
   ]
  },
  {
   "cell_type": "code",
   "execution_count": 95,
   "metadata": {},
   "outputs": [],
   "source": [
    "_tags = [_t for _t in _d['pred_tags'] if _t != 'O']\n",
    "_rewrite_seq = _d['pred_ILM']\n",
    "_question_toks = _d['question_toks']\n",
    "\n",
    "_question_str = ' '.join(_question_toks)\n",
    "_question_doc = nlp(_question_str)\n",
    "_question_pos = [_t.pos_ for i, _t in enumerate(_question_doc) if not str(_t).startswith(\"'\")]"
   ]
  },
  {
   "cell_type": "code",
   "execution_count": 96,
   "metadata": {},
   "outputs": [
    {
     "data": {
      "text/plain": [
       "([('O-KEEP', 'list', 'NOUN'),\n",
       "  ('O-KEEP', 'documents', 'NOUN'),\n",
       "  ('O-KEEP', ',', 'PUNCT'),\n",
       "  ('U-EDIT', \"id's\", 'PRON'),\n",
       "  ('O-KEEP', 'document', 'NOUN'),\n",
       "  ('O-KEEP', 'names', 'NOUN'),\n",
       "  ('O-KEEP', 'and', 'NOUN'),\n",
       "  ('O-KEEP', 'document', 'CCONJ'),\n",
       "  ('O-KEEP', 'descriptions', 'NOUN'),\n",
       "  ('O-KEEP', 'for', 'NOUN'),\n",
       "  ('O-KEEP', 'all', 'ADP'),\n",
       "  ('O-KEEP', 'documents', 'DET'),\n",
       "  ('O-KEEP', '.', 'NOUN')],\n",
       " ['ids', ',', '[ANS]', '@end@'])"
      ]
     },
     "execution_count": 96,
     "metadata": {},
     "output_type": "execute_result"
    }
   ],
   "source": [
    "list(zip(_tags, _question_toks, _question_pos)), _rewrite_seq"
   ]
  },
  {
   "cell_type": "code",
   "execution_count": 97,
   "metadata": {},
   "outputs": [
    {
     "name": "stdout",
     "output_type": "stream",
     "text": [
      "list            list            NOUN  NN    xxxx      True  False \n",
      "documents       document        NOUN  NNS   xxxx      True  False \n",
      ",               ,               PUNCT ,     ,         False False \n",
      "i               -PRON-          PRON  PRP   x         True  True  \n",
      "d               d               NOUN  NN    x         True  False \n",
      "'s              's              PART  POS   'x        False True  \n",
      "document        document        NOUN  NN    xxxx      True  False \n",
      "names           name            NOUN  NNS   xxxx      True  False \n",
      "and             and             CCONJ CC    xxx       True  True  \n",
      "document        document        NOUN  NN    xxxx      True  False \n",
      "descriptions    description     NOUN  NNS   xxxx      True  False \n",
      "for             for             ADP   IN    xxx       True  True  \n",
      "all             all             DET   DT    xxx       True  True  \n",
      "documents       document        NOUN  NNS   xxxx      True  False \n",
      ".               .               PUNCT .     .         False False \n"
     ]
    }
   ],
   "source": [
    "for token in _question_doc:\n",
    "    print(f'{token.text:<16s}{token.lemma_:<16s}{token.pos_:<6s}{token.tag_:<6s}{token.shape_:<10s}{str(token.is_alpha):<6s}{str(token.is_stop):<6s}')"
   ]
  },
  {
   "cell_type": "code",
   "execution_count": 107,
   "metadata": {},
   "outputs": [
    {
     "data": {
      "text/plain": [
       "['list',\n",
       " 'documents',\n",
       " ',',\n",
       " 'ids',\n",
       " ',',\n",
       " 'document',\n",
       " 'names',\n",
       " 'and',\n",
       " 'document',\n",
       " 'descriptions',\n",
       " 'for',\n",
       " 'all',\n",
       " 'documents',\n",
       " '.']"
      ]
     },
     "execution_count": 107,
     "metadata": {},
     "output_type": "execute_result"
    }
   ],
   "source": [
    "Postprocess_rewrite_seq_freeze_POS(_tags,\n",
    "                                   _rewrite_seq,\n",
    "                                   _question_toks,\n",
    "                                   freeze_POS='PRON',\n",
    "                                   nlp=nlp)"
   ]
  },
  {
   "cell_type": "code",
   "execution_count": 110,
   "metadata": {},
   "outputs": [
    {
     "data": {
      "text/plain": [
       "['list',\n",
       " 'documents',\n",
       " ',',\n",
       " \"id's\",\n",
       " 'document',\n",
       " 'names',\n",
       " 'and',\n",
       " 'document',\n",
       " 'descriptions',\n",
       " 'for',\n",
       " 'all',\n",
       " 'documents',\n",
       " '.']"
      ]
     },
     "execution_count": 110,
     "metadata": {},
     "output_type": "execute_result"
    }
   ],
   "source": [
    "Postprocess_rewrite_seq_modify_POS(_tags,\n",
    "                                   _rewrite_seq,\n",
    "                                   _question_toks,\n",
    "                                   modify_POS='PRON',\n",
    "                                   nlp=nlp)"
   ]
  },
  {
   "cell_type": "code",
   "execution_count": null,
   "metadata": {},
   "outputs": [],
   "source": []
  },
  {
   "cell_type": "code",
   "execution_count": null,
   "metadata": {},
   "outputs": [],
   "source": []
  },
  {
   "cell_type": "markdown",
   "metadata": {},
   "source": [
    "### Plotting"
   ]
  },
  {
   "cell_type": "code",
   "execution_count": 160,
   "metadata": {},
   "outputs": [],
   "source": [
    "def autolabel(rects, ax):\n",
    "    \"\"\"Attach a text label above each bar in *rects*, displaying its height.\"\"\"\n",
    "    for rect in rects:\n",
    "        height = rect.get_height()\n",
    "        ax.annotate('{:.4f}'.format(height),\n",
    "                    xy=(rect.get_x() + rect.get_width() / 2, height),\n",
    "                    xytext=(0, 4),  # 3 points vertical offset\n",
    "                    textcoords=\"offset points\",\n",
    "                    ha='center', va='bottom')"
   ]
  },
  {
   "cell_type": "code",
   "execution_count": 161,
   "metadata": {},
   "outputs": [],
   "source": [
    "# score_types = ['Exact Match', 'Partial Match', 'BLEU']\n",
    "\n",
    "# method_entries = [\n",
    "#     # [method_name, exact, partial, BLEU, exact_err, partial_err, BLEU_err]\n",
    "#     ['Rat-sql (first cands)', 0.4552, 0.7274, 0.8010, None, None, None],\n",
    "#     ['Rat-sql-asr (first cands)', 0.5064, 0.7643, 0.8010, None, None, None],\n",
    "#     ['Rat-sql-mixed (first cands)', 0.5247, 0.7656, 0.8010, None, None, None],\n",
    "#     ['Reranker', 0.4942, 0.7541, 0.7730, 0.0153, 0.0094, 0.0142],\n",
    "#     ['Rewriter-S2S', 0.4845, 0.7473, 0.8492, 0.0138, 0.0091, 0.0061],\n",
    "#     ['Rewriter-TaggerILM', 0.5027, 0.7578, 0.8578, 0.0055, 0.0025, 0.0019],\n",
    "#     ['Aggreg. (majority vote)', 0.5204, 0.7681, None, 0.0028, 0.0044, None],\n",
    "#     ['Aggreg. (extra cands.)', 0.5137, 0.7628, 0.7979, 0.0055, 0.0042, 0.0151],\n",
    "#     ['Gold queries', 0.6234, 0.8316, 1.0000, None, None, None],\n",
    "# ]\n",
    "\n",
    "# x = np.arange(len(score_types)) * 5  # the label locations\n",
    "# width = 0.35  # the width of the bars\n",
    "\n",
    "# fig = plt.figure(figsize=(10, 5))\n",
    "# ax = fig.gca()\n",
    "# # rects1 = ax.bar(x - width/2, men_means, width, label='Men')\n",
    "# # rects2 = ax.bar(x + width/2, women_means, width, label='Women')\n",
    "\n",
    "# n = len(method_entries)\n",
    "# rects = []\n",
    "# for i in range(n):\n",
    "#     method_name, exact, partial, BLEU, exact_err, partial_err, BLEU_err = method_entries[i]\n",
    "    \n",
    "#     _vals = [exact, partial, BLEU]\n",
    "#     _errs = [exact_err, partial_err, BLEU_err]\n",
    "    \n",
    "# #     _y = np.ma.masked_where(condition=[_v is None for _v in _vals], a=_vals).astype(float)\n",
    "# #     _yerr = np.ma.masked_where(condition=[_v is None for _v in _errs], a=_errs).astype(float)\n",
    "\n",
    "#     _y = np.array([_v or np.nan for _v in _vals])\n",
    "#     _yerr = np.array([_v or np.nan for _v in _errs])\n",
    "    \n",
    "#     _bias = - (width / 2) * (n-1) + width * i\n",
    "#     _rects = ax.bar(x + _bias , _y,\n",
    "#                     yerr=_yerr,\n",
    "#                     width=width,\n",
    "#                     label=method_name)\n",
    "#     rects.append(_rects)\n",
    "\n",
    "# # Add some text for labels, title and custom x-axis tick labels, etc.\n",
    "# ax.set_ylabel('Scores')\n",
    "# ax.set_title('Spider-ASR Results\\n')\n",
    "# ax.set_xticks(x)\n",
    "# ax.set_xticklabels(score_types)\n",
    "# ax.legend(bbox_to_anchor=(1.05, 1), loc='upper left')\n",
    "\n",
    "# def autolabel(rects):\n",
    "#     \"\"\"Attach a text label above each bar in *rects*, displaying its height.\"\"\"\n",
    "#     for rect in rects:\n",
    "#         height = rect.get_height()\n",
    "#         ax.annotate('{}'.format(height),\n",
    "#                     xy=(rect.get_x() + rect.get_width() / 2, height),\n",
    "#                     xytext=(0, 3),  # 3 points vertical offset\n",
    "#                     textcoords=\"offset points\",\n",
    "#                     ha='center', va='bottom')\n",
    "\n",
    "# for _rects in rects:\n",
    "#     autolabel(_rects)\n",
    "\n",
    "# fig.tight_layout()\n"
   ]
  },
  {
   "cell_type": "code",
   "execution_count": 163,
   "metadata": {},
   "outputs": [
    {
     "data": {
      "image/png": "[encoded data removed]",
      "text/plain": [
       "<Figure size 1008x504 with 2 Axes>"
      ]
     },
     "metadata": {
      "needs_background": "light"
     },
     "output_type": "display_data"
    }
   ],
   "source": [
    "score_types = ['Exact Match', 'BLEU', 'Training time']\n",
    "\n",
    "method_entries = [\n",
    "    # [method_name, exact, BLEU, time, exact_err, BLEU_err, time_err]\n",
    "    ['Raw ASR', 0.4552, 0.8010, 2.6083, None, None, None],\n",
    "    ['Retraining-ASR', 0.5064, 0.8010, 2.8645, None, None, None],\n",
    "    ['Retraining-Mixed', 0.5247, 0.8010, 2.6530, None, None, None],\n",
    "    ['Rewriter-TaggerILM', 0.5283, 0.8714, 1.6096, 0.0065, 0.0103, 0.1760],\n",
    "    ['Gold queries', 0.6234, 1.0000, None, None, None, None],\n",
    "]\n",
    "\n",
    "x = np.arange(len(score_types)) * 5  # the label locations\n",
    "width = 0.8  # the width of the bars\n",
    "\n",
    "fig = plt.figure(figsize=(14,7))\n",
    "ax = fig.gca()\n",
    "# rects1 = ax.bar(x - width/2, men_means, width, label='Men')\n",
    "# rects2 = ax.bar(x + width/2, women_means, width, label='Women')\n",
    "\n",
    "n = len(method_entries)\n",
    "rects = []\n",
    "for i in range(n):\n",
    "    method_name, exact, BLEU, time, exact_err, BLEU_err, time_err = method_entries[i]\n",
    "    \n",
    "    _vals = [exact, BLEU]\n",
    "    _errs = [exact_err, BLEU_err]\n",
    "    \n",
    "#     _y = np.ma.masked_where(condition=[_v is None for _v in _vals], a=_vals).astype(float)\n",
    "#     _yerr = np.ma.masked_where(condition=[_v is None for _v in _errs], a=_errs).astype(float)\n",
    "\n",
    "    _y = np.array([_v or np.nan for _v in _vals])\n",
    "    _yerr = np.array([_v or np.nan for _v in _errs])\n",
    "    \n",
    "    _bias = - (width / 2) * (n-1) + width * i\n",
    "    _rects = ax.bar(x[:2] + _bias , _y,\n",
    "                    yerr=_yerr,\n",
    "                    width=width,\n",
    "                    label=method_name)\n",
    "    rects.append(_rects)\n",
    "\n",
    "# Add some text for labels, title and custom x-axis tick labels, etc.\n",
    "ax.set_ylabel('Scores')\n",
    "ax.set_title('Spider-ASR Results\\n')\n",
    "ax.set_xticks(x)\n",
    "ax.set_xticklabels(score_types)\n",
    "ax.legend(bbox_to_anchor=(1.05, 1), loc='upper left')\n",
    "ax.set_ylim((0.4, 1.1))\n",
    "for _rects in rects:\n",
    "    autolabel(_rects, ax)\n",
    "\n",
    "ax2 = ax.twinx() # Create another axes that shares the same x-axis as ax.\n",
    "rects = []\n",
    "for i in range(n):\n",
    "    method_name, exact, BLEU, time, exact_err, BLEU_err, time_err = method_entries[i]\n",
    "    \n",
    "    _vals = [time]\n",
    "    _errs = [time_err]\n",
    "    \n",
    "#     _y = np.ma.masked_where(condition=[_v is None for _v in _vals], a=_vals).astype(float)\n",
    "#     _yerr = np.ma.masked_where(condition=[_v is None for _v in _errs], a=_errs).astype(float)\n",
    "\n",
    "    _y = np.array([_v or np.nan for _v in _vals])\n",
    "    _yerr = np.array([_v or np.nan for _v in _errs])\n",
    "    \n",
    "    _bias = - (width / 2) * (n-1) + width * i\n",
    "    _rects = ax2.bar(x[2:] + _bias , _y,\n",
    "                    yerr=_yerr,\n",
    "                    width=width,\n",
    "                    label=method_name)\n",
    "    rects.append(_rects)\n",
    "    \n",
    "ax2.set_ylabel('Training time (days)')\n",
    "for _rects in rects:\n",
    "    autolabel(_rects, ax2)\n",
    "\n",
    "fig.tight_layout()\n",
    "\n"
   ]
  },
  {
   "cell_type": "code",
   "execution_count": 263,
   "metadata": {},
   "outputs": [],
   "source": [
    "def MethodsCompResultsPlotting(\n",
    "    method_entries,\n",
    "    method_groups,\n",
    "    y_idx,\n",
    "    yerr_idx,\n",
    "    title,\n",
    "    ylabel='Scores',\n",
    "    ylim=None,\n",
    "    n_yticks=None,\n",
    "    figsize=(8,6),\n",
    "    output_img_path=None,\n",
    "):\n",
    "\n",
    "    fig = plt.figure(figsize=figsize)\n",
    "    ax = fig.gca()\n",
    "\n",
    "    x = np.arange(len(method_entries)) * 0.6\n",
    "    y = np.array([_m[y_idx] or np.nan for _m in method_entries])\n",
    "    yerr = np.array([_m[yerr_idx] or np.nan for _m in method_entries])\n",
    "    labels = [_m[0] for _m in method_entries]\n",
    "    width = 0.3\n",
    "\n",
    "    rects = ax.bar(x, y,\n",
    "                   yerr=yerr,\n",
    "                   color='orange',\n",
    "                   edgecolor='black',\n",
    "                   width=width,\n",
    "                   error_kw={'capsize': 4, 'capthick': 2})\n",
    "\n",
    "    assert len(method_groups) <= 4, method_groups\n",
    "    group_colors = ['#888888', 'red', 'orange', 'blue']\n",
    "    group_hatches = ['', '/', '\\\\', '']\n",
    "    for g, _group in enumerate(method_groups):\n",
    "        for i in _group:\n",
    "            rects[i].set_facecolor(group_colors[g])\n",
    "            rects[i].set_hatch(group_hatches[g])\n",
    "#     rects[0].set_facecolor()\n",
    "#     for i in (1, 2):\n",
    "#         rects[i].set_hatch('x')\n",
    "#         rects[i].set_facecolor()\n",
    "#     for i in (3, 4, 5):\n",
    "#         rects[i].set_hatch('/')\n",
    "#     for i in (6, 7):\n",
    "#         rects[i].set_hatch('//')\n",
    "#     rects[-1].set_facecolor('blue')\n",
    "\n",
    "    if ylim is not None:\n",
    "        ax.set_ylim(ylim)\n",
    "    if n_yticks is not None:\n",
    "        ax.set_yticks(np.linspace(ylim[0], ylim[1], n_yticks))\n",
    "    ax.set_ylabel(ylabel, fontsize=15)\n",
    "    ax.set_title(title + '\\n')\n",
    "    ax.set_xticks(x)\n",
    "    ax.set_xticklabels(labels, rotation=45, ha='right')\n",
    "    # ax.legend(bbox_to_anchor=(1.05, 1), loc='upper left')\n",
    "    ax.yaxis.grid(True, color='grey', linewidth=1, linestyle='--')\n",
    "    ax.tick_params(labelsize=12)\n",
    "\n",
    "    for i, rect in enumerate(rects):\n",
    "        _has_err = not np.isnan(yerr[i])\n",
    "        _y_offset = 12 if _has_err else 8\n",
    "\n",
    "        _height = rect.get_height()\n",
    "        _anno = f'{_height:.4f}'\n",
    "        if _has_err:\n",
    "            _anno += f'\\n(±{yerr[i]:.4f})'\n",
    "\n",
    "        ax.annotate(_anno,\n",
    "                    xy=(rect.get_x() + rect.get_width() / 2, _height),\n",
    "                    xytext=(0, _y_offset),\n",
    "                    textcoords=\"offset points\",\n",
    "                    ha='center', va='bottom',\n",
    "                    fontsize=12)\n",
    "\n",
    "    fig.tight_layout()\n",
    "\n",
    "    if output_img_path is not None:\n",
    "        fig.savefig(output_img_path, dpi=200)\n",
    "    \n",
    "    return fig"
   ]
  },
  {
   "cell_type": "code",
   "execution_count": 256,
   "metadata": {},
   "outputs": [],
   "source": [
    "# method_entries = [\n",
    "#     # [method_name, exact, partial, BLEU, exact_err, partial_err, BLEU_err]\n",
    "#     ['Blackbox', 0.4552, 0.7274, 0.8010, None, None, None],\n",
    "#     ['Rat-sql-ASR', 0.5064, 0.7643, 0.8010, None, None, None],\n",
    "#     ['Rat-sql-mixed', 0.5247, 0.7656, 0.8010, None, None, None],\n",
    "#     ['Reranker', 0.4942, 0.7541, 0.7730, 0.0153, 0.0094, 0.0142],\n",
    "#     ['Rewriter-S2S', 0.4845, 0.7473, 0.8492, 0.0138, 0.0091, 0.0061],\n",
    "#     ['Rewriter-TaggerILM', 0.5027, 0.7578, 0.8578, 0.0055, 0.0025, 0.0019],\n",
    "#     ['Aggreg. (majority vote)', 0.5204, 0.7681, None, 0.0028, 0.0044, None],\n",
    "#     ['Aggreg. (extra cands.)', 0.5137, 0.7628, 0.7979, 0.0055, 0.0042, 0.0151],\n",
    "#     ['Gold queries', 0.6234, 0.8316, 1.0000, None, None, None],\n",
    "# ]\n",
    "\n",
    "method_entries = [\n",
    "    # [method_name, exact, BLEU, time, exact_err, BLEU_err, time_err]\n",
    "    ['Blackbox ASR (RAT-SQL)', 0.4552, 0.8010, None, None, None, None],\n",
    "    ['Retraining-ASR (RAT-SQL)', 0.5064, 0.8010, 2.8645, None, None, None],\n",
    "    ['Retraining-Mixed (RAT-SQL)', 0.5247, 0.8010, 2.6530, None, None, None],\n",
    "    ['Rewriter-TaggerILM (RAT-SQL)', 0.5283, 0.8714, 1.9718, 0.0065, 0.0103, 0.1939],\n",
    "    ['Gold queries (RAT-SQL)', 0.6234, 1.0000, None, None, None, None],\n",
    "    ['Blackbox ASR (Picard)', 0.5539, 0.8010, None, None, None, None],\n",
    "    ['Rewriter-TaggerILM (Picard)', 0.5872, 0.8714, None, 0.0115, 0.0103, None],\n",
    "    ['Gold queries (Picard)', 0.6929, 1.0000, None, None, None, None],\n",
    "]\n",
    "\n",
    "method_groups = [\n",
    "    (0,5),\n",
    "    (1,2),\n",
    "    (3,6),\n",
    "    (4,7),\n",
    "]\n"
   ]
  },
  {
   "cell_type": "code",
   "execution_count": 257,
   "metadata": {},
   "outputs": [
    {
     "data": {
      "image/png": "[encoded data removed]",
      "text/plain": [
       "<Figure size 576x432 with 1 Axes>"
      ]
     },
     "metadata": {
      "needs_background": "light"
     },
     "output_type": "display_data"
    }
   ],
   "source": [
    "image_dir = '/Users/mac/Desktop/syt/Deep-Learning/Projects-M/SpeakQL/images/results/2021-11'\n",
    "\n",
    "os.makedirs(image_dir, exist_ok=True)\n",
    "\n",
    "fig = MethodsCompResultsPlotting(\n",
    "    method_entries = method_entries,\n",
    "    method_groups = method_groups,\n",
    "    y_idx = 1,\n",
    "    yerr_idx = 4,\n",
    "    title = 'Spider-ASR Results - Exact match',\n",
    "    ylim = (0.4, 0.75),\n",
    "    n_yticks = None,\n",
    "    output_img_path = os.path.join(image_dir, 'spider-asr-exact.png'))"
   ]
  },
  {
   "cell_type": "code",
   "execution_count": 312,
   "metadata": {},
   "outputs": [
    {
     "data": {
      "image/png": "[encoded data removed]",
      "text/plain": [
       "<Figure size 432x432 with 1 Axes>"
      ]
     },
     "metadata": {
      "needs_background": "light"
     },
     "output_type": "display_data"
    }
   ],
   "source": [
    "image_dir = '/Users/mac/Desktop/syt/Deep-Learning/Projects-M/SpeakQL/images/results/2021-11'\n",
    "\n",
    "_method_entries = [method_entries[i] for i in [0,1,2,3,4]]\n",
    "_method_names = ['Blackbox ASR', 'Retraining-ASR', 'Retraining-Mixed', 'Rewriter-TaggerILM', 'Gold queries']\n",
    "for i, name in enumerate(_method_names):\n",
    "    _method_entries[i][0] = name\n",
    "\n",
    "_method_groups = [\n",
    "    (0,),\n",
    "    (1,2),\n",
    "    (3,),\n",
    "    (4,),\n",
    "]\n",
    "\n",
    "fig = MethodsCompResultsPlotting(\n",
    "    method_entries = _method_entries,\n",
    "    method_groups = _method_groups,\n",
    "    y_idx = 1,\n",
    "    yerr_idx = 4,\n",
    "    title = 'Spoken Spider Results - Exact match (RAT-SQL)',\n",
    "    ylim = (0.4, 0.75),\n",
    "    n_yticks = None,\n",
    "    figsize=(6, 6),\n",
    "    output_img_path = os.path.join(image_dir, 'spider-asr-exact-ratsql.png'))"
   ]
  },
  {
   "cell_type": "code",
   "execution_count": 314,
   "metadata": {},
   "outputs": [
    {
     "data": {
      "image/png": "[encoded data removed]",
      "text/plain": [
       "<Figure size 360x432 with 1 Axes>"
      ]
     },
     "metadata": {
      "needs_background": "light"
     },
     "output_type": "display_data"
    }
   ],
   "source": [
    "image_dir = '/Users/mac/Desktop/syt/Deep-Learning/Projects-M/SpeakQL/images/results/2021-11'\n",
    "\n",
    "_method_entries = [method_entries[i] for i in [5,6,7]]\n",
    "_method_names = ['Blackbox ASR', 'Rewriter-TaggerILM', 'Gold queries']\n",
    "for i, name in enumerate(_method_names):\n",
    "    _method_entries[i][0] = name\n",
    "\n",
    "_method_groups = [\n",
    "    (0,),\n",
    "    tuple(),\n",
    "    (1,),\n",
    "    (2,),\n",
    "]\n",
    "\n",
    "fig = MethodsCompResultsPlotting(\n",
    "    method_entries = _method_entries,\n",
    "    method_groups = _method_groups,\n",
    "    y_idx = 1,\n",
    "    yerr_idx = 4,\n",
    "    title = 'Spoken Spider Results - Exact match (Picard)',\n",
    "    ylim = (0.4, 0.75),\n",
    "    n_yticks = None,\n",
    "    figsize=(5, 6),\n",
    "    output_img_path = os.path.join(image_dir, 'spider-asr-exact-picard.png'))"
   ]
  },
  {
   "cell_type": "code",
   "execution_count": 315,
   "metadata": {},
   "outputs": [
    {
     "data": {
      "image/png": "[encoded data removed]",
      "text/plain": [
       "<Figure size 288x432 with 1 Axes>"
      ]
     },
     "metadata": {
      "needs_background": "light"
     },
     "output_type": "display_data"
    }
   ],
   "source": [
    "image_dir = '/Users/mac/Desktop/syt/Deep-Learning/Projects-M/SpeakQL/images/results/2021-11'\n",
    "\n",
    "_method_entries = [method_entries[i] for i in [0,2,3,4]]\n",
    "_method_entries[0][0] = 'Blackbox ASR'\n",
    "_method_entries[1][0] = 'Retraining (ASR/Mixed)'\n",
    "_method_entries[2][0] = 'Rewriter-TaggerILM'\n",
    "_method_entries[3][0] = 'Gold queries'\n",
    "\n",
    "_method_groups = [\n",
    "    (0,),\n",
    "    (1,),\n",
    "    (2,),\n",
    "    (3,),\n",
    "]\n",
    "\n",
    "fig = MethodsCompResultsPlotting(\n",
    "    method_entries = _method_entries,\n",
    "    method_groups = _method_groups,\n",
    "    y_idx = 2,\n",
    "    yerr_idx = 5,\n",
    "    title = 'Spoken Spider Results - BLEU',\n",
    "    ylim = (0.7, 1.1),\n",
    "    n_yticks = 9,\n",
    "    figsize = (4, 6),\n",
    "    output_img_path = os.path.join(image_dir, 'spider-asr-BLEU.png'))"
   ]
  },
  {
   "cell_type": "code",
   "execution_count": 316,
   "metadata": {},
   "outputs": [
    {
     "data": {
      "image/png": "[encoded data removed]",
      "text/plain": [
       "<Figure size 288x432 with 1 Axes>"
      ]
     },
     "metadata": {
      "needs_background": "light"
     },
     "output_type": "display_data"
    }
   ],
   "source": [
    "image_dir = '/Users/mac/Desktop/syt/Deep-Learning/Projects-M/SpeakQL/images/results/2021-11'\n",
    "\n",
    "_method_entries = [method_entries[i] for i in [2,3]]\n",
    "_method_entries[0][0] = 'Retraining-Mixed'\n",
    "_method_entries[1][0] = 'Rewriter-TaggerILM'\n",
    "\n",
    "_method_groups = [\n",
    "    tuple(),\n",
    "    (0,),\n",
    "    (1,),\n",
    "    tuple(),\n",
    "]\n",
    "\n",
    "fig = MethodsCompResultsPlotting(\n",
    "    method_entries = _method_entries,\n",
    "    method_groups = _method_groups,\n",
    "    y_idx = 3,\n",
    "    yerr_idx = 6,\n",
    "    title = 'Spoken Spider Results - Training time',\n",
    "    ylabel = 'Training time (days)',\n",
    "    ylim = (0, 3.5),\n",
    "    n_yticks = None,\n",
    "    figsize = (4, 6),\n",
    "    output_img_path = os.path.join(image_dir, 'spider-asr-time.png'))"
   ]
  },
  {
   "cell_type": "code",
   "execution_count": 190,
   "metadata": {},
   "outputs": [],
   "source": [
    "# # Separate - exact \n",
    "\n",
    "# fig = plt.figure(figsize=(10, 5))\n",
    "# ax = fig.gca()\n",
    "\n",
    "# x = np.arange(len(method_entries)) * 0.6\n",
    "# y = np.array([_m[1] or np.nan for _m in method_entries])\n",
    "# yerr = np.array([_m[4] or np.nan for _m in method_entries])\n",
    "# labels = [_m[0] for _m in method_entries]\n",
    "# width = 0.35\n",
    "\n",
    "# rects = ax.bar(x, y,\n",
    "#                yerr=yerr,\n",
    "#                color='orange',\n",
    "#                width=width,\n",
    "#                error_kw={'capsize': 4})\n",
    "\n",
    "# rects[0].set_color('blue')\n",
    "# for i in (1, 2):\n",
    "#     rects[i].set_color('red')\n",
    "# rects[-1].set_color('blue')\n",
    "\n",
    "# ax.set_ylim(0.4, 0.7)\n",
    "# ax.set_ylabel('Scores', fontsize=14)\n",
    "# ax.set_title('Spider-ASR Results - Exact match\\n')\n",
    "# ax.set_xticks(x)\n",
    "# ax.set_xticklabels(labels, rotation=45, ha='right')\n",
    "# # ax.legend(bbox_to_anchor=(1.05, 1), loc='upper left')\n",
    "# ax.yaxis.grid(True, color='grey', linewidth=1, linestyle='--')\n",
    "# ax.tick_params(labelsize=13)\n",
    "\n",
    "# for i, rect in enumerate(rects):\n",
    "#     _has_err = not np.isnan(yerr[i])\n",
    "#     _y_offset = 12 if _has_err else 8\n",
    "    \n",
    "#     _height = rect.get_height()\n",
    "#     _anno = f'{_height:.4f}'\n",
    "#     if _has_err:\n",
    "#         _anno += f'\\n(±{yerr[i]:.4f})'\n",
    "    \n",
    "#     ax.annotate(_anno,\n",
    "#                 xy=(rect.get_x() + rect.get_width() / 2, _height),\n",
    "#                 xytext=(0, _y_offset),\n",
    "#                 textcoords=\"offset points\",\n",
    "#                 ha='center', va='bottom',\n",
    "#                 fontsize=12)\n",
    "\n",
    "# fig.tight_layout()\n",
    "\n",
    "# fig.savefig('/Users/mac/Desktop/syt/Deep-Learning/Projects-M/SpeakQL/SpeakQL/images/results/spider-asr-exact.png',\n",
    "#             dpi=200)"
   ]
  },
  {
   "cell_type": "code",
   "execution_count": null,
   "metadata": {},
   "outputs": [],
   "source": [
    "# # Separate - partial \n",
    "\n",
    "# fig = plt.figure(figsize=(10, 5))\n",
    "# ax = fig.gca()\n",
    "\n",
    "# x = np.arange(len(method_entries)) * 0.6\n",
    "# y = np.array([_m[2] or np.nan for _m in method_entries])\n",
    "# yerr = np.array([_m[5] or np.nan for _m in method_entries])\n",
    "# labels = [_m[0] for _m in method_entries]\n",
    "# width = 0.35\n",
    "\n",
    "# rects = ax.bar(x, y,\n",
    "#                yerr=yerr,\n",
    "#                color='orange',\n",
    "#                width=width,\n",
    "#                error_kw={'capsize': 4})\n",
    "\n",
    "# for i in (1, 2):\n",
    "#     rects[i].set_color('red')\n",
    "# rects[-1].set_color('blue')\n",
    "    \n",
    "# ax.set_ylim(0.7, 0.85)\n",
    "# ax.set_yticks(np.linspace(0.7, 0.85, 7))\n",
    "# ax.set_ylabel('Scores', fontsize=14)\n",
    "# ax.set_title('Spider-ASR Results - Partial match\\n')\n",
    "# ax.set_xticks(x)\n",
    "# ax.set_xticklabels(labels, rotation=45, ha='right')\n",
    "# # ax.legend(bbox_to_anchor=(1.05, 1), loc='upper left')\n",
    "# ax.yaxis.grid(True, color='grey', linewidth=1, linestyle='--')\n",
    "# ax.tick_params(labelsize=13)\n",
    "\n",
    "# for i, rect in enumerate(rects):\n",
    "#     _has_err = not np.isnan(yerr[i])\n",
    "#     _y_offset = 12 if _has_err else 8\n",
    "    \n",
    "#     _height = rect.get_height()\n",
    "#     _anno = f'{_height:.4f}'\n",
    "#     if _has_err:\n",
    "#         _anno += f'\\n(±{yerr[i]:.4f})'\n",
    "    \n",
    "#     ax.annotate(_anno,\n",
    "#                 xy=(rect.get_x() + rect.get_width() / 2, _height),\n",
    "#                 xytext=(0, _y_offset),\n",
    "#                 textcoords=\"offset points\",\n",
    "#                 ha='center', va='bottom',\n",
    "#                 fontsize=12)\n",
    "    \n",
    "# fig.tight_layout()\n",
    "\n",
    "# fig.savefig('/Users/mac/Desktop/syt/Deep-Learning/Projects-M/SpeakQL/SpeakQL/images/results/spider-asr-partial.png',\n",
    "#             dpi=200)"
   ]
  },
  {
   "cell_type": "code",
   "execution_count": null,
   "metadata": {},
   "outputs": [],
   "source": [
    "# # Separate - BLEU \n",
    "\n",
    "# fig = plt.figure(figsize=(10, 5))\n",
    "# ax = fig.gca()\n",
    "\n",
    "# x = np.arange(len(method_entries)) * 0.6\n",
    "# y = np.array([_m[3] or np.nan for _m in method_entries])\n",
    "# yerr = np.array([_m[6] or np.nan for _m in method_entries])\n",
    "# labels = [_m[0] for _m in method_entries]\n",
    "# width = 0.35\n",
    "\n",
    "# rects = ax.bar(x, y,\n",
    "#                yerr=yerr,\n",
    "#                color='orange',\n",
    "#                width=width,\n",
    "#                error_kw={'capsize': 4})\n",
    "\n",
    "# for i in (1, 2):\n",
    "#     rects[i].set_color('red')\n",
    "# rects[-1].set_color('blue')\n",
    "    \n",
    "# ax.set_ylim(0.7, 1.1)\n",
    "# ax.set_yticks(np.linspace(0.7, 1.1, 9))\n",
    "# ax.set_ylabel('Scores', fontsize=14)\n",
    "# ax.set_title('Spider-ASR Results - BLEU\\n')\n",
    "# ax.set_xticks(x)\n",
    "# ax.set_xticklabels(labels, rotation=45, ha='right')\n",
    "# # ax.legend(bbox_to_anchor=(1.05, 1), loc='upper left')\n",
    "# ax.yaxis.grid(True, color='grey', linewidth=1, linestyle='--')\n",
    "# ax.tick_params(labelsize=13)\n",
    "\n",
    "# for i, rect in enumerate(rects):\n",
    "#     _has_err = not np.isnan(yerr[i])\n",
    "#     _y_offset = 12 if _has_err else 8\n",
    "    \n",
    "#     _height = rect.get_height()\n",
    "#     _anno = f'{_height:.4f}'\n",
    "#     if _has_err:\n",
    "#         _anno += f'\\n(±{yerr[i]:.4f})'\n",
    "    \n",
    "#     ax.annotate(_anno,\n",
    "#                 xy=(rect.get_x() + rect.get_width() / 2, _height),\n",
    "#                 xytext=(0, _y_offset),\n",
    "#                 textcoords=\"offset points\",\n",
    "#                 ha='center', va='bottom',\n",
    "#                 fontsize=12)\n",
    "    \n",
    "# fig.tight_layout()\n",
    "\n",
    "# fig.savefig('/Users/mac/Desktop/syt/Deep-Learning/Projects-M/SpeakQL/SpeakQL/images/results/spider-asr-BLEU.png',\n",
    "#             dpi=200)"
   ]
  },
  {
   "cell_type": "code",
   "execution_count": 458,
   "metadata": {},
   "outputs": [
    {
     "data": {
      "image/png": "[encoded data removed]",
      "text/plain": [
       "<Figure size 720x360 with 1 Axes>"
      ]
     },
     "metadata": {
      "needs_background": "light"
     },
     "output_type": "display_data"
    }
   ],
   "source": [
    "# Human test \n",
    "method_entries = [\n",
    "    # [method_name, exact, partial, BLEU, exact_err, partial_err, BLEU_err]\n",
    "    ['Blackbox', 0.3500, 0.6779, 0.6934, None, None, None],\n",
    "    ['Rat-sql-ASR', 0.4000, 0.7103, 0.6934, None, None, None],\n",
    "    ['Rat-sql-mixed', 0.4000, 0.7119, 0.6934, None, None, None],\n",
    "    ['Reranker', 0.3967, 0.7184, 0.6720, 0.0252, 0.0106, 0.0219],\n",
    "    ['Rewriter-S2S', 0.3533, 0.6775, 0.6909, 0.0153, 0.0069, 0.0218],\n",
    "    ['Rewriter-TaggerILM', 0.3700, 0.6940, 0.7183, 0.0100, 0.0164, 0.0031],\n",
    "    ['Aggreg. (majority vote)', 0.3900, 0.6994, None, 0.0100, 0.0033, None],\n",
    "    ['Aggreg. (extra cands.)', 0.3733, 0.7031, 0.6971, 0.0208, 0.0251, 0.0211],\n",
    "    ['Gold queries', 0.5600, 0.8112, 1.0000, None, None, None],\n",
    "]\n",
    "\n",
    "image_dir = '/Users/mac/Desktop/syt/Deep-Learning/Projects-M/SpeakQL/SpeakQL/images/results'\n",
    "\n",
    "fig = MethodsCompResultsPlotting(\n",
    "    method_entries,\n",
    "    y_idx = 1,\n",
    "    yerr_idx = 4,\n",
    "    title = 'Human Test Results - Exact Match',\n",
    "    ylim = (0.2, 0.7),\n",
    "    n_yticks = None,\n",
    "    output_img_path = os.path.join(image_dir, 'human-test-exact.png'))\n",
    "\n"
   ]
  },
  {
   "cell_type": "code",
   "execution_count": 459,
   "metadata": {},
   "outputs": [
    {
     "data": {
      "image/png": "[encoded data removed]",
      "text/plain": [
       "<Figure size 720x360 with 1 Axes>"
      ]
     },
     "metadata": {
      "needs_background": "light"
     },
     "output_type": "display_data"
    }
   ],
   "source": [
    "fig = MethodsCompResultsPlotting(\n",
    "    method_entries,\n",
    "    y_idx = 2,\n",
    "    yerr_idx = 5,\n",
    "    title = 'Human Test Results - Partial Match',\n",
    "    ylim = (0.4, 1),\n",
    "    n_yticks = None,\n",
    "    output_img_path = os.path.join(image_dir, 'human-test-partial.png'))"
   ]
  },
  {
   "cell_type": "code",
   "execution_count": 460,
   "metadata": {},
   "outputs": [
    {
     "data": {
      "image/png": "[encoded data removed]",
      "text/plain": [
       "<Figure size 720x360 with 1 Axes>"
      ]
     },
     "metadata": {
      "needs_background": "light"
     },
     "output_type": "display_data"
    }
   ],
   "source": [
    "fig = MethodsCompResultsPlotting(\n",
    "    method_entries,\n",
    "    y_idx = 3,\n",
    "    yerr_idx = 6,\n",
    "    title = 'Human Test Results - BLEU',\n",
    "    ylim = (0.3, 1.1),\n",
    "    n_yticks = None,\n",
    "    output_img_path = os.path.join(image_dir, 'human-test-bleu.png'))"
   ]
  },
  {
   "cell_type": "code",
   "execution_count": null,
   "metadata": {},
   "outputs": [],
   "source": []
  },
  {
   "cell_type": "code",
   "execution_count": null,
   "metadata": {},
   "outputs": [],
   "source": []
  },
  {
   "cell_type": "markdown",
   "metadata": {},
   "source": [
    "### Gold tagger pred (not used)"
   ]
  },
  {
   "cell_type": "code",
   "execution_count": 3,
   "metadata": {},
   "outputs": [
    {
     "data": {
      "text/plain": [
       "3075"
      ]
     },
     "execution_count": 3,
     "metadata": {},
     "output_type": "execute_result"
    }
   ],
   "source": [
    "base_tag_path = f'/Users/mac/Desktop/syt/Deep-Learning/Projects-M/SpeakQL/SpeakQL/Allennlp_models/outputs/output-2.12.1.0t.json'\n",
    "\n",
    "with open(base_tag_path, 'r') as f:\n",
    "    base_preds = [json.loads(l) for l in f]\n",
    "\n",
    "len(base_preds)"
   ]
  },
  {
   "cell_type": "code",
   "execution_count": null,
   "metadata": {},
   "outputs": [],
   "source": [
    "golds = []\n",
    "\n",
    "for d in base_preds:\n",
    "    d['tags_prediction'] = [t for t in d['gold_tags'] if t != 'O']\n",
    "    d['2.12.1.0t_NLL'] = d['tags_NLL']\n",
    "    d['2.12.1.0t_accuracy'] = d['tags_accuracy']\n",
    "    d['tags_NLL'] = 0.0\n",
    "    d['tags_accuracy'] = 1.0\n",
    "    golds.append(d)\n",
    "\n",
    "golds[200]"
   ]
  },
  {
   "cell_type": "code",
   "execution_count": 7,
   "metadata": {},
   "outputs": [],
   "source": [
    "gold_tag_path = f'/Users/mac/Desktop/syt/Deep-Learning/Projects-M/SpeakQL/SpeakQL/Allennlp_models/outputs/output-gold-t.json'\n",
    "\n",
    "with open(gold_tag_path, 'w') as f:\n",
    "    for d in golds:\n",
    "        f.write(json.dumps(d) + '\\n')\n"
   ]
  },
  {
   "cell_type": "code",
   "execution_count": null,
   "metadata": {},
   "outputs": [],
   "source": []
  },
  {
   "cell_type": "markdown",
   "metadata": {},
   "source": [
    "### SQL Execution results"
   ]
  },
  {
   "cell_type": "code",
   "execution_count": null,
   "metadata": {},
   "outputs": [],
   "source": [
    "# world_1\n",
    "# ASR Question: what are the names of the countries that are in the continent of Europe and have a population of 80,000?\n",
    "# Rwt Question: what are the names of the countries that are in the continent of Europe and have a population of 50000?\n",
    "# Compare SQL: select name from country where continent = 'Europe' and population = 80,000 (0)\n",
    "# Rwt Question SQL: select name from country where continent = 'Europe' and population = 50000 (1)\n",
    "# Gold Question: What are the names of the countries that are in the continent of Europe and have a population of 80000?\n",
    "# Gold SQL: SELECT Name FROM country WHERE continent  =  \"Europe\" AND Population  =  \"80000\""
   ]
  },
  {
   "cell_type": "code",
   "execution_count": 186,
   "metadata": {},
   "outputs": [],
   "source": [
    "import sqlite3\n",
    "\n",
    "db_id = 'world_1'\n",
    "db_path = f'/Users/mac/Desktop/syt/Deep-Learning/Dataset/spider/database/{db_id}/world_1.sqlite'\n",
    "\n",
    "conn = sqlite3.connect(db_path)\n",
    "cursor = conn.cursor()\n",
    "\n",
    "sql_query = \"select name, population from country where continent = 'Europe'\"\n",
    "# sql_query = \"select name from country where continent = 'Europe' and population = 80,000\"\n",
    "\n",
    "cursor.execute(sql_query)\n",
    "p_res = cursor.fetchall()"
   ]
  },
  {
   "cell_type": "code",
   "execution_count": 187,
   "metadata": {
    "scrolled": true
   },
   "outputs": [
    {
     "data": {
      "text/plain": [
       "[('Albania', 3401200),\n",
       " ('Andorra', 78000),\n",
       " ('Austria', 8091800),\n",
       " ('Belgium', 10239000),\n",
       " ('Bulgaria', 8190900),\n",
       " ('Bosnia and Herzegovina', 3972000),\n",
       " ('Belarus', 10236000),\n",
       " ('Switzerland', 7160400),\n",
       " ('Czech Republic', 10278100),\n",
       " ('Germany', 82164700),\n",
       " ('Denmark', 5330000),\n",
       " ('Spain', 39441700),\n",
       " ('Estonia', 1439200),\n",
       " ('Finland', 5171300),\n",
       " ('France', 59225700),\n",
       " ('Faroe Islands', 43000),\n",
       " ('United Kingdom', 59623400),\n",
       " ('Gibraltar', 25000),\n",
       " ('Greece', 10545700),\n",
       " ('Croatia', 4473000),\n",
       " ('Hungary', 10043200),\n",
       " ('Ireland', 3775100),\n",
       " ('Iceland', 279000),\n",
       " ('Italy', 57680000),\n",
       " ('Liechtenstein', 32300),\n",
       " ('Lithuania', 3698500),\n",
       " ('Luxembourg', 435700),\n",
       " ('Latvia', 2424200),\n",
       " ('Monaco', 34000),\n",
       " ('Moldova', 4380000),\n",
       " ('Macedonia', 2024000),\n",
       " ('Malta', 380200),\n",
       " ('Netherlands', 15864000),\n",
       " ('Norway', 4478500),\n",
       " ('Poland', 38653600),\n",
       " ('Portugal', 9997600),\n",
       " ('Romania', 22455500),\n",
       " ('Russian Federation', 146934000),\n",
       " ('Svalbard and Jan Mayen', 3200),\n",
       " ('San Marino', 27000),\n",
       " ('Slovakia', 5398700),\n",
       " ('Slovenia', 1987800),\n",
       " ('Sweden', 8861400),\n",
       " ('Ukraine', 50456000),\n",
       " ('Holy See (Vatican City State)', 1000),\n",
       " ('Yugoslavia', 10640000)]"
      ]
     },
     "execution_count": 187,
     "metadata": {},
     "output_type": "execute_result"
    }
   ],
   "source": [
    "p_res"
   ]
  },
  {
   "cell_type": "code",
   "execution_count": null,
   "metadata": {},
   "outputs": [],
   "source": []
  },
  {
   "cell_type": "code",
   "execution_count": null,
   "metadata": {},
   "outputs": [],
   "source": []
  },
  {
   "cell_type": "markdown",
   "metadata": {},
   "source": [
    "### Temp"
   ]
  },
  {
   "cell_type": "code",
   "execution_count": 204,
   "metadata": {},
   "outputs": [
    {
     "data": {
      "text/plain": [
       "masked_array(data=[1.0, 2.0, --],\n",
       "             mask=[False, False,  True],\n",
       "       fill_value=1e+20)"
      ]
     },
     "execution_count": 204,
     "metadata": {},
     "output_type": "execute_result"
    }
   ],
   "source": [
    "_vals = [1,2,None]\n",
    "\n",
    "np.ma.masked_where(condition=[_val is None for _val in _vals],\n",
    "                            a=_vals).astype(float)"
   ]
  },
  {
   "cell_type": "code",
   "execution_count": 50,
   "metadata": {},
   "outputs": [],
   "source": [
    "d1 = {'a': 1, 'b': 2, 'c': {'a': 1, 'b': 2}}\n",
    "d2 = {'b': 2, 'a': 1, 'c': {'b': 2, 'a': 1}}"
   ]
  },
  {
   "cell_type": "code",
   "execution_count": 51,
   "metadata": {},
   "outputs": [
    {
     "data": {
      "text/plain": [
       "({'a': 1, 'b': 2, 'c': {'a': 1, 'b': 2}},\n",
       " {'b': 2, 'a': 1, 'c': {'b': 2, 'a': 1}})"
      ]
     },
     "execution_count": 51,
     "metadata": {},
     "output_type": "execute_result"
    }
   ],
   "source": [
    "d1, d2"
   ]
  },
  {
   "cell_type": "code",
   "execution_count": 52,
   "metadata": {},
   "outputs": [
    {
     "data": {
      "text/plain": [
       "(True, False, True)"
      ]
     },
     "execution_count": 52,
     "metadata": {},
     "output_type": "execute_result"
    }
   ],
   "source": [
    "d1 is d1, d1 is d2, d1 == d2"
   ]
  },
  {
   "cell_type": "code",
   "execution_count": 53,
   "metadata": {},
   "outputs": [
    {
     "data": {
      "text/plain": [
       "(b'\\x80\\x03}q\\x00(X\\x01\\x00\\x00\\x00aq\\x01K\\x01X\\x01\\x00\\x00\\x00bq\\x02K\\x02X\\x01\\x00\\x00\\x00cq\\x03}q\\x04(h\\x01K\\x01h\\x02K\\x02uu.',\n",
       " b'\\x80\\x03}q\\x00(X\\x01\\x00\\x00\\x00bq\\x01K\\x02X\\x01\\x00\\x00\\x00aq\\x02K\\x01X\\x01\\x00\\x00\\x00cq\\x03}q\\x04(h\\x01K\\x02h\\x02K\\x01uu.')"
      ]
     },
     "execution_count": 53,
     "metadata": {},
     "output_type": "execute_result"
    }
   ],
   "source": [
    "pickle.dumps(d1),pickle.dumps(d2)"
   ]
  },
  {
   "cell_type": "code",
   "execution_count": 54,
   "metadata": {},
   "outputs": [
    {
     "data": {
      "text/plain": [
       "('{\"a\": 1, \"b\": 2, \"c\": {\"a\": 1, \"b\": 2}}',\n",
       " '{\"a\": 1, \"b\": 2, \"c\": {\"a\": 1, \"b\": 2}}')"
      ]
     },
     "execution_count": 54,
     "metadata": {},
     "output_type": "execute_result"
    }
   ],
   "source": [
    "json.dumps(d1, sort_keys=True), json.dumps(d2, sort_keys=True)"
   ]
  },
  {
   "cell_type": "code",
   "execution_count": 59,
   "metadata": {},
   "outputs": [
    {
     "data": {
      "text/plain": [
       "[(1, 2)]"
      ]
     },
     "execution_count": 59,
     "metadata": {},
     "output_type": "execute_result"
    }
   ],
   "source": [
    "Counter([1,1,2]).most_common(1)"
   ]
  },
  {
   "cell_type": "code",
   "execution_count": 373,
   "metadata": {},
   "outputs": [
    {
     "name": "stdout",
     "output_type": "stream",
     "text": [
      "The memory_profiler extension is already loaded. To reload it, use:\n",
      "  %reload_ext memory_profiler\n"
     ]
    }
   ],
   "source": [
    "%load_ext memory_profiler"
   ]
  },
  {
   "cell_type": "code",
   "execution_count": 374,
   "metadata": {},
   "outputs": [
    {
     "name": "stdout",
     "output_type": "stream",
     "text": [
      "peak memory: 694.88 MiB, increment: 0.16 MiB\n"
     ]
    }
   ],
   "source": [
    "%memit"
   ]
  },
  {
   "cell_type": "code",
   "execution_count": 8,
   "metadata": {},
   "outputs": [],
   "source": [
    "from allennlp.nn.util import get_text_field_mask, sequence_cross_entropy_with_logits, \\\n",
    "    get_device_of, masked_softmax, masked_log_softmax, weighted_sum, \\\n",
    "    get_mask_from_sequence_lengths, get_lengths_from_binary_sequence_mask, tensors_equal\n",
    "\n",
    "concat_lens = [6,4,7,6]\n",
    "text_lens = [2,1,6,3]\n",
    "\n",
    "concat_mask = get_mask_from_sequence_lengths(torch.LongTensor(concat_lens), max_length=10)\n",
    "text_mask = get_mask_from_sequence_lengths(torch.LongTensor(text_lens), max_length=10)\n"
   ]
  },
  {
   "cell_type": "code",
   "execution_count": 9,
   "metadata": {},
   "outputs": [
    {
     "data": {
      "text/plain": [
       "tensor([[ True,  True,  True,  True,  True,  True, False, False, False, False],\n",
       "        [ True,  True,  True,  True, False, False, False, False, False, False],\n",
       "        [ True,  True,  True,  True,  True,  True,  True, False, False, False],\n",
       "        [ True,  True,  True,  True,  True,  True, False, False, False, False]])"
      ]
     },
     "execution_count": 9,
     "metadata": {},
     "output_type": "execute_result"
    }
   ],
   "source": [
    "concat_mask"
   ]
  },
  {
   "cell_type": "code",
   "execution_count": 10,
   "metadata": {},
   "outputs": [
    {
     "data": {
      "text/plain": [
       "tensor([[ True,  True, False, False, False, False, False, False, False, False],\n",
       "        [ True, False, False, False, False, False, False, False, False, False],\n",
       "        [ True,  True,  True,  True,  True,  True, False, False, False, False],\n",
       "        [ True,  True,  True, False, False, False, False, False, False, False]])"
      ]
     },
     "execution_count": 10,
     "metadata": {},
     "output_type": "execute_result"
    }
   ],
   "source": [
    "text_mask"
   ]
  },
  {
   "cell_type": "code",
   "execution_count": 17,
   "metadata": {},
   "outputs": [
    {
     "data": {
      "text/plain": [
       "tensor([[False, False,  True,  True,  True,  True, False, False, False, False],\n",
       "        [False,  True,  True,  True, False, False, False, False, False, False],\n",
       "        [False, False, False, False, False, False,  True, False, False, False],\n",
       "        [False, False, False,  True,  True,  True, False, False, False, False]])"
      ]
     },
     "execution_count": 17,
     "metadata": {},
     "output_type": "execute_result"
    }
   ],
   "source": [
    "schema_mask = torch.logical_xor(concat_mask, text_mask)\n",
    "schema_mask"
   ]
  },
  {
   "cell_type": "code",
   "execution_count": 42,
   "metadata": {
    "scrolled": true
   },
   "outputs": [
    {
     "data": {
      "text/plain": [
       "tensor([[[  0.,   1.,   2.,   3.,   4.,   5.,   6.,   7.,   8.,   9.],\n",
       "         [ 10.,  11.,  12.,  13.,  14.,  15.,  16.,  17.,  18.,  19.],\n",
       "         [ 20.,  21.,  22.,  23.,  24.,  25.,  26.,  27.,  28.,  29.],\n",
       "         [ 30.,  31.,  32.,  33.,  34.,  35.,  36.,  37.,  38.,  39.],\n",
       "         [ 40.,  41.,  42.,  43.,  44.,  45.,  46.,  47.,  48.,  49.],\n",
       "         [ 50.,  51.,  52.,  53.,  54.,  55.,  56.,  57.,  58.,  59.],\n",
       "         [ 60.,  61.,  62.,  63.,  64.,  65.,  66.,  67.,  68.,  69.],\n",
       "         [ 70.,  71.,  72.,  73.,  74.,  75.,  76.,  77.,  78.,  79.],\n",
       "         [ 80.,  81.,  82.,  83.,  84.,  85.,  86.,  87.,  88.,  89.],\n",
       "         [ 90.,  91.,  92.,  93.,  94.,  95.,  96.,  97.,  98.,  99.]],\n",
       "\n",
       "        [[100., 101., 102., 103., 104., 105., 106., 107., 108., 109.],\n",
       "         [110., 111., 112., 113., 114., 115., 116., 117., 118., 119.],\n",
       "         [120., 121., 122., 123., 124., 125., 126., 127., 128., 129.],\n",
       "         [130., 131., 132., 133., 134., 135., 136., 137., 138., 139.],\n",
       "         [140., 141., 142., 143., 144., 145., 146., 147., 148., 149.],\n",
       "         [150., 151., 152., 153., 154., 155., 156., 157., 158., 159.],\n",
       "         [160., 161., 162., 163., 164., 165., 166., 167., 168., 169.],\n",
       "         [170., 171., 172., 173., 174., 175., 176., 177., 178., 179.],\n",
       "         [180., 181., 182., 183., 184., 185., 186., 187., 188., 189.],\n",
       "         [190., 191., 192., 193., 194., 195., 196., 197., 198., 199.]],\n",
       "\n",
       "        [[200., 201., 202., 203., 204., 205., 206., 207., 208., 209.],\n",
       "         [210., 211., 212., 213., 214., 215., 216., 217., 218., 219.],\n",
       "         [220., 221., 222., 223., 224., 225., 226., 227., 228., 229.],\n",
       "         [230., 231., 232., 233., 234., 235., 236., 237., 238., 239.],\n",
       "         [240., 241., 242., 243., 244., 245., 246., 247., 248., 249.],\n",
       "         [250., 251., 252., 253., 254., 255., 256., 257., 258., 259.],\n",
       "         [260., 261., 262., 263., 264., 265., 266., 267., 268., 269.],\n",
       "         [270., 271., 272., 273., 274., 275., 276., 277., 278., 279.],\n",
       "         [280., 281., 282., 283., 284., 285., 286., 287., 288., 289.],\n",
       "         [290., 291., 292., 293., 294., 295., 296., 297., 298., 299.]],\n",
       "\n",
       "        [[300., 301., 302., 303., 304., 305., 306., 307., 308., 309.],\n",
       "         [310., 311., 312., 313., 314., 315., 316., 317., 318., 319.],\n",
       "         [320., 321., 322., 323., 324., 325., 326., 327., 328., 329.],\n",
       "         [330., 331., 332., 333., 334., 335., 336., 337., 338., 339.],\n",
       "         [340., 341., 342., 343., 344., 345., 346., 347., 348., 349.],\n",
       "         [350., 351., 352., 353., 354., 355., 356., 357., 358., 359.],\n",
       "         [360., 361., 362., 363., 364., 365., 366., 367., 368., 369.],\n",
       "         [370., 371., 372., 373., 374., 375., 376., 377., 378., 379.],\n",
       "         [380., 381., 382., 383., 384., 385., 386., 387., 388., 389.],\n",
       "         [390., 391., 392., 393., 394., 395., 396., 397., 398., 399.]]])"
      ]
     },
     "execution_count": 42,
     "metadata": {},
     "output_type": "execute_result"
    }
   ],
   "source": [
    "a = torch.FloatTensor(range(400)).view((4,10,10))\n",
    "a"
   ]
  },
  {
   "cell_type": "code",
   "execution_count": 44,
   "metadata": {
    "scrolled": true
   },
   "outputs": [
    {
     "data": {
      "text/plain": [
       "tensor([[[  -3.1339],\n",
       "         [  -9.6698],\n",
       "         [  -2.9938],\n",
       "         [  -3.9154],\n",
       "         [  -4.8370],\n",
       "         [  -5.7587],\n",
       "         [  -0.0000],\n",
       "         [  -0.0000],\n",
       "         [  -0.0000],\n",
       "         [  -0.0000]],\n",
       "\n",
       "        [[ -68.4931],\n",
       "         [ -11.2884],\n",
       "         [ -12.2100],\n",
       "         [ -13.1316],\n",
       "         [  -0.0000],\n",
       "         [  -0.0000],\n",
       "         [  -0.0000],\n",
       "         [  -0.0000],\n",
       "         [  -0.0000],\n",
       "         [  -0.0000]],\n",
       "\n",
       "        [[-133.8523],\n",
       "         [-140.3882],\n",
       "         [-146.9241],\n",
       "         [-153.4601],\n",
       "         [-159.9960],\n",
       "         [-166.5319],\n",
       "         [ -25.1126],\n",
       "         [  -0.0000],\n",
       "         [  -0.0000],\n",
       "         [  -0.0000]],\n",
       "\n",
       "        [[-199.2115],\n",
       "         [-205.7474],\n",
       "         [-212.2833],\n",
       "         [ -31.5639],\n",
       "         [ -32.4855],\n",
       "         [ -33.4071],\n",
       "         [  -0.0000],\n",
       "         [  -0.0000],\n",
       "         [  -0.0000],\n",
       "         [  -0.0000]]], grad_fn=<SubBackward0>)"
      ]
     },
     "execution_count": 44,
     "metadata": {},
     "output_type": "execute_result"
    }
   ],
   "source": [
    "m1 = torch.nn.Linear(10, 1)\n",
    "m2 = torch.nn.Linear(10, 1)\n",
    "\n",
    "a2 = m1(a) * text_mask.unsqueeze(-1) - m2(a) * schema_mask.unsqueeze(-1)\n",
    "a2"
   ]
  },
  {
   "cell_type": "code",
   "execution_count": 45,
   "metadata": {},
   "outputs": [],
   "source": [
    "a2.sum().backward()"
   ]
  },
  {
   "cell_type": "code",
   "execution_count": 47,
   "metadata": {},
   "outputs": [
    {
     "data": {
      "text/plain": [
       "(tensor([[2390., 2402., 2414., 2426., 2438., 2450., 2462., 2474., 2486., 2498.]]),\n",
       " '\\n',\n",
       " tensor([12.]))"
      ]
     },
     "execution_count": 47,
     "metadata": {},
     "output_type": "execute_result"
    }
   ],
   "source": [
    "m1.weight.grad, '\\n', m1.bias.grad"
   ]
  },
  {
   "cell_type": "code",
   "execution_count": 48,
   "metadata": {},
   "outputs": [
    {
     "data": {
      "text/plain": [
       "(tensor([[-1780., -1791., -1802., -1813., -1824., -1835., -1846., -1857., -1868.,\n",
       "          -1879.]]),\n",
       " '\\n',\n",
       " tensor([-11.]))"
      ]
     },
     "execution_count": 48,
     "metadata": {},
     "output_type": "execute_result"
    }
   ],
   "source": [
    "m2.weight.grad, '\\n', m2.bias.grad"
   ]
  },
  {
   "cell_type": "code",
   "execution_count": 50,
   "metadata": {},
   "outputs": [
    {
     "data": {
      "text/plain": [
       "<spacy.lang.en.English at 0x10e3640d0>"
      ]
     },
     "execution_count": 50,
     "metadata": {},
     "output_type": "execute_result"
    }
   ],
   "source": [
    "nlp = spacy.load(\"en_core_web_sm\")\n",
    "nlp"
   ]
  },
  {
   "cell_type": "code",
   "execution_count": 64,
   "metadata": {},
   "outputs": [
    {
     "data": {
      "text/plain": [
       "['reduction', 'reduce', 'reduce', 'reduced', 'reduce']"
      ]
     },
     "execution_count": 64,
     "metadata": {},
     "output_type": "execute_result"
    }
   ],
   "source": [
    "d = nlp('reduction reduce reducing reduced reduces')\n",
    "[t.lemma_ for t in d]"
   ]
  },
  {
   "cell_type": "code",
   "execution_count": 62,
   "metadata": {},
   "outputs": [
    {
     "data": {
      "text/plain": [
       "[I, 've, made, a, \", asdfe, fgh, \", yesterday, .]"
      ]
     },
     "execution_count": 62,
     "metadata": {},
     "output_type": "execute_result"
    }
   ],
   "source": [
    "doc = nlp(\"I've made a \\\"asdfe fgh\\\" yesterday.\")\n",
    "list(doc)"
   ]
  },
  {
   "cell_type": "code",
   "execution_count": 71,
   "metadata": {},
   "outputs": [
    {
     "data": {
      "text/plain": [
       "(39, 39)"
      ]
     },
     "execution_count": 71,
     "metadata": {},
     "output_type": "execute_result"
    }
   ],
   "source": [
    "_path1 = '/Users/mac/Desktop/syt/Deep-Learning/Projects-M/SpeakQL/SpeakQL/Allennlp_models/outputs/DEBUG-cpu-TEMP-output-2.31.0.0i-oracle-tags.json'\n",
    "_path2 = '/Users/mac/Desktop/syt/Deep-Learning/Projects-M/SpeakQL/SpeakQL/Allennlp_models/outputs/DEBUG-cpu-TEMP2-output-2.31.0.0i-oracle-tags.json'\n",
    "\n",
    "with open(_path1, 'r') as f:\n",
    "    _outs1 = [json.loads(l) for l in f]\n",
    "with open(_path2, 'r') as f:\n",
    "    _outs2 = [json.loads(l) for l in f]\n",
    "\n",
    "len(_outs1), len(_outs2)"
   ]
  },
  {
   "cell_type": "code",
   "execution_count": 72,
   "metadata": {},
   "outputs": [
    {
     "name": "stdout",
     "output_type": "stream",
     "text": [
      "8\n",
      "15\n",
      "20\n"
     ]
    }
   ],
   "source": [
    "for i, (o1, o2) in enumerate(zip(_outs1, _outs2)):\n",
    "    if o1['rewrite_seq_prediction'] != o2['rewrite_seq_prediction']:\n",
    "        print(i)"
   ]
  },
  {
   "cell_type": "code",
   "execution_count": null,
   "metadata": {},
   "outputs": [],
   "source": []
  },
  {
   "cell_type": "code",
   "execution_count": null,
   "metadata": {},
   "outputs": [],
   "source": []
  },
  {
   "cell_type": "code",
   "execution_count": null,
   "metadata": {},
   "outputs": [],
   "source": []
  }
 ],
 "metadata": {
  "kernelspec": {
   "display_name": "Python 3",
   "language": "python",
   "name": "python3"
  },
  "language_info": {
   "codemirror_mode": {
    "name": "ipython",
    "version": 3
   },
   "file_extension": ".py",
   "mimetype": "text/x-python",
   "name": "python",
   "nbconvert_exporter": "python",
   "pygments_lexer": "ipython3",
   "version": "3.7.5"
  },
  "toc": {
   "base_numbering": 1,
   "nav_menu": {},
   "number_sections": true,
   "sideBar": true,
   "skip_h1_title": false,
   "title_cell": "Table of Contents",
   "title_sidebar": "Contents",
   "toc_cell": false,
   "toc_position": {
    "height": "calc(100% - 180px)",
    "left": "10px",
    "top": "150px",
    "width": "335.797px"
   },
   "toc_section_display": true,
   "toc_window_display": true
  }
 },
 "nbformat": 4,
 "nbformat_minor": 4
}
