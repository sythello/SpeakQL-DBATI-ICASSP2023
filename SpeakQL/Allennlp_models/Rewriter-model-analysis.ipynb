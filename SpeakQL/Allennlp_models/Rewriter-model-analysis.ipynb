{
 "cells": [
  {
   "cell_type": "code",
   "execution_count": 1,
   "metadata": {},
   "outputs": [
    {
     "name": "stderr",
     "output_type": "stream",
     "text": [
      "WARNING:root:You are using the old version of `pytorch_pretrained_bert`\n"
     ]
    },
    {
     "data": {
      "text/plain": [
       "<torch._C.Generator at 0x10ff0b790>"
      ]
     },
     "execution_count": 1,
     "metadata": {},
     "output_type": "execute_result"
    }
   ],
   "source": [
    "from typing import Iterator, List, Dict, Optional, cast\n",
    "import torch\n",
    "import torch.optim as optim\n",
    "from torch.nn import MSELoss\n",
    "from torch.nn import functional as F\n",
    "from torch.nn import ModuleList\n",
    "\n",
    "import numpy as np\n",
    "from allennlp.data import Instance\n",
    "from allennlp.data.fields import TextField, LabelField, SequenceLabelField, ArrayField, MetadataField, ListField\n",
    "from allennlp.data.dataset_readers import DatasetReader\n",
    "from allennlp.common.file_utils import cached_path\n",
    "from allennlp.data.token_indexers import TokenIndexer, SingleIdTokenIndexer\n",
    "from allennlp.data.tokenizers import Token\n",
    "from allennlp.data.vocabulary import Vocabulary\n",
    "from allennlp.data.batch import Batch\n",
    "from allennlp.models import Model\n",
    "from allennlp.modules.text_field_embedders import TextFieldEmbedder, BasicTextFieldEmbedder\n",
    "from allennlp.modules.token_embedders import Embedding, TokenEmbedder\n",
    "from allennlp.modules.token_embedders.pretrained_transformer_embedder import PretrainedTransformerEmbedder\n",
    "from allennlp.modules.token_embedders.pretrained_transformer_mismatched_embedder import PretrainedTransformerMismatchedEmbedder\n",
    "# from allennlp.modules.seq2seq_encoders.multi_head_self_attention import MultiHeadSelfAttention\n",
    "from allennlp.modules.seq2seq_encoders import Seq2SeqEncoder, PytorchSeq2SeqWrapper\n",
    "from allennlp.modules.seq2vec_encoders import Seq2VecEncoder, PytorchSeq2VecWrapper\n",
    "from allennlp.modules.seq2vec_encoders.cnn_encoder import CnnEncoder\n",
    "from allennlp.modules.attention import Attention\n",
    "from allennlp.modules.matrix_attention.matrix_attention import MatrixAttention\n",
    "from allennlp.modules.matrix_attention.linear_matrix_attention import LinearMatrixAttention\n",
    "from allennlp.modules.matrix_attention.cosine_matrix_attention import CosineMatrixAttention\n",
    "from allennlp.modules.matrix_attention.bilinear_matrix_attention import BilinearMatrixAttention\n",
    "\n",
    "from allennlp.modules.conditional_random_field import allowed_transitions, ConditionalRandomField\n",
    "\n",
    "from allennlp.nn.util import get_text_field_mask, sequence_cross_entropy_with_logits, \\\n",
    "    get_device_of, masked_softmax, weighted_sum, \\\n",
    "    get_mask_from_sequence_lengths, get_lengths_from_binary_sequence_mask, tensors_equal\n",
    "\n",
    "from allennlp.training.metrics import BooleanAccuracy, CategoricalAccuracy, MeanAbsoluteError, Average, BLEU\n",
    "from allennlp.data.samplers import BucketBatchSampler\n",
    "from allennlp.data.dataloader import DataLoader, PyTorchDataLoader\n",
    "from allennlp.training.trainer import GradientDescentTrainer\n",
    "# from allennlp.predictors import Predictor, Seq2SeqPredictor, SimpleSeq2SeqPredictor, SentenceTaggerPredictor\n",
    "from allennlp.predictors import Predictor, SentenceTaggerPredictor\n",
    "from allennlp.nn.activations import Activation\n",
    "from allennlp.common.tqdm import Tqdm\n",
    "from allennlp.common.params import Params\n",
    "from allennlp.common.util import JsonDict, sanitize\n",
    "\n",
    "from allennlp_models.generation.predictors import Seq2SeqPredictor\n",
    "from allennlp_models.generation.models.simple_seq2seq import SimpleSeq2Seq\n",
    "from allennlp_models.generation.modules.seq_decoders.seq_decoder import SeqDecoder\n",
    "from allennlp_models.generation.modules.decoder_nets.decoder_net import DecoderNet\n",
    "\n",
    "\n",
    "# from spacy.tokenizer import Tokenizer as SpacyTokenizer\n",
    "# from spacy.lang.en import English\n",
    "# nlp = English()\n",
    "# Create a blank Tokenizer with just the English vocab\n",
    "# tokenizer = Tokenizer(nlp.vocab)\n",
    "\n",
    "from tqdm.notebook import tqdm\n",
    "\n",
    "from pyAudioAnalysis import audioBasicIO\n",
    "from pyAudioAnalysis import ShortTermFeatures\n",
    "\n",
    "import os, sys\n",
    "import itertools\n",
    "import json\n",
    "from collections import defaultdict, Counter\n",
    "from inspect import signature\n",
    "import warnings\n",
    "import pickle\n",
    "from copy import copy, deepcopy\n",
    "from overrides import overrides\n",
    "import importlib\n",
    "import string\n",
    "import re\n",
    "import matplotlib.pyplot as plt\n",
    "import editdistance\n",
    "from copy import copy, deepcopy\n",
    "import random\n",
    "import nltk\n",
    "\n",
    "from transformers import BertPreTrainedModel, BertModel, BertConfig, BertTokenizer\n",
    "\n",
    "from utils.spider import process_sql, evaluation\n",
    "from utils.schema_gnn.spider_utils import Table, TableColumn, read_dataset_schema\n",
    "from utils.misc_utils import Load_CMU_Dict, WordPronDist, WordPronSimilarity, ConstructWordSimMatrix\n",
    "\n",
    "import dataset_readers\n",
    "import models\n",
    "import predictors\n",
    "\n",
    "from dataset_readers.reader_utils import extractAudioFeatures, extractAudioFeatures_NoPooling, dbToTokens, \\\n",
    "    text_cell_to_toks\n",
    "from modules.encoder import SpeakQLEncoder, SpeakQLEncoderV1\n",
    "# from modules.encoder import SpeakQLEncoder, SpeakQLEncoderV1, SpeakQLEncoder_Gated_Fusion\n",
    "# from models.reranker import SpiderASRRerankerV0, SpiderASRRerankerV1, SpiderASRRerankerV2, SpiderASRReranker_Siamese\n",
    "# from predictors.reranker_predictor import SpiderASRRerankerPredictor, SpiderASRRerankerPredictor_Siamese\n",
    "\n",
    "from dataset_readers import SpiderASRRerankerReaderV2_Siamese_Combined\n",
    "from dataset_readers import SpiderASRRewriterReader_Seq2seq_Combined_new, \\\n",
    "    SpiderASRRewriterReader_Tagger_Combined_new, SpiderASRRewriterReader_ILM_Combined_new\n",
    "from models import SpiderASRRewriter_Tagger_Combined_new, SpiderASRRewriter_ILM_Combined_new, \\\n",
    "    SpiderASRRewriter_Seq2seq_Combined_new\n",
    "#     SpiderASRRewriter_Tagger_Combined_legacy, SpiderASRRewriter_ILM_Combined_legacy\n",
    "from predictors import SpiderASRRewriterPredictor_Tagger, SpiderASRRewriterPredictor_ILM, SpiderASRRewriterPredictor_Seq2seq\n",
    "\n",
    "from others.wer import WordErrorRate\n",
    "\n",
    "from sklearn.metrics import pairwise\n",
    "\n",
    "torch.manual_seed(1)"
   ]
  },
  {
   "cell_type": "code",
   "execution_count": 2,
   "metadata": {},
   "outputs": [],
   "source": [
    "# import models, modules\n",
    "# importlib.reload(models)\n",
    "# from models import rewriter_ILM_comb_new\n",
    "# importlib.reload(modules)\n",
    "# from modules import copynet_decoder"
   ]
  },
  {
   "cell_type": "markdown",
   "metadata": {},
   "source": [
    "### Loading dataset_reader and model"
   ]
  },
  {
   "cell_type": "code",
   "execution_count": 64,
   "metadata": {},
   "outputs": [],
   "source": [
    "full_config = Params.from_file('train_configs/rewriter_2.31.0.0i.jsonnet')"
   ]
  },
  {
   "cell_type": "code",
   "execution_count": 65,
   "metadata": {},
   "outputs": [
    {
     "data": {
      "text/plain": [
       "{'databases_dir': '/Users/mac/Desktop/syt/Deep-Learning/Dataset/spider/database',\n",
       " 'dataset_dir': '/Users/mac/Desktop/syt/Deep-Learning/Dataset/spider/my',\n",
       " 'db_cells_in_bracket': True,\n",
       " 'db_tok2phs_dict_path': '/Users/mac/Desktop/syt/Deep-Learning/Dataset/spider/my/db/db_tok2phs.json',\n",
       " 'include_align_tags': True,\n",
       " 'include_gold_rewrite_seq': True,\n",
       " 'max_sequence_len': 300,\n",
       " 'ph_token_indexers': {'phonemes': {'namespace': 'phonemes',\n",
       "   'type': 'single_id'}},\n",
       " 'pronun_dict_path': '/Users/mac/Desktop/syt/Deep-Learning/Dataset/CMUdict/cmudict-0.7b.txt',\n",
       " 'specify_full_path': False,\n",
       " 'src_token_indexers': {'bert': {'model_name': 'facebook/bart-base',\n",
       "   'type': 'pretrained_transformer_mismatched'},\n",
       "  'char': {'min_padding_length': 5,\n",
       "   'namespace': 'token_characters',\n",
       "   'type': 'characters'}},\n",
       " 'tabert_model_path': '/Users/mac/Desktop/syt/Deep-Learning/Repos/TaBERT/pretrained-models/tabert_base_k1/model.bin',\n",
       " 'tables_json_fname': '/Users/mac/Desktop/syt/Deep-Learning/Dataset/spider/tables.json',\n",
       " 'tgt_token_indexers': {'tgt_tokens': {'namespace': 'tgt_tokens',\n",
       "   'type': 'single_id'}},\n",
       " 'type': 'spider_ASR_rewriter_reader_ILM_comb_new',\n",
       " 'use_db_cells': 'K=5',\n",
       " 'use_phoneme_inputs': False,\n",
       " 'use_phoneme_labels': True,\n",
       " 'use_tabert': False,\n",
       " 'use_tagger_prediction': False,\n",
       " 'cands_limit': 1}"
      ]
     },
     "execution_count": 65,
     "metadata": {},
     "output_type": "execute_result"
    }
   ],
   "source": [
    "dsreader_config = deepcopy(full_config['dataset_reader'])\n",
    "dsreader_config['databases_dir'] = \"/Users/mac/Desktop/syt/Deep-Learning/Dataset/spider/database\"\n",
    "dsreader_config['dataset_dir'] = \"/Users/mac/Desktop/syt/Deep-Learning/Dataset/spider/my\"\n",
    "dsreader_config['tables_json_fname'] = '/Users/mac/Desktop/syt/Deep-Learning/Dataset/spider/tables.json'\n",
    "dsreader_config['tabert_model_path'] = '/Users/mac/Desktop/syt/Deep-Learning/Repos/TaBERT/pretrained-models/tabert_base_k1/model.bin'\n",
    "dsreader_config['pronun_dict_path'] = \"/Users/mac/Desktop/syt/Deep-Learning/Dataset/CMUdict/cmudict-0.7b.txt\"\n",
    "dsreader_config['db_tok2phs_dict_path'] = \"/Users/mac/Desktop/syt/Deep-Learning/Dataset/spider/my/db/db_tok2phs.json\"\n",
    "# dsreader_config['samples_limit'] = 50\n",
    "dsreader_config['cands_limit'] = 1\n",
    "dsreader_config.as_dict()\n"
   ]
  },
  {
   "cell_type": "code",
   "execution_count": 66,
   "metadata": {},
   "outputs": [
    {
     "name": "stdout",
     "output_type": "stream",
     "text": [
      "Loading CMU Dict done: 133854 entries, 125074 words, 113745 prons\n",
      "Loading db_tok2phs Dict done: 102186 entries, 102186 words, 91693 prons\n",
      "Joint word2pron size = 202111\n",
      "[('hellenizing', {('HH', 'EH', 'L', 'AH', 'N', 'AY', 'Z', 'IH', 'NG')}), ('kinsella', {('K', 'IY', 'N', 'S', 'EH', 'L', 'AH')}), ('matsch', {('M', 'AE', 'CH')}), ('odonnel', {('OW', 'D', 'AA', 'N', 'AH', 'L')}), ('quads', {('K', 'W', 'AA', 'D', 'Z')}), (\"sears'\", {('S', 'IH', 'R', 'Z')})]\n"
     ]
    }
   ],
   "source": [
    "dataset_reader = DatasetReader.from_params(dsreader_config)"
   ]
  },
  {
   "cell_type": "code",
   "execution_count": 67,
   "metadata": {},
   "outputs": [],
   "source": [
    "# tables_json_fname = '/Users/mac/Desktop/syt/Deep-Learning/Dataset/spider/tables.json'\n",
    "# dataset_dir = '/Users/mac/Desktop/syt/Deep-Learning/Dataset/spider/my'\n",
    "# databases_dir = '/Users/mac/Desktop/syt/Deep-Learning/Dataset/spider/database'\n",
    "\n",
    "# cmudict_path = '/Users/mac/Desktop/syt/Deep-Learning/Dataset/CMUdict/cmudict-0.7b.txt'\n",
    "\n",
    "\n",
    "# src_token_indexers = {\n",
    "#     'bert': TokenIndexer.by_name('pretrained_transformer_mismatched')('bert-base-uncased'),\n",
    "#     \"char\": TokenIndexer.by_name('characters')(namespace=\"token_characters\", min_padding_length=5)\n",
    "# }\n",
    "# tgt_token_indexers = {'tgt_tokens': SingleIdTokenIndexer(namespace='tgt_tokens')}\n",
    "\n",
    "# dataset_reader = SpiderASRRewriterReader_ILM_Combined(tables_json_fname=tables_json_fname,\n",
    "#                                                     dataset_dir=dataset_dir,\n",
    "#                                                     databases_dir=databases_dir,\n",
    "#                                                     src_token_indexers=src_token_indexers,\n",
    "#                                                     tgt_token_indexers=tgt_token_indexers,\n",
    "#                                                     include_align_tags=True,\n",
    "#                                                     pronun_dict_path=cmudict_path,\n",
    "#                                                     samples_limit=10)\n",
    "\n"
   ]
  },
  {
   "cell_type": "code",
   "execution_count": 68,
   "metadata": {
    "scrolled": true
   },
   "outputs": [
    {
     "data": {
      "application/vnd.jupyter.widget-view+json": {
       "model_id": "df9e3914922045c1a0fe6288de771e68",
       "version_major": 2,
       "version_minor": 0
      },
      "text/plain": [
       "HBox(children=(IntProgress(value=1, bar_style='info', description='reading instances', max=1, style=ProgressSt…"
      ]
     },
     "metadata": {},
     "output_type": "display_data"
    },
    {
     "name": "stdout",
     "output_type": "stream",
     "text": [
      "Loading literals failed: wta_1::players\n",
      "['first_name', 'last_name', 'hand', 'country_code']\n",
      "Could not decode to UTF-8 column 'last_name' with text 'Treyes Albarrac��N'\n",
      "Question OOV: 65, [('airlinesflights', ['EH', 'R', 'L', 'AY', 'N', 'S', 'F', 'L', 'AY', 'T', 'S']), ('liste', ['L', 'IH', 'S', 'T']), ('lexs', ['L', 'EH', 'K', 'S', 'Z']), ('cdo', ['S', 'IY', 'D', 'IY', 'OW']), ('dolo', ['D', 'OW', 'L', 'OW']), ('roomba', ['R', 'UW', 'M', 'B', 'AX']), ('shou', ['SH', 'UW']), ('everdeen', ['EH', 'V', 'ER', 'D', 'IY', 'N']), ('happend', ['HH', 'AE', 'P', 'AX', 'N', 'D']), ('witha', ['W', 'IH', 'DH', 'AE'])]\n"
     ]
    },
    {
     "name": "stderr",
     "output_type": "stream",
     "text": [
      "\n"
     ]
    },
    {
     "data": {
      "text/plain": [
       "547"
      ]
     },
     "execution_count": 68,
     "metadata": {},
     "output_type": "execute_result"
    }
   ],
   "source": [
    "test_dataset = dataset_reader.read('test')\n",
    "len(test_dataset)"
   ]
  },
  {
   "cell_type": "code",
   "execution_count": 31,
   "metadata": {},
   "outputs": [
    {
     "data": {
      "text/plain": [
       "1034"
      ]
     },
     "execution_count": 31,
     "metadata": {},
     "output_type": "execute_result"
    }
   ],
   "source": [
    "original_dev_path = '/Users/mac/Desktop/syt/Deep-Learning/Dataset/spider/dev.json'\n",
    "with open(original_dev_path, 'r') as f:\n",
    "    original_dev_dataset = json.load(f)\n",
    "len(original_dev_dataset)"
   ]
  },
  {
   "cell_type": "code",
   "execution_count": 12,
   "metadata": {},
   "outputs": [
    {
     "name": "stdout",
     "output_type": "stream",
     "text": [
      "self._start_index: 3, @start@\n",
      "self._end_index: 4, @end@\n",
      "self._pad_index: 0, @@PADDING@@\n"
     ]
    }
   ],
   "source": [
    "# tagger_ILM_model = Model.from_archive('runs/2.0.1/model.tar.gz')\n",
    "ILM_model = Model.from_archive('runs/2.31.0.2i/model.tar.gz')"
   ]
  },
  {
   "cell_type": "code",
   "execution_count": 13,
   "metadata": {},
   "outputs": [
    {
     "data": {
      "text/plain": [
       "SpiderASRRewriter_ILM_Combined_new(\n",
       "  (src_text_embedder): BasicTextFieldEmbedder(\n",
       "    (token_embedder_bert): PretrainedTransformerMismatchedEmbedder_Patched(\n",
       "      (_matched_embedder): PretrainedTransformerEmbedder_Patched(\n",
       "        (transformer_model): BartEncoder(\n",
       "          (embed_tokens): Embedding(50265, 768, padding_idx=1)\n",
       "          (embed_positions): LearnedPositionalEmbedding(1026, 768, padding_idx=1)\n",
       "          (layers): ModuleList(\n",
       "            (0): EncoderLayer(\n",
       "              (self_attn): SelfAttention(\n",
       "                (k_proj): Linear(in_features=768, out_features=768, bias=True)\n",
       "                (v_proj): Linear(in_features=768, out_features=768, bias=True)\n",
       "                (q_proj): Linear(in_features=768, out_features=768, bias=True)\n",
       "                (out_proj): Linear(in_features=768, out_features=768, bias=True)\n",
       "              )\n",
       "              (self_attn_layer_norm): LayerNorm((768,), eps=1e-05, elementwise_affine=True)\n",
       "              (fc1): Linear(in_features=768, out_features=3072, bias=True)\n",
       "              (fc2): Linear(in_features=3072, out_features=768, bias=True)\n",
       "              (final_layer_norm): LayerNorm((768,), eps=1e-05, elementwise_affine=True)\n",
       "            )\n",
       "            (1): EncoderLayer(\n",
       "              (self_attn): SelfAttention(\n",
       "                (k_proj): Linear(in_features=768, out_features=768, bias=True)\n",
       "                (v_proj): Linear(in_features=768, out_features=768, bias=True)\n",
       "                (q_proj): Linear(in_features=768, out_features=768, bias=True)\n",
       "                (out_proj): Linear(in_features=768, out_features=768, bias=True)\n",
       "              )\n",
       "              (self_attn_layer_norm): LayerNorm((768,), eps=1e-05, elementwise_affine=True)\n",
       "              (fc1): Linear(in_features=768, out_features=3072, bias=True)\n",
       "              (fc2): Linear(in_features=3072, out_features=768, bias=True)\n",
       "              (final_layer_norm): LayerNorm((768,), eps=1e-05, elementwise_affine=True)\n",
       "            )\n",
       "            (2): EncoderLayer(\n",
       "              (self_attn): SelfAttention(\n",
       "                (k_proj): Linear(in_features=768, out_features=768, bias=True)\n",
       "                (v_proj): Linear(in_features=768, out_features=768, bias=True)\n",
       "                (q_proj): Linear(in_features=768, out_features=768, bias=True)\n",
       "                (out_proj): Linear(in_features=768, out_features=768, bias=True)\n",
       "              )\n",
       "              (self_attn_layer_norm): LayerNorm((768,), eps=1e-05, elementwise_affine=True)\n",
       "              (fc1): Linear(in_features=768, out_features=3072, bias=True)\n",
       "              (fc2): Linear(in_features=3072, out_features=768, bias=True)\n",
       "              (final_layer_norm): LayerNorm((768,), eps=1e-05, elementwise_affine=True)\n",
       "            )\n",
       "            (3): EncoderLayer(\n",
       "              (self_attn): SelfAttention(\n",
       "                (k_proj): Linear(in_features=768, out_features=768, bias=True)\n",
       "                (v_proj): Linear(in_features=768, out_features=768, bias=True)\n",
       "                (q_proj): Linear(in_features=768, out_features=768, bias=True)\n",
       "                (out_proj): Linear(in_features=768, out_features=768, bias=True)\n",
       "              )\n",
       "              (self_attn_layer_norm): LayerNorm((768,), eps=1e-05, elementwise_affine=True)\n",
       "              (fc1): Linear(in_features=768, out_features=3072, bias=True)\n",
       "              (fc2): Linear(in_features=3072, out_features=768, bias=True)\n",
       "              (final_layer_norm): LayerNorm((768,), eps=1e-05, elementwise_affine=True)\n",
       "            )\n",
       "            (4): EncoderLayer(\n",
       "              (self_attn): SelfAttention(\n",
       "                (k_proj): Linear(in_features=768, out_features=768, bias=True)\n",
       "                (v_proj): Linear(in_features=768, out_features=768, bias=True)\n",
       "                (q_proj): Linear(in_features=768, out_features=768, bias=True)\n",
       "                (out_proj): Linear(in_features=768, out_features=768, bias=True)\n",
       "              )\n",
       "              (self_attn_layer_norm): LayerNorm((768,), eps=1e-05, elementwise_affine=True)\n",
       "              (fc1): Linear(in_features=768, out_features=3072, bias=True)\n",
       "              (fc2): Linear(in_features=3072, out_features=768, bias=True)\n",
       "              (final_layer_norm): LayerNorm((768,), eps=1e-05, elementwise_affine=True)\n",
       "            )\n",
       "            (5): EncoderLayer(\n",
       "              (self_attn): SelfAttention(\n",
       "                (k_proj): Linear(in_features=768, out_features=768, bias=True)\n",
       "                (v_proj): Linear(in_features=768, out_features=768, bias=True)\n",
       "                (q_proj): Linear(in_features=768, out_features=768, bias=True)\n",
       "                (out_proj): Linear(in_features=768, out_features=768, bias=True)\n",
       "              )\n",
       "              (self_attn_layer_norm): LayerNorm((768,), eps=1e-05, elementwise_affine=True)\n",
       "              (fc1): Linear(in_features=768, out_features=3072, bias=True)\n",
       "              (fc2): Linear(in_features=3072, out_features=768, bias=True)\n",
       "              (final_layer_norm): LayerNorm((768,), eps=1e-05, elementwise_affine=True)\n",
       "            )\n",
       "          )\n",
       "          (layernorm_embedding): LayerNorm((768,), eps=1e-05, elementwise_affine=True)\n",
       "        )\n",
       "        (_scalar_mix): ScalarMix(\n",
       "          (scalar_parameters): ParameterList(\n",
       "              (0): Parameter containing: [torch.FloatTensor of size 1]\n",
       "              (1): Parameter containing: [torch.FloatTensor of size 1]\n",
       "              (2): Parameter containing: [torch.FloatTensor of size 1]\n",
       "              (3): Parameter containing: [torch.FloatTensor of size 1]\n",
       "              (4): Parameter containing: [torch.FloatTensor of size 1]\n",
       "              (5): Parameter containing: [torch.FloatTensor of size 1]\n",
       "          )\n",
       "        )\n",
       "      )\n",
       "    )\n",
       "    (token_embedder_char): TokenCharactersEncoder(\n",
       "      (_embedding): TimeDistributed(\n",
       "        (_module): Embedding()\n",
       "      )\n",
       "      (_encoder): TimeDistributed(\n",
       "        (_module): CnnEncoder(\n",
       "          (_activation): ReLU()\n",
       "          (conv_layer_0): Conv1d(128, 4, kernel_size=(2,), stride=(1,))\n",
       "          (conv_layer_1): Conv1d(128, 4, kernel_size=(3,), stride=(1,))\n",
       "          (conv_layer_2): Conv1d(128, 4, kernel_size=(4,), stride=(1,))\n",
       "          (conv_layer_3): Conv1d(128, 4, kernel_size=(5,), stride=(1,))\n",
       "          (projection_layer): Linear(in_features=16, out_features=128, bias=True)\n",
       "        )\n",
       "      )\n",
       "    )\n",
       "  )\n",
       "  (align_tag_embedder): Embedding()\n",
       "  (rewriter_tag_embedder): Embedding()\n",
       "  (phoneme_tag_embedder): BasicTextFieldEmbedder(\n",
       "    (token_embedder_phonemes): Embedding()\n",
       "  )\n",
       "  (phoneme_tag_seq2vec_encoder): CnnEncoder(\n",
       "    (_activation): ReLU()\n",
       "    (conv_layer_0): Conv1d(64, 16, kernel_size=(2,), stride=(1,))\n",
       "    (conv_layer_1): Conv1d(64, 16, kernel_size=(2,), stride=(1,))\n",
       "    (conv_layer_2): Conv1d(64, 16, kernel_size=(3,), stride=(1,))\n",
       "    (conv_layer_3): Conv1d(64, 16, kernel_size=(4,), stride=(1,))\n",
       "    (projection_layer): Linear(in_features=64, out_features=64, bias=True)\n",
       "  )\n",
       "  (audio_seq2vec_encoder): CnnEncoder(\n",
       "    (_activation): ReLU()\n",
       "    (conv_layer_0): Conv1d(68, 4, kernel_size=(2,), stride=(1,))\n",
       "    (conv_layer_1): Conv1d(68, 4, kernel_size=(3,), stride=(1,))\n",
       "    (conv_layer_2): Conv1d(68, 4, kernel_size=(4,), stride=(1,))\n",
       "    (conv_layer_3): Conv1d(68, 4, kernel_size=(5,), stride=(1,))\n",
       "    (projection_layer): Linear(in_features=16, out_features=128, bias=True)\n",
       "  )\n",
       "  (encoder): SpeakQLEncoderV1(\n",
       "    (attention_layer): CosineMatrixAttention()\n",
       "    (seq2seq_encoders): ModuleList(\n",
       "      (0): LstmSeq2SeqEncoder(\n",
       "        (_module): LSTM(1216, 128, batch_first=True, bidirectional=True)\n",
       "      )\n",
       "    )\n",
       "  )\n",
       "  (phoneme_pred_head): Linear(in_features=128, out_features=51, bias=True)\n",
       "  (rewrite_decoder): CopyNetSeqDecoder(\n",
       "    (target_embedder): Embedding()\n",
       "    (_attention): BilinearAttention(\n",
       "      (_activation): Linear()\n",
       "    )\n",
       "    (_input_projection_layer): Linear(in_features=812, out_features=256, bias=True)\n",
       "    (_decoder_cell): LSTMCell(256, 256)\n",
       "    (_output_generation_layer): Linear(in_features=256, out_features=2066, bias=True)\n",
       "    (_output_copying_layer): Linear(in_features=256, out_features=256, bias=True)\n",
       "  )\n",
       ")"
      ]
     },
     "execution_count": 13,
     "metadata": {},
     "output_type": "execute_result"
    }
   ],
   "source": [
    "ILM_model"
   ]
  },
  {
   "cell_type": "code",
   "execution_count": 14,
   "metadata": {},
   "outputs": [],
   "source": [
    "predictor = SpiderASRRewriterPredictor_ILM(model=ILM_model,\n",
    "                                           dataset_reader=dataset_reader)\n",
    "predictor.set_save_intermediate(True)"
   ]
  },
  {
   "cell_type": "code",
   "execution_count": null,
   "metadata": {},
   "outputs": [],
   "source": []
  },
  {
   "cell_type": "markdown",
   "metadata": {},
   "source": [
    "#### Test code"
   ]
  },
  {
   "cell_type": "code",
   "execution_count": 24,
   "metadata": {},
   "outputs": [
    {
     "data": {
      "text/plain": [
       "{'sentence': <allennlp.data.fields.text_field.TextField at 0x152842fa0>,\n",
       " 'text_mask': <allennlp.data.fields.array_field.ArrayField at 0x152441050>,\n",
       " 'schema_mask': <allennlp.data.fields.array_field.ArrayField at 0x1524410a0>,\n",
       " 'schema_column_ids': <allennlp.data.fields.array_field.ArrayField at 0x152441140>,\n",
       " 'audio_feats': <allennlp.data.fields.list_field.ListField at 0x16343af90>,\n",
       " 'audio_mask': <allennlp.data.fields.array_field.ArrayField at 0x1524410f0>,\n",
       " 'phoneme_multilabels': <allennlp.data.fields.list_field.ListField at 0x16128b150>,\n",
       " 'phoneme_labels': <allennlp.data.fields.list_field.ListField at 0x1494f0190>,\n",
       " 'phoneme_label_mask': <allennlp.data.fields.list_field.ListField at 0x1494f0b90>,\n",
       " 'align_tags': <allennlp.data.fields.sequence_label_field.SequenceLabelField at 0x15b870170>,\n",
       " 'ref_att_map': <allennlp.data.fields.array_field.ArrayField at 0x1528457d0>,\n",
       " 'source_to_target': <allennlp.data.fields.namespace_swapping_field.NamespaceSwappingField at 0x152845820>,\n",
       " 'rewriter_tags': <allennlp.data.fields.sequence_label_field.SequenceLabelField at 0x15b8701d0>,\n",
       " 'rewrite_seq': <allennlp.data.fields.text_field.TextField at 0x152845870>,\n",
       " 'source_token_ids': <allennlp.data.fields.array_field.ArrayField at 0x152845910>,\n",
       " 'target_token_ids': <allennlp.data.fields.array_field.ArrayField at 0x152845960>,\n",
       " 'metadata': <allennlp.data.fields.metadata_field.MetadataField at 0x161747550>}"
      ]
     },
     "execution_count": 24,
     "metadata": {},
     "output_type": "execute_result"
    }
   ],
   "source": [
    "_test_instance = test_dataset[10]\n",
    "_test_instance.fields"
   ]
  },
  {
   "cell_type": "code",
   "execution_count": 53,
   "metadata": {},
   "outputs": [
    {
     "name": "stdout",
     "output_type": "stream",
     "text": [
      "['original_id', 'text_len', 'schema_len', 'concat_len', 'text_tokens', 'schema_tokens', 'concat_tokens', 'source_tokens', 'target_tokens', 'rewrite_seq_len']\n"
     ]
    }
   ],
   "source": [
    "print(list(_test_instance.fields['metadata'].keys()))"
   ]
  },
  {
   "cell_type": "code",
   "execution_count": 25,
   "metadata": {},
   "outputs": [],
   "source": [
    "predictor_output = predictor.predict_instance(_test_instance)"
   ]
  },
  {
   "cell_type": "code",
   "execution_count": 26,
   "metadata": {},
   "outputs": [
    {
     "data": {
      "text/plain": [
       "dict_keys(['question', 'original_id', 'rewriter_tags', 'input_seq', 'align_tags', 'rewrite_seq_prediction', 'rewrite_seq_prediction_cands', 'rewrite_seq_NLL', 'rewrite_seq_prediction_intermediates'])"
      ]
     },
     "execution_count": 26,
     "metadata": {},
     "output_type": "execute_result"
    }
   ],
   "source": [
    "predictor_output.keys()"
   ]
  },
  {
   "cell_type": "code",
   "execution_count": 27,
   "metadata": {},
   "outputs": [
    {
     "data": {
      "text/plain": [
       "'what is the agent ? hometown of every teacher ? [SEP] course : course id ; staring date ; course ( science , history ) . course arrange : course id ; teacher id ; grade . teacher : teacher id ; name ( kearsley brown , john deloor , joseph huts , vicente carretero ) ; age ; hometown ( bolton county borough , little lever urban district , turton urban district ) .'"
      ]
     },
     "execution_count": 27,
     "metadata": {},
     "output_type": "execute_result"
    }
   ],
   "source": [
    "' '.join(predictor_output['input_seq'])"
   ]
  },
  {
   "cell_type": "code",
   "execution_count": 29,
   "metadata": {},
   "outputs": [
    {
     "data": {
      "text/plain": [
       "['O-KEEP',\n",
       " 'O-KEEP',\n",
       " 'O-KEEP',\n",
       " 'U-EDIT',\n",
       " 'U-DEL',\n",
       " 'U-EDIT',\n",
       " 'O-KEEP',\n",
       " 'O-KEEP',\n",
       " 'O-KEEP',\n",
       " 'O-KEEP']"
      ]
     },
     "execution_count": 29,
     "metadata": {},
     "output_type": "execute_result"
    }
   ],
   "source": [
    "[t for t in predictor_output['rewriter_tags'] if t != 'O']"
   ]
  },
  {
   "cell_type": "code",
   "execution_count": 30,
   "metadata": {},
   "outputs": [
    {
     "data": {
      "text/plain": [
       "['age', 'and', '[ANS]', 'age', '[ANS]']"
      ]
     },
     "execution_count": 30,
     "metadata": {},
     "output_type": "execute_result"
    }
   ],
   "source": [
    "predictor_output['rewrite_seq_prediction']"
   ]
  },
  {
   "cell_type": "code",
   "execution_count": 15,
   "metadata": {},
   "outputs": [
    {
     "data": {
      "text/plain": [
       "dict_keys(['encoder', 'decoder', 'rewriter_main'])"
      ]
     },
     "execution_count": 15,
     "metadata": {},
     "output_type": "execute_result"
    }
   ],
   "source": [
    "predictor_output['rewrite_seq_prediction_intermediates'].keys()"
   ]
  },
  {
   "cell_type": "code",
   "execution_count": 16,
   "metadata": {},
   "outputs": [
    {
     "data": {
      "text/plain": [
       "dict_keys(['phoneme_attention_map_0', 'phoneme_attention_out_0', 'phoneme_attention_out_with_residual_0', 'encoder_representation_0'])"
      ]
     },
     "execution_count": 16,
     "metadata": {},
     "output_type": "execute_result"
    }
   ],
   "source": [
    "predictor_output['rewrite_seq_prediction_intermediates']['encoder'].keys()"
   ]
  },
  {
   "cell_type": "code",
   "execution_count": 17,
   "metadata": {},
   "outputs": [
    {
     "data": {
      "text/plain": [
       "dict_keys(['input_choices:step_0', 'generation_scores:step_0', 'copy_scores:step_0', 'step_target_tokens:step_0', 'input_choices:step_1', 'generation_scores:step_1', 'copy_scores:step_1', 'step_target_tokens:step_1', 'input_choices:step_2', 'generation_scores:step_2', 'copy_scores:step_2', 'step_target_tokens:step_2', 'input_choices:step_3', 'generation_scores:step_3', 'copy_scores:step_3', 'step_target_tokens:step_3', 'input_choices:step_4', 'generation_scores:step_4', 'copy_scores:step_4', 'step_target_tokens:step_4', 'input_choices:step_5', 'generation_scores:step_5', 'copy_scores:step_5', 'step_target_tokens:step_5', 'input_choices:step_6', 'generation_scores:step_6', 'copy_scores:step_6', 'step_target_tokens:step_6'])"
      ]
     },
     "execution_count": 17,
     "metadata": {},
     "output_type": "execute_result"
    }
   ],
   "source": [
    "predictor_output['rewrite_seq_prediction_intermediates']['decoder'].keys()"
   ]
  },
  {
   "cell_type": "code",
   "execution_count": 18,
   "metadata": {},
   "outputs": [
    {
     "data": {
      "text/plain": [
       "dict_keys(['word_embeddings', 'audio_feats_encoded', 'encoder_seq_representation_with_tag'])"
      ]
     },
     "execution_count": 18,
     "metadata": {},
     "output_type": "execute_result"
    }
   ],
   "source": [
    "predictor_output['rewrite_seq_prediction_intermediates']['rewriter_main'].keys()\n",
    "# \"tabert_embedding\" actually means token embedding, not necessarily tabert "
   ]
  },
  {
   "cell_type": "code",
   "execution_count": null,
   "metadata": {},
   "outputs": [],
   "source": [
    "# predictor_output['rewrite_seq_prediction_intermediates']['rewriter_main']['audio_feats_encoded']"
   ]
  },
  {
   "cell_type": "code",
   "execution_count": 194,
   "metadata": {},
   "outputs": [],
   "source": [
    "_word_embeddings = predictor_output['rewrite_seq_prediction_intermediates']['rewriter_main']['word_embeddings']\n",
    "_audio_feats_encoded = predictor_output['rewrite_seq_prediction_intermediates']['rewriter_main']['audio_feats_encoded']"
   ]
  },
  {
   "cell_type": "code",
   "execution_count": 195,
   "metadata": {},
   "outputs": [
    {
     "data": {
      "text/plain": [
       "array([[[ 0.23582035, -0.11324427, -0.31854925, ...,  0.06969176,\n",
       "         -0.23500127,  0.02725647],\n",
       "        [-0.58827496, -0.28637627,  0.64354563, ..., -0.21096905,\n",
       "          0.31396484,  0.10635527],\n",
       "        [ 0.06485265,  0.6047945 ,  0.10957428, ...,  0.15132576,\n",
       "         -0.53721589,  0.10509744],\n",
       "        ...,\n",
       "        [ 0.04990732, -0.14772682,  0.32494098, ...,  0.13181199,\n",
       "         -0.20618838,  0.06047168],\n",
       "        [-0.29710251, -0.7599206 ,  0.52423865, ...,  0.08765356,\n",
       "         -0.13649318,  0.11001825],\n",
       "        [-0.51729745, -0.52484399, -0.11728427, ...,  0.13181199,\n",
       "         -0.20618838,  0.06047168]]])"
      ]
     },
     "execution_count": 195,
     "metadata": {},
     "output_type": "execute_result"
    }
   ],
   "source": [
    "np.array(_word_embeddings)"
   ]
  },
  {
   "cell_type": "code",
   "execution_count": 196,
   "metadata": {},
   "outputs": [
    {
     "data": {
      "text/plain": [
       "array([[[ 0.43206847,  0.02578898, -0.02065957, ...,  0.08709101,\n",
       "         -0.48550919,  0.04597116],\n",
       "        [-0.18162589,  0.00935472, -0.02045691, ...,  0.00586914,\n",
       "          0.06993386, -0.01972067],\n",
       "        [-0.02666628,  0.02624885, -0.02891642, ..., -0.02157782,\n",
       "          0.13520032, -0.02592126],\n",
       "        ...,\n",
       "        [-0.18162589,  0.00935472, -0.02045691, ...,  0.00586914,\n",
       "          0.06993386, -0.01972067],\n",
       "        [-0.06026182, -0.07124895,  0.00193532, ..., -0.0999977 ,\n",
       "          0.08149543,  0.0798686 ],\n",
       "        [-0.18162589,  0.00935472, -0.02045691, ...,  0.00586914,\n",
       "          0.06993386, -0.01972067]]])"
      ]
     },
     "execution_count": 196,
     "metadata": {},
     "output_type": "execute_result"
    }
   ],
   "source": [
    "np.array(_audio_feats_encoded)"
   ]
  },
  {
   "cell_type": "code",
   "execution_count": 197,
   "metadata": {},
   "outputs": [
    {
     "data": {
      "text/plain": [
       "(tensor([[1, 1, 1, 1, 1, 1, 1, 1, 1, 1, 1, 1, 0, 0, 0, 0, 0, 0, 0, 0, 0, 0, 0, 0,\n",
       "          0, 0, 0, 0, 0, 0, 0, 0, 0, 0, 0, 0, 0, 0, 0, 0, 0, 0, 0, 0, 0, 0, 0, 0,\n",
       "          0, 0, 0, 0, 0, 0, 0, 0, 0, 0, 0, 0, 0, 0, 0, 0, 0, 0, 0, 0, 0, 0, 0, 0,\n",
       "          0, 0, 0, 0, 0, 0, 0, 0, 0, 0, 0, 0]]),\n",
       " tensor([[0, 0, 0, 0, 0, 0, 0, 0, 0, 0, 0, 0, 0, 1, 1, 1, 1, 1, 1, 1, 1, 1, 1, 1,\n",
       "          1, 1, 1, 1, 1, 1, 1, 1, 1, 1, 1, 1, 1, 1, 1, 1, 1, 1, 1, 1, 1, 1, 1, 1,\n",
       "          1, 1, 1, 1, 1, 1, 1, 1, 1, 1, 1, 1, 1, 1, 1, 1, 1, 1, 1, 1, 1, 1, 1, 1,\n",
       "          1, 1, 1, 1, 1, 1, 1, 1, 1, 1, 1, 1]]))"
      ]
     },
     "execution_count": 197,
     "metadata": {},
     "output_type": "execute_result"
    }
   ],
   "source": [
    "_batch = Batch([_test_instance]).as_tensor_dict()\n",
    "_text_mask = _batch['text_mask']\n",
    "_schema_mask = _batch['schema_mask']\n",
    "_text_mask, _schema_mask"
   ]
  },
  {
   "cell_type": "code",
   "execution_count": null,
   "metadata": {},
   "outputs": [],
   "source": [
    "_w1 = ILM_model.text_token_proj(torch.tensor(_word_embeddings)) * _text_mask.unsqueeze(-1)\n",
    "_w2 = ILM_model.schema_token_proj(torch.tensor(_word_embeddings)) * _schema_mask.unsqueeze(-1)"
   ]
  },
  {
   "cell_type": "code",
   "execution_count": null,
   "metadata": {},
   "outputs": [],
   "source": [
    "_w1"
   ]
  },
  {
   "cell_type": "code",
   "execution_count": null,
   "metadata": {},
   "outputs": [],
   "source": [
    "_w2"
   ]
  },
  {
   "cell_type": "code",
   "execution_count": null,
   "metadata": {},
   "outputs": [],
   "source": []
  },
  {
   "cell_type": "code",
   "execution_count": null,
   "metadata": {},
   "outputs": [],
   "source": [
    "# # Load cmudict for pronunciations \n",
    "# def strip_stress(phone: str) -> str:\n",
    "#     _m = re.match(r'(.*)\\d+$', phone)\n",
    "#     if _m is not None:\n",
    "#         phone = _m.group(1)\n",
    "#     return phone\n",
    "\n",
    "# entry_lines = []\n",
    "\n",
    "# with open(cmudict_path, 'r', encoding='latin-1') as f:\n",
    "#     for l in f:\n",
    "#         if len(l.strip()) > 0 and (not l.startswith(';;;')):\n",
    "#             entry_lines.append(l.strip())\n",
    "\n",
    "# word2pron = defaultdict(set) # all possible prons, Dict[str, Set[Tuple[str]]]\n",
    "# pron2word = defaultdict(set) # all possible words, Dict[Tuple[str], Set[str]]\n",
    "\n",
    "# for l in tqdm(entry_lines):\n",
    "#     _word, _pron = l.split('  ')\n",
    "    \n",
    "#     if _word.endswith(')'):\n",
    "#         # variant\n",
    "#         _m = re.match(r'(.*)\\((.*)\\)$', _word)\n",
    "#         _word = _m.group(1)\n",
    "#         _variant = _m.group(2)\n",
    "#     else:\n",
    "#         # no variant\n",
    "#         _variant = None\n",
    "    \n",
    "#     _phones = tuple([strip_stress(_phone) for _phone in _pron.split(' ')])\n",
    "    \n",
    "#     word2pron[_word].add(_phones)\n",
    "#     pron2word[_phones].add(_word)\n",
    "\n",
    "# len(entry_lines), len(word2pron), len(pron2word), word2pron['RECORD'], pron2word[('R', 'EH', 'D')]"
   ]
  },
  {
   "cell_type": "code",
   "execution_count": 293,
   "metadata": {},
   "outputs": [],
   "source": [
    "word2pron = dataset_reader.word2pron\n",
    "pron2word = dataset_reader.pron2word"
   ]
  },
  {
   "cell_type": "code",
   "execution_count": 199,
   "metadata": {},
   "outputs": [],
   "source": [
    "def WordPronDist(w1: str, w2: str):\n",
    "    w1 = w1.upper()\n",
    "    w2 = w2.upper()\n",
    "    if w1 not in word2pron or w2 not in word2pron:\n",
    "        return max(len(w1), len(w2))\n",
    "    \n",
    "    min_edist = max(len(w1), len(w2))\n",
    "    for p1 in word2pron[w1]:\n",
    "        for p2 in word2pron[w2]:\n",
    "            edist = editdistance.eval(p1, p2)\n",
    "            # print(p1, p2, edist)\n",
    "            min_edist = min(min_edist, edist)\n",
    "    \n",
    "    return min_edist\n",
    "\n",
    "def WordPronSimilarity(w1: str, w2: str):\n",
    "    w1 = w1.upper()\n",
    "    w2 = w2.upper()\n",
    "    if w1 not in word2pron or w2 not in word2pron:\n",
    "        return 0\n",
    "    \n",
    "    max_sim = 0\n",
    "    for p1 in word2pron[w1]:\n",
    "        for p2 in word2pron[w2]:\n",
    "            edist = editdistance.eval(p1, p2)\n",
    "            sim = 1 - float(edist) / max(len(p1), len(p2))\n",
    "            # print(p1, p2, sim)\n",
    "            max_sim = max(max_sim, sim)\n",
    "    \n",
    "    return max_sim"
   ]
  },
  {
   "cell_type": "code",
   "execution_count": 200,
   "metadata": {},
   "outputs": [
    {
     "data": {
      "text/plain": [
       "(0.33333333333333337, 2)"
      ]
     },
     "execution_count": 200,
     "metadata": {},
     "output_type": "execute_result"
    }
   ],
   "source": [
    "WordPronSimilarity('in', 'and'), WordPronDist('in', 'and')"
   ]
  },
  {
   "cell_type": "code",
   "execution_count": 201,
   "metadata": {},
   "outputs": [
    {
     "data": {
      "text/plain": [
       "(0.8333333333333334, 1)"
      ]
     },
     "execution_count": 201,
     "metadata": {},
     "output_type": "execute_result"
    }
   ],
   "source": [
    "WordPronSimilarity('friend', 'friends'), WordPronDist('friend', 'friends')"
   ]
  },
  {
   "cell_type": "code",
   "execution_count": null,
   "metadata": {},
   "outputs": [],
   "source": []
  },
  {
   "cell_type": "code",
   "execution_count": 89,
   "metadata": {},
   "outputs": [],
   "source": [
    "def MatrixVisualize(matrix, dim0_tokens, dim1_tokens, title, cmap='magma'):\n",
    "    if tuple(matrix.shape) != (len(dim0_tokens), len(dim1_tokens)):\n",
    "        print('Shape mismatch: {} and {}'.format(tuple(matrix.shape), (len(dim0_tokens), len(dim1_tokens))))\n",
    "    \n",
    "    fig = plt.figure(figsize=(20, 12))\n",
    "    ax = fig.gca()\n",
    "    artist = ax.imshow(matrix, cmap=cmap)\n",
    "\n",
    "    ax.set_xticks(np.arange(len(dim1_tokens)))\n",
    "    ax.set_xticklabels(dim1_tokens, rotation=90, fontsize=16)\n",
    "    ax.set_yticks(np.arange(len(dim0_tokens)))\n",
    "    ax.set_yticklabels(dim0_tokens, fontsize=16)\n",
    "    ax.xaxis.tick_top()\n",
    "    cb = fig.colorbar(artist, ax=ax, shrink=0.4)\n",
    "    cb.ax.tick_params(labelsize=16)\n",
    "    ax.set_title(title + '\\n\\n', fontsize=18, fontfamily='monospace')\n",
    "\n",
    "    fig.tight_layout()\n",
    "    return fig"
   ]
  },
  {
   "cell_type": "code",
   "execution_count": null,
   "metadata": {},
   "outputs": [],
   "source": []
  },
  {
   "cell_type": "markdown",
   "metadata": {},
   "source": [
    "### Audio features analysis"
   ]
  },
  {
   "cell_type": "code",
   "execution_count": null,
   "metadata": {},
   "outputs": [],
   "source": [
    "# find an instance \n",
    "# checked_list = [1861]\n",
    "for i in range(len(test_dataset)-1, -1, -4):\n",
    "    _test_instance = Instance(test_dataset[i].fields)\n",
    "    _tokens = _test_instance.fields['sentence'].tokens\n",
    "    _text_len = _test_instance.fields['metadata']['text_len']\n",
    "    _schema_len = _test_instance.fields['metadata']['schema_len']\n",
    "    if 12 < _text_len < 20 and _schema_len < 40:\n",
    "        print(i, _tokens, _text_len, _schema_len)"
   ]
  },
  {
   "cell_type": "code",
   "execution_count": 346,
   "metadata": {},
   "outputs": [
    {
     "data": {
      "text/plain": [
       "{'sentence': <allennlp.data.fields.text_field.TextField at 0x1adf89b90>,\n",
       " 'text_mask': <allennlp.data.fields.array_field.ArrayField at 0x1adf890a0>,\n",
       " 'schema_mask': <allennlp.data.fields.array_field.ArrayField at 0x1adf89be0>,\n",
       " 'schema_column_ids': <allennlp.data.fields.array_field.ArrayField at 0x1adf89af0>,\n",
       " 'audio_feats': <allennlp.data.fields.list_field.ListField at 0x1adf68210>,\n",
       " 'audio_mask': <allennlp.data.fields.array_field.ArrayField at 0x1adf89410>,\n",
       " 'rewriter_tags': <allennlp.data.fields.sequence_label_field.SequenceLabelField at 0x1adf5de90>,\n",
       " 'align_tags': <allennlp.data.fields.sequence_label_field.SequenceLabelField at 0x1adf5de30>,\n",
       " 'rewrite_seq': <allennlp.data.fields.text_field.TextField at 0x1adf885f0>,\n",
       " 'ref_att_map': <allennlp.data.fields.array_field.ArrayField at 0x1adf88640>,\n",
       " 'metadata': <allennlp.data.fields.metadata_field.MetadataField at 0x1adf68e10>}"
      ]
     },
     "execution_count": 346,
     "metadata": {},
     "output_type": "execute_result"
    }
   ],
   "source": [
    "_inspect_id = 2998\n",
    "_test_instance = Instance(test_dataset[_inspect_id].fields)\n",
    "_test_instance.fields"
   ]
  },
  {
   "cell_type": "code",
   "execution_count": 347,
   "metadata": {},
   "outputs": [],
   "source": [
    "_test_instance.index_fields(ILM_model.vocab)"
   ]
  },
  {
   "cell_type": "code",
   "execution_count": 348,
   "metadata": {},
   "outputs": [
    {
     "data": {
      "text/plain": [
       "['original_id',\n",
       " 'text_len',\n",
       " 'schema_len',\n",
       " 'text_tokens',\n",
       " 'schema_tokens',\n",
       " 'rewrite_seq_len']"
      ]
     },
     "execution_count": 348,
     "metadata": {},
     "output_type": "execute_result"
    }
   ],
   "source": [
    "list(_test_instance.fields['metadata'].keys())"
   ]
  },
  {
   "cell_type": "code",
   "execution_count": 349,
   "metadata": {},
   "outputs": [
    {
     "data": {
      "text/plain": [
       "dict_keys(['token_ids', 'mask', 'type_ids', 'offsets', 'wordpiece_mask'])"
      ]
     },
     "execution_count": 349,
     "metadata": {},
     "output_type": "execute_result"
    }
   ],
   "source": [
    "_test_instance.fields['sentence']._indexed_tokens['bert'].keys()"
   ]
  },
  {
   "cell_type": "code",
   "execution_count": 350,
   "metadata": {},
   "outputs": [
    {
     "data": {
      "text/plain": [
       "dict_keys(['sentence', 'text_mask', 'schema_mask', 'schema_column_ids', 'audio_feats', 'audio_mask', 'rewriter_tags', 'align_tags', 'rewrite_seq', 'ref_att_map', 'metadata'])"
      ]
     },
     "execution_count": 350,
     "metadata": {},
     "output_type": "execute_result"
    }
   ],
   "source": [
    "_tensor_dict = _test_instance.as_tensor_dict()\n",
    "_tensor_dict.keys()"
   ]
  },
  {
   "cell_type": "code",
   "execution_count": 351,
   "metadata": {},
   "outputs": [
    {
     "name": "stdout",
     "output_type": "stream",
     "text": [
      "[sho, the, names, of, high, schoolers, who, have, likes, and, numbers, of, Lex, for, each, ., [SEP], friend, :, student, id, ,, friend, id, ., high, schooler, :, id, ,, name, ,, grade, ., likes, :, student, id, ,, liked, id, .] 42\n"
     ]
    }
   ],
   "source": [
    "_tokens = _test_instance.fields['sentence'].tokens\n",
    "print(_tokens, len(_tokens))"
   ]
  },
  {
   "cell_type": "code",
   "execution_count": 352,
   "metadata": {
    "scrolled": true
   },
   "outputs": [
    {
     "data": {
      "text/plain": [
       "[sho,\n",
       " the,\n",
       " names,\n",
       " of,\n",
       " high,\n",
       " schoolers,\n",
       " who,\n",
       " have,\n",
       " likes,\n",
       " and,\n",
       " numbers,\n",
       " of,\n",
       " Lex,\n",
       " for,\n",
       " each,\n",
       " friend,\n",
       " student,\n",
       " id,\n",
       " friend,\n",
       " id,\n",
       " high,\n",
       " schooler,\n",
       " id,\n",
       " name,\n",
       " grade,\n",
       " likes,\n",
       " student,\n",
       " id,\n",
       " liked,\n",
       " id]"
      ]
     },
     "execution_count": 352,
     "metadata": {},
     "output_type": "execute_result"
    }
   ],
   "source": [
    "non_empty_ids = [i for i in range(len(_tokens)) if str(_tokens[i])[0] not in string.punctuation]\n",
    "non_empty_tokens = [_tokens[i] for i in non_empty_ids]\n",
    "non_empty_tokens"
   ]
  },
  {
   "cell_type": "markdown",
   "metadata": {},
   "source": [
    "#### Text - Pronunciation dict"
   ]
  },
  {
   "cell_type": "code",
   "execution_count": 302,
   "metadata": {},
   "outputs": [
    {
     "data": {
      "text/plain": [
       "(36, 36)"
      ]
     },
     "execution_count": 302,
     "metadata": {},
     "output_type": "execute_result"
    }
   ],
   "source": [
    "_pronun_edist_matrix = np.zeros((len(non_empty_ids), len(non_empty_ids)))\n",
    "for i in range(len(non_empty_ids)):\n",
    "    pos_i = non_empty_ids[i]\n",
    "    for j in range(len(non_empty_ids)):\n",
    "        pos_j = non_empty_ids[j]\n",
    "        _pronun_edist_matrix[i, j] = WordPronDist(str(_tokens[pos_i]), str(_tokens[pos_j]))\n",
    "\n",
    "_pronun_edist_matrix.shape"
   ]
  },
  {
   "cell_type": "code",
   "execution_count": 303,
   "metadata": {},
   "outputs": [
    {
     "data": {
      "image/png": "[encoded data removed]",
      "text/plain": [
       "<Figure size 1440x864 with 2 Axes>"
      ]
     },
     "metadata": {
      "needs_background": "light"
     },
     "output_type": "display_data"
    }
   ],
   "source": [
    "fig = MatrixVisualize(-_pronun_edist_matrix, non_empty_tokens, non_empty_tokens, 'Text Pronun Edist Matrix', cmap='magma')"
   ]
  },
  {
   "cell_type": "code",
   "execution_count": 304,
   "metadata": {},
   "outputs": [
    {
     "data": {
      "text/plain": [
       "(36, 36)"
      ]
     },
     "execution_count": 304,
     "metadata": {},
     "output_type": "execute_result"
    }
   ],
   "source": [
    "_pronun_sim_matrix = np.zeros((len(non_empty_ids), len(non_empty_ids)))\n",
    "for i in range(len(non_empty_ids)):\n",
    "    pos_i = non_empty_ids[i]\n",
    "    for j in range(len(non_empty_ids)):\n",
    "        pos_j = non_empty_ids[j]\n",
    "        _pronun_sim_matrix[i, j] = WordPronSimilarity(str(_tokens[pos_i]), str(_tokens[pos_j]))\n",
    "\n",
    "_pronun_sim_matrix.shape"
   ]
  },
  {
   "cell_type": "code",
   "execution_count": 305,
   "metadata": {},
   "outputs": [
    {
     "data": {
      "image/png": "[encoded data removed]",
      "text/plain": [
       "<Figure size 1440x864 with 2 Axes>"
      ]
     },
     "metadata": {
      "needs_background": "light"
     },
     "output_type": "display_data"
    }
   ],
   "source": [
    "fig = MatrixVisualize(_pronun_sim_matrix, non_empty_tokens, non_empty_tokens, 'Text Pronun Sim Matrix', cmap='magma')"
   ]
  },
  {
   "cell_type": "code",
   "execution_count": null,
   "metadata": {},
   "outputs": [],
   "source": []
  },
  {
   "cell_type": "markdown",
   "metadata": {},
   "source": [
    "#### Raw feats"
   ]
  },
  {
   "cell_type": "code",
   "execution_count": 223,
   "metadata": {},
   "outputs": [
    {
     "data": {
      "text/plain": [
       "torch.Size([39, 25, 68])"
      ]
     },
     "execution_count": 223,
     "metadata": {},
     "output_type": "execute_result"
    }
   ],
   "source": [
    "_raw_audio_feats = _tensor_dict['audio_feats']\n",
    "_raw_audio_feats.size()"
   ]
  },
  {
   "cell_type": "code",
   "execution_count": 224,
   "metadata": {},
   "outputs": [
    {
     "data": {
      "text/plain": [
       "(of,\n",
       " tensor([[ 4.1302e-02,  2.0311e-01,  3.1558e+00,  ...,  0.0000e+00,\n",
       "           0.0000e+00,  0.0000e+00],\n",
       "         [ 4.0050e-02,  8.4756e-02,  2.4461e+00,  ...,  2.9689e-03,\n",
       "           2.3816e-03, -3.7342e-03],\n",
       "         [ 0.0000e+00,  0.0000e+00,  0.0000e+00,  ...,  0.0000e+00,\n",
       "           0.0000e+00,  0.0000e+00],\n",
       "         ...,\n",
       "         [ 0.0000e+00,  0.0000e+00,  0.0000e+00,  ...,  0.0000e+00,\n",
       "           0.0000e+00,  0.0000e+00],\n",
       "         [ 0.0000e+00,  0.0000e+00,  0.0000e+00,  ...,  0.0000e+00,\n",
       "           0.0000e+00,  0.0000e+00],\n",
       "         [ 0.0000e+00,  0.0000e+00,  0.0000e+00,  ...,  0.0000e+00,\n",
       "           0.0000e+00,  0.0000e+00]]))"
      ]
     },
     "execution_count": 224,
     "metadata": {},
     "output_type": "execute_result"
    }
   ],
   "source": [
    "_tokens[5], _raw_audio_feats[5]"
   ]
  },
  {
   "cell_type": "code",
   "execution_count": 225,
   "metadata": {},
   "outputs": [
    {
     "data": {
      "text/plain": [
       "(schooler,\n",
       " tensor([[ 2.3780e-02,  2.3776e-08,  3.1483e+00,  ...,  0.0000e+00,\n",
       "           0.0000e+00,  0.0000e+00],\n",
       "         [ 2.7910e-01,  1.3014e-04,  1.2910e+00,  ..., -1.2914e-01,\n",
       "           5.0980e-04, -3.4407e-02],\n",
       "         [ 6.2328e-01,  2.3558e-03,  2.5347e+00,  ..., -6.8059e-04,\n",
       "           2.8158e-03, -5.2579e-04],\n",
       "         ...,\n",
       "         [ 3.5044e-02,  2.1803e-02,  3.1864e+00,  ..., -2.8729e-03,\n",
       "          -7.9077e-04,  9.7088e-03],\n",
       "         [ 2.7534e-02,  1.2797e-02,  3.0689e+00,  ...,  3.6957e-03,\n",
       "          -5.5029e-04, -7.6779e-03],\n",
       "         [ 5.3817e-02,  3.9234e-03,  2.2413e+00,  ...,  5.7057e-03,\n",
       "           8.3430e-05, -9.1863e-03]]))"
      ]
     },
     "execution_count": 225,
     "metadata": {},
     "output_type": "execute_result"
    }
   ],
   "source": [
    "_tokens[23], _raw_audio_feats[23]"
   ]
  },
  {
   "cell_type": "code",
   "execution_count": 226,
   "metadata": {},
   "outputs": [
    {
     "data": {
      "text/plain": [
       "torch.Size([39, 1700])"
      ]
     },
     "execution_count": 226,
     "metadata": {},
     "output_type": "execute_result"
    }
   ],
   "source": [
    "_raw_audio_resized = _raw_audio_feats.reshape(len(_tokens), -1)\n",
    "_raw_audio_resized.size()"
   ]
  },
  {
   "cell_type": "code",
   "execution_count": 227,
   "metadata": {},
   "outputs": [
    {
     "name": "stdout",
     "output_type": "stream",
     "text": [
      "[show, the, names, of, all, of, the, high, school, our, Kyle's, friends, friend, student, id, friend, id, high, schooler, id, name, grade, likes, student, id, liked, id] 27\n"
     ]
    }
   ],
   "source": [
    "non_empty_audio = [_raw_audio_resized[i].numpy() for i in non_empty_ids]\n",
    "print(non_empty_tokens, len(non_empty_tokens))"
   ]
  },
  {
   "cell_type": "code",
   "execution_count": null,
   "metadata": {},
   "outputs": [],
   "source": [
    "_dot_matrix = np.zeros((len(non_empty_ids), len(non_empty_ids)))\n",
    "for i in range(len(non_empty_ids)):\n",
    "    pos_i = non_empty_ids[i]\n",
    "    for j in range(len(non_empty_ids)):\n",
    "        pos_j = non_empty_ids[j]\n",
    "        _dot_matrix[i, j] = torch.dot(_raw_audio_resized[pos_i], _raw_audio_resized[pos_j])\n",
    "\n",
    "_dot_matrix.shape"
   ]
  },
  {
   "cell_type": "code",
   "execution_count": null,
   "metadata": {},
   "outputs": [],
   "source": [
    "fig = MatrixVisualize(_dot_matrix, non_empty_tokens, non_empty_tokens, 'Raw Audio Feats Dot Matrix', cmap='magma')"
   ]
  },
  {
   "cell_type": "code",
   "execution_count": null,
   "metadata": {
    "scrolled": true
   },
   "outputs": [],
   "source": [
    "from sklearn.metrics.pairwise import cosine_similarity\n",
    "\n",
    "_cos_matrix = cosine_similarity(non_empty_audio, non_empty_audio)\n",
    "\n",
    "_cos_matrix.shape"
   ]
  },
  {
   "cell_type": "code",
   "execution_count": null,
   "metadata": {
    "scrolled": false
   },
   "outputs": [],
   "source": [
    "fig = MatrixVisualize(_cos_matrix, non_empty_tokens, non_empty_tokens, 'Raw Audio Feats Cosine Matrix', cmap='magma')"
   ]
  },
  {
   "cell_type": "code",
   "execution_count": null,
   "metadata": {},
   "outputs": [],
   "source": [
    "_l2_matrix = np.zeros((len(non_empty_ids), len(non_empty_ids)))\n",
    "for i in range(len(non_empty_ids)):\n",
    "    pos_i = non_empty_ids[i]\n",
    "    for j in range(len(non_empty_ids)):\n",
    "        pos_j = non_empty_ids[j]\n",
    "        _l2_matrix[i, j] = np.linalg.norm(_raw_audio_resized[pos_i] - _raw_audio_resized[pos_j])\n",
    "\n",
    "_l2_matrix.shape"
   ]
  },
  {
   "cell_type": "code",
   "execution_count": null,
   "metadata": {},
   "outputs": [],
   "source": [
    "fig = MatrixVisualize(-_l2_matrix, non_empty_tokens, non_empty_tokens, 'Raw Audio Feats L2 Matrix', cmap='magma')"
   ]
  },
  {
   "cell_type": "markdown",
   "metadata": {},
   "source": [
    "#### Encoded audio feats"
   ]
  },
  {
   "cell_type": "code",
   "execution_count": 353,
   "metadata": {},
   "outputs": [
    {
     "data": {
      "text/plain": [
       "torch.Size([42, 128])"
      ]
     },
     "execution_count": 353,
     "metadata": {},
     "output_type": "execute_result"
    }
   ],
   "source": [
    "_enc_audio_feats = ILM_model.audio_seq2vec_encoder(_tensor_dict['audio_feats'], _tensor_dict['audio_mask']).detach()\n",
    "_enc_audio_feats.size()"
   ]
  },
  {
   "cell_type": "code",
   "execution_count": 354,
   "metadata": {},
   "outputs": [
    {
     "data": {
      "text/plain": [
       "(torch.Size([42, 25, 68]), torch.Size([42, 25]))"
      ]
     },
     "execution_count": 354,
     "metadata": {},
     "output_type": "execute_result"
    }
   ],
   "source": [
    "_tensor_dict['audio_feats'].size(), _tensor_dict['audio_mask'].size()"
   ]
  },
  {
   "cell_type": "code",
   "execution_count": null,
   "metadata": {
    "scrolled": true
   },
   "outputs": [],
   "source": [
    "_tensor_dict['audio_feats']"
   ]
  },
  {
   "cell_type": "code",
   "execution_count": null,
   "metadata": {
    "scrolled": true
   },
   "outputs": [],
   "source": [
    "_tensor_dict['audio_mask']"
   ]
  },
  {
   "cell_type": "code",
   "execution_count": 355,
   "metadata": {},
   "outputs": [
    {
     "data": {
      "text/plain": [
       "tensor([[-0.1760,  0.0293, -0.0856,  ..., -0.0488,  0.1008, -0.0941],\n",
       "        [ 0.0851,  0.0721, -0.0454,  ..., -0.0253,  0.0932, -0.0400],\n",
       "        [ 0.2042,  0.0159, -0.0410,  ..., -0.0344,  0.1732, -0.0056],\n",
       "        ...,\n",
       "        [ 0.2809, -0.0189,  0.0319,  ...,  0.0318, -0.3104,  0.0550],\n",
       "        [ 1.6807, -0.1759, -0.0575,  ..., -0.0144,  0.1177,  0.1431],\n",
       "        [-0.1816,  0.0094, -0.0205,  ...,  0.0059,  0.0699, -0.0197]])"
      ]
     },
     "execution_count": 355,
     "metadata": {},
     "output_type": "execute_result"
    }
   ],
   "source": [
    "# test[22]\n",
    "_enc_audio_feats"
   ]
  },
  {
   "cell_type": "code",
   "execution_count": null,
   "metadata": {},
   "outputs": [],
   "source": [
    "# test[?]\n",
    "_enc_audio_feats"
   ]
  },
  {
   "cell_type": "code",
   "execution_count": 356,
   "metadata": {},
   "outputs": [],
   "source": [
    "non_empty_enc_audio = [_enc_audio_feats[i].numpy() for i in non_empty_ids]"
   ]
  },
  {
   "cell_type": "code",
   "execution_count": null,
   "metadata": {},
   "outputs": [],
   "source": [
    "_dot_matrix = np.zeros((len(non_empty_ids), len(non_empty_ids)))\n",
    "for i in range(len(non_empty_ids)):\n",
    "    for j in range(len(non_empty_ids)):\n",
    "        _dot_matrix[i, j] = np.dot(non_empty_enc_audio[i], non_empty_enc_audio[j])\n",
    "\n",
    "_dot_matrix.shape"
   ]
  },
  {
   "cell_type": "code",
   "execution_count": null,
   "metadata": {},
   "outputs": [],
   "source": [
    "fig = MatrixVisualize(_dot_matrix, non_empty_tokens, non_empty_tokens, 'Encoded Audio Feats Dot Matrix', cmap='magma')\n"
   ]
  },
  {
   "cell_type": "code",
   "execution_count": 361,
   "metadata": {},
   "outputs": [
    {
     "data": {
      "image/png": "[encoded data removed]",
      "text/plain": [
       "<Figure size 1440x864 with 2 Axes>"
      ]
     },
     "metadata": {
      "needs_background": "light"
     },
     "output_type": "display_data"
    }
   ],
   "source": [
    "_cos_matrix = cosine_similarity(non_empty_enc_audio, non_empty_enc_audio)\n",
    "\n",
    "fig = MatrixVisualize(_cos_matrix, \n",
    "                      non_empty_tokens, \n",
    "                      non_empty_tokens, \n",
    "                      f'Encoded Audio Feats Cos Matrix (#{_inspect_id})',\n",
    "                      cmap='magma')\n"
   ]
  },
  {
   "cell_type": "code",
   "execution_count": null,
   "metadata": {},
   "outputs": [],
   "source": [
    "_l2_matrix = np.zeros((len(non_empty_ids), len(non_empty_ids)))\n",
    "for i in range(len(non_empty_ids)):\n",
    "    for j in range(len(non_empty_ids)):\n",
    "        _l2_matrix[i, j] = np.linalg.norm(non_empty_enc_audio[i] - non_empty_enc_audio[j])\n",
    "\n",
    "_l2_matrix.shape"
   ]
  },
  {
   "cell_type": "code",
   "execution_count": null,
   "metadata": {},
   "outputs": [],
   "source": [
    "fig = MatrixVisualize(-_l2_matrix, non_empty_tokens, non_empty_tokens, 'Encoded Audio Feats L2 Matrix', cmap='magma')\n"
   ]
  },
  {
   "cell_type": "markdown",
   "metadata": {},
   "source": [
    "#### Attention map"
   ]
  },
  {
   "cell_type": "code",
   "execution_count": 362,
   "metadata": {},
   "outputs": [
    {
     "data": {
      "text/plain": [
       "dict_keys(['question', 'original_id', 'rewriter_tags', 'align_tags', 'rewrite_seq_prediction', 'rewrite_seq_prediction_cands', 'rewrite_seq_NLL', 'rewrite_seq_prediction_intermediates'])"
      ]
     },
     "execution_count": 362,
     "metadata": {},
     "output_type": "execute_result"
    }
   ],
   "source": [
    "predictor_output = predictor.predict_instance(_test_instance)\n",
    "predictor_output.keys()"
   ]
  },
  {
   "cell_type": "code",
   "execution_count": 363,
   "metadata": {},
   "outputs": [
    {
     "data": {
      "image/png": "[encoded data removed]",
      "text/plain": [
       "<Figure size 1440x864 with 2 Axes>"
      ]
     },
     "metadata": {
      "needs_background": "light"
     },
     "output_type": "display_data"
    }
   ],
   "source": [
    "# att map\n",
    "\n",
    "_att_map = np.array(predictor_output['rewrite_seq_prediction_intermediates']['encoder']['audio_attention_map_0'][0])\n",
    "\n",
    "_non_empty_att_map = _att_map[tuple(np.meshgrid(non_empty_ids, non_empty_ids)[::-1])]\n",
    "\n",
    "fig = MatrixVisualize(_non_empty_att_map,\n",
    "                      non_empty_tokens,\n",
    "                      non_empty_tokens,\n",
    "                      f'Audio Attention Map (#{_inspect_id})',\n",
    "                      cmap='magma')\n"
   ]
  },
  {
   "cell_type": "code",
   "execution_count": 364,
   "metadata": {},
   "outputs": [
    {
     "data": {
      "image/png": "[encoded data removed]",
      "text/plain": [
       "<Figure size 1440x864 with 2 Axes>"
      ]
     },
     "metadata": {
      "needs_background": "light"
     },
     "output_type": "display_data"
    }
   ],
   "source": [
    "_ref_att_map = _tensor_dict['ref_att_map'].detach().numpy()\n",
    "\n",
    "_non_empty_ref_att_map = _ref_att_map[tuple(np.meshgrid(non_empty_ids, non_empty_ids)[::-1])]\n",
    "\n",
    "fig = MatrixVisualize(_non_empty_ref_att_map,\n",
    "                      non_empty_tokens,\n",
    "                      non_empty_tokens,\n",
    "                      f'Reference Attention Map (#{_inspect_id})',\n",
    "                      cmap='magma')\n",
    "\n"
   ]
  },
  {
   "cell_type": "code",
   "execution_count": null,
   "metadata": {},
   "outputs": [],
   "source": []
  },
  {
   "cell_type": "markdown",
   "metadata": {},
   "source": [
    "#### Actual predictions"
   ]
  },
  {
   "cell_type": "code",
   "execution_count": 316,
   "metadata": {},
   "outputs": [
    {
     "data": {
      "text/plain": [
       "[['are', '[ANS]', 'votes', '[ANS]', '@end@', '@end@'],\n",
       " ['What', 'are', '[ANS]', 'votes', '[ANS]', '@end@'],\n",
       " ['are', '[ANS]', 'songs', '[ANS]', '@end@', '@end@'],\n",
       " ['are', '[ANS]', 'ages', '[ANS]', '@end@', '@end@']]"
      ]
     },
     "execution_count": 316,
     "metadata": {},
     "output_type": "execute_result"
    }
   ],
   "source": [
    "predictor_output['rewrite_seq_prediction_cands']"
   ]
  },
  {
   "cell_type": "code",
   "execution_count": null,
   "metadata": {},
   "outputs": [],
   "source": [
    "## all encoded audio feats identical?? (true for 2.12.3.0i|2i)\n",
    "\n",
    "for ex_id in range(20):\n",
    "    _test_instance = Instance(test_dataset[ex_id].fields)\n",
    "    _test_instance.index_fields(ILM_model.vocab)\n",
    "    _tensor_dict = _test_instance.as_tensor_dict()\n",
    "\n",
    "    _enc_audio_feats = ILM_model.audio_seq2vec_encoder(_tensor_dict['audio_feats'], _tensor_dict['audio_mask']).detach()\n",
    "\n",
    "    print(_enc_audio_feats)\n",
    "    print()"
   ]
  },
  {
   "cell_type": "code",
   "execution_count": null,
   "metadata": {},
   "outputs": [],
   "source": [
    "## If we use random values, won't be identical \n",
    "\n",
    "for ex_id in range(20):\n",
    "    _test_instance = Instance(test_dataset[ex_id].fields)\n",
    "    _test_instance.index_fields(ILM_model.vocab)\n",
    "    _tensor_dict = _test_instance.as_tensor_dict()\n",
    "\n",
    "    _enc_audio_feats = ILM_model.audio_seq2vec_encoder(\n",
    "        torch.randn_like(_tensor_dict['audio_feats']),\n",
    "        _tensor_dict['audio_mask']).detach()\n",
    "\n",
    "    print(_enc_audio_feats)\n",
    "    print()"
   ]
  },
  {
   "cell_type": "code",
   "execution_count": 189,
   "metadata": {},
   "outputs": [
    {
     "data": {
      "text/plain": [
       "CnnEncoder(\n",
       "  (_activation): ReLU()\n",
       "  (conv_layer_0): Conv1d(68, 4, kernel_size=(2,), stride=(1,))\n",
       "  (conv_layer_1): Conv1d(68, 4, kernel_size=(3,), stride=(1,))\n",
       "  (conv_layer_2): Conv1d(68, 4, kernel_size=(4,), stride=(1,))\n",
       "  (conv_layer_3): Conv1d(68, 4, kernel_size=(5,), stride=(1,))\n",
       "  (projection_layer): Linear(in_features=16, out_features=128, bias=True)\n",
       ")"
      ]
     },
     "execution_count": 189,
     "metadata": {},
     "output_type": "execute_result"
    }
   ],
   "source": [
    "ILM_model.audio_seq2vec_encoder"
   ]
  },
  {
   "cell_type": "code",
   "execution_count": null,
   "metadata": {},
   "outputs": [],
   "source": [
    "ILM_model.audio_seq2vec_encoder.conv_layer_0.weight"
   ]
  },
  {
   "cell_type": "code",
   "execution_count": null,
   "metadata": {},
   "outputs": [],
   "source": [
    "ILM_model.audio_seq2vec_encoder.conv_layer_0.bias"
   ]
  },
  {
   "cell_type": "code",
   "execution_count": null,
   "metadata": {},
   "outputs": [],
   "source": [
    "ex_id = 0\n",
    "\n",
    "_test_instance = Instance(test_dataset[ex_id].fields)\n",
    "_test_instance.index_fields(ILM_model.vocab)\n",
    "_tensor_dict = _test_instance.as_tensor_dict()\n",
    "\n",
    "_tensor_dict['audio_feats'], _tensor_dict['audio_mask']"
   ]
  },
  {
   "cell_type": "code",
   "execution_count": null,
   "metadata": {},
   "outputs": [],
   "source": [
    "## Dive into cnn\n",
    "\n",
    "from allennlp.nn.util import min_value_of_dtype\n",
    "\n",
    "tokens = _tensor_dict['audio_feats']\n",
    "mask = _tensor_dict['audio_mask']\n",
    "\n",
    "if mask is not None:\n",
    "    tokens = tokens * mask.unsqueeze(-1)\n",
    "\n",
    "# Our input is expected to have shape `(batch_size, num_tokens, embedding_dim)`.  The\n",
    "# convolution layers expect input of shape `(batch_size, in_channels, sequence_length)`,\n",
    "# where the conv layer `in_channels` is our `embedding_dim`.  We thus need to transpose the\n",
    "# tensor first.\n",
    "tokens = torch.transpose(tokens, 1, 2)\n",
    "# Each convolution layer returns output of size `(batch_size, num_filters, pool_length)`,\n",
    "# where `pool_length = num_tokens - ngram_size + 1`.  We then do an activation function,\n",
    "# masking, then do max pooling over each filter for the whole input sequence.\n",
    "# Because our max pooling is simple, we just use `torch.max`.  The resultant tensor has shape\n",
    "# `(batch_size, num_conv_layers * num_filters)`, which then gets projected using the\n",
    "# projection layer, if requested.\n",
    "\n",
    "# To ensure the cnn_encoder respects masking we add a large negative value to\n",
    "# the activations of all filters that convolved over a masked token. We do this by\n",
    "# first enumerating all filters for a given convolution size (torch.arange())\n",
    "# then by comparing it to an index of the last filter that does not involve a masked\n",
    "# token (.ge()) and finally adjusting dimensions to allow for addition and multiplying\n",
    "# by a large negative value (.unsqueeze())\n",
    "filter_outputs = []\n",
    "batch_size = tokens.shape[0]\n",
    "# shape: (batch_size, 1)\n",
    "last_unmasked_tokens = mask.sum(dim=1).unsqueeze(dim=-1)\n",
    "for i in range(len(ILM_model.audio_seq2vec_encoder._convolution_layers)):\n",
    "    convolution_layer = getattr(ILM_model.audio_seq2vec_encoder, \"conv_layer_{}\".format(i))\n",
    "    pool_length = tokens.shape[2] - convolution_layer.kernel_size[0] + 1\n",
    "\n",
    "    # Forward pass of the convolutions.\n",
    "    # shape: (batch_size, num_filters, pool_length)\n",
    "    _conv_out = convolution_layer(tokens)\n",
    "    \n",
    "    print(f'#{i}-0', _conv_out, _conv_out.size())\n",
    "    \n",
    "    activations = ILM_model.audio_seq2vec_encoder._activation(_conv_out)\n",
    "    \n",
    "    print(f'#{i}-1', activations, activations.size())\n",
    "\n",
    "    # Create activation mask.\n",
    "    # shape: (batch_size, pool_length)\n",
    "    indices = (\n",
    "        torch.arange(pool_length, device=activations.device)\n",
    "        .unsqueeze(0)\n",
    "        .expand(batch_size, pool_length)\n",
    "    )\n",
    "    # shape: (batch_size, pool_length)\n",
    "    activations_mask = indices.ge(\n",
    "        last_unmasked_tokens - convolution_layer.kernel_size[0] + 1\n",
    "    )\n",
    "    # shape: (batch_size, num_filters, pool_length)\n",
    "    activations_mask = activations_mask.unsqueeze(1).expand_as(activations)\n",
    "    \n",
    "    print(f'#{i}-2', activations_mask, activations_mask.size())\n",
    "\n",
    "    # Replace masked out values with smallest possible value of the dtype so\n",
    "    # that max pooling will ignore these activations.\n",
    "    # shape: (batch_size, pool_length)\n",
    "    activations = activations + (activations_mask * min_value_of_dtype(activations.dtype))\n",
    "    \n",
    "    print(f'#{i}-3', activations, activations.size())\n",
    "    \n",
    "    _filter_out = activations.max(dim=2)[0]\n",
    "    print(f'#{i}-4', _filter_out, _filter_out.size())\n",
    "\n",
    "    # Pick out the max filters\n",
    "    filter_outputs.append(_filter_out)\n",
    "\n",
    "# Now we have a list of `num_conv_layers` tensors of shape `(batch_size, num_filters)`.\n",
    "# Concatenating them gives us a tensor of shape `(batch_size, num_filters * num_conv_layers)`.\n",
    "maxpool_output = (\n",
    "    torch.cat(filter_outputs, dim=1) if len(filter_outputs) > 1 else filter_outputs[0]\n",
    ")\n",
    "\n",
    "# Replace the maxpool activations that picked up the masks with 0s\n",
    "maxpool_output[maxpool_output == min_value_of_dtype(maxpool_output.dtype)] = 0.0\n",
    "\n",
    "if ILM_model.audio_seq2vec_encoder.projection_layer:\n",
    "    result = ILM_model.audio_seq2vec_encoder.projection_layer(maxpool_output)\n",
    "else:\n",
    "    result = maxpool_output"
   ]
  },
  {
   "cell_type": "code",
   "execution_count": null,
   "metadata": {},
   "outputs": [],
   "source": [
    "filter_outputs"
   ]
  },
  {
   "cell_type": "code",
   "execution_count": null,
   "metadata": {
    "scrolled": true
   },
   "outputs": [],
   "source": [
    "maxpool_output"
   ]
  },
  {
   "cell_type": "code",
   "execution_count": null,
   "metadata": {},
   "outputs": [],
   "source": [
    "'''\n",
    "Result (audio_seq2vec_encoder):\n",
    "At the first layer, after conv, values go to all negative, and after activation, they go to all 0.\n",
    "This is learned - init models don't have this issue. Also, random (randn) feats don't have this issue.\n",
    "TODO:\n",
    "0. ReLU -> LeakyReLU\n",
    "1. add a reconstruction task on encoded audio feats (predict raw audio feats / token)\n",
    "'''"
   ]
  },
  {
   "cell_type": "markdown",
   "metadata": {},
   "source": [
    "#### Check a model"
   ]
  },
  {
   "cell_type": "code",
   "execution_count": 176,
   "metadata": {},
   "outputs": [
    {
     "name": "stdout",
     "output_type": "stream",
     "text": [
      "self._start_index: 3, @start@\n",
      "self._end_index: 4, @end@\n",
      "self._pad_index: 0, @@PADDING@@\n"
     ]
    },
    {
     "data": {
      "text/plain": [
       "tensor([-0.1850,  0.2997, -1.3077, -0.6420, -4.2652,  1.0450, -1.2064,  4.0502,\n",
       "         0.1342, -5.8691,  3.8741,  2.0295,  0.2997, -2.6877,  0.2997, -2.3535,\n",
       "         4.9455,  0.2997, -2.3535, -4.7277,  0.2997, -9.4096,  0.2997, -6.6823,\n",
       "         0.2997, -3.0341,  0.2997,  1.2824,  0.2997, -3.3668,  4.1755,  0.2997,\n",
       "        -3.3668, -4.7277,  0.2997, -6.6823,  0.2997, -6.6823, -5.9387,  0.2997,\n",
       "         1.2022,  0.2997, -2.3535,  0.2997,  1.4218, -3.8857,  0.2997,  3.2576,\n",
       "        -3.3668,  0.2997, -8.6342, -3.3668,  0.2997], grad_fn=<SumBackward1>)"
      ]
     },
     "execution_count": 176,
     "metadata": {},
     "output_type": "execute_result"
    }
   ],
   "source": [
    "alt_model = Model.from_archive('runs/2.16.2.1i/model.tar.gz')\n",
    "_audio_encoded = alt_model.audio_seq2vec_encoder(_tensor_dict['audio_feats'], _tensor_dict['audio_mask'])\n",
    "_audio_encoded.sum(dim=-1)"
   ]
  },
  {
   "cell_type": "code",
   "execution_count": 177,
   "metadata": {},
   "outputs": [
    {
     "name": "stdout",
     "output_type": "stream",
     "text": [
      "What        -0.18\n",
      "?           0.3\n",
      "Our         -1.3\n",
      "flight      -0.64\n",
      "numbers     -4.3\n",
      "of          1.0\n",
      "flights     -1.2\n",
      "arriving    4.1\n",
      "at          0.13\n",
      "airports    -5.9\n",
      "a           3.9\n",
      "PG          2.0\n",
      "[SEP]       0.3\n",
      "airlines    -2.7\n",
      ":           0.3\n",
      "airline     -2.4\n",
      "id          4.9\n",
      ",           0.3\n",
      "airline     -2.4\n",
      "name        -4.7\n",
      ",           0.3\n",
      "abbreviation-9.4\n",
      ",           0.3\n",
      "country     -6.7\n",
      ".           0.3\n",
      "airports    -3.0\n",
      ":           0.3\n",
      "city        1.3\n",
      ",           0.3\n",
      "airport     -3.4\n",
      "code        4.2\n",
      ",           0.3\n",
      "airport     -3.4\n",
      "name        -4.7\n",
      ",           0.3\n",
      "country     -6.7\n",
      ",           0.3\n",
      "country     -6.7\n",
      "abbrev      -5.9\n",
      ".           0.3\n",
      "flights     1.2\n",
      ":           0.3\n",
      "airline     -2.4\n",
      ",           0.3\n",
      "flight      1.4\n",
      "number      -3.9\n",
      ",           0.3\n",
      "source      3.3\n",
      "airport     -3.4\n",
      ",           0.3\n",
      "destination -8.6\n",
      "airport     -3.4\n",
      ".           0.3\n"
     ]
    }
   ],
   "source": [
    "for _t, _enc in zip(_tokens, _audio_encoded.sum(dim=-1).detach().numpy().tolist()):\n",
    "    print(f'{str(_t):12}{_enc:.2}')"
   ]
  },
  {
   "cell_type": "code",
   "execution_count": null,
   "metadata": {},
   "outputs": [],
   "source": []
  },
  {
   "cell_type": "markdown",
   "metadata": {},
   "source": [
    "### Gated Fusion - gates"
   ]
  },
  {
   "cell_type": "code",
   "execution_count": 7,
   "metadata": {},
   "outputs": [
    {
     "data": {
      "text/plain": [
       "{'sentence': <allennlp.data.fields.text_field.TextField at 0x1434aac30>,\n",
       " 'text_mask': <allennlp.data.fields.array_field.ArrayField at 0x1434aae60>,\n",
       " 'schema_mask': <allennlp.data.fields.array_field.ArrayField at 0x1434aab40>,\n",
       " 'schema_column_ids': <allennlp.data.fields.array_field.ArrayField at 0x1434aa690>,\n",
       " 'audio_feats': <allennlp.data.fields.list_field.ListField at 0x14356a5d0>,\n",
       " 'audio_mask': <allennlp.data.fields.array_field.ArrayField at 0x1434aa640>,\n",
       " 'rewriter_tags': <allennlp.data.fields.sequence_label_field.SequenceLabelField at 0x144227d10>,\n",
       " 'align_tags': <allennlp.data.fields.sequence_label_field.SequenceLabelField at 0x144227e30>,\n",
       " 'rewrite_seq': <allennlp.data.fields.text_field.TextField at 0x1434b4780>,\n",
       " 'metadata': <allennlp.data.fields.metadata_field.MetadataField at 0x14356a690>}"
      ]
     },
     "execution_count": 7,
     "metadata": {},
     "output_type": "execute_result"
    }
   ],
   "source": [
    "_test_instance = Instance(test_dataset[44].fields)\n",
    "_test_instance.fields"
   ]
  },
  {
   "cell_type": "code",
   "execution_count": 12,
   "metadata": {},
   "outputs": [
    {
     "name": "stdout",
     "output_type": "stream",
     "text": [
      "[What, is, the, number, of, votes, from, state, and, Y, or, see, a, ., [SEP], area, code, state, :, area, code, ,, state, ., contestants, :, contestant, number, ,, contestant, name, ., votes, :, vote, id, ,, phone, number, ,, state, ,, contestant, number, ,, created, .]\n",
      "[@start@, What, are, [ANS], 'NY, ', [ANS], 'CA, ', [ANS], ?, [ANS], @end@]\n"
     ]
    }
   ],
   "source": [
    "print(_test_instance.fields['sentence'].tokens)\n",
    "print(_test_instance.fields['rewrite_seq'].tokens)"
   ]
  },
  {
   "cell_type": "code",
   "execution_count": 37,
   "metadata": {},
   "outputs": [
    {
     "data": {
      "text/plain": [
       "dict_keys(['sentence', 'text_mask', 'schema_mask', 'schema_column_ids', 'audio_feats', 'audio_mask', 'rewriter_tags', 'align_tags', 'rewrite_seq', 'metadata'])"
      ]
     },
     "execution_count": 37,
     "metadata": {},
     "output_type": "execute_result"
    }
   ],
   "source": [
    "_tensor_dict = _test_instance.as_tensor_dict()\n",
    "_tensor_dict.keys()"
   ]
  },
  {
   "cell_type": "code",
   "execution_count": 4,
   "metadata": {
    "scrolled": true
   },
   "outputs": [
    {
     "name": "stdout",
     "output_type": "stream",
     "text": [
      "self._start_index: 3, @start@\n",
      "self._end_index: 4, @end@\n",
      "self._pad_index: 0, @@PADDING@@\n"
     ]
    }
   ],
   "source": [
    "gf_ILM_model = Model.from_archive('runs/2.14.0.0i/model.tar.gz')"
   ]
  },
  {
   "cell_type": "code",
   "execution_count": 6,
   "metadata": {},
   "outputs": [],
   "source": [
    "gf_predictor = SpiderASRRewriterPredictor_ILM(model=gf_ILM_model,\n",
    "                                              dataset_reader=dataset_reader)\n",
    "gf_predictor.set_save_intermediate(True)"
   ]
  },
  {
   "cell_type": "code",
   "execution_count": 13,
   "metadata": {},
   "outputs": [
    {
     "data": {
      "text/plain": [
       "dict_keys(['question', 'original_id', 'rewriter_tags', 'align_tags', 'rewrite_seq_prediction', 'rewrite_seq_prediction_cands', 'rewrite_seq_NLL', 'rewrite_seq_prediction_intermediates'])"
      ]
     },
     "execution_count": 13,
     "metadata": {},
     "output_type": "execute_result"
    }
   ],
   "source": [
    "gf_pred_out = gf_predictor.predict_instance(_test_instance)\n",
    "gf_pred_out.keys()"
   ]
  },
  {
   "cell_type": "code",
   "execution_count": 21,
   "metadata": {},
   "outputs": [
    {
     "data": {
      "text/plain": [
       "(0.45281933273358416, 0.45054028039670385, 0.4859624328109237)"
      ]
     },
     "execution_count": 21,
     "metadata": {},
     "output_type": "execute_result"
    }
   ],
   "source": [
    "_token_gate = gf_pred_out['rewrite_seq_prediction_intermediates']['encoder']['token_gate']\n",
    "_audio_gate = gf_pred_out['rewrite_seq_prediction_intermediates']['encoder']['audio_gate']\n",
    "_tag_gate = gf_pred_out['rewrite_seq_prediction_intermediates']['encoder']['tag_gate']\n",
    "\n",
    "np.mean(_token_gate), np.mean(_audio_gate), np.mean(_tag_gate)"
   ]
  },
  {
   "cell_type": "code",
   "execution_count": 22,
   "metadata": {},
   "outputs": [
    {
     "data": {
      "text/plain": [
       "(1, 47, 256)"
      ]
     },
     "execution_count": 22,
     "metadata": {},
     "output_type": "execute_result"
    }
   ],
   "source": [
    "np.array(_token_gate).shape"
   ]
  },
  {
   "cell_type": "code",
   "execution_count": 32,
   "metadata": {},
   "outputs": [
    {
     "data": {
      "text/plain": [
       "(state, 0.49049099343437946, 0.4706899166044084, 0.47619011712929354)"
      ]
     },
     "execution_count": 32,
     "metadata": {},
     "output_type": "execute_result"
    }
   ],
   "source": [
    "_test_instance.fields['sentence'].tokens[7], np.mean(_token_gate[0][7]), np.mean(_audio_gate[0][7]), np.mean(_tag_gate[0][7])"
   ]
  },
  {
   "cell_type": "code",
   "execution_count": 33,
   "metadata": {},
   "outputs": [
    {
     "data": {
      "text/plain": [
       "(see, 0.541033159667043, 0.4341624717849897, 0.4389960773969267)"
      ]
     },
     "execution_count": 33,
     "metadata": {},
     "output_type": "execute_result"
    }
   ],
   "source": [
    "_test_instance.fields['sentence'].tokens[11], np.mean(_token_gate[0][11]), np.mean(_audio_gate[0][11]), np.mean(_tag_gate[0][11])"
   ]
  },
  {
   "cell_type": "code",
   "execution_count": 34,
   "metadata": {},
   "outputs": [
    {
     "data": {
      "text/plain": [
       "(area, 0.42531585083140017, 0.4511516102253258, 0.5075576908005089)"
      ]
     },
     "execution_count": 34,
     "metadata": {},
     "output_type": "execute_result"
    }
   ],
   "source": [
    "_test_instance.fields['sentence'].tokens[15], np.mean(_token_gate[0][15]), np.mean(_audio_gate[0][15]), np.mean(_tag_gate[0][15])"
   ]
  },
  {
   "cell_type": "code",
   "execution_count": 35,
   "metadata": {},
   "outputs": [
    {
     "data": {
      "text/plain": [
       "(:, 0.4383045507386985, 0.449692172756906, 0.5016281215996194)"
      ]
     },
     "execution_count": 35,
     "metadata": {},
     "output_type": "execute_result"
    }
   ],
   "source": [
    "_test_instance.fields['sentence'].tokens[18], np.mean(_token_gate[0][18]), np.mean(_audio_gate[0][18]), np.mean(_tag_gate[0][18])"
   ]
  },
  {
   "cell_type": "code",
   "execution_count": null,
   "metadata": {},
   "outputs": [],
   "source": []
  },
  {
   "cell_type": "markdown",
   "metadata": {},
   "source": [
    "### Attention Visualizations"
   ]
  },
  {
   "cell_type": "code",
   "execution_count": 112,
   "metadata": {},
   "outputs": [],
   "source": [
    "def Postprocess_rewrite_seq(tags, rewrite_seq, question_toks):\n",
    "    _question_toks_placeholders = []\n",
    "\n",
    "    for i, tok in enumerate(question_toks):\n",
    "        if tags[i].endswith('KEEP'):\n",
    "            _question_toks_placeholders.append(tok)\n",
    "        elif (tags[i] == 'U-EDIT') or (tags[i] == 'B-EDIT'):\n",
    "            _question_toks_placeholders.append('[EDIT]')\n",
    "        elif (tags[i] == 'I-EDIT') or (tags[i] == 'L-EDIT') or tags[i].endswith('DEL'):\n",
    "            pass\n",
    "        else:\n",
    "            print('Unknown tag: {}'.format(tags[i]))\n",
    "\n",
    "    _edits = []\n",
    "    _curr_edit = []\n",
    "    for tok in rewrite_seq:\n",
    "        if tok == '[ANS]':\n",
    "            _edits.append(_curr_edit)\n",
    "            _curr_edit = []\n",
    "        elif tok == '[END_RWT]':\n",
    "            break\n",
    "        else:\n",
    "            _curr_edit.append(tok)\n",
    "    \n",
    "    _question_toks_rewritten = []\n",
    "    _edit_idx = 0\n",
    "    for tok in _question_toks_placeholders:\n",
    "        if tok == '[EDIT]':\n",
    "            if _edit_idx >= len(_edits):\n",
    "                print('--- Not enough edits ---')\n",
    "                print('Tags:', tags)\n",
    "                print('Edits:', _edits)\n",
    "            else:\n",
    "                _question_toks_rewritten.extend(_edits[_edit_idx])\n",
    "            _edit_idx += 1\n",
    "        else:\n",
    "            _question_toks_rewritten.append(tok)\n",
    "\n",
    "    return _question_toks_rewritten"
   ]
  },
  {
   "cell_type": "code",
   "execution_count": 128,
   "metadata": {},
   "outputs": [],
   "source": [
    "def FormatInstanceTexts(instance, predictor_output):\n",
    "    tokens = [t.text for t in test_dataset[idx].fields['sentence']]\n",
    "    text_len = tokens.index('[SEP]')\n",
    "    text_tokens = tokens[:text_len]\n",
    "    orig_q_tokens = original_dev_dataset[predictor_output['original_id']]['question_toks']\n",
    "    \n",
    "    _tags = predictor_output['tags_prediction']\n",
    "    _rewrite_seq = predictor_output['rewrite_seq_prediction'][:predictor_output['rewrite_seq_prediction'].index('[END_RWT]')]\n",
    "\n",
    "    tags_str = ' '.join([tok if tag.endswith('KEEP') else '([{}] {})'.format(tag, tok) for tag, tok in zip(_tags, text_tokens)])\n",
    "\n",
    "    rewritten_q = Postprocess_rewrite_seq(_tags, _rewrite_seq, text_tokens)\n",
    "\n",
    "    fmt_lines = [\n",
    "        'Gold Q: ' + ' '.join(orig_q_tokens),\n",
    "        'Tagging: ' + tags_str,\n",
    "        'Rewrite_seq: ' + ' '.join(_rewrite_seq),\n",
    "        'Rewritten Q: ' + ' '.join(rewritten_q)\n",
    "    ]\n",
    "    fmt_align_len = max([len(l) for l in fmt_lines])\n",
    "\n",
    "    fmt_str = '{0:{4}}\\n{1:{4}}\\n{2:{4}}\\n{3:{4}}'.format(*fmt_lines, fmt_align_len)\n",
    "    \n",
    "    return fmt_str"
   ]
  },
  {
   "cell_type": "code",
   "execution_count": 98,
   "metadata": {},
   "outputs": [
    {
     "data": {
      "text/plain": [
       "(57, 57)"
      ]
     },
     "execution_count": 98,
     "metadata": {},
     "output_type": "execute_result"
    }
   ],
   "source": [
    "_att_map = np.array(predictor_output['tag_prediction_intermediates']['encoder_no_tags']['audio_attention_map'][0])\n",
    "_att_map.shape"
   ]
  },
  {
   "cell_type": "code",
   "execution_count": null,
   "metadata": {},
   "outputs": [],
   "source": [
    "tokens = [t.text for t in _test_instance.fields['sentence']]\n",
    "orig_q_tokens = original_dev_dataset[predictor_output['original_id']]['question_toks']\n",
    "len(tokens), len(orig_q_tokens)"
   ]
  },
  {
   "cell_type": "code",
   "execution_count": null,
   "metadata": {},
   "outputs": [],
   "source": [
    "text_len = tokens.index('[SEP]')\n",
    "text_tokens = tokens[:text_len]\n",
    "text_tokens"
   ]
  },
  {
   "cell_type": "code",
   "execution_count": null,
   "metadata": {},
   "outputs": [],
   "source": [
    "_tags, _rewrite_seq = predictor_output['tags_prediction'], predictor_output['rewrite_seq_prediction'][:predictor_output['rewrite_seq_prediction'].index('[END_RWT]')]\n",
    "_tags, _rewrite_seq"
   ]
  },
  {
   "cell_type": "code",
   "execution_count": 129,
   "metadata": {},
   "outputs": [
    {
     "data": {
      "image/png": "[encoded data removed]",
      "text/plain": [
       "<Figure size 1440x864 with 2 Axes>"
      ]
     },
     "metadata": {
      "needs_background": "light"
     },
     "output_type": "display_data"
    }
   ],
   "source": [
    "# tags_str = ' '.join([tok if tag.endswith('KEEP') else '([{}] {})'.format(tag, tok) for tag, tok in zip(_tags, text_tokens)])\n",
    "\n",
    "# rewritten_q = Postprocess_rewrite_seq(_tags, _rewrite_seq, text_tokens)\n",
    "\n",
    "# title_lines = [\n",
    "#     'Gold Q: ' + ' '.join(orig_q_tokens),\n",
    "#     'Tagging: ' + tags_str,\n",
    "#     'Rewrite_seq: ' + ' '.join(_rewrite_seq),\n",
    "#     'Rewritten Q: ' + ' '.join(rewritten_q)\n",
    "# ]\n",
    "# title_align_len = max([len(l) for l in title_lines])\n",
    "\n",
    "# title_str = 'Att_map\\n{0:{4}}\\n{1:{4}}\\n{2:{4}}\\n{3:{4}}'.format(\n",
    "#     *title_lines,\n",
    "#     title_align_len\n",
    "# )\n",
    "\n",
    "title_str = 'Att_map\\n{}'.format(FormatInstanceTexts(_test_instance, predictor_output))\n",
    "\n",
    "fig = MatrixVisualize(_att_map[:text_len, :], text_tokens, tokens, title_str)"
   ]
  },
  {
   "cell_type": "code",
   "execution_count": null,
   "metadata": {},
   "outputs": [],
   "source": [
    "_bert_embs = np.array(predictor_output['tag_prediction_intermediates']['rewriter_main']['bert_embedding'][0])\n",
    "_bert_embs.shape"
   ]
  },
  {
   "cell_type": "code",
   "execution_count": null,
   "metadata": {},
   "outputs": [],
   "source": [
    "_cos_matrix = pairwise.cosine_similarity(_bert_embs)\n",
    "fig = MatrixVisualize(_cos_matrix, tokens, tokens, 'BERT emb cos sim', cmap='Reds')"
   ]
  },
  {
   "cell_type": "code",
   "execution_count": 62,
   "metadata": {},
   "outputs": [],
   "source": [
    "plt.close('all')"
   ]
  },
  {
   "cell_type": "code",
   "execution_count": 130,
   "metadata": {},
   "outputs": [],
   "source": [
    "# inspect_ids = [8, 96, 272, 448, 1416, 1592, 1680, 1856, 2120, 2296, 2384, 2560, 2824]\n",
    "inspect_ids = [8, 96, 272, 448, 1416, 1856, 2120, 2296, 2384, 2560, 2824]"
   ]
  },
  {
   "cell_type": "code",
   "execution_count": 131,
   "metadata": {},
   "outputs": [
    {
     "data": {
      "application/vnd.jupyter.widget-view+json": {
       "model_id": "58d519d9f7834f60ad7c8ec533c23bc4",
       "version_major": 2,
       "version_minor": 0
      },
      "text/plain": [
       "HBox(children=(IntProgress(value=0, max=11), HTML(value='')))"
      ]
     },
     "metadata": {},
     "output_type": "display_data"
    },
    {
     "name": "stdout",
     "output_type": "stream",
     "text": [
      "\n"
     ]
    }
   ],
   "source": [
    "img_dir = '/Users/mac/Desktop/syt/Deep-Learning/Projects-M/SpeakQL/Modeling/images/inspection'\n",
    "os.makedirs(img_dir, exist_ok=True)\n",
    "\n",
    "for idx in tqdm(inspect_ids):\n",
    "    predictor_output = predictor.predict_instance(test_dataset[idx])\n",
    "    tokens = [t.text for t in test_dataset[idx].fields['sentence']]\n",
    "    text_len = tokens.index('[SEP]')\n",
    "    text_tokens = tokens[:text_len]\n",
    "    # orig_q_tokens = original_dev_dataset[predictor_output['original_id']]['question_toks']\n",
    "    \n",
    "    fmt_instance_str = FormatInstanceTexts(test_dataset[idx], predictor_output)\n",
    "    \n",
    "    fig_name = 'test{}.main.bert_embedding_cos_matrix'.format(idx)\n",
    "    _bert_embs = np.array(predictor_output['tag_prediction_intermediates']['rewriter_main']['bert_embedding'][0])\n",
    "    _bert_embs_2 = np.array(predictor_output['rewrite_seq_prediction_intermediates']['rewriter_main']['bert_embedding'][0])\n",
    "    assert np.allclose(_bert_embs, _bert_embs_2), idx\n",
    "    _cos_matrix = pairwise.cosine_similarity(_bert_embs[:text_len], _bert_embs)\n",
    "    fig = MatrixVisualize(_cos_matrix, text_tokens, tokens, title='{}\\n{}'.format(fig_name, fmt_instance_str), cmap='Reds')\n",
    "    fig.savefig(os.path.join(img_dir, '{}.png'.format(fig_name)))\n",
    "    \n",
    "    fig_name = 'test{}.no_tags.att_map'.format(idx)\n",
    "    _att_map = np.array(predictor_output['tag_prediction_intermediates']['encoder_no_tags']['audio_attention_map'][0])\n",
    "    _att_map_2 = np.array(predictor_output['rewrite_seq_prediction_intermediates']['encoder_no_tags']['audio_attention_map'][0])\n",
    "    assert np.allclose(_att_map, _att_map_2), idx\n",
    "    fig = MatrixVisualize(_att_map[:text_len, :], text_tokens, tokens, title='{}\\n{}'.format(fig_name, fmt_instance_str), cmap='magma')\n",
    "    fig.savefig(os.path.join(img_dir, '{}.png'.format(fig_name)))\n",
    "    \n",
    "    fig_name = 'test{}.no_tags.att_out_with_res_cos_matrix'.format(idx)\n",
    "    _att_out = np.array(predictor_output['tag_prediction_intermediates']['encoder_no_tags']['audio_attention_out_with_residual'][0])\n",
    "    _att_out_2 = np.array(predictor_output['rewrite_seq_prediction_intermediates']['encoder_no_tags']['audio_attention_out_with_residual'][0])\n",
    "    assert np.allclose(_att_out, _att_out_2), idx\n",
    "    _cos_matrix = pairwise.cosine_similarity(_att_out[:text_len], _att_out)\n",
    "    fig = MatrixVisualize(_cos_matrix, text_tokens, tokens, title='{}\\n{}'.format(fig_name, fmt_instance_str), cmap='Reds')\n",
    "    fig.savefig(os.path.join(img_dir, '{}.png'.format(fig_name)))\n",
    "    \n",
    "    fig_name = 'test{}.no_tags.encoder_repr_cos_matrix'.format(idx)\n",
    "    _enc = np.array(predictor_output['tag_prediction_intermediates']['encoder_no_tags']['encoder_representation_0'][0])\n",
    "    _enc_2 = np.array(predictor_output['rewrite_seq_prediction_intermediates']['encoder_no_tags']['encoder_representation_0'][0])\n",
    "    assert np.allclose(_enc, _enc_2), idx\n",
    "    _cos_matrix = pairwise.cosine_similarity(_enc[:text_len], _enc)\n",
    "    fig = MatrixVisualize(_cos_matrix, text_tokens, tokens, title='{}\\n{}'.format(fig_name, fmt_instance_str), cmap='Reds')\n",
    "    fig.savefig(os.path.join(img_dir, '{}.png'.format(fig_name)))\n",
    "    \n",
    "    fig_name = 'test{}.with_tags.att_map'.format(idx)\n",
    "    _att_map = np.array(predictor_output['rewrite_seq_prediction_intermediates']['encoder_with_tags']['audio_attention_map'][0])\n",
    "    fig = MatrixVisualize(_att_map[:text_len, :], text_tokens, tokens, title='{}\\n{}'.format(fig_name, fmt_instance_str), cmap='magma')\n",
    "    fig.savefig(os.path.join(img_dir, '{}.png'.format(fig_name)))\n",
    "    \n",
    "    fig_name = 'test{}.with_tags.att_out_with_res_cos_matrix'.format(idx)\n",
    "    _att_out = np.array(predictor_output['tag_prediction_intermediates']['encoder_with_tags']['audio_attention_out_with_residual'][0])\n",
    "    _cos_matrix = pairwise.cosine_similarity(_att_out[:text_len], _att_out)\n",
    "    fig = MatrixVisualize(_cos_matrix, text_tokens, tokens, title='{}\\n{}'.format(fig_name, fmt_instance_str), cmap='Reds')\n",
    "    fig.savefig(os.path.join(img_dir, '{}.png'.format(fig_name)))\n",
    "    \n",
    "    fig_name = 'test{}.with_tags.encoder_repr_cos_matrix'.format(idx)\n",
    "    _enc = np.array(predictor_output['tag_prediction_intermediates']['encoder_with_tags']['encoder_representation_0'][0])\n",
    "    _cos_matrix = pairwise.cosine_similarity(_enc[:text_len], _enc)\n",
    "    fig = MatrixVisualize(_cos_matrix, text_tokens, tokens, title='{}\\n{}'.format(fig_name, fmt_instance_str), cmap='Reds')\n",
    "    fig.savefig(os.path.join(img_dir, '{}.png'.format(fig_name)))\n",
    "    \n",
    "    plt.close('all')\n",
    "    "
   ]
  },
  {
   "cell_type": "code",
   "execution_count": null,
   "metadata": {},
   "outputs": [],
   "source": []
  },
  {
   "cell_type": "markdown",
   "metadata": {},
   "source": [
    "### Check vocabs"
   ]
  },
  {
   "cell_type": "code",
   "execution_count": 155,
   "metadata": {},
   "outputs": [
    {
     "data": {
      "text/plain": [
       "Vocabulary with namespaces:  phonemes, Size: 59 || tgt_tokens, Size: 10 || align_tags, Size: 12 || rewriter_tags, Size: 8 || token_characters, Size: 46 || Non Padded Namespaces: {'*tags', '*labels'}"
      ]
     },
     "execution_count": 155,
     "metadata": {},
     "output_type": "execute_result"
    }
   ],
   "source": [
    "ILM_model.vocab"
   ]
  },
  {
   "cell_type": "code",
   "execution_count": 157,
   "metadata": {},
   "outputs": [
    {
     "data": {
      "text/plain": [
       "[(0, '@@PADDING@@'),\n",
       " (1, '@@UNKNOWN@@'),\n",
       " (2, '[ANS]'),\n",
       " (3, '@start@'),\n",
       " (4, '@end@'),\n",
       " (5, '?'),\n",
       " (6, 'speed'),\n",
       " (7, 'in'),\n",
       " (8, 'grouped'),\n",
       " (9, '@COPY@')]"
      ]
     },
     "execution_count": 157,
     "metadata": {},
     "output_type": "execute_result"
    }
   ],
   "source": [
    "list(ILM_model.vocab.get_index_to_token_vocabulary('tgt_tokens').items())"
   ]
  },
  {
   "cell_type": "code",
   "execution_count": 78,
   "metadata": {},
   "outputs": [
    {
     "data": {
      "text/plain": [
       "(2688, 2688)"
      ]
     },
     "execution_count": 78,
     "metadata": {},
     "output_type": "execute_result"
    }
   ],
   "source": [
    "_t2i_dict = ILM_model.rewrite_decoder._vocab.get_token_to_index_vocabulary(namespace=\"tgt_tokens\")\n",
    "_i2t_dict = ILM_model.rewrite_decoder._vocab.get_index_to_token_vocabulary(namespace=\"tgt_tokens\")\n",
    "len(_t2i_dict), len(_i2t_dict)"
   ]
  },
  {
   "cell_type": "code",
   "execution_count": 79,
   "metadata": {},
   "outputs": [
    {
     "data": {
      "text/plain": [
       "(1, 2687)"
      ]
     },
     "execution_count": 79,
     "metadata": {},
     "output_type": "execute_result"
    }
   ],
   "source": [
    "_t2i_dict['@@UNKNOWN@@'], _t2i_dict['@COPY@']"
   ]
  },
  {
   "cell_type": "code",
   "execution_count": null,
   "metadata": {},
   "outputs": [],
   "source": []
  },
  {
   "cell_type": "code",
   "execution_count": null,
   "metadata": {},
   "outputs": [],
   "source": []
  },
  {
   "cell_type": "markdown",
   "metadata": {},
   "source": [
    "### Input sequence check"
   ]
  },
  {
   "cell_type": "code",
   "execution_count": 23,
   "metadata": {},
   "outputs": [],
   "source": [
    "## input are not lowered, but bert-tokenizer takes care of it "
   ]
  },
  {
   "cell_type": "code",
   "execution_count": 13,
   "metadata": {},
   "outputs": [
    {
     "data": {
      "text/plain": [
       "['original_id',\n",
       " 'text_len',\n",
       " 'schema_len',\n",
       " 'concat_len',\n",
       " 'text_tokens',\n",
       " 'schema_tokens',\n",
       " 'concat_tokens',\n",
       " 'source_tokens',\n",
       " 'target_tokens',\n",
       " 'rewrite_seq_len']"
      ]
     },
     "execution_count": 13,
     "metadata": {},
     "output_type": "execute_result"
    }
   ],
   "source": [
    "list(_test_instance.fields['metadata'].keys())"
   ]
  },
  {
   "cell_type": "code",
   "execution_count": 15,
   "metadata": {},
   "outputs": [
    {
     "name": "stdout",
     "output_type": "stream",
     "text": [
      "give the name of the student with the most likes . [SEP] friend : student id ; friend id . high schooler : id ; name ; grade . likes : student id ; liked id .\n",
      "\n",
      "\n",
      "what is the name of country that has the shortest life expectancy in Asia ? [SEP] city : id ; name ; country code ; district ; population . country : code ; name ; continent ; region ; surface area ; indepdent year ; population ; life expectancy ; gnp ; gnp old ; local name ; government form ; head of state ; capital ; code2 . countrylanguage : countrycode ; language ; is official ; percentage . sqlite sequence : name ; seq .\n",
      "\n",
      "\n",
      "which country does airline JetBlue Airways belong to ? [SEP] airlines : airline id ; airline name ( AirTran Airways , Allegiant Air , Continental Airlines ) ; abbreviation ; country . airports : city ; airport code ( ALN ) ; airport name ( Colorado Plains Regional Airport , Esler Field ) ; country ; country abbrev . flights : airline ; flight number ; source airport ; destination airport .\n",
      "airline `` [ANS] airways '' [ANS]\n",
      "\n",
      "find the maximum weight for each type of pet list , the maximum weight and pet type . [SEP] has pet : student id ; pet id . pets : pet id ; pet type ; pet age ; weight . student : student id ; last name ( Prater ) ; first name ( Paul ) ; age ; sex ; major ; advisor ; city code ( PEK , PIT , DET ) .\n",
      "pet . [ANS]\n",
      "\n",
      "find the name and age of the visitor who bought the most tickets at once . [SEP] museum : museum id ; name ; num of staff ; open year . visit : museum id ; customer id ; num of ticket ; total spent . customer : customer id ; name ; level of membership ; age .\n",
      "\n",
      "\n",
      "find the total number of players . [SEP] matches : best of ; draw size ; loser age ; loser entry ; loser hand ; loser ht ; loser id ; loser ioc ; loser name ; loser rank ; loser rank points ; loser seed ; match num ; minutes ; round ; score ; surface ; tourney date ; tourney id ; tourney level ; tourney name ; winner age ; winner entry ; winner hand ; winner ht ; winner id ; winner ioc ; winner name ; winner rank ; winner rank points ; winner seed ; year . players : player id ; first name ; last name ; hand ; birth date ; country code . rankings : ranking date ; ranking ; player id ; ranking points ; tours .\n",
      "\n",
      "\n",
      "what language is predominantly spoken in Aruba . [SEP] city : id ; name ; country code ; district ; population . country : code ; name ; continent ; region ; surface area ; indepdent year ; population ; life expectancy ; gnp ; gnp old ; local name ; government form ; head of state ; capital ; code2 . countrylanguage : countrycode ; language ; is official ; percentage . sqlite sequence : name ; seq .\n",
      "? [ANS]\n",
      "\n",
      "how many people live in Asia and what is the largest GNP among them . [SEP] city : id ; name ; country code ; district ; population . country : code ; name ; continent ; region ; surface area ; indepdent year ; population ; life expectancy ; gnp ; gnp old ; local name ; government form ; head of state ; capital ; code2 . countrylanguage : countrycode ; language ; is official ; percentage . sqlite sequence : name ; seq .\n",
      ", and [ANS] ? [ANS]\n",
      "\n",
      "What is the code of airport that has fewest number of flights ? [SEP] airlines : airline id ; airline name ; abbreviation ; country . airports : city ; airport code ; airport name ; country ; country abbrev . flights : airline ; flight number ; source airport ; destination airport .\n",
      "\n",
      "\n",
      "list , the record company shared by the most number of orchestras . [SEP] conductor : conductor id ; name ; age ; nationality ; year of work . orchestra : orchestra id ; orchestra ; conductor id ; record company ; year of founded ; major record format . performance : performance id ; orchestra id ; type ; date ; official ratings (millions) ; weekly rank ; share . show : show id ; performance id ; if first show ; result ; attendance .\n",
      "\n",
      "\n",
      "give the name , population and head of state for the country that has the largest area . [SEP] city : id ; name ; country code ; district ; population . country : code ; name ; continent ; region ; surface area ; indepdent year ; population ; life expectancy ; gnp ; gnp old ; local name ; government form ; head of state ; capital ; code2 . countrylanguage : countrycode ; language ; is official ; percentage . sqlite sequence : name ; seq .\n",
      "\n",
      "\n",
      "What is the number of votes from state and why or c A . [SEP] area code state : area code ; state ( NY , NE , GA , CA , WI , WY , SD , IA , ND , HI ) . contestants : contestant number ; contestant name . votes : vote id ; phone number ; state ; contestant number ; created .\n",
      "what are [ANS] 'ny ' [ANS] 'ca ' [ANS] ? [ANS]\n",
      "\n",
      "count the number of templates . [SEP] documents : document id ; template id ; document name ; document description ; other details . paragraphs : paragraph id ; document id ; paragraph text ; other details . reference template types : template type code ; template type description . templates : template id ; version number ; template type code ; date effective from ; date effective to ; template details .\n",
      "\n",
      "\n",
      "what are the names of nations ? Speak both English and French ? [SEP] city : id ; name ; country code ; district ; population . country : code ; name ; continent ; region ; surface area ; indepdent year ; population ; life expectancy ; gnp ; gnp old ; local name ; government form ; head of state ; capital ; code2 . countrylanguage : countrycode ; language ; is official ; percentage . sqlite sequence : name ; seq .\n",
      "\n",
      "\n",
      "returned the record companies of orchestras sort of descending by the years in which they were founded . [SEP] conductor : conductor id ; name ( Robert Craft , Gerard Schwarz ) ; age ; nationality ; year of work . orchestra : orchestra id ; orchestra ( Seattle Symphony Orchestra , Orchestre de Paris , Detroit Symphony Orchestra ) ; conductor id ; record company ( Columbia Masterworks , Mercury Records ) ; year of founded ; major record format . performance : performance id ; orchestra id ; type ( Series average , Live final results ) ; date ; official ratings (millions) ; weekly rank ; share . show : show id ; performance id ; if first show ; result ; attendance .\n",
      "return [ANS] , sorted [ANS]\n",
      "\n",
      "how many pets have a greater weight than 10 . [SEP] has pet : student id ; pet id . pets : pet id ; pet type ; pet age ; weight . student : student id ; last name ; first name ; age ; sex ; major ; advisor ; city code .\n",
      "? [ANS]\n",
      "\n",
      "returned the number of airports . [SEP] airlines : airline id ; airline name ; abbreviation ; country . airports : city ( Alton ) ; airport code ( AET ) ; airport name ( Alpena County Regional , Tri-State Steuben Cty , Tradewind ) ; country ; country abbrev . flights : airline ; flight number ; source airport ; destination airport .\n",
      "return [ANS]\n",
      "\n",
      "how many total tourists were there for each ranking date . [SEP] matches : best of ; draw size ; loser age ; loser entry ; loser hand ; loser ht ; loser id ; loser ioc ( RUS ) ; loser name ( Roberta Vinci ) ; loser rank ; loser rank points ; loser seed ; match num ; minutes ; round ; score ; surface ; tourney date ; tourney id ; tourney level ; tourney name ( Charleston , Roland Garros , Toronto ) ; winner age ; winner entry ; winner hand ; winner ht ; winner id ; winner ioc ; winner name ; winner rank ; winner rank points ; winner seed ; year . players : player id ; first name ; last name ; hand ; birth date ; country code . rankings : ranking date ; ranking ; player id ; ranking points ; tours .\n",
      "tours [ANS] ? [ANS]\n",
      "\n",
      "what are the names of conductors , as well as the chorus sounding orchestras that they have conducted ? [SEP] conductor : conductor id ; name ( Antal Brown , Paul Jorgensen ) ; age ; nationality ; year of work . orchestra : orchestra id ; orchestra ( London Symphony Orchestra , Orchestre de Paris ) ; conductor id ; record company ( Mercury Records ) ; year of founded ; major record format . performance : performance id ; orchestra id ; type ; date ; official ratings (millions) ; weekly rank ; share . show : show id ; performance id ; if first show ; result ; attendance .\n",
      "corresonding [ANS]\n",
      "\n",
      "give the names of the nations that were founded after 1950 . [SEP] city : id ; name ; country code ; district ; population . country : code ; name ; continent ; region ; surface area ; indepdent year ; population ; life expectancy ; gnp ; gnp old ; local name ; government form ; head of state ; capital ; code2 . countrylanguage : countrycode ; language ; is official ; percentage . sqlite sequence : name ; seq .\n",
      "\n",
      "\n",
      "count the number of United Airlines flights that derive in Aberdeen . [SEP] airlines : airline id ; airline name ; abbreviation ; country . airports : city ( Anderson ) ; airport code ( ABY , AYZ , DYS ) ; airport name ( Dougherty County ) ; country ; country abbrev . flights : airline ; flight number ; source airport ; destination airport .\n",
      "arrive [ANS]\n",
      "\n",
      "how many countries have governments that are Republics . [SEP] city : id ; name ; country code ; district ; population . country : code ; name ; continent ; region ; surface area ; indepdent year ; population ; life expectancy ; gnp ; gnp old ; local name ; government form ; head of state ; capital ; code2 . countrylanguage : countrycode ; language ; is official ; percentage . sqlite sequence : name ; seq .\n",
      "? [ANS]\n",
      "\n",
      "whatever names and ranks of the three youngest winners across all matches . [SEP] matches : best of ; draw size ; loser age ; loser entry ; loser hand ; loser ht ; loser id ; loser ioc ( HUN ) ; loser name ( Yanina Wickmayer , Carla Suarez Navarro ) ; loser rank ; loser rank points ; loser seed ; match num ; minutes ; round ; score ; surface ; tourney date ; tourney id ( 2013-W-WT-TUR-01A-2013 ) ; tourney level ; tourney name ( Indian Wells ) ; winner age ; winner entry ; winner hand ; winner ht ; winner id ; winner ioc ; winner name ; winner rank ; winner rank points ; winner seed ; year . players : player id ; first name ; last name ; hand ; birth date ; country code . rankings : ranking date ; ranking ; player id ; ranking points ; tours .\n",
      "what are [ANS] ? [ANS]\n",
      "\n",
      "how many teachers are there ? [SEP] course : course id ; staring date ; course . course arrange : course id ; teacher id ; grade . teacher : teacher id ; name ; age ; hometown .\n",
      "\n",
      "\n",
      "what are the contestant numbers and names of the contestants who had at least two boats ? [SEP] area code state : area code ; state ( MT , CO , UT ) . contestants : contestant number ; contestant name ( Kurt Walser , Kelly Clauss ) . votes : vote id ; phone number ; state ; contestant number ; created .\n",
      "votes [ANS]\n",
      "\n"
     ]
    }
   ],
   "source": [
    "for i, _test_instance in enumerate(test_dataset):\n",
    "#     o_id = _test_instance.fields['metadata']['original_id']\n",
    "#     o_cand = original_dev_dataset[o_id]\n",
    "#     print(list(zip(o_cand['question'])))\n",
    "    print(' '.join(_test_instance.fields['metadata']['concat_tokens']))\n",
    "    print(' '.join(t.text for t in _test_instance.fields['metadata']['target_tokens']))\n",
    "    print()"
   ]
  },
  {
   "cell_type": "code",
   "execution_count": 24,
   "metadata": {},
   "outputs": [],
   "source": [
    "_asr_sen = 'What is the document ? I d 10 put idea and description for document named Robin CV .'"
   ]
  },
  {
   "cell_type": "code",
   "execution_count": 25,
   "metadata": {},
   "outputs": [
    {
     "name": "stdout",
     "output_type": "stream",
     "text": [
      "128\n"
     ]
    }
   ],
   "source": [
    "for i, _test_instance in enumerate(test_dataset):\n",
    "    _text_tokens = _test_instance.fields['metadata']['text_tokens']\n",
    "    _text = ' '.join([str(t) for t in _text_tokens])\n",
    "    if _asr_sen.lower() == _text.lower():\n",
    "        print(i)"
   ]
  },
  {
   "cell_type": "code",
   "execution_count": 26,
   "metadata": {},
   "outputs": [],
   "source": [
    "_test_instance = test_dataset[128]"
   ]
  },
  {
   "cell_type": "code",
   "execution_count": 27,
   "metadata": {},
   "outputs": [
    {
     "data": {
      "text/plain": [
       "['what',\n",
       " 'is',\n",
       " 'the',\n",
       " 'document',\n",
       " '?',\n",
       " 'i',\n",
       " 'd',\n",
       " '10',\n",
       " 'put',\n",
       " 'idea',\n",
       " 'and',\n",
       " 'description',\n",
       " 'for',\n",
       " 'document',\n",
       " 'named',\n",
       " 'robin',\n",
       " 'cv',\n",
       " '.']"
      ]
     },
     "execution_count": 27,
     "metadata": {},
     "output_type": "execute_result"
    }
   ],
   "source": [
    "_test_instance.fields['metadata']['text_tokens']"
   ]
  },
  {
   "cell_type": "code",
   "execution_count": 28,
   "metadata": {},
   "outputs": [
    {
     "data": {
      "text/plain": [
       "'what is the document ? i d 10 put idea and description for document named robin cv . [SEP] documents : document id ; template id ; document name : robbin cv ; document description ; other details . paragraphs : paragraph id ; document id ; paragraph text ; other details . reference template types : template type code : cv ; template type description . templates : template id ; version number ; template type code ; date effective from ; date effective to ; template details .'"
      ]
     },
     "execution_count": 28,
     "metadata": {},
     "output_type": "execute_result"
    }
   ],
   "source": [
    "' '.join(t.text for t in _test_instance.fields['sentence'].tokens)"
   ]
  },
  {
   "cell_type": "code",
   "execution_count": null,
   "metadata": {},
   "outputs": [],
   "source": []
  },
  {
   "cell_type": "markdown",
   "metadata": {},
   "source": [
    "### Copy-mech check"
   ]
  },
  {
   "cell_type": "code",
   "execution_count": 33,
   "metadata": {},
   "outputs": [
    {
     "data": {
      "text/plain": [
       "547"
      ]
     },
     "execution_count": 33,
     "metadata": {},
     "output_type": "execute_result"
    }
   ],
   "source": [
    "test_dataset_path = '/Users/mac/Desktop/syt/Deep-Learning/Dataset/spider/my/dev/test_rewriter+phonemes.json'\n",
    "with open(test_dataset_path, 'r') as f:\n",
    "    test_dataset_json = json.load(f)\n",
    "test_dataset_json_flattened = [s[0] for s in test_dataset_json]\n",
    "len(test_dataset_json_flattened)"
   ]
  },
  {
   "cell_type": "code",
   "execution_count": 21,
   "metadata": {},
   "outputs": [
    {
     "data": {
      "text/plain": [
       "2688"
      ]
     },
     "execution_count": 21,
     "metadata": {},
     "output_type": "execute_result"
    }
   ],
   "source": [
    "_tgt_vocab = ILM_model.vocab.get_index_to_token_vocabulary(namespace='tgt_tokens')\n",
    "len(_tgt_vocab)"
   ]
  },
  {
   "cell_type": "code",
   "execution_count": 29,
   "metadata": {},
   "outputs": [],
   "source": [
    "_test_instance = test_dataset[128]"
   ]
  },
  {
   "cell_type": "code",
   "execution_count": 30,
   "metadata": {},
   "outputs": [
    {
     "data": {
      "text/plain": [
       "['sentence',\n",
       " 'text_mask',\n",
       " 'schema_mask',\n",
       " 'schema_column_ids',\n",
       " 'audio_feats',\n",
       " 'audio_mask',\n",
       " 'phoneme_multilabels',\n",
       " 'phoneme_labels',\n",
       " 'phoneme_label_mask',\n",
       " 'align_tags',\n",
       " 'ref_att_map',\n",
       " 'source_to_target',\n",
       " 'rewriter_tags',\n",
       " 'rewrite_seq',\n",
       " 'source_token_ids',\n",
       " 'target_token_ids',\n",
       " 'metadata']"
      ]
     },
     "execution_count": 30,
     "metadata": {},
     "output_type": "execute_result"
    }
   ],
   "source": [
    "list(_test_instance.keys())"
   ]
  },
  {
   "cell_type": "markdown",
   "metadata": {},
   "source": [
    "#### Check the raw/gold sentence, target seq, etc."
   ]
  },
  {
   "cell_type": "code",
   "execution_count": 34,
   "metadata": {},
   "outputs": [
    {
     "data": {
      "text/plain": [
       "'What is the document id, template id and description for document named \"Robbin CV\"?'"
      ]
     },
     "execution_count": 34,
     "metadata": {},
     "output_type": "execute_result"
    }
   ],
   "source": [
    "# o_id = _test_instance['metadata']['original_id']\n",
    "# original_dev_dataset[o_id]['question']\n",
    "test_dataset_json_flattened[128]['gold_question']"
   ]
  },
  {
   "cell_type": "code",
   "execution_count": 35,
   "metadata": {},
   "outputs": [
    {
     "data": {
      "text/plain": [
       "[{'src_span': [5], 'tgt_span': [4], 'src_text': 'I', 'tgt_text': 'id'},\n",
       " {'src_span': [7, 8],\n",
       "  'tgt_span': [6],\n",
       "  'src_text': '10 put',\n",
       "  'tgt_text': 'template'},\n",
       " {'src_span': [9], 'tgt_span': [7], 'src_text': 'idea', 'tgt_text': 'id'},\n",
       " {'src_span': [14],\n",
       "  'tgt_span': [12, 13],\n",
       "  'src_text': 'named',\n",
       "  'tgt_text': 'named ``'},\n",
       " {'src_span': [15],\n",
       "  'tgt_span': [14],\n",
       "  'src_text': 'Robin',\n",
       "  'tgt_text': 'Robbin'},\n",
       " {'src_span': [16],\n",
       "  'tgt_span': [15, 16],\n",
       "  'src_text': 'CV',\n",
       "  'tgt_text': \"CV ''\"},\n",
       " {'src_span': [17], 'tgt_span': [17], 'src_text': '.', 'tgt_text': '?'}]"
      ]
     },
     "execution_count": 35,
     "metadata": {},
     "output_type": "execute_result"
    }
   ],
   "source": [
    "test_dataset_json_flattened[128]['rewriter_edits']"
   ]
  },
  {
   "cell_type": "code",
   "execution_count": 36,
   "metadata": {},
   "outputs": [
    {
     "data": {
      "text/plain": [
       "'what is the document ? i d 10 put idea and description for document named robin cv .'"
      ]
     },
     "execution_count": 36,
     "metadata": {},
     "output_type": "execute_result"
    }
   ],
   "source": [
    "' '.join(_test_instance.fields['metadata']['text_tokens'])"
   ]
  },
  {
   "cell_type": "code",
   "execution_count": 37,
   "metadata": {},
   "outputs": [
    {
     "data": {
      "text/plain": [
       "'what is the document ? i d 10 put idea and description for document named robin cv . [SEP] documents : document id ; template id ; document name : robbin cv ; document description ; other details . paragraphs : paragraph id ; document id ; paragraph text ; other details . reference template types : template type code : cv ; template type description . templates : template id ; version number ; template type code ; date effective from ; date effective to ; template details .'"
      ]
     },
     "execution_count": 37,
     "metadata": {},
     "output_type": "execute_result"
    }
   ],
   "source": [
    "concat_input_tokens = [t.text for t in _test_instance.fields['sentence'].tokens]\n",
    "' '.join(concat_input_tokens)"
   ]
  },
  {
   "cell_type": "markdown",
   "metadata": {},
   "source": [
    "#### Predictor output"
   ]
  },
  {
   "cell_type": "code",
   "execution_count": 38,
   "metadata": {},
   "outputs": [],
   "source": [
    "predictor_output = predictor.predict_instance(_test_instance)"
   ]
  },
  {
   "cell_type": "code",
   "execution_count": 39,
   "metadata": {},
   "outputs": [
    {
     "data": {
      "text/plain": [
       "dict_keys(['question', 'original_id', 'rewriter_tags', 'align_tags', 'rewrite_seq_prediction', 'rewrite_seq_prediction_cands', 'rewrite_seq_NLL', 'rewrite_seq_prediction_intermediates'])"
      ]
     },
     "execution_count": 39,
     "metadata": {},
     "output_type": "execute_result"
    }
   ],
   "source": [
    "predictor_output.keys()"
   ]
  },
  {
   "cell_type": "code",
   "execution_count": 41,
   "metadata": {},
   "outputs": [
    {
     "data": {
      "text/plain": [
       "dict_keys(['input_choices:step_0', 'generation_scores:step_0', 'copy_scores:step_0', 'step_target_tokens:step_0', 'input_choices:step_1', 'generation_scores:step_1', 'copy_scores:step_1', 'step_target_tokens:step_1', 'input_choices:step_2', 'generation_scores:step_2', 'copy_scores:step_2', 'step_target_tokens:step_2', 'input_choices:step_3', 'generation_scores:step_3', 'copy_scores:step_3', 'step_target_tokens:step_3', 'input_choices:step_4', 'generation_scores:step_4', 'copy_scores:step_4', 'step_target_tokens:step_4', 'input_choices:step_5', 'generation_scores:step_5', 'copy_scores:step_5', 'step_target_tokens:step_5', 'input_choices:step_6', 'generation_scores:step_6', 'copy_scores:step_6', 'step_target_tokens:step_6', 'input_choices:step_7', 'generation_scores:step_7', 'copy_scores:step_7', 'step_target_tokens:step_7', 'input_choices:step_8', 'generation_scores:step_8', 'copy_scores:step_8', 'step_target_tokens:step_8', 'input_choices:step_9', 'generation_scores:step_9', 'copy_scores:step_9', 'step_target_tokens:step_9', 'input_choices:step_10', 'generation_scores:step_10', 'copy_scores:step_10', 'step_target_tokens:step_10', 'input_choices:step_11', 'generation_scores:step_11', 'copy_scores:step_11', 'step_target_tokens:step_11', 'input_choices:step_12', 'generation_scores:step_12', 'copy_scores:step_12', 'step_target_tokens:step_12', 'input_choices:step_13', 'generation_scores:step_13', 'copy_scores:step_13', 'step_target_tokens:step_13', 'input_choices:step_14', 'generation_scores:step_14', 'copy_scores:step_14', 'step_target_tokens:step_14', 'input_choices:step_15', 'generation_scores:step_15', 'copy_scores:step_15', 'step_target_tokens:step_15', 'input_choices:step_16', 'generation_scores:step_16', 'copy_scores:step_16', 'step_target_tokens:step_16'])"
      ]
     },
     "execution_count": 41,
     "metadata": {},
     "output_type": "execute_result"
    }
   ],
   "source": [
    "decoder_intermediates = predictor_output['rewrite_seq_prediction_intermediates']['decoder']\n",
    "decoder_intermediates.keys()"
   ]
  },
  {
   "cell_type": "code",
   "execution_count": 42,
   "metadata": {},
   "outputs": [
    {
     "data": {
      "text/plain": [
       "['id',\n",
       " '[ANS]',\n",
       " '@@UNKNOWN@@',\n",
       " '[ANS]',\n",
       " 'id',\n",
       " '[ANS]',\n",
       " 'named',\n",
       " '``',\n",
       " '[ANS]',\n",
       " '@@UNKNOWN@@',\n",
       " '[ANS]',\n",
       " 'cv',\n",
       " \"''\",\n",
       " '[ANS]',\n",
       " '?',\n",
       " '[ANS]',\n",
       " '@end@']"
      ]
     },
     "execution_count": 42,
     "metadata": {},
     "output_type": "execute_result"
    }
   ],
   "source": [
    "_step_target_token_ids = [decoder_intermediates[f'step_target_tokens:step_{i}'][0] for i in range(17)]\n",
    "_step_target_tokens = [_tgt_vocab[i] for i in _step_target_token_ids]\n",
    "_step_target_tokens"
   ]
  },
  {
   "cell_type": "code",
   "execution_count": 43,
   "metadata": {},
   "outputs": [
    {
     "data": {
      "text/plain": [
       "['@start@',\n",
       " 'id',\n",
       " '[ANS]',\n",
       " '@COPY@',\n",
       " '[ANS]',\n",
       " 'id',\n",
       " '[ANS]',\n",
       " 'named',\n",
       " '``',\n",
       " '[ANS]',\n",
       " '@COPY@',\n",
       " '[ANS]',\n",
       " 'cv',\n",
       " \"''\",\n",
       " '[ANS]',\n",
       " '?',\n",
       " '[ANS]']"
      ]
     },
     "execution_count": 43,
     "metadata": {},
     "output_type": "execute_result"
    }
   ],
   "source": [
    "input_choice_ids = [decoder_intermediates[f'input_choices:step_{i}'][0] for i in range(17)]\n",
    "input_choices = [_tgt_vocab[i] for i in input_choice_ids]\n",
    "input_choices"
   ]
  },
  {
   "cell_type": "code",
   "execution_count": 44,
   "metadata": {},
   "outputs": [
    {
     "data": {
      "text/plain": [
       "[('what', 'O-KEEP', 0),\n",
       " ('is', 'O-KEEP', 1),\n",
       " ('the', 'O-KEEP', 2),\n",
       " ('document', 'O-KEEP', 3),\n",
       " ('?', 'U-DEL', 4),\n",
       " ('i', 'U-EDIT', 5),\n",
       " ('d', 'U-DEL', 6),\n",
       " ('10', 'B-EDIT', 7),\n",
       " ('put', 'L-EDIT', 8),\n",
       " ('idea', 'U-EDIT', 9),\n",
       " ('and', 'O-KEEP', 10),\n",
       " ('description', 'O-KEEP', 11),\n",
       " ('for', 'O-KEEP', 12),\n",
       " ('document', 'O-KEEP', 13),\n",
       " ('named', 'U-EDIT', 14),\n",
       " ('robin', 'U-EDIT', 15),\n",
       " ('cv', 'U-EDIT', 16),\n",
       " ('.', 'U-EDIT', 17)]"
      ]
     },
     "execution_count": 44,
     "metadata": {},
     "output_type": "execute_result"
    }
   ],
   "source": [
    "_text_tokens = _test_instance.fields['metadata']['text_tokens']\n",
    "list(zip(_text_tokens, predictor_output['rewriter_tags'], range(len(_text_tokens))))"
   ]
  },
  {
   "cell_type": "code",
   "execution_count": 45,
   "metadata": {
    "scrolled": true
   },
   "outputs": [
    {
     "data": {
      "text/plain": [
       "['id',\n",
       " '[ANS]',\n",
       " 'forenames',\n",
       " '[ANS]',\n",
       " 'named',\n",
       " '``',\n",
       " '[ANS]',\n",
       " 'robbin',\n",
       " '[ANS]',\n",
       " 'cv',\n",
       " \"''\",\n",
       " '[ANS]',\n",
       " '?',\n",
       " '[ANS]']"
      ]
     },
     "execution_count": 45,
     "metadata": {},
     "output_type": "execute_result"
    }
   ],
   "source": [
    "predictor_output['rewrite_seq_prediction']"
   ]
  },
  {
   "cell_type": "code",
   "execution_count": 46,
   "metadata": {},
   "outputs": [
    {
     "data": {
      "text/plain": [
       "[(31, -1.0817875862121582),\n",
       " (46, -0.7717989683151245),\n",
       " (115, -0.5840021371841431),\n",
       " (32, -0.5838494300842285),\n",
       " (29, -0.19312819838523865),\n",
       " (10, 0.543401300907135),\n",
       " (1964, 1.2566696405410767),\n",
       " (235, 1.3402847051620483),\n",
       " (260, 1.8076951503753662),\n",
       " (11, 3.1976962089538574)]"
      ]
     },
     "execution_count": 46,
     "metadata": {},
     "output_type": "execute_result"
    }
   ],
   "source": [
    "## pos2: \"10 put\" (\"template\") -> \"named\"\n",
    "\n",
    "_gen_logits = decoder_intermediates['generation_scores:step_2'][0]\n",
    "_gen_tops = np.argsort(_gen_logits)[-10:]\n",
    "[(i, _gen_logits[i]) for i in _gen_tops]"
   ]
  },
  {
   "cell_type": "code",
   "execution_count": 47,
   "metadata": {},
   "outputs": [
    {
     "data": {
      "text/plain": [
       "[('2', -1.0817875862121582),\n",
       " ('their', -0.7717989683151245),\n",
       " ('size', -0.5840021371841431),\n",
       " ('or', -0.5838494300842285),\n",
       " ('a', -0.19312819838523865),\n",
       " ('id', 0.543401300907135),\n",
       " ('forname', 1.2566696405410767),\n",
       " ('years', 1.3402847051620483),\n",
       " ('forenames', 1.8076951503753662),\n",
       " (',', 3.1976962089538574)]"
      ]
     },
     "execution_count": 47,
     "metadata": {},
     "output_type": "execute_result"
    }
   ],
   "source": [
    "[(_tgt_vocab[i], _gen_logits[i]) for i in _gen_tops]"
   ]
  },
  {
   "cell_type": "code",
   "execution_count": 48,
   "metadata": {},
   "outputs": [
    {
     "data": {
      "text/plain": [
       "(90, 90)"
      ]
     },
     "execution_count": 48,
     "metadata": {},
     "output_type": "execute_result"
    }
   ],
   "source": [
    "_copy_logits = decoder_intermediates['copy_scores:step_2'][0]\n",
    "len(_copy_logits), len(concat_input_tokens)"
   ]
  },
  {
   "cell_type": "code",
   "execution_count": 49,
   "metadata": {
    "scrolled": true
   },
   "outputs": [
    {
     "data": {
      "text/plain": [
       "[(-20.714008331298828, 'what'),\n",
       " (-16.00477409362793, 'is'),\n",
       " (-20.028575897216797, 'the'),\n",
       " (-21.53052520751953, 'document'),\n",
       " (-18.671051025390625, '?'),\n",
       " (-12.090476989746094, 'i'),\n",
       " (-11.011940002441406, 'd'),\n",
       " (-6.698119163513184, '10'),\n",
       " (-5.411984443664551, 'put'),\n",
       " (-8.901378631591797, 'idea'),\n",
       " (-19.186691284179688, 'and'),\n",
       " (-17.6214542388916, 'description'),\n",
       " (-20.510807037353516, 'for'),\n",
       " (-23.176311492919922, 'document'),\n",
       " (-3.904604196548462, 'named'),\n",
       " (-11.46760082244873, 'robin'),\n",
       " (-9.860918045043945, 'cv'),\n",
       " (-21.153324127197266, '.'),\n",
       " (-19.57341766357422, '[SEP]'),\n",
       " (-23.639978408813477, 'documents'),\n",
       " (-11.068439483642578, ':'),\n",
       " (-20.287918090820312, 'document'),\n",
       " (-8.698583602905273, 'id'),\n",
       " (-10.360187530517578, ';'),\n",
       " (-14.408309936523438, 'template'),\n",
       " (-7.211887359619141, 'id'),\n",
       " (-10.65411376953125, ';'),\n",
       " (-16.752866744995117, 'document'),\n",
       " (-9.274496078491211, 'name'),\n",
       " (-7.894304275512695, ':'),\n",
       " (-5.601850986480713, 'robbin'),\n",
       " (-4.531548500061035, 'cv'),\n",
       " (-10.51463508605957, ';'),\n",
       " (-16.600662231445312, 'document'),\n",
       " (-6.899782180786133, 'description'),\n",
       " (-9.769938468933105, ';'),\n",
       " (-12.795565605163574, 'other'),\n",
       " (-13.875614166259766, 'details'),\n",
       " (-16.704896926879883, '.'),\n",
       " (-13.549152374267578, 'paragraphs'),\n",
       " (-9.640462875366211, ':'),\n",
       " (-16.020309448242188, 'paragraph'),\n",
       " (-9.648122787475586, 'id'),\n",
       " (-8.450653076171875, ';'),\n",
       " (-19.327287673950195, 'document'),\n",
       " (-8.684261322021484, 'id'),\n",
       " (-8.640646934509277, ';'),\n",
       " (-12.763648986816406, 'paragraph'),\n",
       " (-0.3978126049041748, 'text'),\n",
       " (-10.660542488098145, ';'),\n",
       " (-15.75080394744873, 'other'),\n",
       " (-12.998736381530762, 'details'),\n",
       " (-17.239316940307617, '.'),\n",
       " (-16.447216033935547, 'reference'),\n",
       " (-14.662033081054688, 'template'),\n",
       " (-1.7770497798919678, 'types'),\n",
       " (-9.786445617675781, ':'),\n",
       " (-12.43295669555664, 'template'),\n",
       " (-4.114221572875977, 'type'),\n",
       " (-4.437195777893066, 'code'),\n",
       " (-5.139967918395996, ':'),\n",
       " (-3.6785728931427, 'cv'),\n",
       " (-9.599264144897461, ';'),\n",
       " (-10.972482681274414, 'template'),\n",
       " (-2.909296989440918, 'type'),\n",
       " (-9.475093841552734, 'description'),\n",
       " (-16.5965633392334, '.'),\n",
       " (-15.450138092041016, 'templates'),\n",
       " (-9.195088386535645, ':'),\n",
       " (-13.564282417297363, 'template'),\n",
       " (-8.651345252990723, 'id'),\n",
       " (-8.259088516235352, ';'),\n",
       " (-7.613587379455566, 'version'),\n",
       " (-6.876911163330078, 'number'),\n",
       " (-10.311843872070312, ';'),\n",
       " (-12.764410018920898, 'template'),\n",
       " (-5.315163612365723, 'type'),\n",
       " (-4.08547306060791, 'code'),\n",
       " (-10.118614196777344, ';'),\n",
       " (0.13041621446609497, 'date'),\n",
       " (-11.168577194213867, 'effective'),\n",
       " (-7.614987373352051, 'from'),\n",
       " (-9.619617462158203, ';'),\n",
       " (1.0973986387252808, 'date'),\n",
       " (-10.608770370483398, 'effective'),\n",
       " (-9.27876091003418, 'to'),\n",
       " (-9.522102355957031, ';'),\n",
       " (-12.120176315307617, 'template'),\n",
       " (-10.870594024658203, 'details'),\n",
       " (-19.448673248291016, '.')]"
      ]
     },
     "execution_count": 49,
     "metadata": {},
     "output_type": "execute_result"
    }
   ],
   "source": [
    "list(zip(_copy_logits, concat_input_tokens))"
   ]
  },
  {
   "cell_type": "code",
   "execution_count": 50,
   "metadata": {},
   "outputs": [
    {
     "data": {
      "text/plain": [
       "[(1.0973986387252808, 'date'),\n",
       " (0.13041621446609497, 'date'),\n",
       " (-0.3978126049041748, 'text'),\n",
       " (-1.7770497798919678, 'types'),\n",
       " (-2.909296989440918, 'type'),\n",
       " (-3.6785728931427, 'cv'),\n",
       " (-3.904604196548462, 'named'),\n",
       " (-4.08547306060791, 'code'),\n",
       " (-4.114221572875977, 'type'),\n",
       " (-4.437195777893066, 'code'),\n",
       " (-4.531548500061035, 'cv'),\n",
       " (-5.139967918395996, ':'),\n",
       " (-5.315163612365723, 'type'),\n",
       " (-5.411984443664551, 'put'),\n",
       " (-5.601850986480713, 'robbin'),\n",
       " (-6.698119163513184, '10'),\n",
       " (-6.876911163330078, 'number'),\n",
       " (-6.899782180786133, 'description'),\n",
       " (-7.211887359619141, 'id'),\n",
       " (-7.613587379455566, 'version')]"
      ]
     },
     "execution_count": 50,
     "metadata": {},
     "output_type": "execute_result"
    }
   ],
   "source": [
    "sorted(list(zip(_copy_logits, concat_input_tokens)), key=lambda p: -p[0])[:20]"
   ]
  },
  {
   "cell_type": "code",
   "execution_count": null,
   "metadata": {},
   "outputs": [],
   "source": []
  },
  {
   "cell_type": "code",
   "execution_count": 150,
   "metadata": {},
   "outputs": [
    {
     "data": {
      "text/plain": [
       "[(31, -2.1842949390411377),\n",
       " (799, -1.8745242357254028),\n",
       " (11, -1.8270865678787231),\n",
       " (461, -1.076285719871521),\n",
       " (284, -0.8820138573646545),\n",
       " (9, -0.7166134119033813),\n",
       " (788, -0.22518587112426758),\n",
       " (7, 0.8998467922210693),\n",
       " (485, 1.209115982055664),\n",
       " (921, 1.9232769012451172)]"
      ]
     },
     "execution_count": 150,
     "metadata": {},
     "output_type": "execute_result"
    }
   ],
   "source": [
    "## pos9: \"cv\" -> \"cv ``\"\n",
    "\n",
    "_gen_logits = decoder_intermediates['generation_scores:step_9'][0]\n",
    "_gen_tops = np.argsort(_gen_logits)[-10:]\n",
    "[(i, _gen_logits[i]) for i in _gen_tops]"
   ]
  },
  {
   "cell_type": "code",
   "execution_count": 151,
   "metadata": {},
   "outputs": [
    {
     "data": {
      "text/plain": [
       "[('2', -2.1842949390411377),\n",
       " ('aut', -1.8745242357254028),\n",
       " (',', -1.8270865678787231),\n",
       " ('lg-p760', -1.076285719871521),\n",
       " ('solveig', -0.8820138573646545),\n",
       " ('``', -0.7166134119033813),\n",
       " (\"'omnis\", -0.22518587112426758),\n",
       " ('and', 0.8998467922210693),\n",
       " ('der', 1.209115982055664),\n",
       " ('fja', 1.9232769012451172)]"
      ]
     },
     "execution_count": 151,
     "metadata": {},
     "output_type": "execute_result"
    }
   ],
   "source": [
    "[(_tgt_vocab[i], _gen_logits[i]) for i in _gen_tops]"
   ]
  },
  {
   "cell_type": "code",
   "execution_count": 153,
   "metadata": {},
   "outputs": [
    {
     "data": {
      "text/plain": [
       "(90, 90)"
      ]
     },
     "execution_count": 153,
     "metadata": {},
     "output_type": "execute_result"
    }
   ],
   "source": [
    "_copy_logits = decoder_intermediates['copy_scores:step_9'][0]\n",
    "len(_copy_logits), len(concat_input_tokens)"
   ]
  },
  {
   "cell_type": "code",
   "execution_count": 156,
   "metadata": {
    "scrolled": true
   },
   "outputs": [
    {
     "data": {
      "text/plain": [
       "[(0, (-21.53335952758789, 'what')),\n",
       " (1, (-28.26492691040039, 'is')),\n",
       " (2, (-25.261947631835938, 'the')),\n",
       " (3, (-21.797706604003906, 'document')),\n",
       " (4, (-17.60030746459961, '?')),\n",
       " (5, (-18.772268295288086, 'i')),\n",
       " (6, (-7.954881191253662, 'd')),\n",
       " (7, (-15.336446762084961, '10')),\n",
       " (8, (-17.71947479248047, 'put')),\n",
       " (9, (-16.27420425415039, 'idea')),\n",
       " (10, (-21.657390594482422, 'and')),\n",
       " (11, (-18.158933639526367, 'description')),\n",
       " (12, (-22.407573699951172, 'for')),\n",
       " (13, (-16.960346221923828, 'document')),\n",
       " (14, (-0.2185366153717041, 'named')),\n",
       " (15, (7.396058559417725, 'robin')),\n",
       " (16, (5.299196243286133, 'cv')),\n",
       " (17, (-15.817113876342773, '.')),\n",
       " (18, (-22.197643280029297, '[SEP]')),\n",
       " (19, (-18.176233291625977, 'documents')),\n",
       " (20, (-17.4051513671875, ':')),\n",
       " (21, (-15.224580764770508, 'document')),\n",
       " (22, (-14.420868873596191, 'id')),\n",
       " (23, (-16.67168426513672, ';')),\n",
       " (24, (-7.730093479156494, 'template')),\n",
       " (25, (-14.53238296508789, 'id')),\n",
       " (26, (-15.525979995727539, ';')),\n",
       " (27, (-9.622183799743652, 'document')),\n",
       " (28, (-5.826145172119141, 'name')),\n",
       " (29, (-13.555562973022461, ':')),\n",
       " (30, (16.34259033203125, 'robbin')),\n",
       " (31, (4.634459018707275, 'cv')),\n",
       " (32, (-18.111207962036133, ';')),\n",
       " (33, (-11.222098350524902, 'document')),\n",
       " (34, (-11.377947807312012, 'description')),\n",
       " (35, (-16.538658142089844, ';')),\n",
       " (36, (-13.001060485839844, 'other')),\n",
       " (37, (-17.518798828125, 'details')),\n",
       " (38, (-19.379850387573242, '.')),\n",
       " (39, (-12.32049560546875, 'paragraphs')),\n",
       " (40, (-17.032249450683594, ':')),\n",
       " (41, (-10.039619445800781, 'paragraph')),\n",
       " (42, (-14.645957946777344, 'id')),\n",
       " (43, (-14.680551528930664, ';')),\n",
       " (44, (-14.378339767456055, 'document')),\n",
       " (45, (-12.664610862731934, 'id')),\n",
       " (46, (-16.090457916259766, ';')),\n",
       " (47, (-9.273904800415039, 'paragraph')),\n",
       " (48, (-9.54053020477295, 'text')),\n",
       " (49, (-16.089990615844727, ';')),\n",
       " (50, (-13.984833717346191, 'other')),\n",
       " (51, (-17.13650894165039, 'details')),\n",
       " (52, (-18.620559692382812, '.')),\n",
       " (53, (-15.262626647949219, 'reference')),\n",
       " (54, (-11.52245807647705, 'template')),\n",
       " (55, (-15.967920303344727, 'types')),\n",
       " (56, (-16.49451446533203, ':')),\n",
       " (57, (-8.967784881591797, 'template')),\n",
       " (58, (-12.448867797851562, 'type')),\n",
       " (59, (-9.154797554016113, 'code')),\n",
       " (60, (-13.34634780883789, ':')),\n",
       " (61, (10.7028226852417, 'cv')),\n",
       " (62, (-16.353179931640625, ';')),\n",
       " (63, (-9.128110885620117, 'template')),\n",
       " (64, (-12.604982376098633, 'type')),\n",
       " (65, (-14.351969718933105, 'description')),\n",
       " (66, (-19.16286849975586, '.')),\n",
       " (67, (-13.311525344848633, 'templates')),\n",
       " (68, (-16.425376892089844, ':')),\n",
       " (69, (-8.78928279876709, 'template')),\n",
       " (70, (-12.718778610229492, 'id')),\n",
       " (71, (-15.20152473449707, ';')),\n",
       " (72, (-2.3921866416931152, 'version')),\n",
       " (73, (-17.54364776611328, 'number')),\n",
       " (74, (-18.024961471557617, ';')),\n",
       " (75, (-10.728535652160645, 'template')),\n",
       " (76, (-13.926158905029297, 'type')),\n",
       " (77, (-11.133685111999512, 'code')),\n",
       " (78, (-16.90256118774414, ';')),\n",
       " (79, (-17.489017486572266, 'date')),\n",
       " (80, (-15.601462364196777, 'effective')),\n",
       " (81, (-10.816651344299316, 'from')),\n",
       " (82, (-16.13134002685547, ';')),\n",
       " (83, (-16.694419860839844, 'date')),\n",
       " (84, (-15.016759872436523, 'effective')),\n",
       " (85, (-10.786213874816895, 'to')),\n",
       " (86, (-15.92119026184082, ';')),\n",
       " (87, (-8.789024353027344, 'template')),\n",
       " (88, (-16.380186080932617, 'details')),\n",
       " (89, (-19.507328033447266, '.'))]"
      ]
     },
     "execution_count": 156,
     "metadata": {},
     "output_type": "execute_result"
    }
   ],
   "source": [
    "list(enumerate(zip(_copy_logits, concat_input_tokens)))"
   ]
  },
  {
   "cell_type": "code",
   "execution_count": 155,
   "metadata": {},
   "outputs": [
    {
     "data": {
      "text/plain": [
       "[(16.34259033203125, 'robbin'),\n",
       " (10.7028226852417, 'cv'),\n",
       " (7.396058559417725, 'robin'),\n",
       " (5.299196243286133, 'cv'),\n",
       " (4.634459018707275, 'cv'),\n",
       " (-0.2185366153717041, 'named'),\n",
       " (-2.3921866416931152, 'version'),\n",
       " (-5.826145172119141, 'name'),\n",
       " (-7.730093479156494, 'template'),\n",
       " (-7.954881191253662, 'd'),\n",
       " (-8.789024353027344, 'template'),\n",
       " (-8.78928279876709, 'template'),\n",
       " (-8.967784881591797, 'template'),\n",
       " (-9.128110885620117, 'template'),\n",
       " (-9.154797554016113, 'code'),\n",
       " (-9.273904800415039, 'paragraph'),\n",
       " (-9.54053020477295, 'text'),\n",
       " (-9.622183799743652, 'document'),\n",
       " (-10.039619445800781, 'paragraph'),\n",
       " (-10.728535652160645, 'template')]"
      ]
     },
     "execution_count": 155,
     "metadata": {},
     "output_type": "execute_result"
    }
   ],
   "source": [
    "sorted(list(zip(_copy_logits, concat_input_tokens)), key=lambda p: -p[0])[:20]"
   ]
  },
  {
   "cell_type": "code",
   "execution_count": null,
   "metadata": {},
   "outputs": [],
   "source": []
  },
  {
   "cell_type": "markdown",
   "metadata": {},
   "source": [
    "### BLEU score check"
   ]
  },
  {
   "cell_type": "code",
   "execution_count": 16,
   "metadata": {},
   "outputs": [
    {
     "data": {
      "text/plain": [
       "1"
      ]
     },
     "execution_count": 16,
     "metadata": {},
     "output_type": "execute_result"
    }
   ],
   "source": [
    "ILM_model.rewrite_decoder._oov_index"
   ]
  },
  {
   "cell_type": "code",
   "execution_count": 132,
   "metadata": {},
   "outputs": [],
   "source": [
    "_test_instance = test_dataset[128]\n",
    "predictor_output = predictor.predict_instance(_test_instance)"
   ]
  },
  {
   "cell_type": "code",
   "execution_count": 133,
   "metadata": {},
   "outputs": [
    {
     "data": {
      "text/plain": [
       "dict_keys(['sentence', 'text_mask', 'schema_mask', 'schema_column_ids', 'audio_feats', 'audio_mask', 'phoneme_multilabels', 'phoneme_labels', 'phoneme_label_mask', 'align_tags', 'ref_att_map', 'source_to_target', 'rewriter_tags', 'rewrite_seq', 'source_token_ids', 'target_token_ids', 'metadata'])"
      ]
     },
     "execution_count": 133,
     "metadata": {},
     "output_type": "execute_result"
    }
   ],
   "source": [
    "_batch = Batch([_test_instance])\n",
    "_batch_td = _batch.as_tensor_dict()\n",
    "_batch_td.keys()"
   ]
  },
  {
   "cell_type": "code",
   "execution_count": 134,
   "metadata": {},
   "outputs": [],
   "source": [
    "basic_encoding_output = ILM_model._basic_encoding(\n",
    "    sentence=_batch_td['sentence'],\n",
    "    text_mask=_batch_td['text_mask'],\n",
    "    schema_mask=_batch_td['schema_mask'],\n",
    "    schema_column_ids=_batch_td['schema_column_ids'],\n",
    "    audio_feats=_batch_td['audio_feats'],\n",
    "    audio_mask=_batch_td['audio_mask'],\n",
    "    phoneme_audio_feats=None,\n",
    "    phoneme_labels=_batch_td['phoneme_labels'],\n",
    "    phoneme_multilabels=_batch_td['phoneme_multilabels'],\n",
    "    phoneme_audio_mask=None,\n",
    "    phoneme_label_mask=_batch_td['phoneme_label_mask'],\n",
    "    metadata=_batch_td['metadata'],\n",
    "    align_tags=_batch_td['align_tags'],\n",
    "    rewriter_tags=_batch_td['rewriter_tags']\n",
    ")\n",
    "\n",
    "text_lens = basic_encoding_output['text_lens']\n",
    "schema_lens = basic_encoding_output['schema_lens']\n",
    "concat_lens = basic_encoding_output['concat_lens']\n",
    "mask = basic_encoding_output['mask']\n",
    "text_mask = basic_encoding_output['text_mask']\n",
    "schema_mask = basic_encoding_output['schema_mask']\n",
    "word_embeddings = basic_encoding_output['word_embeddings']\n",
    "audio_feats_encoded = basic_encoding_output['audio_feats_encoded']\n",
    "ph_audio_feats_encoded = basic_encoding_output['ph_audio_feats_encoded']\n",
    "align_tag_embeddings = basic_encoding_output['align_tag_embeddings']\n",
    "rewriter_tag_embeddings = basic_encoding_output['rewriter_tag_embeddings']\n",
    "phoneme_tag_embeddings = basic_encoding_output['phoneme_tag_embeddings']\n",
    "\n",
    "tag_embeddings_list = []\n",
    "if align_tag_embeddings is not None:\n",
    "    tag_embeddings_list.append(align_tag_embeddings)\n",
    "if phoneme_tag_embeddings is not None:\n",
    "    tag_embeddings_list.append(phoneme_tag_embeddings)\n",
    "tag_embeddings_list.append(rewriter_tag_embeddings)\n",
    "tag_embeddings = torch.cat(tag_embeddings_list, dim=-1)\n",
    "\n",
    "token_feats = word_embeddings\n",
    "if ILM_model.concat_audio and ILM_model.use_audio:\n",
    "    token_feats = torch.cat([token_feats, audio_feats_encoded], dim=-1)\n",
    "token_feats = torch.cat([token_feats, tag_embeddings], dim=-1)\n",
    "\n",
    "attention_feats_dict = {\n",
    "    'audio': audio_feats_encoded,\n",
    "    'full': token_feats,\n",
    "    'phoneme': phoneme_tag_embeddings,\n",
    "}\n",
    "encoder_output = ILM_model.encoder(\n",
    "    token_feats=token_feats,\n",
    "    # audio_feats=audio_feats_encoded,\n",
    "    attention_feats_dict=attention_feats_dict,\n",
    "    mask=mask)\n",
    "\n",
    "encoder_seq_repr = encoder_output['seq_repr']"
   ]
  },
  {
   "cell_type": "code",
   "execution_count": 135,
   "metadata": {},
   "outputs": [
    {
     "data": {
      "text/plain": [
       "dict_keys(['loss', 'metadata', 'predicted_log_probs', 'predictions'])"
      ]
     },
     "execution_count": 135,
     "metadata": {},
     "output_type": "execute_result"
    }
   ],
   "source": [
    "_dec_out = ILM_model.rewrite_decoder.forward(\n",
    "    source_tokens=_batch_td['sentence'],\n",
    "    source_token_ids=_batch_td['source_token_ids'],\n",
    "    source_to_target=_batch_td['source_to_target'],\n",
    "    source_mask=mask,\n",
    "    encoder_outputs=encoder_seq_repr,\n",
    "    metadata=_batch_td['metadata'],\n",
    "    target_tokens=_batch_td['rewrite_seq'],\n",
    "    target_token_ids=_batch_td['target_token_ids'],\n",
    ")\n",
    "_dec_out.keys()"
   ]
  },
  {
   "cell_type": "code",
   "execution_count": 141,
   "metadata": {
    "scrolled": true
   },
   "outputs": [
    {
     "data": {
      "text/plain": [
       "['id',\n",
       " '[ANS]',\n",
       " 'forenames',\n",
       " '[ANS]',\n",
       " 'named',\n",
       " '``',\n",
       " '[ANS]',\n",
       " '[copy] robbin',\n",
       " '[ANS]',\n",
       " 'cv',\n",
       " \"''\",\n",
       " '[ANS]',\n",
       " '?',\n",
       " '[ANS]',\n",
       " '@end@',\n",
       " '@end@',\n",
       " '@end@',\n",
       " '@end@',\n",
       " '@end@',\n",
       " '@end@',\n",
       " '@end@',\n",
       " '@end@',\n",
       " '@end@',\n",
       " '@end@',\n",
       " '@end@']"
      ]
     },
     "execution_count": 141,
     "metadata": {},
     "output_type": "execute_result"
    }
   ],
   "source": [
    "[(_i2t_dict[i] if i < len(_i2t_dict) else '[copy] ' + _test_instance.fields['sentence'].tokens[i-len(_i2t_dict)].text) for i in _dec_out['predictions'].numpy()[0][0]]\n"
   ]
  },
  {
   "cell_type": "code",
   "execution_count": 143,
   "metadata": {
    "scrolled": true
   },
   "outputs": [
    {
     "data": {
      "text/plain": [
       "['id',\n",
       " '[ANS]',\n",
       " 'forenames',\n",
       " '[ANS]',\n",
       " 'named',\n",
       " '``',\n",
       " '[ANS]',\n",
       " 'robbin',\n",
       " '[ANS]',\n",
       " 'cv',\n",
       " \"''\",\n",
       " '[ANS]',\n",
       " '?',\n",
       " '[ANS]']"
      ]
     },
     "execution_count": 143,
     "metadata": {},
     "output_type": "execute_result"
    }
   ],
   "source": [
    "_pred = ILM_model.rewrite_decoder._get_predicted_tokens(\n",
    "    _dec_out['predictions'], _dec_out['metadata']\n",
    ")\n",
    "_pred[0][0]"
   ]
  },
  {
   "cell_type": "code",
   "execution_count": 157,
   "metadata": {},
   "outputs": [
    {
     "data": {
      "text/plain": [
       "tensor([[   3,   10,    2, 2712,    2,   10,    2,   34,    9,    2, 2718,    2,\n",
       "           84,    8,    2,    5,    2,    4]])"
      ]
     },
     "execution_count": 157,
     "metadata": {},
     "output_type": "execute_result"
    }
   ],
   "source": [
    "gold_tokens_id = ILM_model.rewrite_decoder._gather_extended_gold_tokens(\n",
    "    _batch_td[\"rewrite_seq\"][\"tgt_tokens\"][\"tokens\"], _batch_td[\"source_token_ids\"], _batch_td[\"target_token_ids\"]\n",
    ")\n",
    "gold_tokens_id"
   ]
  },
  {
   "cell_type": "code",
   "execution_count": 145,
   "metadata": {},
   "outputs": [
    {
     "data": {
      "text/plain": [
       "['@start@',\n",
       " 'id',\n",
       " '[ANS]',\n",
       " '[copy] template',\n",
       " '[ANS]',\n",
       " 'id',\n",
       " '[ANS]',\n",
       " 'named',\n",
       " '``',\n",
       " '[ANS]',\n",
       " '[copy] robbin',\n",
       " '[ANS]',\n",
       " 'cv',\n",
       " \"''\",\n",
       " '[ANS]',\n",
       " '?',\n",
       " '[ANS]',\n",
       " '@end@']"
      ]
     },
     "execution_count": 145,
     "metadata": {},
     "output_type": "execute_result"
    }
   ],
   "source": [
    "[(_i2t_dict[i] if i < len(_i2t_dict) else '[copy] ' + _test_instance.fields['sentence'].tokens[i-len(_i2t_dict)].text) for i in gold_tokens.numpy()[0]]\n"
   ]
  },
  {
   "cell_type": "code",
   "execution_count": 160,
   "metadata": {},
   "outputs": [],
   "source": [
    "predicted_tokens = ILM_model.rewrite_decoder._get_predicted_tokens(\n",
    "    _dec_out[\"predictions\"], _batch_td[\"metadata\"], n_best=1\n",
    ")"
   ]
  },
  {
   "cell_type": "code",
   "execution_count": 167,
   "metadata": {},
   "outputs": [
    {
     "data": {
      "text/plain": [
       "([['id',\n",
       "   '[ANS]',\n",
       "   'forenames',\n",
       "   '[ANS]',\n",
       "   'named',\n",
       "   '``',\n",
       "   '[ANS]',\n",
       "   'robbin',\n",
       "   '[ANS]',\n",
       "   'cv',\n",
       "   \"''\",\n",
       "   '[ANS]',\n",
       "   '?',\n",
       "   '[ANS]']],\n",
       " [[@start@,\n",
       "   id,\n",
       "   [ANS],\n",
       "   template,\n",
       "   [ANS],\n",
       "   id,\n",
       "   [ANS],\n",
       "   named,\n",
       "   ``,\n",
       "   [ANS],\n",
       "   robbin,\n",
       "   [ANS],\n",
       "   cv,\n",
       "   '',\n",
       "   [ANS],\n",
       "   ?,\n",
       "   [ANS],\n",
       "   @end@]])"
      ]
     },
     "execution_count": 167,
     "metadata": {},
     "output_type": "execute_result"
    }
   ],
   "source": [
    "predicted_tokens, [_test_instance.fields['rewrite_seq'].tokens]"
   ]
  },
  {
   "cell_type": "code",
   "execution_count": null,
   "metadata": {},
   "outputs": [],
   "source": []
  },
  {
   "cell_type": "code",
   "execution_count": 146,
   "metadata": {},
   "outputs": [],
   "source": [
    "_bleu = BLEU(exclude_indices={ILM_model._start_index, ILM_model._end_index, ILM_model._pad_index})"
   ]
  },
  {
   "cell_type": "code",
   "execution_count": 147,
   "metadata": {},
   "outputs": [
    {
     "data": {
      "text/plain": [
       "{'BLEU': 0.7013967267997707}"
      ]
     },
     "execution_count": 147,
     "metadata": {},
     "output_type": "execute_result"
    }
   ],
   "source": [
    "_bleu(_dec_out['predictions'][:,0], gold_tokens)\n",
    "_bleu.get_metric(reset=True)"
   ]
  },
  {
   "cell_type": "code",
   "execution_count": 148,
   "metadata": {},
   "outputs": [
    {
     "data": {
      "text/plain": [
       "(tensor([[  10,    2,  260,    2,   34,    9,    2, 2718,    2,   84,    8,    2,\n",
       "             5,    2,    4,    4,    4,    4,    4,    4,    4,    4,    4,    4,\n",
       "             4]]),\n",
       " tensor([[   3,   10,    2, 2712,    2,   10,    2,   34,    9,    2, 2718,    2,\n",
       "            84,    8,    2,    5,    2,    4]]))"
      ]
     },
     "execution_count": 148,
     "metadata": {},
     "output_type": "execute_result"
    }
   ],
   "source": [
    "_dec_out['predictions'][:,0], gold_tokens"
   ]
  },
  {
   "cell_type": "code",
   "execution_count": 118,
   "metadata": {},
   "outputs": [
    {
     "data": {
      "text/plain": [
       "{'BLEU': 9.036020036098101e-11}"
      ]
     },
     "execution_count": 118,
     "metadata": {},
     "output_type": "execute_result"
    }
   ],
   "source": [
    "_bleu = BLEU(exclude_indices={ILM_model._start_index, ILM_model._end_index, ILM_model._pad_index})\n",
    "_bleu(torch.LongTensor([[1,2,3,4,5,6,7]]), gold_tokens)\n",
    "_bleu.get_metric(reset=True)"
   ]
  },
  {
   "cell_type": "code",
   "execution_count": 175,
   "metadata": {},
   "outputs": [
    {
     "data": {
      "text/plain": [
       "{'BLEU': 0.6065306597126334}"
      ]
     },
     "execution_count": 175,
     "metadata": {},
     "output_type": "execute_result"
    }
   ],
   "source": [
    "_bleu = BLEU(exclude_indices={ILM_model._start_index, ILM_model._end_index, ILM_model._pad_index})\n",
    "_bleu(torch.LongTensor([[100,200]]), torch.LongTensor([[100,200,300]]))\n",
    "_bleu.get_metric(reset=True)"
   ]
  },
  {
   "cell_type": "code",
   "execution_count": null,
   "metadata": {},
   "outputs": [],
   "source": []
  },
  {
   "cell_type": "code",
   "execution_count": 189,
   "metadata": {},
   "outputs": [
    {
     "data": {
      "text/plain": [
       "{'WER': 0.1875}"
      ]
     },
     "execution_count": 189,
     "metadata": {},
     "output_type": "execute_result"
    }
   ],
   "source": [
    "_wer = WordErrorRate(exclude_tokens={'@start@', '@end@', '@@PADDING@@'})\n",
    "_wer(predicted_tokens, [_test_instance.fields['rewrite_seq'].tokens])\n",
    "_wer.get_metric(reset=False)"
   ]
  },
  {
   "cell_type": "code",
   "execution_count": 190,
   "metadata": {},
   "outputs": [
    {
     "data": {
      "text/plain": [
       "{'_exclude_tokens': {'@@PADDING@@', '@end@', '@start@'},\n",
       " '_wer_numer': 3,\n",
       " '_wer_denom': 16}"
      ]
     },
     "execution_count": 190,
     "metadata": {},
     "output_type": "execute_result"
    }
   ],
   "source": [
    "_wer.__dict__"
   ]
  },
  {
   "cell_type": "code",
   "execution_count": 187,
   "metadata": {},
   "outputs": [],
   "source": [
    "# importlib.reload(others.wer)\n",
    "# from others.wer import WordErrorRate"
   ]
  },
  {
   "cell_type": "code",
   "execution_count": null,
   "metadata": {},
   "outputs": [],
   "source": []
  },
  {
   "cell_type": "markdown",
   "metadata": {},
   "source": [
    "### Rewriter-adaptation Training Data\n",
    "- Can directly use the existing pipeline, just need to use the tagger-predicted dataset file and ILM output based on that, merge (put in the rewritten text) and get the final dataset file\n",
    "- Since not involving model running, moved to ratsql-infer.ipynb"
   ]
  },
  {
   "cell_type": "markdown",
   "metadata": {},
   "source": [
    "#### Run infer (not used)"
   ]
  },
  {
   "cell_type": "code",
   "execution_count": 17,
   "metadata": {},
   "outputs": [],
   "source": [
    "# TODO:\n",
    "#     load rewriter and tagger model\n",
    "#     load train/dev/test_rewriter\n",
    "#     infer the tagger, get the tags (on all cands, not just the first one)\n",
    "#     infer the rewriter-ILM\n",
    "#     dump a new dataset, respectively for train/dev/test\n",
    "#     add a new config set in USKG\n",
    "#     run the finetuning experiment"
   ]
  },
  {
   "cell_type": "code",
   "execution_count": 18,
   "metadata": {},
   "outputs": [
    {
     "name": "stdout",
     "output_type": "stream",
     "text": [
      "WARNING: SpeakQLEncoder: audio_attention_layer and full_attention_layer are deprecated\n",
      "self._start_index: 3, @start@\n",
      "self._end_index: 4, @end@\n",
      "self._pad_index: 0, @@PADDING@@\n"
     ]
    }
   ],
   "source": [
    "Tagger_model = Model.from_archive('runs/2.12.1.0t/model.tar.gz')\n",
    "ILM_model = Model.from_archive('runs/2.29.0.0i/model.tar.gz')"
   ]
  },
  {
   "cell_type": "code",
   "execution_count": 31,
   "metadata": {},
   "outputs": [],
   "source": [
    "ILM_full_config = Params.from_file('train_configs/rewriter_2.29.0.0i.jsonnet')"
   ]
  },
  {
   "cell_type": "code",
   "execution_count": 32,
   "metadata": {},
   "outputs": [],
   "source": [
    "dsreader_config = deepcopy(ILM_full_config['dataset_reader'])\n",
    "dsreader_config['databases_dir'] = \"/Users/mac/Desktop/syt/Deep-Learning/Dataset/spider/database\"\n",
    "dsreader_config['dataset_dir'] = \"/Users/mac/Desktop/syt/Deep-Learning/Dataset/spider/my\"\n",
    "dsreader_config['tables_json_fname'] = '/Users/mac/Desktop/syt/Deep-Learning/Dataset/spider/tables.json'\n",
    "dsreader_config['tabert_model_path'] = '/Users/mac/Desktop/syt/Deep-Learning/Repos/TaBERT/pretrained-models/tabert_base_k1/model.bin'\n",
    "dsreader_config['pronun_dict_path'] = \"/Users/mac/Desktop/syt/Deep-Learning/Dataset/CMUdict/cmudict-0.7b.txt\"\n",
    "dsreader_config['db_tok2phs_dict_path'] = \"/Users/mac/Desktop/syt/Deep-Learning/Dataset/spider/my/db/db_tok2phs.json\"\n",
    "dsreader_config['samples_limit'] = 20\n",
    "# dsreader_config.as_dict()\n"
   ]
  },
  {
   "cell_type": "code",
   "execution_count": 33,
   "metadata": {},
   "outputs": [
    {
     "name": "stdout",
     "output_type": "stream",
     "text": [
      "Loading CMU Dict done: 133854 entries, 125074 words, 113745 prons\n",
      "Loading db_tok2phs Dict done: 102186 entries, 102186 words, 91693 prons\n",
      "Joint word2pron size = 202111\n",
      "[('hellenizing', {('HH', 'EH', 'L', 'AH', 'N', 'AY', 'Z', 'IH', 'NG')}), ('kinsella', {('K', 'IY', 'N', 'S', 'EH', 'L', 'AH')}), ('matsch', {('M', 'AE', 'CH')}), ('odonnel', {('OW', 'D', 'AA', 'N', 'AH', 'L')}), ('quads', {('K', 'W', 'AA', 'D', 'Z')}), (\"sears'\", {('S', 'IH', 'R', 'Z')})]\n"
     ]
    }
   ],
   "source": [
    "ILM_dataset_reader = DatasetReader.from_params(dsreader_config)"
   ]
  },
  {
   "cell_type": "code",
   "execution_count": 36,
   "metadata": {},
   "outputs": [
    {
     "data": {
      "application/vnd.jupyter.widget-view+json": {
       "model_id": "8afa04fe0b6748e79949b357f4dc8b24",
       "version_major": 2,
       "version_minor": 0
      },
      "text/plain": [
       "HBox(children=(IntProgress(value=1, bar_style='info', description='reading instances', max=1, style=ProgressSt…"
      ]
     },
     "metadata": {},
     "output_type": "display_data"
    },
    {
     "name": "stdout",
     "output_type": "stream",
     "text": [
      "Loading literals failed: wta_1::players\n",
      "['first_name', 'last_name', 'hand', 'country_code']\n",
      "Could not decode to UTF-8 column 'last_name' with text 'Treyes Albarrac��N'\n",
      "<zip object at 0x14d3dfe10>\n"
     ]
    },
    {
     "name": "stderr",
     "output_type": "stream",
     "text": [
      "\n"
     ]
    },
    {
     "data": {
      "text/plain": [
       "111"
      ]
     },
     "execution_count": 36,
     "metadata": {},
     "output_type": "execute_result"
    }
   ],
   "source": [
    "random.seed(123)\n",
    "ILM_test_dataset = ILM_dataset_reader.read('test')\n",
    "len(ILM_test_dataset)"
   ]
  },
  {
   "cell_type": "code",
   "execution_count": 38,
   "metadata": {},
   "outputs": [],
   "source": [
    "Tagger_full_config = Params.from_file('train_configs/rewriter_2.12.1.0t.jsonnet')"
   ]
  },
  {
   "cell_type": "code",
   "execution_count": 39,
   "metadata": {},
   "outputs": [],
   "source": [
    "tagger_dsreader_config = deepcopy(Tagger_full_config['dataset_reader'])\n",
    "tagger_dsreader_config['databases_dir'] = \"/Users/mac/Desktop/syt/Deep-Learning/Dataset/spider/database\"\n",
    "tagger_dsreader_config['dataset_dir'] = \"/Users/mac/Desktop/syt/Deep-Learning/Dataset/spider/my\"\n",
    "tagger_dsreader_config['tables_json_fname'] = '/Users/mac/Desktop/syt/Deep-Learning/Dataset/spider/tables.json'\n",
    "tagger_dsreader_config['tabert_model_path'] = '/Users/mac/Desktop/syt/Deep-Learning/Repos/TaBERT/pretrained-models/tabert_base_k1/model.bin'\n",
    "tagger_dsreader_config['pronun_dict_path'] = \"/Users/mac/Desktop/syt/Deep-Learning/Dataset/CMUdict/cmudict-0.7b.txt\"\n",
    "# dsreader_config['db_tok2phs_dict_path'] = \"/Users/mac/Desktop/syt/Deep-Learning/Dataset/spider/my/db/db_tok2phs.json\"\n",
    "tagger_dsreader_config['samples_limit'] = 20\n",
    "# dsreader_config.as_dict()\n"
   ]
  },
  {
   "cell_type": "code",
   "execution_count": 40,
   "metadata": {},
   "outputs": [
    {
     "name": "stdout",
     "output_type": "stream",
     "text": [
      "Loading CMU Dict done: 133854 entries, 125074 words, 113745 prons\n"
     ]
    }
   ],
   "source": [
    "Tagger_dataset_reader = DatasetReader.from_params(tagger_dsreader_config)"
   ]
  },
  {
   "cell_type": "code",
   "execution_count": 41,
   "metadata": {},
   "outputs": [
    {
     "data": {
      "application/vnd.jupyter.widget-view+json": {
       "model_id": "f5d44b33fac8428c90760ef87e98ac25",
       "version_major": 2,
       "version_minor": 0
      },
      "text/plain": [
       "HBox(children=(IntProgress(value=1, bar_style='info', description='reading instances', max=1, style=ProgressSt…"
      ]
     },
     "metadata": {},
     "output_type": "display_data"
    },
    {
     "name": "stderr",
     "output_type": "stream",
     "text": [
      "\n"
     ]
    },
    {
     "data": {
      "text/plain": [
       "111"
      ]
     },
     "execution_count": 41,
     "metadata": {},
     "output_type": "execute_result"
    }
   ],
   "source": [
    "random.seed(123)\n",
    "Tagger_test_dataset = Tagger_dataset_reader.read('test')\n",
    "len(Tagger_test_dataset)"
   ]
  },
  {
   "cell_type": "code",
   "execution_count": 27,
   "metadata": {},
   "outputs": [
    {
     "data": {
      "text/plain": [
       "1034"
      ]
     },
     "execution_count": 27,
     "metadata": {},
     "output_type": "execute_result"
    }
   ],
   "source": [
    "## Load the original dataset, as the backbone to write and dump  \n",
    "\n",
    "full_dev_path = '/Users/mac/Desktop/syt/Deep-Learning/Dataset/spider/my/dev/dev_rewriter(full)+phonemes.json'\n",
    "with open(full_dev_path, 'r') as f:\n",
    "    full_dev_dataset = json.load(f)\n",
    "len(full_dev_dataset)"
   ]
  },
  {
   "cell_type": "code",
   "execution_count": 43,
   "metadata": {},
   "outputs": [
    {
     "data": {
      "text/plain": [
       "(20, 20)"
      ]
     },
     "execution_count": 43,
     "metadata": {},
     "output_type": "execute_result"
    }
   ],
   "source": [
    "# Gather instances by o_id \n",
    "# train_o_id2instances = defaultdict(list)\n",
    "Tagger_test_o_id2instances = defaultdict(list)\n",
    "ILM_test_o_id2instances = defaultdict(list)\n",
    "\n",
    "# o_id2preds = defaultdict(list)\n",
    "\n",
    "# for _inst in train_dataset:\n",
    "#     o_id = _inst['metadata']['original_id']\n",
    "#     train_o_id2instances[o_id].append(_inst)\n",
    "for _inst in Tagger_test_dataset:\n",
    "    o_id = _inst['metadata']['original_id']\n",
    "    Tagger_test_o_id2instances[o_id].append(_inst)\n",
    "for _inst in ILM_test_dataset:\n",
    "    o_id = _inst['metadata']['original_id']\n",
    "    ILM_test_o_id2instances[o_id].append(_inst)\n",
    "\n",
    "len(Tagger_test_o_id2instances), len(ILM_test_o_id2instances)"
   ]
  },
  {
   "cell_type": "code",
   "execution_count": 44,
   "metadata": {},
   "outputs": [
    {
     "data": {
      "text/plain": [
       "20"
      ]
     },
     "execution_count": 44,
     "metadata": {},
     "output_type": "execute_result"
    }
   ],
   "source": [
    "o_id_keys = sorted(list(Tagger_test_o_id2instances.keys()))\n",
    "assert o_id_keys == sorted(list(ILM_test_o_id2instances.keys()))\n",
    "len(o_id_keys)"
   ]
  },
  {
   "cell_type": "code",
   "execution_count": null,
   "metadata": {},
   "outputs": [],
   "source": [
    "# for o_id in tqdm(o_id_keys, total=len(o_id_keys)):\n",
    "#     _cands = full_dev_dataset[o_id]\n",
    "#     t_insts = Tagger_test_o_id2instances[o_id]\n",
    "#     i_insts = ILM_test_o_id2instances[o_id]\n",
    "    \n",
    "#     for t_inst, i_inst, _cand in zip(_insts, _cands):\n",
    "#         t_pred = Tagger_predictor.predict_instance(t_inst)"
   ]
  },
  {
   "cell_type": "code",
   "execution_count": null,
   "metadata": {},
   "outputs": [],
   "source": []
  },
  {
   "cell_type": "markdown",
   "metadata": {},
   "source": [
    "### Phoneme-based cell retrieve"
   ]
  },
  {
   "cell_type": "markdown",
   "metadata": {},
   "source": [
    "#### specific dataset reader"
   ]
  },
  {
   "cell_type": "code",
   "execution_count": 81,
   "metadata": {},
   "outputs": [
    {
     "data": {
      "text/plain": [
       "{'databases_dir': '/Users/mac/Desktop/syt/Deep-Learning/Dataset/spider/database',\n",
       " 'dataset_dir': '/Users/mac/Desktop/syt/Deep-Learning/Dataset/spider/my',\n",
       " 'db_cells_in_bracket': True,\n",
       " 'db_tok2phs_dict_path': '/Users/mac/Desktop/syt/Deep-Learning/Dataset/spider/my/db/db_tok2phs.json',\n",
       " 'include_align_tags': True,\n",
       " 'include_gold_rewrite_seq': True,\n",
       " 'max_sequence_len': 300,\n",
       " 'ph_token_indexers': {'phonemes': {'namespace': 'phonemes',\n",
       "   'type': 'single_id'}},\n",
       " 'pronun_dict_path': '/Users/mac/Desktop/syt/Deep-Learning/Dataset/CMUdict/cmudict-0.7b.txt',\n",
       " 'specify_full_path': True,\n",
       " 'src_token_indexers': {'bert': {'model_name': 'facebook/bart-base',\n",
       "   'type': 'pretrained_transformer_mismatched'},\n",
       "  'char': {'min_padding_length': 5,\n",
       "   'namespace': 'token_characters',\n",
       "   'type': 'characters'}},\n",
       " 'tabert_model_path': '/Users/mac/Desktop/syt/Deep-Learning/Repos/TaBERT/pretrained-models/tabert_base_k1/model.bin',\n",
       " 'tables_json_fname': '/Users/mac/Desktop/syt/Deep-Learning/Dataset/spider/tables.json',\n",
       " 'tgt_token_indexers': {'tgt_tokens': {'namespace': 'tgt_tokens',\n",
       "   'type': 'single_id'}},\n",
       " 'type': 'spider_ASR_rewriter_reader_ILM_comb_new',\n",
       " 'use_db_cells': 'K=5',\n",
       " 'use_phoneme_inputs': False,\n",
       " 'use_phoneme_labels': True,\n",
       " 'use_tabert': False,\n",
       " 'use_tagger_prediction': True,\n",
       " 'cands_limit': 1}"
      ]
     },
     "execution_count": 81,
     "metadata": {},
     "output_type": "execute_result"
    }
   ],
   "source": [
    "## Load the tagger-predicted test dataset \n",
    "dsreader_config = deepcopy(full_config['dataset_reader'])\n",
    "dsreader_config['databases_dir'] = \"/Users/mac/Desktop/syt/Deep-Learning/Dataset/spider/database\"\n",
    "dsreader_config['dataset_dir'] = \"/Users/mac/Desktop/syt/Deep-Learning/Dataset/spider/my\"\n",
    "dsreader_config['tables_json_fname'] = '/Users/mac/Desktop/syt/Deep-Learning/Dataset/spider/tables.json'\n",
    "dsreader_config['tabert_model_path'] = '/Users/mac/Desktop/syt/Deep-Learning/Repos/TaBERT/pretrained-models/tabert_base_k1/model.bin'\n",
    "dsreader_config['pronun_dict_path'] = \"/Users/mac/Desktop/syt/Deep-Learning/Dataset/CMUdict/cmudict-0.7b.txt\"\n",
    "dsreader_config['db_tok2phs_dict_path'] = \"/Users/mac/Desktop/syt/Deep-Learning/Dataset/spider/my/db/db_tok2phs.json\"\n",
    "# dsreader_config['samples_limit'] = 50\n",
    "dsreader_config['cands_limit'] = 1\n",
    "\n",
    "dsreader_config['specify_full_path'] = True\n",
    "dsreader_config['use_tagger_prediction'] = True\n",
    "dsreader_config.as_dict()\n"
   ]
  },
  {
   "cell_type": "code",
   "execution_count": 82,
   "metadata": {},
   "outputs": [
    {
     "name": "stdout",
     "output_type": "stream",
     "text": [
      "Loading CMU Dict done: 133854 entries, 125074 words, 113745 prons\n",
      "Loading db_tok2phs Dict done: 102186 entries, 102186 words, 91693 prons\n",
      "Joint word2pron size = 202111\n",
      "[('hellenizing', {('HH', 'EH', 'L', 'AH', 'N', 'AY', 'Z', 'IH', 'NG')}), ('kinsella', {('K', 'IY', 'N', 'S', 'EH', 'L', 'AH')}), ('matsch', {('M', 'AE', 'CH')}), ('odonnel', {('OW', 'D', 'AA', 'N', 'AH', 'L')}), ('quads', {('K', 'W', 'AA', 'D', 'Z')}), (\"sears'\", {('S', 'IH', 'R', 'Z')})]\n"
     ]
    }
   ],
   "source": [
    "pred_test_dataset_reader = DatasetReader.from_params(dsreader_config)"
   ]
  },
  {
   "cell_type": "code",
   "execution_count": 83,
   "metadata": {},
   "outputs": [
    {
     "data": {
      "application/vnd.jupyter.widget-view+json": {
       "model_id": "b6898e7e8d854c54899f714df0918133",
       "version_major": 2,
       "version_minor": 0
      },
      "text/plain": [
       "HBox(children=(IntProgress(value=1, bar_style='info', description='reading instances', max=1, style=ProgressSt…"
      ]
     },
     "metadata": {},
     "output_type": "display_data"
    },
    {
     "name": "stdout",
     "output_type": "stream",
     "text": [
      "Loading literals failed: wta_1::players\n",
      "['first_name', 'last_name', 'hand', 'country_code']\n",
      "Could not decode to UTF-8 column 'last_name' with text 'Treyes Albarrac��N'\n",
      "Question OOV: 65, [('airlinesflights', ['EH', 'R', 'L', 'AY', 'N', 'S', 'F', 'L', 'AY', 'T', 'S']), ('liste', ['L', 'IH', 'S', 'T']), ('lexs', ['L', 'EH', 'K', 'S', 'Z']), ('cdo', ['S', 'IY', 'D', 'IY', 'OW']), ('dolo', ['D', 'OW', 'L', 'OW']), ('roomba', ['R', 'UW', 'M', 'B', 'AX']), ('shou', ['SH', 'UW']), ('everdeen', ['EH', 'V', 'ER', 'D', 'IY', 'N']), ('happend', ['HH', 'AE', 'P', 'AX', 'N', 'D']), ('witha', ['W', 'IH', 'DH', 'AE'])]\n"
     ]
    },
    {
     "name": "stderr",
     "output_type": "stream",
     "text": [
      "\n"
     ]
    },
    {
     "data": {
      "text/plain": [
       "547"
      ]
     },
     "execution_count": 83,
     "metadata": {},
     "output_type": "execute_result"
    }
   ],
   "source": [
    "pred_test_dataset = pred_test_dataset_reader.read('test:/Users/mac/Desktop/syt/Deep-Learning/Projects-M/SpeakQL/SpeakQL/Allennlp_models/outputs/test-rewriter-2.12.1.2t.json')\n",
    "len(pred_test_dataset)"
   ]
  },
  {
   "cell_type": "code",
   "execution_count": 87,
   "metadata": {},
   "outputs": [],
   "source": [
    "pred_test_predictor = SpiderASRRewriterPredictor_ILM(model=ILM_model,\n",
    "                                           dataset_reader=pred_test_dataset_reader)\n",
    "predictor.set_save_intermediate(False)"
   ]
  },
  {
   "cell_type": "markdown",
   "metadata": {},
   "source": [
    "#### predict"
   ]
  },
  {
   "cell_type": "code",
   "execution_count": 93,
   "metadata": {},
   "outputs": [
    {
     "data": {
      "application/vnd.jupyter.widget-view+json": {
       "model_id": "2ac694ad2a2d4df79dab7751cc956634",
       "version_major": 2,
       "version_minor": 0
      },
      "text/plain": [
       "HBox(children=(IntProgress(value=0, max=547), HTML(value='')))"
      ]
     },
     "metadata": {},
     "output_type": "display_data"
    },
    {
     "name": "stdout",
     "output_type": "stream",
     "text": [
      "\n"
     ]
    },
    {
     "data": {
      "text/plain": [
       "547"
      ]
     },
     "execution_count": 93,
     "metadata": {},
     "output_type": "execute_result"
    }
   ],
   "source": [
    "_all_preds = []\n",
    "\n",
    "for i, _inst in tqdm(enumerate(test_dataset), total=len(test_dataset)):\n",
    "    _pred = pred_test_predictor.predict_instance(_inst)\n",
    "    _all_preds.append(_pred)\n",
    "len(_all_preds)"
   ]
  },
  {
   "cell_type": "code",
   "execution_count": null,
   "metadata": {},
   "outputs": [],
   "source": []
  },
  {
   "cell_type": "code",
   "execution_count": 84,
   "metadata": {
    "scrolled": true
   },
   "outputs": [
    {
     "name": "stdout",
     "output_type": "stream",
     "text": [
      "Input seq: ['find', 'the', 'number', 'of', 'dog', 'pets', 'that', 'are', 'raised', 'by', 'female', 'students', 'with', 'sex', 'f', '.', '[SEP]', 'has', 'pet', ':', 'student', 'id', ';', 'pet', 'id', '.', 'pets', ':', 'pet', 'id', ';', 'pet', 'type', ';', 'pet', 'age', ';', 'weight', '.', 'student', ':', 'student', 'id', ';', 'last', 'name', '(', 'cheng', ',', 'epp', ')', ';', 'first', 'name', ';', 'age', ';', 'sex', '(', 'm', ',', 'f', ')', ';', 'major', ';', 'advisor', ';', 'city', 'code', '(', 'sfo', ')', '.']\n",
      "Cells: {'cheng', 'epp', 'sfo', 'f', 'm'}\n",
      "Gold: ['f', ')', '[ANS]']\n",
      "Pred: ['f', ')', '[ANS]']\n",
      "\n",
      "Input seq: ['how', 'many', 'doug', 'pets', 'are', 'raised', 'by', 'female', 'students', '.', '[SEP]', 'has', 'pet', ':', 'student', 'id', ';', 'pet', 'id', '.', 'pets', ':', 'pet', 'id', ';', 'pet', 'type', '(', 'dog', ')', ';', 'pet', 'age', ';', 'weight', '.', 'student', ':', 'student', 'id', ';', 'last', 'name', '(', 'davis', ',', 'rugh', ',', 'adams', ')', ';', 'first', 'name', ';', 'age', ';', 'sex', ';', 'major', ';', 'advisor', ';', 'city', 'code', '(', 'det', ')', '.']\n",
      "Cells: {'dog', 'rugh', 'det', 'adams', 'davis'}\n",
      "Gold: ['dog', '[ANS]', '?', '[ANS]']\n",
      "Pred: ['dog', '[ANS]', '?', '[ANS]']\n",
      "\n",
      "Input seq: ['find', 'the', 'name', 'of', 'students', 'who', 'have', 'both', 'captain', 'doug', 'pets', '.', '[SEP]', 'has', 'pet', ':', 'student', 'id', ';', 'pet', 'id', '.', 'pets', ':', 'pet', 'id', ';', 'pet', 'type', '(', 'dog', ',', 'cat', ')', ';', 'pet', 'age', ';', 'weight', '.', 'student', ':', 'student', 'id', ';', 'last', 'name', '(', 'han', ',', 'leighton', ',', 'wilson', ',', 'thornton', ',', 'adams', ',', 'davis', ',', 'rugh', ')', ';', 'first', 'name', ';', 'age', ';', 'sex', ';', 'major', ';', 'advisor', ';', 'city', 'code', '(', 'det', ')', '.']\n",
      "Cells: {'dog', 'cat', 'rugh', 'det', 'leighton', 'adams', 'davis', 'han', 'wilson', 'thornton'}\n",
      "Gold: ['cat', '[ANS]', 'and', 'dog', '[ANS]']\n",
      "Pred: ['cat', '[ANS]', '``', 'cat', '[ANS]']\n",
      "\n",
      "Input seq: ['what', 'major', 'is', 'every', 'student', 'who', 'does', 'not', 'own', 'a', 'cat', 'is', 'a', 'pet', '.', 'and', 'also', 'how', 'old', 'are', 'they', '?', '[SEP]', 'has', 'pet', ':', 'student', 'id', ';', 'pet', 'id', '.', 'pets', ':', 'pet', 'id', ';', 'pet', 'type', '(', 'cat', ')', ';', 'pet', 'age', ';', 'weight', '.', 'student', ':', 'student', 'id', ';', 'last', 'name', '(', 'andreou', ',', 'kim', ',', 'han', ',', 'leighton', ')', ';', 'first', 'name', '(', 'jandy', ',', 'andy', ',', 'linda', ')', ';', 'age', ';', 'sex', ';', 'major', ';', 'advisor', ';', 'city', 'code', '(', 'atl', ',', 'yyz', ')', '.']\n",
      "Cells: {'cat', 'andy', 'jandy', 'leighton', 'yyz', 'andreou', 'atl', 'han', 'kim', 'linda'}\n",
      "Gold: ['cat', 'as', '[ANS]', ',', 'and', '[ANS]']\n",
      "Pred: ['cat', '[ANS]', '.', '[ANS]']\n",
      "\n",
      "Input seq: ['find', 'the', 'first', 'name', 'and', 'age', 'of', 'students', 'who', 'have', 'a', 'dog', 'but', 'do', 'not', 'have', 'a', 'cat', 'is', 'a', 'pet', '.', '[SEP]', 'has', 'pet', ':', 'student', 'id', ';', 'pet', 'id', '.', 'pets', ':', 'pet', 'id', ';', 'pet', 'type', '(', 'cat', ')', ';', 'pet', 'age', ';', 'weight', '.', 'student', ':', 'student', 'id', ';', 'last', 'name', '(', 'kim', ',', 'leighton', ')', ';', 'first', 'name', ';', 'age', ';', 'sex', ';', 'major', ';', 'advisor', ';', 'city', 'code', '(', 'atl', ',', 'yyz', ')', '.']\n",
      "Cells: {'cat', 'leighton', 'yyz', 'atl', 'kim'}\n",
      "Gold: ['cat', 'as', '[ANS]']\n",
      "Pred: ['cat', '[ANS]']\n",
      "\n",
      "Input seq: ['what', 'is', 'the', 'first', 'name', 'of', 'every', 'student', 'who', 'has', 'a', 'dog', 'that', 'does', 'not', 'have', 'a', 'cat', '?', '[SEP]', 'has', 'pet', ':', 'student', 'id', ';', 'pet', 'id', '.', 'pets', ':', 'pet', 'id', ';', 'pet', 'type', '(', 'dog', ')', ';', 'pet', 'age', ';', 'weight', '.', 'student', ':', 'student', 'id', ';', 'last', 'name', ';', 'first', 'name', '(', 'paul', ')', ';', 'age', ';', 'sex', ';', 'major', ';', 'advisor', ';', 'city', 'code', '(', 'det', ',', 'dal', ',', 'los', ')', '.']\n",
      "Cells: {'dog', 'det', 'dal', 'los', 'paul'}\n",
      "Gold: ['dog', 'but', '[ANS]']\n",
      "Pred: ['pet', '[ANS]']\n",
      "\n",
      "Input seq: ['which', 'country', 'does', 'airline', 'jetblue', 'airways', 'belong', 'to', '?', '[SEP]', 'airlines', ':', 'airline', 'id', ';', 'airline', 'name', '(', 'airtran', 'airways', ',', 'southwest', 'airlines', ',', 'allegiant', 'air', ')', ';', 'abbreviation', ';', 'country', '.', 'airports', ':', 'city', ';', 'airport', 'code', '(', 'rli', ',', 'ngz', ')', ';', 'airport', 'name', '(', 'esler', 'field', ')', ';', 'country', ';', 'country', 'abbrev', '.', 'flights', ':', 'airline', ';', 'flight', 'number', ';', 'source', 'airport', ';', 'destination', 'airport', '.']\n",
      "Cells: {'ngz', 'southwest airlines', 'rli', 'allegiant air', 'esler field', 'airtran airways'}\n",
      "Gold: ['airline', '``', '[ANS]', 'airways', \"''\", '[ANS]']\n",
      "Pred: ['airline', '[ANS]', 'rock', '[ANS]']\n",
      "\n",
      "Input seq: ['what', 'is', 'the', 'abbreviation', 'of', 'airline', 'jetblue', 'airways', '?', '[SEP]', 'airlines', ':', 'airline', 'id', ';', 'airline', 'name', '(', 'airtran', 'airways', ',', 'southwest', 'airlines', ',', 'allegiant', 'air', ')', ';', 'abbreviation', ';', 'country', '.', 'airports', ':', 'city', ';', 'airport', 'code', '(', 'rli', ',', 'ngz', ')', ';', 'airport', 'name', '(', 'esler', 'field', ')', ';', 'country', ';', 'country', 'abbrev', '.', 'flights', ':', 'airline', ';', 'flight', 'number', ';', 'source', 'airport', ';', 'destination', 'airport', '.']\n",
      "Cells: {'ngz', 'southwest airlines', 'rli', 'allegiant air', 'esler field', 'airtran airways'}\n",
      "Gold: ['airline', '``', '[ANS]', 'airways', \"''\", '[ANS]']\n",
      "Pred: ['airline', '[ANS]', 'airways', \"''\", '[ANS]']\n",
      "\n",
      "Input seq: ['which', 'abbreviation', 'corresponds', 'to', 'check', 'blue', 'airways', '.', '[SEP]', 'airlines', ':', 'airline', 'id', ';', 'airline', 'name', '(', 'jetblue', 'airways', ')', ';', 'abbreviation', ';', 'country', '.', 'airports', ':', 'city', '(', 'aleknagik', ',', 'ambler', ')', ';', 'airport', 'code', ';', 'airport', 'name', '(', 'merrill', 'field', ',', 'esler', 'field', ')', ';', 'country', ';', 'country', 'abbrev', '.', 'flights', ':', 'airline', ';', 'flight', 'number', ';', 'source', 'airport', ';', 'destination', 'airport', '.']\n",
      "Cells: {'merrill field', 'jetblue airways', 'esler field', 'aleknagik', 'ambler'}\n",
      "Gold: ['jetblue', '[ANS]', '?', '[ANS]']\n",
      "Pred: ['aleknagik', 'took', '[ANS]', '?', '[ANS]']\n",
      "\n",
      "Input seq: ['give', 'the', 'airport', 'code', 'an', 'airport', 'named', 'cora', 'sounding', 'to', 'the', 'city', 'anthony', '.', '[SEP]', 'airlines', ':', 'airline', 'id', ';', 'airline', 'name', ';', 'abbreviation', ';', 'country', '.', 'airports', ':', 'city', '(', 'anvik', ',', 'astoria', ',', 'anacortes', ')', ';', 'airport', 'code', '(', 'qaw', ',', 'and', ')', ';', 'airport', 'name', '(', 'lenawee', 'county', ',', 'orange', 'county', 'steel', 'salvage', 'heliport', ',', 'george', 'downer', ',', 'tri-state', 'steuben', 'cty', ')', ';', 'country', ';', 'country', 'abbrev', '.', 'flights', ':', 'airline', ';', 'flight', 'number', ';', 'source', 'airport', ';', 'destination', 'airport', '.']\n",
      "Cells: {'qaw', 'lenawee county', 'astoria', 'anvik', 'anacortes', 'george downer', 'and', 'orange county steel salvage heliport', 'tri-state steuben cty'}\n",
      "Gold: ['and', '[ANS]', 'name', '[ANS]', 'corresonding', '[ANS]']\n",
      "Pred: ['and', '[ANS]', 'anacortes', '[ANS]', '.', '[ANS]']\n",
      "\n"
     ]
    }
   ],
   "source": [
    "# inspect \n",
    "\n",
    "for i, _inst in enumerate(test_dataset[:50]):\n",
    "    _pred = predictor.predict_instance(_inst)\n",
    "    \n",
    "    o_id = _pred['original_id']\n",
    "    _orig_c = original_dev_dataset[o_id]\n",
    "    \n",
    "    _db_str = ' '.join(_pred['input_seq']).split(' [SEP] ')[-1]\n",
    "    _extracted_cell_groups = re.findall(r'\\(\\s(.+?)\\s\\)', _db_str)\n",
    "    _extracted_cells = set()\n",
    "    _extracted_toks = set()\n",
    "    for _cells in _extracted_cell_groups:\n",
    "        for _cell in _cells.split(' , '):\n",
    "            _extracted_cells.add(_cell)\n",
    "            for _tok in _cell.split(' '):\n",
    "                _extracted_toks.add(_tok)\n",
    "    \n",
    "    _tgt_toks = [str(t) for t in _inst.fields['metadata']['target_tokens']]\n",
    "    if set(_tgt_toks) & _extracted_toks:\n",
    "        print('Input seq:', _pred['input_seq'])\n",
    "        print('Cells:', _extracted_cells)\n",
    "#         print(_extracted_toks)\n",
    "        print('Gold:', _tgt_toks)\n",
    "        print('Pred:', _pred['rewrite_seq_prediction'])\n",
    "        print()"
   ]
  },
  {
   "cell_type": "code",
   "execution_count": 111,
   "metadata": {
    "scrolled": true
   },
   "outputs": [
    {
     "data": {
      "application/vnd.jupyter.widget-view+json": {
       "model_id": "190d36754fa1486a817aab1e7dd610cb",
       "version_major": 2,
       "version_minor": 0
      },
      "text/plain": [
       "HBox(children=(IntProgress(value=0, max=547), HTML(value='')))"
      ]
     },
     "metadata": {},
     "output_type": "display_data"
    },
    {
     "name": "stdout",
     "output_type": "stream",
     "text": [
      "=== Irrel (rank=3) ===\n",
      "Input seq: ['how', 'much', 'does', 'the', 'youngest', 'doc', 'way', '?', '[SEP]', 'has', 'pet', ':', 'student', 'id', ';', 'pet', 'id', '.', 'pets', ':', 'pet', 'id', ';', 'pet', 'type', ';', 'pet', 'age', ';', 'weight', '.', 'student', ':', 'student', 'id', ';', 'last', 'name', '(', 'davis', ',', 'woods', ',', 'leighton', ')', ';', 'first', 'name', '(', 'mark', ',', 'derek', ',', 'stacy', ')', ';', 'age', ';', 'sex', ';', 'major', ';', 'advisor', ';', 'city', 'code', '(', 'was', ',', 'roc', ',', 'nar', ',', 'bos', ')', '.']\n",
      "Cells: {'stacy', 'nar', 'derek', 'leighton', 'davis', 'mark', 'roc', 'was', 'bos', 'woods'}\n",
      "Gold: ['how', 'much', 'does', 'the', 'youngest', 'dog', 'weigh', '?']\n",
      "Pred: ['pet', '[ANS]', 'derek', '[ANS]']\n",
      "\n",
      "=== Irrel (rank=5) ===\n",
      "Input seq: ['how', 'much', 'does', 'the', 'youngest', 'doc', 'way', '?', '[SEP]', 'has', 'pet', ':', 'student', 'id', ';', 'pet', 'id', '.', 'pets', ':', 'pet', 'id', ';', 'pet', 'type', ';', 'pet', 'age', ';', 'weight', '.', 'student', ':', 'student', 'id', ';', 'last', 'name', '(', 'davis', ',', 'woods', ',', 'leighton', ')', ';', 'first', 'name', '(', 'mark', ',', 'derek', ',', 'stacy', ')', ';', 'age', ';', 'sex', ';', 'major', ';', 'advisor', ';', 'city', 'code', '(', 'was', ',', 'roc', ',', 'nar', ',', 'bos', ')', '.']\n",
      "Cells: {'stacy', 'nar', 'derek', 'leighton', 'davis', 'mark', 'roc', 'was', 'bos', 'woods'}\n",
      "Gold: ['how', 'much', 'does', 'the', 'youngest', 'dog', 'weigh', '?']\n",
      "Pred: ['pet', '[ANS]', 'derek', '[ANS]']\n",
      "\n",
      "=== Misuse (rank=3) ===\n",
      "Input seq: ['how', 'much', 'does', 'the', 'youngest', 'doc', 'way', '?', '[SEP]', 'has', 'pet', ':', 'student', 'id', ';', 'pet', 'id', '.', 'pets', ':', 'pet', 'id', ';', 'pet', 'type', ';', 'pet', 'age', ';', 'weight', '.', 'student', ':', 'student', 'id', ';', 'last', 'name', '(', 'davis', ',', 'woods', ',', 'leighton', ')', ';', 'first', 'name', '(', 'mark', ',', 'derek', ',', 'stacy', ')', ';', 'age', ';', 'sex', ';', 'major', ';', 'advisor', ';', 'city', 'code', '(', 'was', ',', 'roc', ',', 'nar', ',', 'bos', ')', '.']\n",
      "Cells: {'stacy', 'nar', 'derek', 'leighton', 'davis', 'mark', 'roc', 'was', 'bos', 'woods'}\n",
      "Gold: ['how', 'much', 'does', 'the', 'youngest', 'dog', 'weigh', '?']\n",
      "Pred: ['pet', '[ANS]', 'derek', '[ANS]']\n",
      "\n",
      "=== Irrel (rank=5) ===\n",
      "Input seq: ['how', 'much', 'does', 'the', 'youngest', 'doc', 'way', '?', '[SEP]', 'has', 'pet', ':', 'student', 'id', ';', 'pet', 'id', '.', 'pets', ':', 'pet', 'id', ';', 'pet', 'type', ';', 'pet', 'age', ';', 'weight', '.', 'student', ':', 'student', 'id', ';', 'last', 'name', '(', 'davis', ',', 'woods', ',', 'leighton', ')', ';', 'first', 'name', '(', 'mark', ',', 'derek', ',', 'stacy', ')', ';', 'age', ';', 'sex', ';', 'major', ';', 'advisor', ';', 'city', 'code', '(', 'was', ',', 'roc', ',', 'nar', ',', 'bos', ')', '.']\n",
      "Cells: {'stacy', 'nar', 'derek', 'leighton', 'davis', 'mark', 'roc', 'was', 'bos', 'woods'}\n",
      "Gold: ['how', 'much', 'does', 'the', 'youngest', 'dog', 'weigh', '?']\n",
      "Pred: ['pet', '[ANS]', 'derek', '[ANS]']\n",
      "\n",
      "=== Irrel (rank=4) ===\n",
      "Input seq: ['how', 'much', 'does', 'the', 'youngest', 'doc', 'way', '?', '[SEP]', 'has', 'pet', ':', 'student', 'id', ';', 'pet', 'id', '.', 'pets', ':', 'pet', 'id', ';', 'pet', 'type', ';', 'pet', 'age', ';', 'weight', '.', 'student', ':', 'student', 'id', ';', 'last', 'name', '(', 'davis', ',', 'woods', ',', 'leighton', ')', ';', 'first', 'name', '(', 'mark', ',', 'derek', ',', 'stacy', ')', ';', 'age', ';', 'sex', ';', 'major', ';', 'advisor', ';', 'city', 'code', '(', 'was', ',', 'roc', ',', 'nar', ',', 'bos', ')', '.']\n",
      "Cells: {'stacy', 'nar', 'derek', 'leighton', 'davis', 'mark', 'roc', 'was', 'bos', 'woods'}\n",
      "Gold: ['how', 'much', 'does', 'the', 'youngest', 'dog', 'weigh', '?']\n",
      "Pred: ['pet', '[ANS]', 'derek', '[ANS]']\n",
      "\n",
      "=== Irrel (rank=2) ===\n",
      "Input seq: ['how', 'much', 'does', 'the', 'youngest', 'doc', 'way', '?', '[SEP]', 'has', 'pet', ':', 'student', 'id', ';', 'pet', 'id', '.', 'pets', ':', 'pet', 'id', ';', 'pet', 'type', ';', 'pet', 'age', ';', 'weight', '.', 'student', ':', 'student', 'id', ';', 'last', 'name', '(', 'davis', ',', 'woods', ',', 'leighton', ')', ';', 'first', 'name', '(', 'mark', ',', 'derek', ',', 'stacy', ')', ';', 'age', ';', 'sex', ';', 'major', ';', 'advisor', ';', 'city', 'code', '(', 'was', ',', 'roc', ',', 'nar', ',', 'bos', ')', '.']\n",
      "Cells: {'stacy', 'nar', 'derek', 'leighton', 'davis', 'mark', 'roc', 'was', 'bos', 'woods'}\n",
      "Gold: ['how', 'much', 'does', 'the', 'youngest', 'dog', 'weigh', '?']\n",
      "Pred: ['pet', '[ANS]', 'derek', '[ANS]']\n",
      "\n",
      "=== Irrel (rank=1) ===\n",
      "Input seq: ['how', 'much', 'does', 'the', 'youngest', 'doc', 'way', '?', '[SEP]', 'has', 'pet', ':', 'student', 'id', ';', 'pet', 'id', '.', 'pets', ':', 'pet', 'id', ';', 'pet', 'type', ';', 'pet', 'age', ';', 'weight', '.', 'student', ':', 'student', 'id', ';', 'last', 'name', '(', 'davis', ',', 'woods', ',', 'leighton', ')', ';', 'first', 'name', '(', 'mark', ',', 'derek', ',', 'stacy', ')', ';', 'age', ';', 'sex', ';', 'major', ';', 'advisor', ';', 'city', 'code', '(', 'was', ',', 'roc', ',', 'nar', ',', 'bos', ')', '.']\n",
      "Cells: {'stacy', 'nar', 'derek', 'leighton', 'davis', 'mark', 'roc', 'was', 'bos', 'woods'}\n",
      "Gold: ['how', 'much', 'does', 'the', 'youngest', 'dog', 'weigh', '?']\n",
      "Pred: ['pet', '[ANS]', 'derek', '[ANS]']\n",
      "\n",
      "=== Irrel (rank=4) ===\n",
      "Input seq: ['how', 'much', 'does', 'the', 'youngest', 'doc', 'way', '?', '[SEP]', 'has', 'pet', ':', 'student', 'id', ';', 'pet', 'id', '.', 'pets', ':', 'pet', 'id', ';', 'pet', 'type', ';', 'pet', 'age', ';', 'weight', '.', 'student', ':', 'student', 'id', ';', 'last', 'name', '(', 'davis', ',', 'woods', ',', 'leighton', ')', ';', 'first', 'name', '(', 'mark', ',', 'derek', ',', 'stacy', ')', ';', 'age', ';', 'sex', ';', 'major', ';', 'advisor', ';', 'city', 'code', '(', 'was', ',', 'roc', ',', 'nar', ',', 'bos', ')', '.']\n",
      "Cells: {'stacy', 'nar', 'derek', 'leighton', 'davis', 'mark', 'roc', 'was', 'bos', 'woods'}\n",
      "Gold: ['how', 'much', 'does', 'the', 'youngest', 'dog', 'weigh', '?']\n",
      "Pred: ['pet', '[ANS]', 'derek', '[ANS]']\n",
      "\n",
      "=== Irrel (rank=2) ===\n",
      "Input seq: ['how', 'much', 'does', 'the', 'youngest', 'doc', 'way', '?', '[SEP]', 'has', 'pet', ':', 'student', 'id', ';', 'pet', 'id', '.', 'pets', ':', 'pet', 'id', ';', 'pet', 'type', ';', 'pet', 'age', ';', 'weight', '.', 'student', ':', 'student', 'id', ';', 'last', 'name', '(', 'davis', ',', 'woods', ',', 'leighton', ')', ';', 'first', 'name', '(', 'mark', ',', 'derek', ',', 'stacy', ')', ';', 'age', ';', 'sex', ';', 'major', ';', 'advisor', ';', 'city', 'code', '(', 'was', ',', 'roc', ',', 'nar', ',', 'bos', ')', '.']\n",
      "Cells: {'stacy', 'nar', 'derek', 'leighton', 'davis', 'mark', 'roc', 'was', 'bos', 'woods'}\n",
      "Gold: ['how', 'much', 'does', 'the', 'youngest', 'dog', 'weigh', '?']\n",
      "Pred: ['pet', '[ANS]', 'derek', '[ANS]']\n",
      "\n",
      "=== Irrel (rank=1) ===\n",
      "Input seq: ['find', 'the', 'maximum', 'weight', 'for', 'each', 'type', 'of', 'pet', 'list', ',', 'the', 'maximum', 'weight', 'and', 'pet', 'type', '.', '[SEP]', 'has', 'pet', ':', 'student', 'id', ';', 'pet', 'id', '.', 'pets', ':', 'pet', 'id', ';', 'pet', 'type', ';', 'pet', 'age', ';', 'weight', '.', 'student', ':', 'student', 'id', ';', 'last', 'name', '(', 'cheng', ',', 'prater', ')', ';', 'first', 'name', ';', 'age', ';', 'sex', ';', 'major', ';', 'advisor', ';', 'city', 'code', '(', 'det', ',', 'pit', ',', 'pek', ')', '.']\n",
      "Cells: {'cheng', 'det', 'pek', 'pit', 'prater'}\n",
      "Gold: ['find', 'the', 'maximum', 'weight', 'for', 'each', 'type', 'of', 'pet', '.', 'list', 'the', 'maximum', 'weight', 'and', 'pet', 'type', '.']\n",
      "Pred: ['pet', 'at', '[ANS]']\n",
      "\n",
      "=== Irrel (rank=3) ===\n",
      "Input seq: ['find', 'the', 'maximum', 'weight', 'for', 'each', 'type', 'of', 'pet', 'list', ',', 'the', 'maximum', 'weight', 'and', 'pet', 'type', '.', '[SEP]', 'has', 'pet', ':', 'student', 'id', ';', 'pet', 'id', '.', 'pets', ':', 'pet', 'id', ';', 'pet', 'type', ';', 'pet', 'age', ';', 'weight', '.', 'student', ':', 'student', 'id', ';', 'last', 'name', '(', 'cheng', ',', 'prater', ')', ';', 'first', 'name', ';', 'age', ';', 'sex', ';', 'major', ';', 'advisor', ';', 'city', 'code', '(', 'det', ',', 'pit', ',', 'pek', ')', '.']\n",
      "Cells: {'cheng', 'det', 'pek', 'pit', 'prater'}\n",
      "Gold: ['find', 'the', 'maximum', 'weight', 'for', 'each', 'type', 'of', 'pet', '.', 'list', 'the', 'maximum', 'weight', 'and', 'pet', 'type', '.']\n",
      "Pred: ['pet', 'at', '[ANS]']\n",
      "\n",
      "=== Hit (rank=1) ===\n",
      "Input seq: ['find', 'the', 'number', 'of', 'dog', 'pets', 'that', 'are', 'raised', 'by', 'female', 'students', 'with', 'sex', 'f', '.', '[SEP]', 'has', 'pet', ':', 'student', 'id', ';', 'pet', 'id', '.', 'pets', ':', 'pet', 'id', ';', 'pet', 'type', ';', 'pet', 'age', ';', 'weight', '.', 'student', ':', 'student', 'id', ';', 'last', 'name', '(', 'cheng', ',', 'epp', ')', ';', 'first', 'name', ';', 'age', ';', 'sex', '(', 'm', ',', 'f', ')', ';', 'major', ';', 'advisor', ';', 'city', 'code', '(', 'sfo', ')', '.']\n",
      "Cells: {'cheng', 'epp', 'sfo', 'f', 'm'}\n",
      "Gold: ['find', 'the', 'number', 'of', 'dog', 'pets', 'that', 'are', 'raised', 'by', 'female', 'students', '(', 'with', 'sex', 'f', ')', '.']\n",
      "Pred: ['f', ')', '[ANS]']\n",
      "\n",
      "=== Hit (rank=1) ===\n",
      "Input seq: ['how', 'many', 'doug', 'pets', 'are', 'raised', 'by', 'female', 'students', '.', '[SEP]', 'has', 'pet', ':', 'student', 'id', ';', 'pet', 'id', '.', 'pets', ':', 'pet', 'id', ';', 'pet', 'type', '(', 'dog', ')', ';', 'pet', 'age', ';', 'weight', '.', 'student', ':', 'student', 'id', ';', 'last', 'name', '(', 'davis', ',', 'rugh', ',', 'adams', ')', ';', 'first', 'name', ';', 'age', ';', 'sex', ';', 'major', ';', 'advisor', ';', 'city', 'code', '(', 'det', ')', '.']\n",
      "Cells: {'dog', 'rugh', 'det', 'adams', 'davis'}\n",
      "Gold: ['how', 'many', 'dog', 'pets', 'are', 'raised', 'by', 'female', 'students', '?']\n",
      "Pred: ['dog', '[ANS]', '?', '[ANS]']\n",
      "\n",
      "=== Miss (rank=1) ===\n",
      "Input seq: ['find', 'the', 'name', 'of', 'students', 'who', 'have', 'both', 'captain', 'doug', 'pets', '.', '[SEP]', 'has', 'pet', ':', 'student', 'id', ';', 'pet', 'id', '.', 'pets', ':', 'pet', 'id', ';', 'pet', 'type', '(', 'dog', ',', 'cat', ')', ';', 'pet', 'age', ';', 'weight', '.', 'student', ':', 'student', 'id', ';', 'last', 'name', '(', 'han', ',', 'leighton', ',', 'wilson', ',', 'thornton', ',', 'adams', ',', 'davis', ',', 'rugh', ')', ';', 'first', 'name', ';', 'age', ';', 'sex', ';', 'major', ';', 'advisor', ';', 'city', 'code', '(', 'det', ')', '.']\n",
      "Cells: {'dog', 'cat', 'rugh', 'det', 'leighton', 'adams', 'davis', 'han', 'wilson', 'thornton'}\n",
      "Gold: ['find', 'the', 'name', 'of', 'students', 'who', 'have', 'both', 'cat', 'and', 'dog', 'pets', '.']\n",
      "Pred: ['cat', '[ANS]', '``', 'cat', '[ANS]']\n",
      "\n",
      "=== Misuse (rank=3) ===\n",
      "Input seq: ['what', 'are', 'the', 'students', 'first', 'names', 'who', 'have', 'both', 'cats', 'and', 'dogs', ',', 'says', 'pets', '.', '[SEP]', 'has', 'pet', ':', 'student', 'id', ';', 'pet', 'id', '.', 'pets', ':', 'pet', 'id', ';', 'pet', 'type', '(', 'cat', ')', ';', 'pet', 'age', ';', 'weight', '.', 'student', ':', 'student', 'id', ';', 'last', 'name', '(', 'cheng', ',', 'simms', ',', 'schmidt', ')', ';', 'first', 'name', '(', 'lisa', ',', 'susan', ',', 'sarah', ')', ';', 'age', ';', 'sex', ';', 'major', ';', 'advisor', ';', 'city', 'code', '(', 'det', ',', 'sfo', ',', 'bos', ')', '.']\n",
      "Cells: {'cheng', 'cat', 'sarah', 'det', 'sfo', 'simms', 'bos', 'susan', 'lisa', 'schmidt'}\n",
      "Gold: ['what', 'are', 'the', 'students', \"'\", 'first', 'names', 'who', 'have', 'both', 'cats', 'and', 'dogs', 'as', 'pets', '?']\n",
      "Pred: ['first', 'name', '[ANS]', '``', 'cat', '[ANS]', '?', '[ANS]']\n",
      "\n",
      "=== Miss (rank=1) ===\n",
      "Input seq: ['what', 'is', 'the', 'first', 'name', 'of', 'every', 'student', 'who', 'has', 'a', 'dog', 'that', 'does', 'not', 'have', 'a', 'cat', '?', '[SEP]', 'has', 'pet', ':', 'student', 'id', ';', 'pet', 'id', '.', 'pets', ':', 'pet', 'id', ';', 'pet', 'type', '(', 'dog', ')', ';', 'pet', 'age', ';', 'weight', '.', 'student', ':', 'student', 'id', ';', 'last', 'name', ';', 'first', 'name', '(', 'paul', ')', ';', 'age', ';', 'sex', ';', 'major', ';', 'advisor', ';', 'city', 'code', '(', 'det', ',', 'dal', ',', 'los', ')', '.']\n",
      "Cells: {'dog', 'det', 'dal', 'los', 'paul'}\n",
      "Gold: ['what', 'is', 'the', 'first', 'name', 'of', 'every', 'student', 'who', 'has', 'a', 'dog', 'but', 'does', 'not', 'have', 'a', 'cat', '?']\n",
      "Pred: ['pet', '[ANS]']\n",
      "\n",
      "=== Misuse (rank=1) ===\n",
      "Input seq: ['what', 'is', 'the', 'idea', 'of', 'the', 'pet', 'owned', 'by', 'the', 'student', 'whose', 'last', 'name', 'is', 'smith', '?', '[SEP]', 'has', 'pet', ':', 'student', 'id', ';', 'pet', 'id', '.', 'pets', ':', 'pet', 'id', ';', 'pet', 'type', ';', 'pet', 'age', ';', 'weight', '.', 'student', ':', 'student', 'id', ';', 'last', 'name', '(', 'smith', ',', 'schmidt', ',', 'lee', ',', 'kim', ',', 'goldman', ',', 'rugh', ',', 'simms', ')', ';', 'first', 'name', '(', 'steven', ',', 'lisa', ')', ';', 'age', ';', 'sex', ';', 'major', ';', 'advisor', ';', 'city', 'code', '(', 'nyc', ')', '.']\n",
      "Cells: {'lee', 'lisa', 'rugh', 'goldman', 'smith', 'simms', 'nyc', 'kim', 'schmidt', 'steven'}\n",
      "Gold: ['what', 'is', 'the', 'id', 'of', 'the', 'pet', 'owned', 'by', 'the', 'student', 'whose', 'last', 'name', 'is', \"'smith\", \"'\", '?']\n",
      "Pred: ['id', '[ANS]', 'smith', \"''\", '[ANS]']\n",
      "\n",
      "=== Misuse (rank=2) ===\n",
      "Input seq: ['what', 'is', 'the', 'first', 'name', 'and', 'gender', 'of', 'the', 'all', 'the', 'students', 'who', 'have', 'more', 'than', 'one', 'pitch', '?', '[SEP]', 'has', 'pet', ':', 'student', 'id', ';', 'pet', 'id', '.', 'pets', ':', 'pet', 'id', ';', 'pet', 'type', ';', 'pet', 'age', ';', 'weight', '.', 'student', ':', 'student', 'id', ';', 'last', 'name', '(', 'kim', ',', 'apap', ')', ';', 'first', 'name', ';', 'age', ';', 'sex', ';', 'major', ';', 'advisor', ';', 'city', 'code', '(', 'pit', ',', 'pek', ',', 'phl', ')', '.']\n",
      "Cells: {'apap', 'phl', 'pek', 'pit', 'kim'}\n",
      "Gold: ['what', 'is', 'the', 'first', 'name', 'and', 'gender', 'of', 'the', 'all', 'the', 'students', 'who', 'have', 'more', 'than', 'one', 'pet', '?']\n",
      "Pred: ['kim', '[ANS]']\n",
      "\n",
      "=== Misuse (rank=5) ===\n",
      "Input seq: ['which', 'abbreviation', 'corresponds', 'to', 'check', 'blue', 'airways', '.', '[SEP]', 'airlines', ':', 'airline', 'id', ';', 'airline', 'name', '(', 'jetblue', 'airways', ')', ';', 'abbreviation', ';', 'country', '.', 'airports', ':', 'city', '(', 'aleknagik', ',', 'ambler', ')', ';', 'airport', 'code', ';', 'airport', 'name', '(', 'merrill', 'field', ',', 'esler', 'field', ')', ';', 'country', ';', 'country', 'abbrev', '.', 'flights', ':', 'airline', ';', 'flight', 'number', ';', 'source', 'airport', ';', 'destination', 'airport', '.']\n",
      "Cells: {'merrill field', 'jetblue airways', 'esler field', 'aleknagik', 'ambler'}\n",
      "Gold: ['which', 'abbreviation', 'corresponds', 'to', 'jetblue', 'airways', '?']\n",
      "Pred: ['aleknagik', 'took', '[ANS]', '?', '[ANS]']\n",
      "\n",
      "=== Miss (rank=5) ===\n",
      "Input seq: ['which', 'abbreviation', 'corresponds', 'to', 'check', 'blue', 'airways', '.', '[SEP]', 'airlines', ':', 'airline', 'id', ';', 'airline', 'name', '(', 'jetblue', 'airways', ')', ';', 'abbreviation', ';', 'country', '.', 'airports', ':', 'city', '(', 'aleknagik', ',', 'ambler', ')', ';', 'airport', 'code', ';', 'airport', 'name', '(', 'merrill', 'field', ',', 'esler', 'field', ')', ';', 'country', ';', 'country', 'abbrev', '.', 'flights', ':', 'airline', ';', 'flight', 'number', ';', 'source', 'airport', ';', 'destination', 'airport', '.']\n",
      "Cells: {'merrill field', 'jetblue airways', 'esler field', 'aleknagik', 'ambler'}\n",
      "Gold: ['which', 'abbreviation', 'corresponds', 'to', 'jetblue', 'airways', '?']\n",
      "Pred: ['aleknagik', 'took', '[ANS]', '?', '[ANS]']\n",
      "\n",
      "=== Misuse (rank=5) ===\n",
      "Input seq: ['list', 'all', 'airline', 'names', 'and', \"they're\", 'abbreviations', 'in', 'u', '.', 's', '.', 'a', '.', '[SEP]', 'airlines', ':', 'airline', 'id', ';', 'airline', 'name', ';', 'abbreviation', ';', 'country', '.', 'airports', ':', 'city', ';', 'airport', 'code', '(', 'ate', ',', 'aib', ',', 'ael', ',', 'ale', ',', 'aia', ')', ';', 'airport', 'name', ';', 'country', ';', 'country', 'abbrev', '.', 'flights', ':', 'airline', ';', 'flight', 'number', ';', 'source', 'airport', ';', 'destination', 'airport', '.']\n",
      "Cells: {'aia', 'ael', 'aib', 'ate', 'ale'}\n",
      "Gold: ['list', 'all', 'airline', 'names', 'and', 'their', 'abbreviations', 'in', '``', 'usa', \"''\", '.']\n",
      "Pred: ['their', '[ANS]', 'aib', '[ANS]']\n",
      "\n",
      "=== Misuse (rank=1) ===\n",
      "Input seq: ['what', 'are', 'airport', 'names', 'at', 'city', 'aberdeen', '?', '[SEP]', 'airlines', ':', 'airline', 'id', ';', 'airline', 'name', ';', 'abbreviation', ';', 'country', '.', 'airports', ':', 'city', '(', 'amery', ',', 'aberdeen', ',', 'abilene', ',', 'abingdon', ')', ';', 'airport', 'code', '(', 'abr', ')', ';', 'airport', 'name', ';', 'country', ';', 'country', 'abbrev', '.', 'flights', ':', 'airline', ';', 'flight', 'number', ';', 'source', 'airport', ';', 'destination', 'airport', '.']\n",
      "Cells: {'abingdon', 'abilene', 'aberdeen', 'amery', 'abr'}\n",
      "Gold: ['what', 'are', 'airport', 'names', 'at', 'city', \"'aberdeen\", \"'\", '?']\n",
      "Pred: ['aberdeen', '[ANS]']\n",
      "\n",
      "=== Miss (rank=2) ===\n",
      "Input seq: ['how', 'many', 'flights', 'have', 'destination', 'auto', '?', '[SEP]', 'airlines', ':', 'airline', 'id', ';', 'airline', 'name', ';', 'abbreviation', ';', 'country', '.', 'airports', ':', 'city', '(', 'alton', ')', ';', 'airport', 'code', '(', 'ate', ',', 'ato', ',', 'auk', ',', 'ako', ')', ';', 'airport', 'name', ';', 'country', ';', 'country', 'abbrev', '.', 'flights', ':', 'airline', ';', 'flight', 'number', ';', 'source', 'airport', ';', 'destination', 'airport', '.']\n",
      "Cells: {'alton', 'auk', 'ate', 'ako', 'ato'}\n",
      "Gold: ['how', 'many', 'flights', 'have', 'destination', 'ato', '?']\n",
      "Pred: ['alton', '[ANS]']\n",
      "\n",
      "=== Miss (rank=2) ===\n",
      "Input seq: ['count', 'the', 'number', 'of', 'flights', 'into', 'auto', '.', '[SEP]', 'airlines', ':', 'airline', 'id', ';', 'airline', 'name', ';', 'abbreviation', ';', 'country', '.', 'airports', ':', 'city', '(', 'alton', ')', ';', 'airport', 'code', '(', 'ate', ',', 'ato', ',', 'auk', ',', 'ako', ')', ';', 'airport', 'name', ';', 'country', ';', 'country', 'abbrev', '.', 'flights', ':', 'airline', ';', 'flight', 'number', ';', 'source', 'airport', ';', 'destination', 'airport', '.']\n",
      "Cells: {'alton', 'auk', 'ate', 'ako', 'ato'}\n",
      "Gold: ['count', 'the', 'number', 'of', 'flights', 'into', 'ato', '.']\n",
      "Pred: ['abbrev', '[ANS]']\n",
      "\n",
      "=== Miss (rank=5) ===\n",
      "Input seq: ['how', 'many', 'united', 'airlines', 'flights', 'go', 'to', 'airport', 'asi', '.', '[SEP]', 'airlines', ':', 'airline', 'id', ';', 'airline', 'name', '(', 'airtran', 'airways', ',', 'southwest', 'airlines', ',', 'united', 'airlines', ')', ';', 'abbreviation', ';', 'country', '.', 'airports', ':', 'city', '(', 'anita', 'bay', ',', 'akron/canton', ',', 'akiak', ',', 'alexander', 'city', 'al', ')', ';', 'airport', 'code', '(', 'asy', ',', 'esf', ')', ';', 'airport', 'name', '(', 'colorado', 'plains', 'regional', 'airport', ',', 'thomas', 'c', 'russell', 'fld', ',', 'ohio', 'university', ',', 'zahns', ',', 'virginia', 'highlands', ',', 'ardmore', 'municipal', 'arpt', ')', ';', 'country', ';', 'country', 'abbrev', '.', 'flights', ':', 'airline', ';', 'flight', 'number', ';', 'source', 'airport', ';', 'destination', 'airport', '.']\n",
      "Cells: {'southwest airlines', 'anita bay', 'united airlines', 'thomas c russell fld', 'ohio university', 'zahns', 'alexander city al', 'akiak', 'colorado plains regional airport', 'ardmore municipal arpt', 'esf', 'akron/canton', 'airtran airways', 'asy', 'virginia highlands'}\n",
      "Gold: ['how', 'many', \"'united\", 'airlines', \"'\", 'flights', 'go', 'to', 'airport', \"'asy\", \"'\", '?']\n",
      "Pred: ['``', 'united', '[ANS]', 'airlines', \"'\", '[ANS]', 'id', '[ANS]', '?', '[ANS]']\n",
      "\n",
      "=== Misuse (rank=2) ===\n",
      "Input seq: ['how', 'many', 'united', 'airlines', 'flights', 'depart', 'from', 'airport', 'hd', '.', '[SEP]', 'airlines', ':', 'airline', 'id', ';', 'airline', 'name', '(', 'airtran', 'airways', ',', 'southwest', 'airlines', ',', 'united', 'airlines', ')', ';', 'abbreviation', ';', 'country', '.', 'airports', ':', 'city', '(', 'ada', ',', 'akron/canton', ',', 'adrian', ',', 'anita', 'bay', ',', 'aberdeen', ')', ';', 'airport', 'code', '(', 'aid', ',', 'hmn', ')', ';', 'airport', 'name', '(', 'colorado', 'plains', 'regional', 'airport', ',', 'ohio', 'university', ',', 'zahns', ',', 'virginia', 'highlands', ',', 'ardmore', 'municipal', 'arpt', ')', ';', 'country', ';', 'country', 'abbrev', '.', 'flights', ':', 'airline', ';', 'flight', 'number', ';', 'source', 'airport', ';', 'destination', 'airport', '.']\n",
      "Cells: {'southwest airlines', 'united airlines', 'anita bay', 'zahns', 'ada', 'aberdeen', 'colorado plains regional airport', 'ardmore municipal arpt', 'aid', 'hmn', 'adrian', 'akron/canton', 'airtran airways', 'ohio university', 'virginia highlands'}\n",
      "Gold: ['how', 'many', \"'united\", 'airlines', \"'\", 'flights', 'depart', 'from', 'airport', \"'ahd\", \"'\", '?']\n",
      "Pred: ['united', '[ANS]', 'airlines', '[ANS]', 'aid', '[ANS]', '?', '[ANS]']\n",
      "\n",
      "=== Misuse (rank=4) ===\n",
      "Input seq: ['how', 'many', 'united', 'airlines', 'flights', 'go', 'to', 'city', 'aberdeen', '.', '[SEP]', 'airlines', ':', 'airline', 'id', ';', 'airline', 'name', ';', 'abbreviation', ';', 'country', '.', 'airports', ':', 'city', '(', 'amery', ',', 'aberdeen', ',', 'abilene', ',', 'abingdon', ')', ';', 'airport', 'code', '(', 'abr', ')', ';', 'airport', 'name', ';', 'country', ';', 'country', 'abbrev', '.', 'flights', ':', 'airline', ';', 'flight', 'number', ';', 'source', 'airport', ';', 'destination', 'airport', '.']\n",
      "Cells: {'abingdon', 'abilene', 'aberdeen', 'amery', 'abr'}\n",
      "Gold: ['how', 'many', 'united', 'airlines', 'flights', 'go', 'to', 'city', \"'aberdeen\", \"'\", '?']\n",
      "Pred: ['abr', '[ANS]', '?', '[ANS]']\n",
      "\n",
      "=== Hit (rank=5) ===\n",
      "Input seq: ['return', 'the', 'documents', '.', 'i', 'd', 'template', 'i', 'd', 'and', 'description', 'for', 'the', 'document', 'with', 'the', 'name', 'robin', 'cv', '.', '[SEP]', 'documents', ':', 'document', 'id', ';', 'template', 'id', ';', 'document', 'name', '(', 'a', 'history', 'of', 'arts', ',', 'robbin', 'cv', ',', 'do', 'not', 'panic', ',', 'introduction', 'of', 'os', ')', ';', 'document', 'description', '(', 'b', ',', 'z', ',', 'w', ')', ';', 'other', 'details', '.', 'paragraphs', ':', 'paragraph', 'id', ';', 'document', 'id', ';', 'paragraph', 'text', '(', 'jersey', ',', 'ireland', ')', ';', 'other', 'details', '.', 'reference', 'template', 'types', ':', 'template', 'type', 'code', '(', 'ad', ')', ';', 'template', 'type', 'description', '(', 'advertisement', ',', 'presentation', ')', '.', 'templates', ':', 'template', 'id', ';', 'version', 'number', ';', 'template', 'type', 'code', ';', 'date', 'effective', 'from', ';', 'date', 'effective', 'to', ';', 'template', 'details', '.']\n",
      "Cells: {'advertisement', 'b', 'ireland', 'z', 'w', 'do not panic', 'ad', 'robbin cv', 'presentation', 'introduction of os', 'a history of arts', 'jersey'}\n",
      "Gold: ['return', 'the', 'document', 'id', ',', 'template', 'id', ',', 'and', 'description', 'for', 'the', 'document', 'with', 'the', 'name', 'robbin', 'cv', '.']\n",
      "Pred: ['document', '[ANS]', 'id', '[ANS]', '``', 'robin', 'cv', '[ANS]']\n",
      "\n",
      "=== Hit (rank=2) ===\n",
      "Input seq: ['what', 'are', 'the', 'odds', 'of', 'templates', 'with', 'template', 'type', 'code', 'p', 'p', 'or', 'p', 'p', '.', 't', '.', '[SEP]', 'documents', ':', 'document', 'id', ';', 'template', 'id', ';', 'document', 'name', '(', 'how', 'google', 'people', 'work', ',', 'introduction', 'of', 'os', ',', 'do', 'not', 'panic', ',', 'understanding', 'db', ')', ';', 'document', 'description', '(', 'r', ')', ';', 'other', 'details', '.', 'paragraphs', ':', 'paragraph', 'id', ';', 'document', 'id', ';', 'paragraph', 'text', '(', 'jersey', ')', ';', 'other', 'details', '.', 'reference', 'template', 'types', ':', 'template', 'type', 'code', '(', 'ppt', ',', 'pp', ',', 'ad', ')', ';', 'template', 'type', 'description', '(', 'paper', ')', '.', 'templates', ':', 'template', 'id', ';', 'version', 'number', ';', 'template', 'type', 'code', ';', 'date', 'effective', 'from', ';', 'date', 'effective', 'to', ';', 'template', 'details', '.']\n",
      "Cells: {'paper', 'do not panic', 'ad', 'understanding db', 'ppt', 'pp', 'introduction of os', 'how google people work', 'jersey', 'r'}\n",
      "Gold: ['what', 'are', 'the', 'ids', 'of', 'templates', 'with', 'template', 'type', 'code', 'pp', 'or', 'ppt', '?']\n",
      "Pred: ['ids', '[ANS]', '``', 'ppt', '[ANS]']\n",
      "\n",
      "=== Hit (rank=2) ===\n",
      "Input seq: ['return', 'the', 'ids', 'of', 'templates', 'that', 'have', 'the', 'code', 'peop', 'e', 'or', 'a', 'p', 'p', 't', '.', '[SEP]', 'documents', ':', 'document', 'id', ';', 'template', 'id', ';', 'document', 'name', '(', 'understanding', 'db', ',', 'palm', 'reading', ')', ';', 'document', 'description', ';', 'other', 'details', '.', 'paragraphs', ':', 'paragraph', 'id', ';', 'document', 'id', ';', 'paragraph', 'text', '(', 'fiji', ',', 'papua', 'new', 'guinea', ')', ';', 'other', 'details', '.', 'reference', 'template', 'types', ':', 'template', 'type', 'code', '(', 'cv', ',', 'ppt', ',', 'pp', ')', ';', 'template', 'type', 'description', '(', 'paper', ')', '.', 'templates', ':', 'template', 'id', ';', 'version', 'number', ';', 'template', 'type', 'code', ';', 'date', 'effective', 'from', ';', 'date', 'effective', 'to', ';', 'template', 'details', '.']\n",
      "Cells: {'paper', 'understanding db', 'palm reading', 'fiji', 'ppt', 'cv', 'pp', 'papua new guinea'}\n",
      "Gold: ['return', 'the', 'ids', 'of', 'templates', 'that', 'have', 'the', 'code', 'pp', 'or', 'ppt', '.']\n",
      "Pred: ['ppt', '[ANS]', 'cv', '[ANS]']\n",
      "\n",
      "=== Miss (rank=3) ===\n",
      "Input seq: ['how', 'many', 'paragraphs', 'for', 'the', 'document', 'with', 'named', 'summer', 'show', '?', '[SEP]', 'documents', ':', 'document', 'id', ';', 'template', 'id', ';', 'document', 'name', '(', 'summer', 'show', ',', 'customer', 'reviews', ',', 'data', 'base', ',', 'do', 'not', 'panic', ')', ';', 'document', 'description', '(', 'h', ')', ';', 'other', 'details', '.', 'paragraphs', ':', 'paragraph', 'id', ';', 'document', 'id', ';', 'paragraph', 'text', '(', 'somalia', ',', 'papua', 'new', 'guinea', ')', ';', 'other', 'details', '.', 'reference', 'template', 'types', ':', 'template', 'type', 'code', ';', 'template', 'type', 'description', '(', 'paper', ',', 'advertisement', ')', '.', 'templates', ':', 'template', 'id', ';', 'version', 'number', ';', 'template', 'type', 'code', ';', 'date', 'effective', 'from', ';', 'date', 'effective', 'to', ';', 'template', 'details', '.']\n",
      "Cells: {'advertisement', 'paper', 'do not panic', 'customer reviews', 'h', 'somalia', 'papua new guinea', 'data base', 'summer show'}\n",
      "Gold: ['how', 'many', 'paragraphs', 'for', 'the', 'document', 'with', 'name', \"'summer\", 'show', \"'\", '?']\n",
      "Pred: ['name', '``', '[ANS]', 'summer', '[ANS]']\n",
      "\n",
      "=== Miss (rank=3) ===\n",
      "Input seq: ['count', 'the', 'number', 'of', 'paragraphs', 'in', 'the', 'document', 'named', 'summer', 'show', '.', '[SEP]', 'documents', ':', 'document', 'id', ';', 'template', 'id', ';', 'document', 'name', '(', 'summer', 'show', ',', 'customer', 'reviews', ')', ';', 'document', 'description', ';', 'other', 'details', '.', 'paragraphs', ':', 'paragraph', 'id', ';', 'document', 'id', ';', 'paragraph', 'text', '(', 'somalia', ')', ';', 'other', 'details', '.', 'reference', 'template', 'types', ':', 'template', 'type', 'code', ';', 'template', 'type', 'description', '(', 'advertisement', ')', '.', 'templates', ':', 'template', 'id', ';', 'version', 'number', ';', 'template', 'type', 'code', ';', 'date', 'effective', 'from', ';', 'date', 'effective', 'to', ';', 'template', 'details', '.']\n",
      "Cells: {'advertisement', 'somalia', 'customer reviews', 'summer show'}\n",
      "Gold: ['count', 'the', 'number', 'of', 'paragraphs', 'in', 'the', 'document', 'named', \"'summer\", 'show', \"'\", '.']\n",
      "Pred: ['``', 'summer', '[ANS]']\n",
      "\n",
      "=== Miss (rank=4) ===\n",
      "Input seq: ['show', 'all', 'paragraph', 'texts', 'for', 'the', 'document', 'customer', 'reviews', '.', '[SEP]', 'documents', ':', 'document', 'id', ';', 'template', 'id', ';', 'document', 'name', '(', 'a', 'history', 'of', 'arts', ',', 'robbin', 'cv', ',', 'customer', 'reviews', ',', 'do', 'not', 'panic', ')', ';', 'document', 'description', '(', 'u', ',', 'w', ')', ';', 'other', 'details', '.', 'paragraphs', ':', 'paragraph', 'id', ';', 'document', 'id', ';', 'paragraph', 'text', '(', 'papua', 'new', 'guinea', ',', 'japan', ')', ';', 'other', 'details', '.', 'reference', 'template', 'types', ':', 'template', 'type', 'code', ';', 'template', 'type', 'description', '(', 'advertisement', ')', '.', 'templates', ':', 'template', 'id', ';', 'version', 'number', ';', 'template', 'type', 'code', ';', 'date', 'effective', 'from', ';', 'date', 'effective', 'to', ';', 'template', 'details', '.']\n",
      "Cells: {'advertisement', 'w', 'do not panic', 'u', 'japan', 'customer reviews', 'robbin cv', 'papua new guinea', 'a history of arts'}\n",
      "Gold: ['show', 'all', 'paragraph', 'texts', 'for', 'the', 'document', '``', 'customer', 'reviews', \"''\", '.']\n",
      "Pred: ['document', 'named', '``', '[ANS]', 'reviews', \"''\", '[ANS]']\n",
      "\n",
      "=== Misuse (rank=4) ===\n",
      "Input seq: ['what', 'are', 'the', 'names', 'of', 'the', 'contestants', 'whose', 'names', 'are', 'not', 'jesse', 'ala', 'wai', '?', '[SEP]', 'area', 'code', 'state', ':', 'area', 'code', ';', 'state', '(', 'fl', ',', 'wi', ',', 'ny', ',', 'ri', ',', 'hi', ',', 'wa', ',', 'sc', ')', '.', 'contestants', ':', 'contestant', 'number', ';', 'contestant', 'name', '(', 'alana', 'bregman', ',', 'jessie', 'eichman', ',', 'ericka', 'dieter', ')', '.', 'votes', ':', 'vote', 'id', ';', 'phone', 'number', ';', 'state', ';', 'contestant', 'number', ';', 'created', '.']\n",
      "Cells: {'alana bregman', 'ri', 'sc', 'wa', 'ny', 'fl', 'jessie eichman', 'ericka dieter', 'wi', 'hi'}\n",
      "Gold: ['what', 'are', 'the', 'names', 'of', 'the', 'contestants', 'whose', 'names', 'are', 'not', \"'jessie\", 'alloway', \"'\"]\n",
      "Pred: ['``', 'jessie', '[ANS]', 'fl', '[ANS]']\n",
      "\n",
      "=== Miss (rank=4) ===\n",
      "Input seq: ['what', 'is', 'the', 'average', 'gnp', 'in', 'total', 'population', 'in', 'all', 'nations', 'whose', 'government', 'is', 'u', '.', 's', 'territory', '?', '[SEP]', 'city', ':', 'id', ';', 'name', '(', 'yumen', ',', 'khan', 'yunis', ')', ';', 'country', 'code', '(', 'usa', ')', ';', 'district', ';', 'population', '.', 'country', ':', 'code', ';', 'name', ';', 'continent', ';', 'region', ';', 'surface', 'area', ';', 'indepdent', 'year', ';', 'population', ';', 'life', 'expectancy', ';', 'gnp', ';', 'gnp', 'old', ';', 'local', 'name', ';', 'government', 'form', '(', 'commonwealth', 'of', 'the', 'us', ',', 'administrated', 'by', 'the', 'un', ')', ';', 'head', 'of', 'state', ';', 'capital', ';', 'code2', '.', 'countrylanguage', ':', 'countrycode', ';', 'language', ';', 'is', 'official', ';', 'percentage', '.', 'sqlite', 'sequence', ':', 'name', ';', 'seq', '.']\n",
      "Cells: {'yumen', 'commonwealth of the us', 'khan yunis', 'usa', 'administrated by the un'}\n",
      "Gold: ['what', 'is', 'the', 'average', 'gnp', 'and', 'total', 'population', 'in', 'all', 'nations', 'whose', 'government', 'is', 'us', 'territory', '?']\n",
      "Pred: ['and', '[ANS]', 'usa', '[ANS]']\n",
      "\n",
      "\n"
     ]
    }
   ],
   "source": [
    "## stats\n",
    "## retrieval: question span - db tok (get full cell for each tok)\n",
    "\n",
    "Stopwords = nltk.corpus.stopwords.words(\"english\")\n",
    "\n",
    "hit_by_rank = Counter()\n",
    "miss_by_rank = Counter()\n",
    "misuse_by_rank = Counter()\n",
    "irrel_by_rank = Counter()\n",
    "\n",
    "for i, (_inst, _pred) in tqdm(enumerate(zip(test_dataset, _all_preds)), total=len(test_dataset)):\n",
    "    o_id = _pred['original_id']\n",
    "    _orig_c = original_dev_dataset[o_id]\n",
    "    \n",
    "    _q_str = ' '.join(_pred['input_seq']).split(' [SEP] ')[0]\n",
    "    _q_toks = _q_str.split(' ')\n",
    "    _db_str = ' '.join(_pred['input_seq']).split(' [SEP] ')[-1]\n",
    "    _extracted_cell_groups = re.findall(r'\\(\\s(.+?)\\s\\)', _db_str)\n",
    "    _extracted_cells = set()\n",
    "    _extracted_toks = set()\n",
    "    for _cells in _extracted_cell_groups:\n",
    "        for _cell in _cells.split(' , '):\n",
    "            _extracted_cells.add(_cell)\n",
    "            for _tok in text_cell_to_toks(_cell):\n",
    "                _extracted_toks.add(_tok)\n",
    "    \n",
    "    qspans = []\n",
    "    _c_qspan = []\n",
    "    for q_tok, q_tag in zip(_q_toks, _pred['rewriter_tags']):\n",
    "        if q_tag.endswith('EDIT'):\n",
    "            _c_qspan.append(q_tok)\n",
    "            if q_tag in ['L-EDIT', 'U-EDIT']:\n",
    "                qspans.append(' '.join(_c_qspan))\n",
    "                _c_qspan = []\n",
    "    \n",
    "#     print('input:', list(zip(_q_toks, _pred['rewriter_tags'])))\n",
    "#     print(qspans)\n",
    "    \n",
    "    _extracted_tok_phs = dict()\n",
    "    for _tok in _extracted_toks:\n",
    "        _extracted_tok_phs[_tok] = dataset_reader._token_to_phonemes(_tok)\n",
    "    \n",
    "#     print('_extracted_tok_phs:', _extracted_tok_phs)\n",
    "    \n",
    "    qspan_phs = []\n",
    "    for qs in qspans:\n",
    "        _toks = text_cell_to_toks(qs)\n",
    "        phs = [ph for _tok in _toks for ph in dataset_reader._token_to_phonemes(_tok)]\n",
    "        qspan_phs.append((qs, phs))\n",
    "    \n",
    "#     print('qspan_phs:', qspan_phs)\n",
    "    \n",
    "    _extracted_tok_ranks = dict([(t, 5) for t in _extracted_toks])\n",
    "    for qs, qs_phs in qspan_phs:\n",
    "        if qs in Stopwords or qs in string.punctuation:\n",
    "            continue\n",
    "            \n",
    "        _ex_tok_sims = []\n",
    "        for _ex_tok, _ex_tok_phs in _extracted_tok_phs.items():\n",
    "            ph_edist = editdistance.eval(qs_phs, _ex_tok_phs)\n",
    "            ph_sim = 1 - float(ph_edist) / max(len(qs_phs), len(_ex_tok_phs))\n",
    "            \n",
    "            char_edist = editdistance.eval(qs, _ex_tok)\n",
    "            char_sim = 1 - float(char_edist) / max(len(qs), len(_ex_tok))\n",
    "            \n",
    "            _ex_tok_sims.append((_ex_tok, ph_sim, char_sim))\n",
    "#             print(f'> {qs} {_ex_tok} sim = {ph_sim:.4f}')\n",
    "            \n",
    "        _ex_tok_sims.sort(key=lambda x: (-x[1], -x[2], x[0]))\n",
    "        for i in range(len(_ex_tok_sims)):\n",
    "            _r = i+1\n",
    "            _ex_tok = _ex_tok_sims[i][0]\n",
    "            _extracted_tok_ranks[_ex_tok] = min(_r, _extracted_tok_ranks[_ex_tok])\n",
    "    \n",
    "#     print('_extracted_tok_ranks:', _extracted_tok_ranks)\n",
    "    \n",
    "    _tgt_toks = [t.lower() for t in _orig_c['question_toks']]\n",
    "    _pred_toks = _pred['rewrite_seq_prediction']\n",
    "    for _tok in _extracted_toks:\n",
    "        if _tok in Stopwords or _tok in string.punctuation:\n",
    "            continue\n",
    "    \n",
    "        r = _extracted_tok_ranks[_tok]\n",
    "        \n",
    "        _counter = None\n",
    "        _res = None\n",
    "        if _tok in _tgt_toks:\n",
    "            # should be used \n",
    "            if _tok in _pred_toks:\n",
    "                _counter = hit_by_rank\n",
    "                _res = f'=== Hit (rank={r}) ==='\n",
    "            else:\n",
    "                _counter = miss_by_rank\n",
    "                _res = f'=== Miss (rank={r}) ==='\n",
    "        else:\n",
    "            # shouldn't be used \n",
    "            if _tok in _pred_toks:\n",
    "                _counter = misuse_by_rank\n",
    "                _res = f'=== Misuse (rank={r}) ==='\n",
    "            else:\n",
    "                _counter = irrel_by_rank\n",
    "                _res = f'=== Irrel (rank={r}) ==='\n",
    "        \n",
    "        _counter[r] += 1\n",
    "        if _counter[r] > 2:\n",
    "            # don't print too many \n",
    "            continue\n",
    "        \n",
    "#         if _tok in _pred_toks:\n",
    "#             ## hit \n",
    "#             corr_use += 1\n",
    "#             _res = '=== Correct ==='\n",
    "#             if corr_use > 5:\n",
    "#                 # don't print too many \n",
    "#                 continue\n",
    "#         else:\n",
    "#             ## miss\n",
    "#             extracted_wrong_use += 1\n",
    "#             _res = '=== Wrong ==='\n",
    "#             if extracted_wrong_use > 5:\n",
    "#                 # don't print too many \n",
    "#                 continue\n",
    "                \n",
    "        print(_res if _res else '=== ??? ===')\n",
    "        print('Input seq:', _pred['input_seq'])\n",
    "        print('Cells:', _extracted_cells)\n",
    "#         print(_extracted_toks)\n",
    "        print('Gold:', _tgt_toks)\n",
    "        print('Pred:', _pred['rewrite_seq_prediction'])\n",
    "        print()\n"
   ]
  },
  {
   "cell_type": "code",
   "execution_count": 112,
   "metadata": {},
   "outputs": [
    {
     "data": {
      "text/plain": [
       "(Counter({1: 39, 5: 1, 2: 7}),\n",
       " Counter({1: 24, 5: 11, 2: 12, 3: 4, 4: 2}),\n",
       " Counter({3: 10, 1: 29, 2: 5, 5: 7, 4: 2}),\n",
       " Counter({3: 305, 5: 1196, 4: 316, 2: 313, 1: 258}))"
      ]
     },
     "execution_count": 112,
     "metadata": {},
     "output_type": "execute_result"
    }
   ],
   "source": [
    "# original ranking (no char_sim)\n",
    "hit_by_rank, miss_by_rank, misuse_by_rank, irrel_by_rank"
   ]
  },
  {
   "cell_type": "code",
   "execution_count": null,
   "metadata": {},
   "outputs": [],
   "source": []
  },
  {
   "cell_type": "code",
   "execution_count": null,
   "metadata": {},
   "outputs": [],
   "source": []
  },
  {
   "cell_type": "code",
   "execution_count": null,
   "metadata": {},
   "outputs": [],
   "source": []
  },
  {
   "cell_type": "code",
   "execution_count": null,
   "metadata": {},
   "outputs": [],
   "source": [
    "dataset_reader._token_to_phonemes('dog')"
   ]
  },
  {
   "cell_type": "code",
   "execution_count": 49,
   "metadata": {},
   "outputs": [
    {
     "data": {
      "text/plain": [
       "['science , history',\n",
       " 'kearsley brown , john deloor , joseph huts , vicente carretero',\n",
       " 'bolton county borough , little lever urban district , turton urban district']"
      ]
     },
     "execution_count": 49,
     "metadata": {},
     "output_type": "execute_result"
    }
   ],
   "source": [
    "_db_str = ' '.join(predictor_output['input_seq']).split(' [SEP] ')[-1]\n",
    "_extracted_cells = re.findall(r'\\(\\s(.+?)\\s\\)', _db_str)\n",
    "_extracted_cells"
   ]
  },
  {
   "cell_type": "code",
   "execution_count": 46,
   "metadata": {},
   "outputs": [
    {
     "data": {
      "text/plain": [
       "'course : course id ; staring date ; course ( science , history ) . course arrange : course id ; teacher id ; grade . teacher : teacher id ; name ( kearsley brown , john deloor , joseph huts , vicente carretero ) ; age ; hometown ( bolton county borough , little lever urban district , turton urban district ) .'"
      ]
     },
     "execution_count": 46,
     "metadata": {},
     "output_type": "execute_result"
    }
   ],
   "source": [
    "_db_str"
   ]
  },
  {
   "cell_type": "code",
   "execution_count": 50,
   "metadata": {},
   "outputs": [
    {
     "data": {
      "text/plain": [
       "3"
      ]
     },
     "execution_count": 50,
     "metadata": {},
     "output_type": "execute_result"
    }
   ],
   "source": [
    "len(_extracted_cells)"
   ]
  },
  {
   "cell_type": "markdown",
   "metadata": {},
   "source": [
    "### S2S versions compare"
   ]
  },
  {
   "cell_type": "markdown",
   "metadata": {},
   "source": [
    "#### dataset reader"
   ]
  },
  {
   "cell_type": "code",
   "execution_count": 3,
   "metadata": {},
   "outputs": [],
   "source": [
    "s2s_full_config = Params.from_file('train_configs/rewriter_3.14.7.0.jsonnet')"
   ]
  },
  {
   "cell_type": "code",
   "execution_count": 4,
   "metadata": {},
   "outputs": [
    {
     "data": {
      "text/plain": [
       "{'databases_dir': '/Users/mac/Desktop/syt/Deep-Learning/Dataset/spider/database',\n",
       " 'dataset_dir': '/Users/mac/Desktop/syt/Deep-Learning/Dataset/spider/my',\n",
       " 'db_tok2phs_dict_path': '/Users/mac/Desktop/syt/Deep-Learning/Dataset/spider/my/db/db_tok2phs.json',\n",
       " 'default_phoneme_slices': 4,\n",
       " 'include_align_tags': True,\n",
       " 'max_sequence_len': 300,\n",
       " 'pronun_dict_path': '/Users/mac/Desktop/syt/Deep-Learning/Dataset/CMUdict/cmudict-0.7b.txt',\n",
       " 'specify_full_path': False,\n",
       " 'src_token_indexers': {'bert': {'model_name': 'bert-base-uncased',\n",
       "   'type': 'pretrained_transformer_mismatched'}},\n",
       " 'tabert_model_path': '/Users/mac/Desktop/syt/Deep-Learning/Repos/TaBERT/pretrained-models/tabert_base_k1/model.bin',\n",
       " 'tables_json_fname': '/Users/mac/Desktop/syt/Deep-Learning/Dataset/spider/tables.json',\n",
       " 'tgt_token_indexers': {'tgt_tokens': {'namespace': 'tgt_tokens',\n",
       "   'type': 'single_id'}},\n",
       " 'type': 'spider_ASR_rewriter_reader_seq2seq_comb_new',\n",
       " 'use_phoneme_inputs': False,\n",
       " 'use_phoneme_labels': False,\n",
       " 'use_tabert': False,\n",
       " 'debug': True}"
      ]
     },
     "execution_count": 4,
     "metadata": {},
     "output_type": "execute_result"
    }
   ],
   "source": [
    "s2s_dsreader1_config = deepcopy(s2s_full_config['dataset_reader'])\n",
    "s2s_dsreader1_config['databases_dir'] = \"/Users/mac/Desktop/syt/Deep-Learning/Dataset/spider/database\"\n",
    "s2s_dsreader1_config['dataset_dir'] = \"/Users/mac/Desktop/syt/Deep-Learning/Dataset/spider/my\"\n",
    "s2s_dsreader1_config['tables_json_fname'] = '/Users/mac/Desktop/syt/Deep-Learning/Dataset/spider/tables.json'\n",
    "s2s_dsreader1_config['tabert_model_path'] = '/Users/mac/Desktop/syt/Deep-Learning/Repos/TaBERT/pretrained-models/tabert_base_k1/model.bin'\n",
    "s2s_dsreader1_config['pronun_dict_path'] = \"/Users/mac/Desktop/syt/Deep-Learning/Dataset/CMUdict/cmudict-0.7b.txt\"\n",
    "s2s_dsreader1_config['db_tok2phs_dict_path'] = \"/Users/mac/Desktop/syt/Deep-Learning/Dataset/spider/my/db/db_tok2phs.json\"\n",
    "s2s_dsreader1_config['debug'] = True\n",
    "s2s_dsreader1_config.as_dict()\n"
   ]
  },
  {
   "cell_type": "code",
   "execution_count": 5,
   "metadata": {},
   "outputs": [
    {
     "name": "stdout",
     "output_type": "stream",
     "text": [
      "Loading CMU Dict done: 133854 entries, 125074 words, 113745 prons\n",
      "Loading db_tok2phs Dict done: 102186 entries, 102186 words, 91693 prons\n",
      "Joint word2pron size = 202111\n",
      "[('hellenizing', {('HH', 'EH', 'L', 'AH', 'N', 'AY', 'Z', 'IH', 'NG')}), ('kinsella', {('K', 'IY', 'N', 'S', 'EH', 'L', 'AH')}), ('matsch', {('M', 'AE', 'CH')}), ('odonnel', {('OW', 'D', 'AA', 'N', 'AH', 'L')}), ('quads', {('K', 'W', 'AA', 'D', 'Z')}), (\"sears'\", {('S', 'IH', 'R', 'Z')})]\n"
     ]
    }
   ],
   "source": [
    "s2s_dataset_reader1 = DatasetReader.from_params(s2s_dsreader1_config)"
   ]
  },
  {
   "cell_type": "code",
   "execution_count": 6,
   "metadata": {},
   "outputs": [
    {
     "data": {
      "application/vnd.jupyter.widget-view+json": {
       "model_id": "7bd76d333ae846949d71602bea482659",
       "version_major": 2,
       "version_minor": 0
      },
      "text/plain": [
       "HBox(children=(IntProgress(value=1, bar_style='info', description='reading instances', max=1, style=ProgressSt…"
      ]
     },
     "metadata": {},
     "output_type": "display_data"
    },
    {
     "name": "stdout",
     "output_type": "stream",
     "text": [
      "Loading literals failed: wta_1::players\n",
      "['first_name', 'last_name', 'hand', 'country_code']\n",
      "Could not decode to UTF-8 column 'last_name' with text 'Treyes Albarrac��N'\n",
      "warning: argument \"debug\" is deprecated in speakql dataset_readers\n",
      "Question OOV: 1, [('doch', ['D', 'AA', 'K'])]\n"
     ]
    },
    {
     "name": "stderr",
     "output_type": "stream",
     "text": [
      "\n"
     ]
    },
    {
     "data": {
      "text/plain": [
       "39"
      ]
     },
     "execution_count": 6,
     "metadata": {},
     "output_type": "execute_result"
    }
   ],
   "source": [
    "random.seed(8)\n",
    "s2s_1_test_dataset = s2s_dataset_reader1.read('test')\n",
    "len(s2s_1_test_dataset)"
   ]
  },
  {
   "cell_type": "code",
   "execution_count": 7,
   "metadata": {},
   "outputs": [],
   "source": [
    "s2s_full_config_2 = Params.from_file('train_configs/rewriter_3.12.1.0.jsonnet')"
   ]
  },
  {
   "cell_type": "code",
   "execution_count": 8,
   "metadata": {},
   "outputs": [
    {
     "data": {
      "text/plain": [
       "{'databases_dir': '/Users/mac/Desktop/syt/Deep-Learning/Dataset/spider/database',\n",
       " 'dataset_dir': '/Users/mac/Desktop/syt/Deep-Learning/Dataset/spider/my',\n",
       " 'debug': True,\n",
       " 'include_align_tags': True,\n",
       " 'max_sequence_len': 300,\n",
       " 'src_token_indexers': {'bert': {'model_name': 'bert-base-uncased',\n",
       "   'type': 'pretrained_transformer_mismatched'}},\n",
       " 'tabert_model_path': '/Users/mac/Desktop/syt/Deep-Learning/Repos/TaBERT/pretrained-models/tabert_base_k1/model.bin',\n",
       " 'tables_json_fname': '/Users/mac/Desktop/syt/Deep-Learning/Dataset/spider/tables.json',\n",
       " 'tgt_token_indexers': {'tgt_tokens': {'namespace': 'tgt_tokens',\n",
       "   'type': 'single_id'}},\n",
       " 'type': 'spider_ASR_rewriter_reader_seq2seq_comb',\n",
       " 'use_tabert': False}"
      ]
     },
     "execution_count": 8,
     "metadata": {},
     "output_type": "execute_result"
    }
   ],
   "source": [
    "s2s_dsreader2_config = deepcopy(s2s_full_config_2['dataset_reader'])\n",
    "s2s_dsreader2_config['databases_dir'] = \"/Users/mac/Desktop/syt/Deep-Learning/Dataset/spider/database\"\n",
    "s2s_dsreader2_config['dataset_dir'] = \"/Users/mac/Desktop/syt/Deep-Learning/Dataset/spider/my\"\n",
    "s2s_dsreader2_config['tables_json_fname'] = '/Users/mac/Desktop/syt/Deep-Learning/Dataset/spider/tables.json'\n",
    "s2s_dsreader2_config['tabert_model_path'] = '/Users/mac/Desktop/syt/Deep-Learning/Repos/TaBERT/pretrained-models/tabert_base_k1/model.bin'\n",
    "# s2s_dsreader2_config['pronun_dict_path'] = \"/Users/mac/Desktop/syt/Deep-Learning/Dataset/CMUdict/cmudict-0.7b.txt\"\n",
    "# s2s_dsreader2_config['db_tok2phs_dict_path'] = \"/Users/mac/Desktop/syt/Deep-Learning/Dataset/spider/my/db/db_tok2phs.json\"\n",
    "s2s_dsreader2_config['debug'] = True\n",
    "s2s_dsreader2_config.as_dict()\n"
   ]
  },
  {
   "cell_type": "code",
   "execution_count": 9,
   "metadata": {},
   "outputs": [],
   "source": [
    "s2s_dataset_reader2 = DatasetReader.from_params(s2s_dsreader2_config)"
   ]
  },
  {
   "cell_type": "code",
   "execution_count": 10,
   "metadata": {},
   "outputs": [
    {
     "data": {
      "application/vnd.jupyter.widget-view+json": {
       "model_id": "20a9f92b77654debba37bcd29402a72d",
       "version_major": 2,
       "version_minor": 0
      },
      "text/plain": [
       "HBox(children=(IntProgress(value=1, bar_style='info', description='reading instances', max=1, style=ProgressSt…"
      ]
     },
     "metadata": {},
     "output_type": "display_data"
    },
    {
     "name": "stdout",
     "output_type": "stream",
     "text": [
      "warning: argument \"debug\" is deprecated in speakql dataset_readers\n"
     ]
    },
    {
     "name": "stderr",
     "output_type": "stream",
     "text": [
      "\n"
     ]
    },
    {
     "data": {
      "text/plain": [
       "39"
      ]
     },
     "execution_count": 10,
     "metadata": {},
     "output_type": "execute_result"
    }
   ],
   "source": [
    "random.seed(8)\n",
    "s2s_2_test_dataset = s2s_dataset_reader2.read('test')\n",
    "len(s2s_2_test_dataset)"
   ]
  },
  {
   "cell_type": "code",
   "execution_count": 11,
   "metadata": {},
   "outputs": [
    {
     "name": "stdout",
     "output_type": "stream",
     "text": [
      "['align_tags', 'audio_feats', 'audio_mask', 'metadata', 'ref_att_map', 'rewrite_seq_s2s', 'schema_column_ids', 'schema_mask', 'sentence', 'source_to_target', 'source_token_ids', 'target_token_ids', 'text_mask']\n",
      "['align_tags', 'audio_feats', 'audio_mask', 'metadata', 'rewrite_seq_s2s', 'schema_column_ids', 'schema_mask', 'sentence', 'source_to_target', 'source_token_ids', 'target_token_ids', 'text_mask']\n"
     ]
    }
   ],
   "source": [
    "### xx1 is 3.14.6.0, xx2 is 3.12.1.0 \n",
    "\n",
    "_idx = 5\n",
    "\n",
    "_inst1 = s2s_1_test_dataset[_idx]\n",
    "_inst2 = s2s_2_test_dataset[_idx]\n",
    "print(sorted(_inst1.fields.keys()))\n",
    "print(sorted(_inst2.fields.keys()))"
   ]
  },
  {
   "cell_type": "code",
   "execution_count": 12,
   "metadata": {},
   "outputs": [
    {
     "data": {
      "text/plain": [
       "['tokens', '_token_indexers', '_indexed_tokens']"
      ]
     },
     "execution_count": 12,
     "metadata": {},
     "output_type": "execute_result"
    }
   ],
   "source": [
    "_inst1['sentence'].__slots__"
   ]
  },
  {
   "cell_type": "code",
   "execution_count": 13,
   "metadata": {
    "scrolled": true
   },
   "outputs": [
    {
     "data": {
      "text/plain": [
       "[find,\n",
       " the,\n",
       " number,\n",
       " of,\n",
       " pets,\n",
       " whose,\n",
       " Wade,\n",
       " is,\n",
       " heavier,\n",
       " than,\n",
       " 10,\n",
       " .,\n",
       " [SEP],\n",
       " has,\n",
       " pet,\n",
       " :,\n",
       " student,\n",
       " id,\n",
       " ,,\n",
       " pet,\n",
       " id,\n",
       " .,\n",
       " pets,\n",
       " :,\n",
       " pet,\n",
       " id,\n",
       " ,,\n",
       " pet,\n",
       " type,\n",
       " ,,\n",
       " pet,\n",
       " age,\n",
       " ,,\n",
       " weight,\n",
       " .,\n",
       " student,\n",
       " :,\n",
       " student,\n",
       " id,\n",
       " ,,\n",
       " last,\n",
       " name,\n",
       " ,,\n",
       " first,\n",
       " name,\n",
       " ,,\n",
       " age,\n",
       " ,,\n",
       " sex,\n",
       " ,,\n",
       " major,\n",
       " ,,\n",
       " advisor,\n",
       " ,,\n",
       " city,\n",
       " code,\n",
       " .]"
      ]
     },
     "execution_count": 13,
     "metadata": {},
     "output_type": "execute_result"
    }
   ],
   "source": [
    "_inst1['sentence'].tokens"
   ]
  },
  {
   "cell_type": "code",
   "execution_count": 14,
   "metadata": {},
   "outputs": [
    {
     "data": {
      "text/plain": [
       "True"
      ]
     },
     "execution_count": 14,
     "metadata": {},
     "output_type": "execute_result"
    }
   ],
   "source": [
    "_inst1['sentence'].tokens == _inst2['sentence'].tokens"
   ]
  },
  {
   "cell_type": "code",
   "execution_count": 15,
   "metadata": {},
   "outputs": [
    {
     "data": {
      "text/plain": [
       "True"
      ]
     },
     "execution_count": 15,
     "metadata": {},
     "output_type": "execute_result"
    }
   ],
   "source": [
    "_inst1['audio_feats'] == _inst2['audio_feats']"
   ]
  },
  {
   "cell_type": "code",
   "execution_count": 16,
   "metadata": {},
   "outputs": [
    {
     "data": {
      "text/plain": [
       "True"
      ]
     },
     "execution_count": 16,
     "metadata": {},
     "output_type": "execute_result"
    }
   ],
   "source": [
    "_inst1['rewrite_seq_s2s'].tokens == _inst2['rewrite_seq_s2s'].tokens  # Casing diff "
   ]
  },
  {
   "cell_type": "code",
   "execution_count": 17,
   "metadata": {},
   "outputs": [
    {
     "data": {
      "text/plain": [
       "False"
      ]
     },
     "execution_count": 17,
     "metadata": {},
     "output_type": "execute_result"
    }
   ],
   "source": [
    "_inst1['metadata'] == _inst2['metadata']"
   ]
  },
  {
   "cell_type": "code",
   "execution_count": 18,
   "metadata": {},
   "outputs": [
    {
     "name": "stdout",
     "output_type": "stream",
     "text": [
      "sentence\n",
      "align_tags\n",
      "ref_att_map\n",
      "metadata\n"
     ]
    }
   ],
   "source": [
    "for k in _inst1.fields.keys():\n",
    "    if k not in _inst2 or _inst1[k] != _inst2[k]:\n",
    "        print(k)"
   ]
  },
  {
   "cell_type": "code",
   "execution_count": 19,
   "metadata": {},
   "outputs": [
    {
     "data": {
      "text/plain": [
       "['labels',\n",
       " 'sequence_field',\n",
       " '_label_namespace',\n",
       " '_indexed_labels',\n",
       " '_skip_indexing']"
      ]
     },
     "execution_count": 19,
     "metadata": {},
     "output_type": "execute_result"
    }
   ],
   "source": [
    "_inst1['align_tags'].__slots__"
   ]
  },
  {
   "cell_type": "code",
   "execution_count": 20,
   "metadata": {},
   "outputs": [
    {
     "data": {
      "text/plain": [
       "True"
      ]
     },
     "execution_count": 20,
     "metadata": {},
     "output_type": "execute_result"
    }
   ],
   "source": [
    "_inst1['align_tags'].labels == _inst2['align_tags'].labels"
   ]
  },
  {
   "cell_type": "code",
   "execution_count": 21,
   "metadata": {},
   "outputs": [
    {
     "name": "stdout",
     "output_type": "stream",
     "text": [
      "concat_len\n",
      "text_tokens\n",
      "schema_tokens\n",
      "concat_tokens\n",
      "source_tokens\n"
     ]
    }
   ],
   "source": [
    "for k in _inst1.fields['metadata'].keys():\n",
    "    if k not in _inst2.fields['metadata'] or _inst1.fields['metadata'][k] != _inst2.fields['metadata'][k]:\n",
    "        print(k)"
   ]
  },
  {
   "cell_type": "code",
   "execution_count": 101,
   "metadata": {},
   "outputs": [
    {
     "data": {
      "text/plain": [
       "['original_id',\n",
       " 'text_len',\n",
       " 'schema_len',\n",
       " 'rewrite_seq_s2s_len',\n",
       " 'source_tokens',\n",
       " 'target_tokens']"
      ]
     },
     "execution_count": 101,
     "metadata": {},
     "output_type": "execute_result"
    }
   ],
   "source": [
    "list(_inst2.fields['metadata'].keys())"
   ]
  },
  {
   "cell_type": "code",
   "execution_count": 22,
   "metadata": {
    "scrolled": true
   },
   "outputs": [
    {
     "data": {
      "text/plain": [
       "[(find, 'find'),\n",
       " (the, 'the'),\n",
       " (number, 'number'),\n",
       " (of, 'of'),\n",
       " (pets, 'pets'),\n",
       " (whose, 'whose'),\n",
       " (Wade, 'Wade'),\n",
       " (is, 'is'),\n",
       " (heavier, 'heavier'),\n",
       " (than, 'than'),\n",
       " (10, '10'),\n",
       " (., '.'),\n",
       " ([SEP], '[SEP]'),\n",
       " (has, 'has'),\n",
       " (pet, 'pet'),\n",
       " (:, ':'),\n",
       " (student, 'student'),\n",
       " (id, 'id'),\n",
       " (,, ','),\n",
       " (pet, 'pet'),\n",
       " (id, 'id'),\n",
       " (., '.'),\n",
       " (pets, 'pets'),\n",
       " (:, ':'),\n",
       " (pet, 'pet'),\n",
       " (id, 'id'),\n",
       " (,, ','),\n",
       " (pet, 'pet'),\n",
       " (type, 'type'),\n",
       " (,, ','),\n",
       " (pet, 'pet'),\n",
       " (age, 'age'),\n",
       " (,, ','),\n",
       " (weight, 'weight'),\n",
       " (., '.'),\n",
       " (student, 'student'),\n",
       " (:, ':'),\n",
       " (student, 'student'),\n",
       " (id, 'id'),\n",
       " (,, ','),\n",
       " (last, 'last'),\n",
       " (name, 'name'),\n",
       " (,, ','),\n",
       " (first, 'first'),\n",
       " (name, 'name'),\n",
       " (,, ','),\n",
       " (age, 'age'),\n",
       " (,, ','),\n",
       " (sex, 'sex'),\n",
       " (,, ','),\n",
       " (major, 'major'),\n",
       " (,, ','),\n",
       " (advisor, 'advisor'),\n",
       " (,, ','),\n",
       " (city, 'city'),\n",
       " (code, 'code'),\n",
       " (., '.')]"
      ]
     },
     "execution_count": 22,
     "metadata": {},
     "output_type": "execute_result"
    }
   ],
   "source": [
    "list(zip(_inst1.fields['metadata']['source_tokens'], _inst2.fields['metadata']['source_tokens']))"
   ]
  },
  {
   "cell_type": "code",
   "execution_count": null,
   "metadata": {},
   "outputs": [],
   "source": []
  },
  {
   "cell_type": "code",
   "execution_count": null,
   "metadata": {},
   "outputs": [],
   "source": []
  },
  {
   "cell_type": "markdown",
   "metadata": {},
   "source": [
    "#### model"
   ]
  },
  {
   "cell_type": "code",
   "execution_count": 56,
   "metadata": {},
   "outputs": [
    {
     "name": "stdout",
     "output_type": "stream",
     "text": [
      "self._start_index: 3, @start@\n",
      "self._end_index: 4, @end@\n",
      "self._pad_index: 0, @@PADDING@@\n",
      "WARNING: SpeakQLEncoder: audio_attention_layer and full_attention_layer are deprecated\n"
     ]
    }
   ],
   "source": [
    "s2s_model_1 = Model.from_archive('runs/3.14.6.0/model.tar.gz')\n",
    "s2s_model_2 = Model.from_archive('runs/3.12.1.0/model.tar.gz')"
   ]
  },
  {
   "cell_type": "code",
   "execution_count": 57,
   "metadata": {},
   "outputs": [
    {
     "data": {
      "text/plain": [
       "SpiderASRRewriter_Seq2seq_Combined_new(\n",
       "  (src_text_embedder): BasicTextFieldEmbedder(\n",
       "    (token_embedder_bert): PretrainedTransformerMismatchedEmbedder_Patched(\n",
       "      (_matched_embedder): PretrainedTransformerEmbedder_Patched(\n",
       "        (transformer_model): BertModel(\n",
       "          (embeddings): BertEmbeddings(\n",
       "            (word_embeddings): Embedding(30522, 768, padding_idx=0)\n",
       "            (position_embeddings): Embedding(512, 768)\n",
       "            (token_type_embeddings): Embedding(2, 768)\n",
       "            (LayerNorm): LayerNorm((768,), eps=1e-12, elementwise_affine=True)\n",
       "            (dropout): Dropout(p=0.1, inplace=False)\n",
       "          )\n",
       "          (encoder): BertEncoder(\n",
       "            (layer): ModuleList(\n",
       "              (0): BertLayer(\n",
       "                (attention): BertAttention(\n",
       "                  (self): BertSelfAttention(\n",
       "                    (query): Linear(in_features=768, out_features=768, bias=True)\n",
       "                    (key): Linear(in_features=768, out_features=768, bias=True)\n",
       "                    (value): Linear(in_features=768, out_features=768, bias=True)\n",
       "                    (dropout): Dropout(p=0.1, inplace=False)\n",
       "                  )\n",
       "                  (output): BertSelfOutput(\n",
       "                    (dense): Linear(in_features=768, out_features=768, bias=True)\n",
       "                    (LayerNorm): LayerNorm((768,), eps=1e-12, elementwise_affine=True)\n",
       "                    (dropout): Dropout(p=0.1, inplace=False)\n",
       "                  )\n",
       "                )\n",
       "                (intermediate): BertIntermediate(\n",
       "                  (dense): Linear(in_features=768, out_features=3072, bias=True)\n",
       "                )\n",
       "                (output): BertOutput(\n",
       "                  (dense): Linear(in_features=3072, out_features=768, bias=True)\n",
       "                  (LayerNorm): LayerNorm((768,), eps=1e-12, elementwise_affine=True)\n",
       "                  (dropout): Dropout(p=0.1, inplace=False)\n",
       "                )\n",
       "              )\n",
       "              (1): BertLayer(\n",
       "                (attention): BertAttention(\n",
       "                  (self): BertSelfAttention(\n",
       "                    (query): Linear(in_features=768, out_features=768, bias=True)\n",
       "                    (key): Linear(in_features=768, out_features=768, bias=True)\n",
       "                    (value): Linear(in_features=768, out_features=768, bias=True)\n",
       "                    (dropout): Dropout(p=0.1, inplace=False)\n",
       "                  )\n",
       "                  (output): BertSelfOutput(\n",
       "                    (dense): Linear(in_features=768, out_features=768, bias=True)\n",
       "                    (LayerNorm): LayerNorm((768,), eps=1e-12, elementwise_affine=True)\n",
       "                    (dropout): Dropout(p=0.1, inplace=False)\n",
       "                  )\n",
       "                )\n",
       "                (intermediate): BertIntermediate(\n",
       "                  (dense): Linear(in_features=768, out_features=3072, bias=True)\n",
       "                )\n",
       "                (output): BertOutput(\n",
       "                  (dense): Linear(in_features=3072, out_features=768, bias=True)\n",
       "                  (LayerNorm): LayerNorm((768,), eps=1e-12, elementwise_affine=True)\n",
       "                  (dropout): Dropout(p=0.1, inplace=False)\n",
       "                )\n",
       "              )\n",
       "              (2): BertLayer(\n",
       "                (attention): BertAttention(\n",
       "                  (self): BertSelfAttention(\n",
       "                    (query): Linear(in_features=768, out_features=768, bias=True)\n",
       "                    (key): Linear(in_features=768, out_features=768, bias=True)\n",
       "                    (value): Linear(in_features=768, out_features=768, bias=True)\n",
       "                    (dropout): Dropout(p=0.1, inplace=False)\n",
       "                  )\n",
       "                  (output): BertSelfOutput(\n",
       "                    (dense): Linear(in_features=768, out_features=768, bias=True)\n",
       "                    (LayerNorm): LayerNorm((768,), eps=1e-12, elementwise_affine=True)\n",
       "                    (dropout): Dropout(p=0.1, inplace=False)\n",
       "                  )\n",
       "                )\n",
       "                (intermediate): BertIntermediate(\n",
       "                  (dense): Linear(in_features=768, out_features=3072, bias=True)\n",
       "                )\n",
       "                (output): BertOutput(\n",
       "                  (dense): Linear(in_features=3072, out_features=768, bias=True)\n",
       "                  (LayerNorm): LayerNorm((768,), eps=1e-12, elementwise_affine=True)\n",
       "                  (dropout): Dropout(p=0.1, inplace=False)\n",
       "                )\n",
       "              )\n",
       "              (3): BertLayer(\n",
       "                (attention): BertAttention(\n",
       "                  (self): BertSelfAttention(\n",
       "                    (query): Linear(in_features=768, out_features=768, bias=True)\n",
       "                    (key): Linear(in_features=768, out_features=768, bias=True)\n",
       "                    (value): Linear(in_features=768, out_features=768, bias=True)\n",
       "                    (dropout): Dropout(p=0.1, inplace=False)\n",
       "                  )\n",
       "                  (output): BertSelfOutput(\n",
       "                    (dense): Linear(in_features=768, out_features=768, bias=True)\n",
       "                    (LayerNorm): LayerNorm((768,), eps=1e-12, elementwise_affine=True)\n",
       "                    (dropout): Dropout(p=0.1, inplace=False)\n",
       "                  )\n",
       "                )\n",
       "                (intermediate): BertIntermediate(\n",
       "                  (dense): Linear(in_features=768, out_features=3072, bias=True)\n",
       "                )\n",
       "                (output): BertOutput(\n",
       "                  (dense): Linear(in_features=3072, out_features=768, bias=True)\n",
       "                  (LayerNorm): LayerNorm((768,), eps=1e-12, elementwise_affine=True)\n",
       "                  (dropout): Dropout(p=0.1, inplace=False)\n",
       "                )\n",
       "              )\n",
       "              (4): BertLayer(\n",
       "                (attention): BertAttention(\n",
       "                  (self): BertSelfAttention(\n",
       "                    (query): Linear(in_features=768, out_features=768, bias=True)\n",
       "                    (key): Linear(in_features=768, out_features=768, bias=True)\n",
       "                    (value): Linear(in_features=768, out_features=768, bias=True)\n",
       "                    (dropout): Dropout(p=0.1, inplace=False)\n",
       "                  )\n",
       "                  (output): BertSelfOutput(\n",
       "                    (dense): Linear(in_features=768, out_features=768, bias=True)\n",
       "                    (LayerNorm): LayerNorm((768,), eps=1e-12, elementwise_affine=True)\n",
       "                    (dropout): Dropout(p=0.1, inplace=False)\n",
       "                  )\n",
       "                )\n",
       "                (intermediate): BertIntermediate(\n",
       "                  (dense): Linear(in_features=768, out_features=3072, bias=True)\n",
       "                )\n",
       "                (output): BertOutput(\n",
       "                  (dense): Linear(in_features=3072, out_features=768, bias=True)\n",
       "                  (LayerNorm): LayerNorm((768,), eps=1e-12, elementwise_affine=True)\n",
       "                  (dropout): Dropout(p=0.1, inplace=False)\n",
       "                )\n",
       "              )\n",
       "              (5): BertLayer(\n",
       "                (attention): BertAttention(\n",
       "                  (self): BertSelfAttention(\n",
       "                    (query): Linear(in_features=768, out_features=768, bias=True)\n",
       "                    (key): Linear(in_features=768, out_features=768, bias=True)\n",
       "                    (value): Linear(in_features=768, out_features=768, bias=True)\n",
       "                    (dropout): Dropout(p=0.1, inplace=False)\n",
       "                  )\n",
       "                  (output): BertSelfOutput(\n",
       "                    (dense): Linear(in_features=768, out_features=768, bias=True)\n",
       "                    (LayerNorm): LayerNorm((768,), eps=1e-12, elementwise_affine=True)\n",
       "                    (dropout): Dropout(p=0.1, inplace=False)\n",
       "                  )\n",
       "                )\n",
       "                (intermediate): BertIntermediate(\n",
       "                  (dense): Linear(in_features=768, out_features=3072, bias=True)\n",
       "                )\n",
       "                (output): BertOutput(\n",
       "                  (dense): Linear(in_features=3072, out_features=768, bias=True)\n",
       "                  (LayerNorm): LayerNorm((768,), eps=1e-12, elementwise_affine=True)\n",
       "                  (dropout): Dropout(p=0.1, inplace=False)\n",
       "                )\n",
       "              )\n",
       "              (6): BertLayer(\n",
       "                (attention): BertAttention(\n",
       "                  (self): BertSelfAttention(\n",
       "                    (query): Linear(in_features=768, out_features=768, bias=True)\n",
       "                    (key): Linear(in_features=768, out_features=768, bias=True)\n",
       "                    (value): Linear(in_features=768, out_features=768, bias=True)\n",
       "                    (dropout): Dropout(p=0.1, inplace=False)\n",
       "                  )\n",
       "                  (output): BertSelfOutput(\n",
       "                    (dense): Linear(in_features=768, out_features=768, bias=True)\n",
       "                    (LayerNorm): LayerNorm((768,), eps=1e-12, elementwise_affine=True)\n",
       "                    (dropout): Dropout(p=0.1, inplace=False)\n",
       "                  )\n",
       "                )\n",
       "                (intermediate): BertIntermediate(\n",
       "                  (dense): Linear(in_features=768, out_features=3072, bias=True)\n",
       "                )\n",
       "                (output): BertOutput(\n",
       "                  (dense): Linear(in_features=3072, out_features=768, bias=True)\n",
       "                  (LayerNorm): LayerNorm((768,), eps=1e-12, elementwise_affine=True)\n",
       "                  (dropout): Dropout(p=0.1, inplace=False)\n",
       "                )\n",
       "              )\n",
       "              (7): BertLayer(\n",
       "                (attention): BertAttention(\n",
       "                  (self): BertSelfAttention(\n",
       "                    (query): Linear(in_features=768, out_features=768, bias=True)\n",
       "                    (key): Linear(in_features=768, out_features=768, bias=True)\n",
       "                    (value): Linear(in_features=768, out_features=768, bias=True)\n",
       "                    (dropout): Dropout(p=0.1, inplace=False)\n",
       "                  )\n",
       "                  (output): BertSelfOutput(\n",
       "                    (dense): Linear(in_features=768, out_features=768, bias=True)\n",
       "                    (LayerNorm): LayerNorm((768,), eps=1e-12, elementwise_affine=True)\n",
       "                    (dropout): Dropout(p=0.1, inplace=False)\n",
       "                  )\n",
       "                )\n",
       "                (intermediate): BertIntermediate(\n",
       "                  (dense): Linear(in_features=768, out_features=3072, bias=True)\n",
       "                )\n",
       "                (output): BertOutput(\n",
       "                  (dense): Linear(in_features=3072, out_features=768, bias=True)\n",
       "                  (LayerNorm): LayerNorm((768,), eps=1e-12, elementwise_affine=True)\n",
       "                  (dropout): Dropout(p=0.1, inplace=False)\n",
       "                )\n",
       "              )\n",
       "              (8): BertLayer(\n",
       "                (attention): BertAttention(\n",
       "                  (self): BertSelfAttention(\n",
       "                    (query): Linear(in_features=768, out_features=768, bias=True)\n",
       "                    (key): Linear(in_features=768, out_features=768, bias=True)\n",
       "                    (value): Linear(in_features=768, out_features=768, bias=True)\n",
       "                    (dropout): Dropout(p=0.1, inplace=False)\n",
       "                  )\n",
       "                  (output): BertSelfOutput(\n",
       "                    (dense): Linear(in_features=768, out_features=768, bias=True)\n",
       "                    (LayerNorm): LayerNorm((768,), eps=1e-12, elementwise_affine=True)\n",
       "                    (dropout): Dropout(p=0.1, inplace=False)\n",
       "                  )\n",
       "                )\n",
       "                (intermediate): BertIntermediate(\n",
       "                  (dense): Linear(in_features=768, out_features=3072, bias=True)\n",
       "                )\n",
       "                (output): BertOutput(\n",
       "                  (dense): Linear(in_features=3072, out_features=768, bias=True)\n",
       "                  (LayerNorm): LayerNorm((768,), eps=1e-12, elementwise_affine=True)\n",
       "                  (dropout): Dropout(p=0.1, inplace=False)\n",
       "                )\n",
       "              )\n",
       "              (9): BertLayer(\n",
       "                (attention): BertAttention(\n",
       "                  (self): BertSelfAttention(\n",
       "                    (query): Linear(in_features=768, out_features=768, bias=True)\n",
       "                    (key): Linear(in_features=768, out_features=768, bias=True)\n",
       "                    (value): Linear(in_features=768, out_features=768, bias=True)\n",
       "                    (dropout): Dropout(p=0.1, inplace=False)\n",
       "                  )\n",
       "                  (output): BertSelfOutput(\n",
       "                    (dense): Linear(in_features=768, out_features=768, bias=True)\n",
       "                    (LayerNorm): LayerNorm((768,), eps=1e-12, elementwise_affine=True)\n",
       "                    (dropout): Dropout(p=0.1, inplace=False)\n",
       "                  )\n",
       "                )\n",
       "                (intermediate): BertIntermediate(\n",
       "                  (dense): Linear(in_features=768, out_features=3072, bias=True)\n",
       "                )\n",
       "                (output): BertOutput(\n",
       "                  (dense): Linear(in_features=3072, out_features=768, bias=True)\n",
       "                  (LayerNorm): LayerNorm((768,), eps=1e-12, elementwise_affine=True)\n",
       "                  (dropout): Dropout(p=0.1, inplace=False)\n",
       "                )\n",
       "              )\n",
       "              (10): BertLayer(\n",
       "                (attention): BertAttention(\n",
       "                  (self): BertSelfAttention(\n",
       "                    (query): Linear(in_features=768, out_features=768, bias=True)\n",
       "                    (key): Linear(in_features=768, out_features=768, bias=True)\n",
       "                    (value): Linear(in_features=768, out_features=768, bias=True)\n",
       "                    (dropout): Dropout(p=0.1, inplace=False)\n",
       "                  )\n",
       "                  (output): BertSelfOutput(\n",
       "                    (dense): Linear(in_features=768, out_features=768, bias=True)\n",
       "                    (LayerNorm): LayerNorm((768,), eps=1e-12, elementwise_affine=True)\n",
       "                    (dropout): Dropout(p=0.1, inplace=False)\n",
       "                  )\n",
       "                )\n",
       "                (intermediate): BertIntermediate(\n",
       "                  (dense): Linear(in_features=768, out_features=3072, bias=True)\n",
       "                )\n",
       "                (output): BertOutput(\n",
       "                  (dense): Linear(in_features=3072, out_features=768, bias=True)\n",
       "                  (LayerNorm): LayerNorm((768,), eps=1e-12, elementwise_affine=True)\n",
       "                  (dropout): Dropout(p=0.1, inplace=False)\n",
       "                )\n",
       "              )\n",
       "              (11): BertLayer(\n",
       "                (attention): BertAttention(\n",
       "                  (self): BertSelfAttention(\n",
       "                    (query): Linear(in_features=768, out_features=768, bias=True)\n",
       "                    (key): Linear(in_features=768, out_features=768, bias=True)\n",
       "                    (value): Linear(in_features=768, out_features=768, bias=True)\n",
       "                    (dropout): Dropout(p=0.1, inplace=False)\n",
       "                  )\n",
       "                  (output): BertSelfOutput(\n",
       "                    (dense): Linear(in_features=768, out_features=768, bias=True)\n",
       "                    (LayerNorm): LayerNorm((768,), eps=1e-12, elementwise_affine=True)\n",
       "                    (dropout): Dropout(p=0.1, inplace=False)\n",
       "                  )\n",
       "                )\n",
       "                (intermediate): BertIntermediate(\n",
       "                  (dense): Linear(in_features=768, out_features=3072, bias=True)\n",
       "                )\n",
       "                (output): BertOutput(\n",
       "                  (dense): Linear(in_features=3072, out_features=768, bias=True)\n",
       "                  (LayerNorm): LayerNorm((768,), eps=1e-12, elementwise_affine=True)\n",
       "                  (dropout): Dropout(p=0.1, inplace=False)\n",
       "                )\n",
       "              )\n",
       "            )\n",
       "          )\n",
       "          (pooler): BertPooler(\n",
       "            (dense): Linear(in_features=768, out_features=768, bias=True)\n",
       "            (activation): Tanh()\n",
       "          )\n",
       "        )\n",
       "        (_scalar_mix): ScalarMix(\n",
       "          (scalar_parameters): ParameterList(\n",
       "              (0): Parameter containing: [torch.FloatTensor of size 1]\n",
       "              (1): Parameter containing: [torch.FloatTensor of size 1]\n",
       "              (2): Parameter containing: [torch.FloatTensor of size 1]\n",
       "              (3): Parameter containing: [torch.FloatTensor of size 1]\n",
       "              (4): Parameter containing: [torch.FloatTensor of size 1]\n",
       "              (5): Parameter containing: [torch.FloatTensor of size 1]\n",
       "              (6): Parameter containing: [torch.FloatTensor of size 1]\n",
       "              (7): Parameter containing: [torch.FloatTensor of size 1]\n",
       "              (8): Parameter containing: [torch.FloatTensor of size 1]\n",
       "              (9): Parameter containing: [torch.FloatTensor of size 1]\n",
       "              (10): Parameter containing: [torch.FloatTensor of size 1]\n",
       "              (11): Parameter containing: [torch.FloatTensor of size 1]\n",
       "          )\n",
       "        )\n",
       "      )\n",
       "    )\n",
       "  )\n",
       "  (align_tag_embedder): Embedding()\n",
       "  (audio_seq2vec_encoder): CnnEncoder(\n",
       "    (_activation): ReLU()\n",
       "    (conv_layer_0): Conv1d(68, 4, kernel_size=(2,), stride=(1,))\n",
       "    (conv_layer_1): Conv1d(68, 4, kernel_size=(3,), stride=(1,))\n",
       "    (conv_layer_2): Conv1d(68, 4, kernel_size=(4,), stride=(1,))\n",
       "    (conv_layer_3): Conv1d(68, 4, kernel_size=(5,), stride=(1,))\n",
       "    (projection_layer): Linear(in_features=16, out_features=128, bias=True)\n",
       "  )\n",
       "  (encoder): SpeakQLEncoderV1(\n",
       "    (attention_layer): CosineMatrixAttention()\n",
       "    (seq2seq_encoders): ModuleList(\n",
       "      (0): LstmSeq2SeqEncoder(\n",
       "        (_module): LSTM(960, 128, batch_first=True, bidirectional=True)\n",
       "      )\n",
       "    )\n",
       "  )\n",
       "  (rewrite_decoder): CopyNetSeqDecoder(\n",
       "    (target_embedder): Embedding()\n",
       "    (_attention): CosineAttention()\n",
       "    (_input_projection_layer): Linear(in_features=812, out_features=256, bias=True)\n",
       "    (_decoder_cell): LSTMCell(256, 256)\n",
       "    (_output_generation_layer): Linear(in_features=256, out_features=3359, bias=True)\n",
       "    (_output_copying_layer): Linear(in_features=256, out_features=256, bias=True)\n",
       "  )\n",
       ")"
      ]
     },
     "execution_count": 57,
     "metadata": {},
     "output_type": "execute_result"
    }
   ],
   "source": [
    "s2s_model_1"
   ]
  },
  {
   "cell_type": "code",
   "execution_count": 58,
   "metadata": {},
   "outputs": [
    {
     "data": {
      "text/plain": [
       "SpiderASRRewriter_Seq2seq_Combined(\n",
       "  (src_text_embedder): BasicTextFieldEmbedder(\n",
       "    (token_embedder_bert): PretrainedTransformerMismatchedEmbedder(\n",
       "      (_matched_embedder): PretrainedTransformerEmbedder(\n",
       "        (transformer_model): BertModel(\n",
       "          (embeddings): BertEmbeddings(\n",
       "            (word_embeddings): Embedding(30522, 768, padding_idx=0)\n",
       "            (position_embeddings): Embedding(512, 768)\n",
       "            (token_type_embeddings): Embedding(2, 768)\n",
       "            (LayerNorm): LayerNorm((768,), eps=1e-12, elementwise_affine=True)\n",
       "            (dropout): Dropout(p=0.1, inplace=False)\n",
       "          )\n",
       "          (encoder): BertEncoder(\n",
       "            (layer): ModuleList(\n",
       "              (0): BertLayer(\n",
       "                (attention): BertAttention(\n",
       "                  (self): BertSelfAttention(\n",
       "                    (query): Linear(in_features=768, out_features=768, bias=True)\n",
       "                    (key): Linear(in_features=768, out_features=768, bias=True)\n",
       "                    (value): Linear(in_features=768, out_features=768, bias=True)\n",
       "                    (dropout): Dropout(p=0.1, inplace=False)\n",
       "                  )\n",
       "                  (output): BertSelfOutput(\n",
       "                    (dense): Linear(in_features=768, out_features=768, bias=True)\n",
       "                    (LayerNorm): LayerNorm((768,), eps=1e-12, elementwise_affine=True)\n",
       "                    (dropout): Dropout(p=0.1, inplace=False)\n",
       "                  )\n",
       "                )\n",
       "                (intermediate): BertIntermediate(\n",
       "                  (dense): Linear(in_features=768, out_features=3072, bias=True)\n",
       "                )\n",
       "                (output): BertOutput(\n",
       "                  (dense): Linear(in_features=3072, out_features=768, bias=True)\n",
       "                  (LayerNorm): LayerNorm((768,), eps=1e-12, elementwise_affine=True)\n",
       "                  (dropout): Dropout(p=0.1, inplace=False)\n",
       "                )\n",
       "              )\n",
       "              (1): BertLayer(\n",
       "                (attention): BertAttention(\n",
       "                  (self): BertSelfAttention(\n",
       "                    (query): Linear(in_features=768, out_features=768, bias=True)\n",
       "                    (key): Linear(in_features=768, out_features=768, bias=True)\n",
       "                    (value): Linear(in_features=768, out_features=768, bias=True)\n",
       "                    (dropout): Dropout(p=0.1, inplace=False)\n",
       "                  )\n",
       "                  (output): BertSelfOutput(\n",
       "                    (dense): Linear(in_features=768, out_features=768, bias=True)\n",
       "                    (LayerNorm): LayerNorm((768,), eps=1e-12, elementwise_affine=True)\n",
       "                    (dropout): Dropout(p=0.1, inplace=False)\n",
       "                  )\n",
       "                )\n",
       "                (intermediate): BertIntermediate(\n",
       "                  (dense): Linear(in_features=768, out_features=3072, bias=True)\n",
       "                )\n",
       "                (output): BertOutput(\n",
       "                  (dense): Linear(in_features=3072, out_features=768, bias=True)\n",
       "                  (LayerNorm): LayerNorm((768,), eps=1e-12, elementwise_affine=True)\n",
       "                  (dropout): Dropout(p=0.1, inplace=False)\n",
       "                )\n",
       "              )\n",
       "              (2): BertLayer(\n",
       "                (attention): BertAttention(\n",
       "                  (self): BertSelfAttention(\n",
       "                    (query): Linear(in_features=768, out_features=768, bias=True)\n",
       "                    (key): Linear(in_features=768, out_features=768, bias=True)\n",
       "                    (value): Linear(in_features=768, out_features=768, bias=True)\n",
       "                    (dropout): Dropout(p=0.1, inplace=False)\n",
       "                  )\n",
       "                  (output): BertSelfOutput(\n",
       "                    (dense): Linear(in_features=768, out_features=768, bias=True)\n",
       "                    (LayerNorm): LayerNorm((768,), eps=1e-12, elementwise_affine=True)\n",
       "                    (dropout): Dropout(p=0.1, inplace=False)\n",
       "                  )\n",
       "                )\n",
       "                (intermediate): BertIntermediate(\n",
       "                  (dense): Linear(in_features=768, out_features=3072, bias=True)\n",
       "                )\n",
       "                (output): BertOutput(\n",
       "                  (dense): Linear(in_features=3072, out_features=768, bias=True)\n",
       "                  (LayerNorm): LayerNorm((768,), eps=1e-12, elementwise_affine=True)\n",
       "                  (dropout): Dropout(p=0.1, inplace=False)\n",
       "                )\n",
       "              )\n",
       "              (3): BertLayer(\n",
       "                (attention): BertAttention(\n",
       "                  (self): BertSelfAttention(\n",
       "                    (query): Linear(in_features=768, out_features=768, bias=True)\n",
       "                    (key): Linear(in_features=768, out_features=768, bias=True)\n",
       "                    (value): Linear(in_features=768, out_features=768, bias=True)\n",
       "                    (dropout): Dropout(p=0.1, inplace=False)\n",
       "                  )\n",
       "                  (output): BertSelfOutput(\n",
       "                    (dense): Linear(in_features=768, out_features=768, bias=True)\n",
       "                    (LayerNorm): LayerNorm((768,), eps=1e-12, elementwise_affine=True)\n",
       "                    (dropout): Dropout(p=0.1, inplace=False)\n",
       "                  )\n",
       "                )\n",
       "                (intermediate): BertIntermediate(\n",
       "                  (dense): Linear(in_features=768, out_features=3072, bias=True)\n",
       "                )\n",
       "                (output): BertOutput(\n",
       "                  (dense): Linear(in_features=3072, out_features=768, bias=True)\n",
       "                  (LayerNorm): LayerNorm((768,), eps=1e-12, elementwise_affine=True)\n",
       "                  (dropout): Dropout(p=0.1, inplace=False)\n",
       "                )\n",
       "              )\n",
       "              (4): BertLayer(\n",
       "                (attention): BertAttention(\n",
       "                  (self): BertSelfAttention(\n",
       "                    (query): Linear(in_features=768, out_features=768, bias=True)\n",
       "                    (key): Linear(in_features=768, out_features=768, bias=True)\n",
       "                    (value): Linear(in_features=768, out_features=768, bias=True)\n",
       "                    (dropout): Dropout(p=0.1, inplace=False)\n",
       "                  )\n",
       "                  (output): BertSelfOutput(\n",
       "                    (dense): Linear(in_features=768, out_features=768, bias=True)\n",
       "                    (LayerNorm): LayerNorm((768,), eps=1e-12, elementwise_affine=True)\n",
       "                    (dropout): Dropout(p=0.1, inplace=False)\n",
       "                  )\n",
       "                )\n",
       "                (intermediate): BertIntermediate(\n",
       "                  (dense): Linear(in_features=768, out_features=3072, bias=True)\n",
       "                )\n",
       "                (output): BertOutput(\n",
       "                  (dense): Linear(in_features=3072, out_features=768, bias=True)\n",
       "                  (LayerNorm): LayerNorm((768,), eps=1e-12, elementwise_affine=True)\n",
       "                  (dropout): Dropout(p=0.1, inplace=False)\n",
       "                )\n",
       "              )\n",
       "              (5): BertLayer(\n",
       "                (attention): BertAttention(\n",
       "                  (self): BertSelfAttention(\n",
       "                    (query): Linear(in_features=768, out_features=768, bias=True)\n",
       "                    (key): Linear(in_features=768, out_features=768, bias=True)\n",
       "                    (value): Linear(in_features=768, out_features=768, bias=True)\n",
       "                    (dropout): Dropout(p=0.1, inplace=False)\n",
       "                  )\n",
       "                  (output): BertSelfOutput(\n",
       "                    (dense): Linear(in_features=768, out_features=768, bias=True)\n",
       "                    (LayerNorm): LayerNorm((768,), eps=1e-12, elementwise_affine=True)\n",
       "                    (dropout): Dropout(p=0.1, inplace=False)\n",
       "                  )\n",
       "                )\n",
       "                (intermediate): BertIntermediate(\n",
       "                  (dense): Linear(in_features=768, out_features=3072, bias=True)\n",
       "                )\n",
       "                (output): BertOutput(\n",
       "                  (dense): Linear(in_features=3072, out_features=768, bias=True)\n",
       "                  (LayerNorm): LayerNorm((768,), eps=1e-12, elementwise_affine=True)\n",
       "                  (dropout): Dropout(p=0.1, inplace=False)\n",
       "                )\n",
       "              )\n",
       "              (6): BertLayer(\n",
       "                (attention): BertAttention(\n",
       "                  (self): BertSelfAttention(\n",
       "                    (query): Linear(in_features=768, out_features=768, bias=True)\n",
       "                    (key): Linear(in_features=768, out_features=768, bias=True)\n",
       "                    (value): Linear(in_features=768, out_features=768, bias=True)\n",
       "                    (dropout): Dropout(p=0.1, inplace=False)\n",
       "                  )\n",
       "                  (output): BertSelfOutput(\n",
       "                    (dense): Linear(in_features=768, out_features=768, bias=True)\n",
       "                    (LayerNorm): LayerNorm((768,), eps=1e-12, elementwise_affine=True)\n",
       "                    (dropout): Dropout(p=0.1, inplace=False)\n",
       "                  )\n",
       "                )\n",
       "                (intermediate): BertIntermediate(\n",
       "                  (dense): Linear(in_features=768, out_features=3072, bias=True)\n",
       "                )\n",
       "                (output): BertOutput(\n",
       "                  (dense): Linear(in_features=3072, out_features=768, bias=True)\n",
       "                  (LayerNorm): LayerNorm((768,), eps=1e-12, elementwise_affine=True)\n",
       "                  (dropout): Dropout(p=0.1, inplace=False)\n",
       "                )\n",
       "              )\n",
       "              (7): BertLayer(\n",
       "                (attention): BertAttention(\n",
       "                  (self): BertSelfAttention(\n",
       "                    (query): Linear(in_features=768, out_features=768, bias=True)\n",
       "                    (key): Linear(in_features=768, out_features=768, bias=True)\n",
       "                    (value): Linear(in_features=768, out_features=768, bias=True)\n",
       "                    (dropout): Dropout(p=0.1, inplace=False)\n",
       "                  )\n",
       "                  (output): BertSelfOutput(\n",
       "                    (dense): Linear(in_features=768, out_features=768, bias=True)\n",
       "                    (LayerNorm): LayerNorm((768,), eps=1e-12, elementwise_affine=True)\n",
       "                    (dropout): Dropout(p=0.1, inplace=False)\n",
       "                  )\n",
       "                )\n",
       "                (intermediate): BertIntermediate(\n",
       "                  (dense): Linear(in_features=768, out_features=3072, bias=True)\n",
       "                )\n",
       "                (output): BertOutput(\n",
       "                  (dense): Linear(in_features=3072, out_features=768, bias=True)\n",
       "                  (LayerNorm): LayerNorm((768,), eps=1e-12, elementwise_affine=True)\n",
       "                  (dropout): Dropout(p=0.1, inplace=False)\n",
       "                )\n",
       "              )\n",
       "              (8): BertLayer(\n",
       "                (attention): BertAttention(\n",
       "                  (self): BertSelfAttention(\n",
       "                    (query): Linear(in_features=768, out_features=768, bias=True)\n",
       "                    (key): Linear(in_features=768, out_features=768, bias=True)\n",
       "                    (value): Linear(in_features=768, out_features=768, bias=True)\n",
       "                    (dropout): Dropout(p=0.1, inplace=False)\n",
       "                  )\n",
       "                  (output): BertSelfOutput(\n",
       "                    (dense): Linear(in_features=768, out_features=768, bias=True)\n",
       "                    (LayerNorm): LayerNorm((768,), eps=1e-12, elementwise_affine=True)\n",
       "                    (dropout): Dropout(p=0.1, inplace=False)\n",
       "                  )\n",
       "                )\n",
       "                (intermediate): BertIntermediate(\n",
       "                  (dense): Linear(in_features=768, out_features=3072, bias=True)\n",
       "                )\n",
       "                (output): BertOutput(\n",
       "                  (dense): Linear(in_features=3072, out_features=768, bias=True)\n",
       "                  (LayerNorm): LayerNorm((768,), eps=1e-12, elementwise_affine=True)\n",
       "                  (dropout): Dropout(p=0.1, inplace=False)\n",
       "                )\n",
       "              )\n",
       "              (9): BertLayer(\n",
       "                (attention): BertAttention(\n",
       "                  (self): BertSelfAttention(\n",
       "                    (query): Linear(in_features=768, out_features=768, bias=True)\n",
       "                    (key): Linear(in_features=768, out_features=768, bias=True)\n",
       "                    (value): Linear(in_features=768, out_features=768, bias=True)\n",
       "                    (dropout): Dropout(p=0.1, inplace=False)\n",
       "                  )\n",
       "                  (output): BertSelfOutput(\n",
       "                    (dense): Linear(in_features=768, out_features=768, bias=True)\n",
       "                    (LayerNorm): LayerNorm((768,), eps=1e-12, elementwise_affine=True)\n",
       "                    (dropout): Dropout(p=0.1, inplace=False)\n",
       "                  )\n",
       "                )\n",
       "                (intermediate): BertIntermediate(\n",
       "                  (dense): Linear(in_features=768, out_features=3072, bias=True)\n",
       "                )\n",
       "                (output): BertOutput(\n",
       "                  (dense): Linear(in_features=3072, out_features=768, bias=True)\n",
       "                  (LayerNorm): LayerNorm((768,), eps=1e-12, elementwise_affine=True)\n",
       "                  (dropout): Dropout(p=0.1, inplace=False)\n",
       "                )\n",
       "              )\n",
       "              (10): BertLayer(\n",
       "                (attention): BertAttention(\n",
       "                  (self): BertSelfAttention(\n",
       "                    (query): Linear(in_features=768, out_features=768, bias=True)\n",
       "                    (key): Linear(in_features=768, out_features=768, bias=True)\n",
       "                    (value): Linear(in_features=768, out_features=768, bias=True)\n",
       "                    (dropout): Dropout(p=0.1, inplace=False)\n",
       "                  )\n",
       "                  (output): BertSelfOutput(\n",
       "                    (dense): Linear(in_features=768, out_features=768, bias=True)\n",
       "                    (LayerNorm): LayerNorm((768,), eps=1e-12, elementwise_affine=True)\n",
       "                    (dropout): Dropout(p=0.1, inplace=False)\n",
       "                  )\n",
       "                )\n",
       "                (intermediate): BertIntermediate(\n",
       "                  (dense): Linear(in_features=768, out_features=3072, bias=True)\n",
       "                )\n",
       "                (output): BertOutput(\n",
       "                  (dense): Linear(in_features=3072, out_features=768, bias=True)\n",
       "                  (LayerNorm): LayerNorm((768,), eps=1e-12, elementwise_affine=True)\n",
       "                  (dropout): Dropout(p=0.1, inplace=False)\n",
       "                )\n",
       "              )\n",
       "              (11): BertLayer(\n",
       "                (attention): BertAttention(\n",
       "                  (self): BertSelfAttention(\n",
       "                    (query): Linear(in_features=768, out_features=768, bias=True)\n",
       "                    (key): Linear(in_features=768, out_features=768, bias=True)\n",
       "                    (value): Linear(in_features=768, out_features=768, bias=True)\n",
       "                    (dropout): Dropout(p=0.1, inplace=False)\n",
       "                  )\n",
       "                  (output): BertSelfOutput(\n",
       "                    (dense): Linear(in_features=768, out_features=768, bias=True)\n",
       "                    (LayerNorm): LayerNorm((768,), eps=1e-12, elementwise_affine=True)\n",
       "                    (dropout): Dropout(p=0.1, inplace=False)\n",
       "                  )\n",
       "                )\n",
       "                (intermediate): BertIntermediate(\n",
       "                  (dense): Linear(in_features=768, out_features=3072, bias=True)\n",
       "                )\n",
       "                (output): BertOutput(\n",
       "                  (dense): Linear(in_features=3072, out_features=768, bias=True)\n",
       "                  (LayerNorm): LayerNorm((768,), eps=1e-12, elementwise_affine=True)\n",
       "                  (dropout): Dropout(p=0.1, inplace=False)\n",
       "                )\n",
       "              )\n",
       "            )\n",
       "          )\n",
       "          (pooler): BertPooler(\n",
       "            (dense): Linear(in_features=768, out_features=768, bias=True)\n",
       "            (activation): Tanh()\n",
       "          )\n",
       "        )\n",
       "        (_scalar_mix): ScalarMix(\n",
       "          (scalar_parameters): ParameterList(\n",
       "              (0): Parameter containing: [torch.FloatTensor of size 1]\n",
       "              (1): Parameter containing: [torch.FloatTensor of size 1]\n",
       "              (2): Parameter containing: [torch.FloatTensor of size 1]\n",
       "              (3): Parameter containing: [torch.FloatTensor of size 1]\n",
       "              (4): Parameter containing: [torch.FloatTensor of size 1]\n",
       "              (5): Parameter containing: [torch.FloatTensor of size 1]\n",
       "              (6): Parameter containing: [torch.FloatTensor of size 1]\n",
       "              (7): Parameter containing: [torch.FloatTensor of size 1]\n",
       "              (8): Parameter containing: [torch.FloatTensor of size 1]\n",
       "              (9): Parameter containing: [torch.FloatTensor of size 1]\n",
       "              (10): Parameter containing: [torch.FloatTensor of size 1]\n",
       "              (11): Parameter containing: [torch.FloatTensor of size 1]\n",
       "          )\n",
       "        )\n",
       "      )\n",
       "    )\n",
       "  )\n",
       "  (align_tag_embedder): Embedding()\n",
       "  (audio_seq2vec_encoder): CnnEncoder(\n",
       "    (_activation): ReLU()\n",
       "    (conv_layer_0): Conv1d(68, 4, kernel_size=(2,), stride=(1,))\n",
       "    (conv_layer_1): Conv1d(68, 4, kernel_size=(3,), stride=(1,))\n",
       "    (conv_layer_2): Conv1d(68, 4, kernel_size=(4,), stride=(1,))\n",
       "    (conv_layer_3): Conv1d(68, 4, kernel_size=(5,), stride=(1,))\n",
       "    (projection_layer): Linear(in_features=16, out_features=128, bias=True)\n",
       "  )\n",
       "  (encoder): SpeakQLEncoderV1(\n",
       "    (audio_attention_layer): CosineMatrixAttention()\n",
       "    (seq2seq_encoders): ModuleList(\n",
       "      (0): LstmSeq2SeqEncoder(\n",
       "        (_module): LSTM(960, 128, batch_first=True, bidirectional=True)\n",
       "      )\n",
       "    )\n",
       "    (seq2vec_encoder): LstmSeq2VecEncoder(\n",
       "      (_module): LSTM(256, 128, batch_first=True, bidirectional=True)\n",
       "    )\n",
       "  )\n",
       "  (rewrite_decoder): CopyNetSeqDecoder(\n",
       "    (target_embedder): Embedding()\n",
       "    (_attention): CosineAttention()\n",
       "    (_input_projection_layer): Linear(in_features=812, out_features=256, bias=True)\n",
       "    (_decoder_cell): LSTMCell(256, 256)\n",
       "    (_output_generation_layer): Linear(in_features=256, out_features=3610, bias=True)\n",
       "    (_output_copying_layer): Linear(in_features=256, out_features=256, bias=True)\n",
       "  )\n",
       ")"
      ]
     },
     "execution_count": 58,
     "metadata": {},
     "output_type": "execute_result"
    }
   ],
   "source": [
    "s2s_model_2"
   ]
  },
  {
   "cell_type": "code",
   "execution_count": null,
   "metadata": {},
   "outputs": [],
   "source": []
  },
  {
   "cell_type": "code",
   "execution_count": null,
   "metadata": {},
   "outputs": [],
   "source": []
  },
  {
   "cell_type": "code",
   "execution_count": null,
   "metadata": {},
   "outputs": [],
   "source": []
  },
  {
   "cell_type": "markdown",
   "metadata": {},
   "source": [
    "### Temp"
   ]
  },
  {
   "cell_type": "code",
   "execution_count": 122,
   "metadata": {},
   "outputs": [
    {
     "data": {
      "text/plain": [
       "array([[1.        , 0.83333333, 0.5       , 0.        , 0.        ,\n",
       "        0.        , 0.        , 0.        , 0.        , 1.        ],\n",
       "       [0.83333333, 1.        , 0.6       , 0.        , 0.        ,\n",
       "        0.        , 0.        , 0.        , 0.        , 0.83333333],\n",
       "       [0.5       , 0.6       , 1.        , 0.        , 0.        ,\n",
       "        0.        , 0.        , 0.        , 0.        , 0.5       ],\n",
       "       [0.        , 0.        , 0.        , 1.        , 0.        ,\n",
       "        0.        , 0.        , 0.        , 0.        , 0.        ],\n",
       "       [0.        , 0.        , 0.        , 0.        , 0.        ,\n",
       "        0.        , 0.        , 0.        , 0.        , 0.        ],\n",
       "       [0.        , 0.        , 0.        , 0.        , 0.        ,\n",
       "        1.        , 0.        , 0.        , 0.2       , 0.        ],\n",
       "       [0.        , 0.        , 0.        , 0.        , 0.        ,\n",
       "        0.        , 0.        , 0.        , 0.        , 0.        ],\n",
       "       [0.        , 0.        , 0.        , 0.        , 0.        ,\n",
       "        0.        , 0.        , 0.        , 0.        , 0.        ],\n",
       "       [0.        , 0.        , 0.        , 0.        , 0.        ,\n",
       "        0.2       , 0.        , 0.        , 1.        , 0.        ],\n",
       "       [1.        , 0.83333333, 0.5       , 0.        , 0.        ,\n",
       "        0.        , 0.        , 0.        , 0.        , 1.        ]])"
      ]
     },
     "execution_count": 122,
     "metadata": {},
     "output_type": "execute_result"
    }
   ],
   "source": [
    "# concat_tokens = _test_instance.fields['sentence'].tokens\n",
    "concat_tokens = ['friends', 'friend', 'find', 'how', '[SEP]', 'table', ':', 'num', 'of', 'friends']\n",
    "\n",
    "pron_sim_map = ConstructWordSimMatrix(\n",
    "    sen=[str(t) for t in concat_tokens],\n",
    "    word2pron=word2pron,\n",
    "    sim_func=WordPronSimilarity,\n",
    "    default_val=0.0,\n",
    "    skip_punct=True)\n",
    "\n",
    "pron_sim_map"
   ]
  },
  {
   "cell_type": "code",
   "execution_count": 123,
   "metadata": {},
   "outputs": [
    {
     "data": {
      "text/plain": [
       "array([[0.3       , 0.25      , 0.15      , 0.        , 0.        ,\n",
       "        0.        , 0.        , 0.        , 0.        , 0.3       ],\n",
       "       [0.25510204, 0.30612245, 0.18367347, 0.        , 0.        ,\n",
       "        0.        , 0.        , 0.        , 0.        , 0.25510204],\n",
       "       [0.19230769, 0.23076923, 0.38461538, 0.        , 0.        ,\n",
       "        0.        , 0.        , 0.        , 0.        , 0.19230769],\n",
       "       [0.        , 0.        , 0.        , 1.        , 0.        ,\n",
       "        0.        , 0.        , 0.        , 0.        , 0.        ],\n",
       "       [0.        , 0.        , 0.        , 0.        , 0.        ,\n",
       "        0.        , 0.        , 0.        , 0.        , 0.        ],\n",
       "       [0.        , 0.        , 0.        , 0.        , 0.        ,\n",
       "        0.83333333, 0.        , 0.        , 0.16666667, 0.        ],\n",
       "       [0.        , 0.        , 0.        , 0.        , 0.        ,\n",
       "        0.        , 0.        , 0.        , 0.        , 0.        ],\n",
       "       [0.        , 0.        , 0.        , 0.        , 0.        ,\n",
       "        0.        , 0.        , 0.        , 0.        , 0.        ],\n",
       "       [0.        , 0.        , 0.        , 0.        , 0.        ,\n",
       "        0.16666667, 0.        , 0.        , 0.83333333, 0.        ],\n",
       "       [0.3       , 0.25      , 0.15      , 0.        , 0.        ,\n",
       "        0.        , 0.        , 0.        , 0.        , 0.3       ]])"
      ]
     },
     "execution_count": 123,
     "metadata": {},
     "output_type": "execute_result"
    }
   ],
   "source": [
    "# Normalize by sum (TODO: other ways, like softmax?)\n",
    "_row_sum = pron_sim_map.sum(axis=-1)\n",
    "_row_nonzero = _row_sum > 0\n",
    "pron_sim_map[_row_nonzero] /= np.expand_dims(_row_sum[_row_nonzero], -1)\n",
    "\n",
    "pron_sim_map"
   ]
  },
  {
   "cell_type": "code",
   "execution_count": 127,
   "metadata": {},
   "outputs": [
    {
     "data": {
      "text/plain": [
       "(torch.Size([3, 4]), torch.Size([3, 4, 4]))"
      ]
     },
     "execution_count": 127,
     "metadata": {},
     "output_type": "execute_result"
    }
   ],
   "source": [
    "## Mask bug?\n",
    "\n",
    "# bs = 3, seq_len = 4, dim = 5\n",
    "\n",
    "_mask = torch.BoolTensor([\n",
    "    [True, True, True, True],\n",
    "    [True, True, True, False],\n",
    "    [True, True, False, False],\n",
    "])\n",
    "\n",
    "_feats = torch.randn((3, 4, 5), dtype=float)\n",
    "_att_logits = MatrixAttention.by_name('cosine')()(_feats, _feats)\n",
    "_mask.size(), _att_logits.size()"
   ]
  },
  {
   "cell_type": "code",
   "execution_count": 128,
   "metadata": {},
   "outputs": [
    {
     "data": {
      "text/plain": [
       "tensor([[[ 1.0000,  0.3740, -0.0260,  0.1881],\n",
       "         [ 0.3740,  1.0000, -0.7936,  0.2620],\n",
       "         [-0.0260, -0.7936,  1.0000, -0.2593],\n",
       "         [ 0.1881,  0.2620, -0.2593,  1.0000]],\n",
       "\n",
       "        [[ 1.0000, -0.5239,  0.5875,  0.0541],\n",
       "         [-0.5239,  1.0000,  0.2373,  0.4480],\n",
       "         [ 0.5875,  0.2373,  1.0000,  0.2236],\n",
       "         [ 0.0541,  0.4480,  0.2236,  1.0000]],\n",
       "\n",
       "        [[ 1.0000,  0.5334, -0.1516,  0.1151],\n",
       "         [ 0.5334,  1.0000,  0.5737, -0.2097],\n",
       "         [-0.1516,  0.5737,  1.0000, -0.8279],\n",
       "         [ 0.1151, -0.2097, -0.8279,  1.0000]]], dtype=torch.float64)"
      ]
     },
     "execution_count": 128,
     "metadata": {},
     "output_type": "execute_result"
    }
   ],
   "source": [
    "_att_logits"
   ]
  },
  {
   "cell_type": "code",
   "execution_count": 129,
   "metadata": {},
   "outputs": [
    {
     "data": {
      "text/plain": [
       "tensor([[[0.4279, 0.2288, 0.1534, 0.1900],\n",
       "         [0.2454, 0.4589, 0.0763, 0.2194],\n",
       "         [0.1982, 0.0920, 0.5529, 0.1569],\n",
       "         [0.2013, 0.2167, 0.1287, 0.4533]],\n",
       "\n",
       "        [[0.5320, 0.1159, 0.3522, 0.0000],\n",
       "         [0.1294, 0.5937, 0.2769, 0.0000],\n",
       "         [0.3110, 0.2191, 0.4698, 0.0000],\n",
       "         [0.2727, 0.4043, 0.3230, 0.0000]],\n",
       "\n",
       "        [[0.6146, 0.3854, 0.0000, 0.0000],\n",
       "         [0.3854, 0.6146, 0.0000, 0.0000],\n",
       "         [0.3262, 0.6738, 0.0000, 0.0000],\n",
       "         [0.5805, 0.4195, 0.0000, 0.0000]]], dtype=torch.float64)"
      ]
     },
     "execution_count": 129,
     "metadata": {},
     "output_type": "execute_result"
    }
   ],
   "source": [
    "_att_map = masked_softmax(_att_logits, _mask)\n",
    "_att_map"
   ]
  },
  {
   "cell_type": "code",
   "execution_count": null,
   "metadata": {},
   "outputs": [],
   "source": []
  },
  {
   "cell_type": "code",
   "execution_count": 36,
   "metadata": {},
   "outputs": [],
   "source": [
    "lf = ListField([ArrayField(np.array([]))])"
   ]
  },
  {
   "cell_type": "code",
   "execution_count": 37,
   "metadata": {},
   "outputs": [
    {
     "data": {
      "text/plain": [
       "{'num_fields': 1, 'list_dimension_0': 1}"
      ]
     },
     "execution_count": 37,
     "metadata": {},
     "output_type": "execute_result"
    }
   ],
   "source": [
    "lf.get_padding_lengths()"
   ]
  },
  {
   "cell_type": "code",
   "execution_count": 38,
   "metadata": {},
   "outputs": [
    {
     "data": {
      "text/plain": [
       "tensor([[0.]])"
      ]
     },
     "execution_count": 38,
     "metadata": {},
     "output_type": "execute_result"
    }
   ],
   "source": [
    "lf.as_tensor(lf.get_padding_lengths())"
   ]
  },
  {
   "cell_type": "code",
   "execution_count": 103,
   "metadata": {},
   "outputs": [],
   "source": [
    "_audio_dim = 2\n",
    "\n",
    "token_phonemes = [\n",
    "    [\"sil\",\"HH\",\"AW1\",\"sil\"],\n",
    "    [\"sil\",\"M\",\"EH1\",\"N\",\"IY0\",\"sil\"],\n",
    "    None,\n",
    "    [\"sil\",\"S\",\"IH1\",\"NG\",\"ER0\",\"Z\",\"sil\"],\n",
    "    [\"sil\",\"D\",\"UW1\",\"sil\"],\n",
    "    [\"sil\",\"W\",\"IY1\",\"sil\"],\n",
    "    [\"sil\",\"HH\",\"AE1\",\"V\",\"sil\"],\n",
    "    None\n",
    "]\n",
    "\n",
    "token_phoneme_feats = [\n",
    "    [np.random.randn(3, _audio_dim)] if l is None\n",
    "    else [np.random.randn(2, _audio_dim) for _ph in l]\n",
    "    for l in token_phonemes\n",
    "]"
   ]
  },
  {
   "cell_type": "code",
   "execution_count": null,
   "metadata": {},
   "outputs": [],
   "source": [
    "token_phonemes, token_phoneme_feats"
   ]
  },
  {
   "cell_type": "code",
   "execution_count": 107,
   "metadata": {
    "scrolled": true
   },
   "outputs": [
    {
     "name": "stdout",
     "output_type": "stream",
     "text": [
      "['sil', 'HH', 'AW1', 'sil']\n",
      "4\n",
      "['sil', 'M', 'EH1', 'N', 'IY0', 'sil']\n",
      "6\n",
      "['[NONE]']\n",
      "1\n",
      "['sil', 'S', 'IH1', 'NG', 'ER0', 'Z', 'sil']\n",
      "7\n",
      "['sil', 'D', 'UW1', 'sil']\n",
      "4\n",
      "['sil', 'W', 'IY1', 'sil']\n",
      "4\n",
      "['sil', 'HH', 'AE1', 'V', 'sil']\n",
      "5\n",
      "['[NONE]']\n",
      "1\n"
     ]
    }
   ],
   "source": [
    "# List[ListField[ArrayField(ph_audio_len, audio_dim)]]\n",
    "token_phoneme_audio_fields = []\n",
    "# List[ListField[LabelField]]\n",
    "token_phoneme_label_fields = []\n",
    "# List[ListField[ArrayField(ph_audio_len,)]\n",
    "token_phoneme_audio_mask_fields = []\n",
    "# List[ArrayField(ph_len,)]\n",
    "token_phoneme_label_mask_fields = []\n",
    "\n",
    "for _tok_phs, _tok_ph_feats in zip(token_phonemes, token_phoneme_feats):\n",
    "    ## _tok_phs: List[str] or None\n",
    "    ## _tok_ph_feats: List[array] (len=1 if _tok_phs=None)\n",
    "\n",
    "    if _tok_phs is None:\n",
    "        assert len(_tok_ph_feats) == 1\n",
    "        _tok_ph_audio_field = ListField([ArrayField(_tok_ph_feats[0])])\n",
    "        _tok_ph_label_field = ListField([LabelField('[NONE]', label_namespace='phonemes')])\n",
    "        _tok_ph_audio_mask_field = ListField([ArrayField(np.ones((len(_tok_ph_feats[0],))))])\n",
    "        _tok_ph_label_mask_field = ArrayField(np.zeros((1,)))\n",
    "    else:\n",
    "        assert len(_tok_phs) == len(_tok_ph_feats)\n",
    "        _tok_ph_audio_field = ListField([ArrayField(_ph_feats) for _ph_feats in _tok_ph_feats])\n",
    "        _tok_ph_label_field = ListField([LabelField(_ph, label_namespace='phonemes') for _ph in _tok_phs])\n",
    "        _tok_ph_audio_mask_field = ListField([ArrayField(np.ones((len(_ph_feats),))) for _ph_feats in _tok_ph_feats])\n",
    "        _tok_ph_label_mask_field = ArrayField(np.ones((len(_tok_phs,))))\n",
    "\n",
    "    print([lf.label for lf in _tok_ph_label_field.field_list])\n",
    "    print(_tok_ph_audio_field.sequence_length())\n",
    "    token_phoneme_audio_fields.append(_tok_ph_audio_field)\n",
    "    token_phoneme_label_fields.append(_tok_ph_label_field)\n",
    "    token_phoneme_audio_mask_fields.append(_tok_ph_audio_mask_field)\n",
    "    token_phoneme_label_mask_fields.append(_tok_ph_label_mask_field)\n",
    "\n",
    "# phoneme_audio_field =  [bs * seq_len * phon_len * audio_len * audio_dim]\n",
    "# phoneme_labels [bs * seq_len * phon_len]\n",
    "# phoneme_mask (same shape as phoneme labels, for which has/doesn’t have label)\n",
    "phoneme_audio_field = ListField(token_phoneme_audio_fields)\n",
    "phoneme_labels_field = ListField(token_phoneme_label_fields)\n",
    "phoneme_audio_mask_field = ListField(token_phoneme_audio_mask_fields)\n",
    "phoneme_label_mask_field = ListField(token_phoneme_label_mask_fields)\n",
    "\n",
    "fields = dict()\n",
    "fields['phoneme_audio_feats'] = phoneme_audio_field\n",
    "fields['phoneme_labels'] = phoneme_labels_field\n",
    "fields['phoneme_audio_mask'] = phoneme_audio_mask_field\n",
    "fields['phoneme_label_mask'] = phoneme_label_mask_field"
   ]
  },
  {
   "cell_type": "code",
   "execution_count": 108,
   "metadata": {},
   "outputs": [
    {
     "data": {
      "text/plain": [
       "({'num_fields': 8,\n",
       "  'list_list_dimension_0': 3,\n",
       "  'list_num_fields': 7,\n",
       "  'list_list_dimension_1': 2},\n",
       " torch.Size([8, 7, 3, 2]))"
      ]
     },
     "execution_count": 108,
     "metadata": {},
     "output_type": "execute_result"
    }
   ],
   "source": [
    "phoneme_audio_field.get_padding_lengths(), \\\n",
    "phoneme_audio_field.as_tensor(phoneme_audio_field.get_padding_lengths()).size()"
   ]
  },
  {
   "cell_type": "code",
   "execution_count": 109,
   "metadata": {},
   "outputs": [
    {
     "data": {
      "text/plain": [
       "{'num_fields': 8, 'list_num_fields': 7}"
      ]
     },
     "execution_count": 109,
     "metadata": {},
     "output_type": "execute_result"
    }
   ],
   "source": [
    "phoneme_labels_field.get_padding_lengths()"
   ]
  },
  {
   "cell_type": "code",
   "execution_count": 110,
   "metadata": {},
   "outputs": [
    {
     "data": {
      "application/vnd.jupyter.widget-view+json": {
       "model_id": "2aa6fbd385bd4b34916953fc95b5fe84",
       "version_major": 2,
       "version_minor": 0
      },
      "text/plain": [
       "HBox(children=(IntProgress(value=0, description='building vocab', max=1, style=ProgressStyle(description_width…"
      ]
     },
     "metadata": {},
     "output_type": "display_data"
    },
    {
     "name": "stderr",
     "output_type": "stream",
     "text": [
      "\n"
     ]
    }
   ],
   "source": [
    "_vocab = Vocabulary.from_instances([Instance({'label': phoneme_labels_field})])"
   ]
  },
  {
   "cell_type": "code",
   "execution_count": 111,
   "metadata": {},
   "outputs": [
    {
     "data": {
      "text/plain": [
       "{0: '@@PADDING@@',\n",
       " 1: '@@UNKNOWN@@',\n",
       " 2: 'sil',\n",
       " 3: 'HH',\n",
       " 4: '[NONE]',\n",
       " 5: 'AW1',\n",
       " 6: 'M',\n",
       " 7: 'EH1',\n",
       " 8: 'N',\n",
       " 9: 'IY0',\n",
       " 10: 'S',\n",
       " 11: 'IH1',\n",
       " 12: 'NG',\n",
       " 13: 'ER0',\n",
       " 14: 'Z',\n",
       " 15: 'D',\n",
       " 16: 'UW1',\n",
       " 17: 'W',\n",
       " 18: 'IY1',\n",
       " 19: 'AE1',\n",
       " 20: 'V'}"
      ]
     },
     "execution_count": 111,
     "metadata": {},
     "output_type": "execute_result"
    }
   ],
   "source": [
    "_vocab.get_index_to_token_vocabulary('phonemes')"
   ]
  },
  {
   "cell_type": "code",
   "execution_count": 112,
   "metadata": {},
   "outputs": [],
   "source": [
    "phoneme_labels_field.index(_vocab)"
   ]
  },
  {
   "cell_type": "code",
   "execution_count": 113,
   "metadata": {},
   "outputs": [
    {
     "data": {
      "text/plain": [
       "torch.Size([8, 7])"
      ]
     },
     "execution_count": 113,
     "metadata": {},
     "output_type": "execute_result"
    }
   ],
   "source": [
    "phoneme_labels_field.as_tensor(phoneme_labels_field.get_padding_lengths()).size()"
   ]
  },
  {
   "cell_type": "code",
   "execution_count": 116,
   "metadata": {},
   "outputs": [
    {
     "data": {
      "text/plain": [
       "torch.Size([8, 7, 3])"
      ]
     },
     "execution_count": 116,
     "metadata": {},
     "output_type": "execute_result"
    }
   ],
   "source": [
    "_am = phoneme_audio_mask_field.as_tensor(phoneme_audio_mask_field.get_padding_lengths())\n",
    "_am.size()"
   ]
  },
  {
   "cell_type": "code",
   "execution_count": null,
   "metadata": {
    "scrolled": true
   },
   "outputs": [],
   "source": [
    "_am"
   ]
  },
  {
   "cell_type": "code",
   "execution_count": 118,
   "metadata": {},
   "outputs": [
    {
     "data": {
      "text/plain": [
       "torch.Size([8, 7])"
      ]
     },
     "execution_count": 118,
     "metadata": {},
     "output_type": "execute_result"
    }
   ],
   "source": [
    "_lm = phoneme_label_mask_field.as_tensor(phoneme_label_mask_field.get_padding_lengths())\n",
    "_lm.size()"
   ]
  },
  {
   "cell_type": "code",
   "execution_count": 119,
   "metadata": {},
   "outputs": [
    {
     "data": {
      "text/plain": [
       "tensor([[1., 1., 1., 1., 0., 0., 0.],\n",
       "        [1., 1., 1., 1., 1., 1., 0.],\n",
       "        [0., 0., 0., 0., 0., 0., 0.],\n",
       "        [1., 1., 1., 1., 1., 1., 1.],\n",
       "        [1., 1., 1., 1., 0., 0., 0.],\n",
       "        [1., 1., 1., 1., 0., 0., 0.],\n",
       "        [1., 1., 1., 1., 1., 0., 0.],\n",
       "        [0., 0., 0., 0., 0., 0., 0.]])"
      ]
     },
     "execution_count": 119,
     "metadata": {},
     "output_type": "execute_result"
    }
   ],
   "source": [
    "_lm"
   ]
  },
  {
   "cell_type": "code",
   "execution_count": 339,
   "metadata": {},
   "outputs": [
    {
     "data": {
      "text/plain": [
       "(array([[ 0,  1,  2,  3],\n",
       "        [ 4,  5,  6,  7],\n",
       "        [ 8,  9, 10, 11],\n",
       "        [12, 13, 14, 15]]),\n",
       " array([[ 5,  7],\n",
       "        [13, 15]]))"
      ]
     },
     "execution_count": 339,
     "metadata": {},
     "output_type": "execute_result"
    }
   ],
   "source": [
    "_a = np.array(range(16)).reshape((4,4))\n",
    "_a, _a[tuple(np.meshgrid([1,3], [1,3])[::-1])]"
   ]
  },
  {
   "cell_type": "code",
   "execution_count": null,
   "metadata": {},
   "outputs": [],
   "source": []
  },
  {
   "cell_type": "code",
   "execution_count": null,
   "metadata": {},
   "outputs": [],
   "source": []
  }
 ],
 "metadata": {
  "kernelspec": {
   "display_name": "Python 3",
   "language": "python",
   "name": "python3"
  },
  "language_info": {
   "codemirror_mode": {
    "name": "ipython",
    "version": 3
   },
   "file_extension": ".py",
   "mimetype": "text/x-python",
   "name": "python",
   "nbconvert_exporter": "python",
   "pygments_lexer": "ipython3",
   "version": "3.7.5"
  },
  "toc": {
   "base_numbering": 1,
   "nav_menu": {},
   "number_sections": true,
   "sideBar": true,
   "skip_h1_title": false,
   "title_cell": "Table of Contents",
   "title_sidebar": "Contents",
   "toc_cell": false,
   "toc_position": {
    "height": "calc(100% - 180px)",
    "left": "10px",
    "top": "150px",
    "width": "335.797px"
   },
   "toc_section_display": true,
   "toc_window_display": true
  }
 },
 "nbformat": 4,
 "nbformat_minor": 4
}
